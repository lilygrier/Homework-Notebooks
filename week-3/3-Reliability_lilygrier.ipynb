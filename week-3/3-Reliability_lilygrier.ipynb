{
 "cells": [
  {
   "cell_type": "markdown",
   "metadata": {},
   "source": [
    "# Week 2 - Sampling & Reliability\n",
    "\n",
    "Up until this week, we have assumed that the corpus you have used for analysis assignments represented a *meaningful* assemblage of texts from which reasonable inferences could be drawn about the social game, social world and social actors that produced it. \n",
    "\n",
    "This week, we ask you to build a corpus for preliminary analysis and articulate what your sample represents in context of your final project. We begin by exploring how we can get *human* readings of content at scale. We want to gather and utilize human responses for several reasons. First, we may want to use crowdsourced human scores as the primary method of coding, extracting or organizing content (as it was in two of the assigned readings). Second, we may want to validate or tune a computational algorithm we may have developed in terms of how it is associated with human meanings or experience. Finally, we may want to use human coding on a sample of data as the basis for training a model or algorithm to then extrapolate *human-like* annotations to the entire population. Here intelligent sampling is critical to maximize effective maching training. \n",
    "\n",
    "For this notebook we will be using the following packages"
   ]
  },
  {
   "cell_type": "code",
   "execution_count": 2,
   "metadata": {},
   "outputs": [
    {
     "name": "stdout",
     "output_type": "stream",
     "text": [
      "Collecting git+git://github.com/Computational-Content-Analysis-2020/lucem_illud_2020.git\n",
      "  Cloning git://github.com/Computational-Content-Analysis-2020/lucem_illud_2020.git to /private/var/folders/1s/smh2hpds5dx3qkk3b1j6x5dw0000gn/T/pip-req-build-suwnpsq0\n",
      "Requirement already satisfied: numpy in /opt/anaconda3/lib/python3.7/site-packages (from lucem-illud-2020==8.0.1) (1.19.2)\n",
      "Requirement already satisfied: requests in /opt/anaconda3/lib/python3.7/site-packages (from lucem-illud-2020==8.0.1) (2.25.0)\n",
      "Requirement already satisfied: pandas in /opt/anaconda3/lib/python3.7/site-packages (from lucem-illud-2020==8.0.1) (1.1.3)\n",
      "Requirement already satisfied: python-docx in /opt/anaconda3/lib/python3.7/site-packages (from lucem-illud-2020==8.0.1) (0.8.10)\n",
      "Requirement already satisfied: pillow in /opt/anaconda3/lib/python3.7/site-packages (from lucem-illud-2020==8.0.1) (8.0.1)\n",
      "Requirement already satisfied: pdfminer2 in /opt/anaconda3/lib/python3.7/site-packages (from lucem-illud-2020==8.0.1) (20151206)\n",
      "Requirement already satisfied: GitPython in /opt/anaconda3/lib/python3.7/site-packages (from lucem-illud-2020==8.0.1) (3.1.12)\n",
      "Requirement already satisfied: wordcloud in /opt/anaconda3/lib/python3.7/site-packages (from lucem-illud-2020==8.0.1) (1.8.1)\n",
      "Requirement already satisfied: scipy in /opt/anaconda3/lib/python3.7/site-packages (from lucem-illud-2020==8.0.1) (1.5.2)\n",
      "Requirement already satisfied: seaborn in /opt/anaconda3/lib/python3.7/site-packages (from lucem-illud-2020==8.0.1) (0.11.0)\n",
      "Requirement already satisfied: scikit-learn in /opt/anaconda3/lib/python3.7/site-packages (from lucem-illud-2020==8.0.1) (0.23.2)\n",
      "Requirement already satisfied: nltk in /opt/anaconda3/lib/python3.7/site-packages (from lucem-illud-2020==8.0.1) (3.5)\n",
      "Requirement already satisfied: gensim in /opt/anaconda3/lib/python3.7/site-packages (from lucem-illud-2020==8.0.1) (3.8.3)\n",
      "Requirement already satisfied: matplotlib in /opt/anaconda3/lib/python3.7/site-packages (from lucem-illud-2020==8.0.1) (3.3.2)\n",
      "Requirement already satisfied: pyanno3 in /opt/anaconda3/lib/python3.7/site-packages (from lucem-illud-2020==8.0.1) (2.0.2)\n",
      "Requirement already satisfied: beautifulsoup4 in /opt/anaconda3/lib/python3.7/site-packages (from lucem-illud-2020==8.0.1) (4.9.3)\n",
      "Requirement already satisfied: graphviz in /opt/anaconda3/lib/python3.7/site-packages (from lucem-illud-2020==8.0.1) (0.14)\n",
      "Requirement already satisfied: boto3 in /opt/anaconda3/lib/python3.7/site-packages (from lucem-illud-2020==8.0.1) (1.16.4)\n",
      "Requirement already satisfied: networkx in /opt/anaconda3/lib/python3.7/site-packages (from lucem-illud-2020==8.0.1) (2.5)\n",
      "Requirement already satisfied: pydub in /opt/anaconda3/lib/python3.7/site-packages (from lucem-illud-2020==8.0.1) (0.24.1)\n",
      "Requirement already satisfied: speechrecognition in /opt/anaconda3/lib/python3.7/site-packages (from lucem-illud-2020==8.0.1) (3.8.1)\n",
      "Requirement already satisfied: pysoundfile in /opt/anaconda3/lib/python3.7/site-packages (from lucem-illud-2020==8.0.1) (0.9.0.post1)\n",
      "Requirement already satisfied: scikit-image in /opt/anaconda3/lib/python3.7/site-packages (from lucem-illud-2020==8.0.1) (0.17.2)\n",
      "Requirement already satisfied: IPython in /opt/anaconda3/lib/python3.7/site-packages (from lucem-illud-2020==8.0.1) (7.19.0)\n",
      "Requirement already satisfied: spacy in /opt/anaconda3/lib/python3.7/site-packages (from lucem-illud-2020==8.0.1) (2.3.2)\n",
      "Requirement already satisfied: Pillow in /opt/anaconda3/lib/python3.7/site-packages (from lucem-illud-2020==8.0.1) (8.0.1)\n",
      "Requirement already satisfied: soupsieve>1.2 in /opt/anaconda3/lib/python3.7/site-packages (from beautifulsoup4->lucem-illud-2020==8.0.1) (2.0.1)\n",
      "Requirement already satisfied: jmespath<1.0.0,>=0.7.1 in /opt/anaconda3/lib/python3.7/site-packages (from boto3->lucem-illud-2020==8.0.1) (0.10.0)\n",
      "Requirement already satisfied: s3transfer<0.4.0,>=0.3.0 in /opt/anaconda3/lib/python3.7/site-packages (from boto3->lucem-illud-2020==8.0.1) (0.3.3)\n",
      "Requirement already satisfied: botocore<1.20.0,>=1.19.4 in /opt/anaconda3/lib/python3.7/site-packages (from boto3->lucem-illud-2020==8.0.1) (1.19.4)\n",
      "Requirement already satisfied: jmespath<1.0.0,>=0.7.1 in /opt/anaconda3/lib/python3.7/site-packages (from boto3->lucem-illud-2020==8.0.1) (0.10.0)\n",
      "Requirement already satisfied: urllib3<1.26,>=1.25.4 in /opt/anaconda3/lib/python3.7/site-packages (from botocore<1.20.0,>=1.19.4->boto3->lucem-illud-2020==8.0.1) (1.25.11)\n",
      "Requirement already satisfied: python-dateutil<3.0.0,>=2.1 in /opt/anaconda3/lib/python3.7/site-packages (from botocore<1.20.0,>=1.19.4->boto3->lucem-illud-2020==8.0.1) (2.8.1)\n",
      "Requirement already satisfied: six>=1.5.0 in /opt/anaconda3/lib/python3.7/site-packages (from gensim->lucem-illud-2020==8.0.1) (1.15.0)\n",
      "Requirement already satisfied: scipy in /opt/anaconda3/lib/python3.7/site-packages (from lucem-illud-2020==8.0.1) (1.5.2)\n",
      "Requirement already satisfied: smart-open>=1.8.1 in /opt/anaconda3/lib/python3.7/site-packages (from gensim->lucem-illud-2020==8.0.1) (4.1.2)\n",
      "Requirement already satisfied: numpy in /opt/anaconda3/lib/python3.7/site-packages (from lucem-illud-2020==8.0.1) (1.19.2)\n",
      "Requirement already satisfied: gitdb<5,>=4.0.1 in /opt/anaconda3/lib/python3.7/site-packages (from GitPython->lucem-illud-2020==8.0.1) (4.0.5)\n",
      "Requirement already satisfied: smmap<4,>=3.0.1 in /opt/anaconda3/lib/python3.7/site-packages (from gitdb<5,>=4.0.1->GitPython->lucem-illud-2020==8.0.1) (3.0.5)\n",
      "Requirement already satisfied: setuptools>=18.5 in /opt/anaconda3/lib/python3.7/site-packages (from IPython->lucem-illud-2020==8.0.1) (50.3.2.post20201201)\n",
      "Requirement already satisfied: appnope in /opt/anaconda3/lib/python3.7/site-packages (from IPython->lucem-illud-2020==8.0.1) (0.1.2)\n",
      "Requirement already satisfied: pickleshare in /opt/anaconda3/lib/python3.7/site-packages (from IPython->lucem-illud-2020==8.0.1) (0.7.5)\n",
      "Requirement already satisfied: backcall in /opt/anaconda3/lib/python3.7/site-packages (from IPython->lucem-illud-2020==8.0.1) (0.2.0)\n",
      "Requirement already satisfied: prompt-toolkit!=3.0.0,!=3.0.1,<3.1.0,>=2.0.0 in /opt/anaconda3/lib/python3.7/site-packages (from IPython->lucem-illud-2020==8.0.1) (3.0.8)\n",
      "Requirement already satisfied: pygments in /opt/anaconda3/lib/python3.7/site-packages (from IPython->lucem-illud-2020==8.0.1) (2.7.2)\n",
      "Requirement already satisfied: traitlets>=4.2 in /opt/anaconda3/lib/python3.7/site-packages (from IPython->lucem-illud-2020==8.0.1) (5.0.5)\n",
      "Requirement already satisfied: jedi>=0.10 in /opt/anaconda3/lib/python3.7/site-packages (from IPython->lucem-illud-2020==8.0.1) (0.14.1)\n",
      "Requirement already satisfied: pexpect>4.3 in /opt/anaconda3/lib/python3.7/site-packages (from IPython->lucem-illud-2020==8.0.1) (4.8.0)\n",
      "Requirement already satisfied: decorator in /opt/anaconda3/lib/python3.7/site-packages (from IPython->lucem-illud-2020==8.0.1) (4.4.2)\n",
      "Requirement already satisfied: parso>=0.5.0 in /opt/anaconda3/lib/python3.7/site-packages (from jedi>=0.10->IPython->lucem-illud-2020==8.0.1) (0.5.2)\n",
      "Requirement already satisfied: numpy in /opt/anaconda3/lib/python3.7/site-packages (from lucem-illud-2020==8.0.1) (1.19.2)\n",
      "Requirement already satisfied: kiwisolver>=1.0.1 in /opt/anaconda3/lib/python3.7/site-packages (from matplotlib->lucem-illud-2020==8.0.1) (1.3.0)\n",
      "Requirement already satisfied: python-dateutil<3.0.0,>=2.1 in /opt/anaconda3/lib/python3.7/site-packages (from botocore<1.20.0,>=1.19.4->boto3->lucem-illud-2020==8.0.1) (2.8.1)\n",
      "Requirement already satisfied: pyparsing!=2.0.4,!=2.1.2,!=2.1.6,>=2.0.3 in /opt/anaconda3/lib/python3.7/site-packages (from matplotlib->lucem-illud-2020==8.0.1) (2.4.7)\n",
      "Requirement already satisfied: cycler>=0.10 in /opt/anaconda3/lib/python3.7/site-packages (from matplotlib->lucem-illud-2020==8.0.1) (0.10.0)\n",
      "Requirement already satisfied: Pillow in /opt/anaconda3/lib/python3.7/site-packages (from lucem-illud-2020==8.0.1) (8.0.1)\n",
      "Requirement already satisfied: certifi>=2020.06.20 in /opt/anaconda3/lib/python3.7/site-packages (from matplotlib->lucem-illud-2020==8.0.1) (2020.11.8)\n",
      "Requirement already satisfied: six>=1.5.0 in /opt/anaconda3/lib/python3.7/site-packages (from gensim->lucem-illud-2020==8.0.1) (1.15.0)\n",
      "Requirement already satisfied: decorator in /opt/anaconda3/lib/python3.7/site-packages (from IPython->lucem-illud-2020==8.0.1) (4.4.2)\n"
     ]
    },
    {
     "name": "stdout",
     "output_type": "stream",
     "text": [
      "Requirement already satisfied: click in /opt/anaconda3/lib/python3.7/site-packages (from nltk->lucem-illud-2020==8.0.1) (7.1.2)\n",
      "Requirement already satisfied: joblib in /opt/anaconda3/lib/python3.7/site-packages (from nltk->lucem-illud-2020==8.0.1) (0.17.0)\n",
      "Requirement already satisfied: regex in /opt/anaconda3/lib/python3.7/site-packages (from nltk->lucem-illud-2020==8.0.1) (2020.11.13)\n",
      "Requirement already satisfied: tqdm in /opt/anaconda3/lib/python3.7/site-packages (from nltk->lucem-illud-2020==8.0.1) (4.54.0)\n",
      "Requirement already satisfied: python-dateutil<3.0.0,>=2.1 in /opt/anaconda3/lib/python3.7/site-packages (from botocore<1.20.0,>=1.19.4->boto3->lucem-illud-2020==8.0.1) (2.8.1)\n",
      "Requirement already satisfied: numpy in /opt/anaconda3/lib/python3.7/site-packages (from lucem-illud-2020==8.0.1) (1.19.2)\n",
      "Requirement already satisfied: pytz>=2017.2 in /opt/anaconda3/lib/python3.7/site-packages (from pandas->lucem-illud-2020==8.0.1) (2020.4)\n",
      "Requirement already satisfied: six>=1.5.0 in /opt/anaconda3/lib/python3.7/site-packages (from gensim->lucem-illud-2020==8.0.1) (1.15.0)\n",
      "Requirement already satisfied: ptyprocess>=0.5 in /opt/anaconda3/lib/python3.7/site-packages (from pexpect>4.3->IPython->lucem-illud-2020==8.0.1) (0.6.0)\n",
      "Requirement already satisfied: wcwidth in /opt/anaconda3/lib/python3.7/site-packages (from prompt-toolkit!=3.0.0,!=3.0.1,<3.1.0,>=2.0.0->IPython->lucem-illud-2020==8.0.1) (0.2.5)\n",
      "Requirement already satisfied: numpy in /opt/anaconda3/lib/python3.7/site-packages (from lucem-illud-2020==8.0.1) (1.19.2)\n",
      "Requirement already satisfied: traits in /opt/anaconda3/lib/python3.7/site-packages (from pyanno3->lucem-illud-2020==8.0.1) (6.2.0)\n",
      "Requirement already satisfied: scipy in /opt/anaconda3/lib/python3.7/site-packages (from lucem-illud-2020==8.0.1) (1.5.2)\n",
      "Requirement already satisfied: cffi>=0.6 in /opt/anaconda3/lib/python3.7/site-packages (from pysoundfile->lucem-illud-2020==8.0.1) (1.14.0)\n",
      "Requirement already satisfied: pycparser in /opt/anaconda3/lib/python3.7/site-packages (from cffi>=0.6->pysoundfile->lucem-illud-2020==8.0.1) (2.20)\n",
      "Requirement already satisfied: six>=1.5.0 in /opt/anaconda3/lib/python3.7/site-packages (from gensim->lucem-illud-2020==8.0.1) (1.15.0)\n",
      "Requirement already satisfied: lxml>=2.3.2 in /opt/anaconda3/lib/python3.7/site-packages (from python-docx->lucem-illud-2020==8.0.1) (4.6.2)\n",
      "Requirement already satisfied: chardet<4,>=3.0.2 in /opt/anaconda3/lib/python3.7/site-packages (from requests->lucem-illud-2020==8.0.1) (3.0.4)\n",
      "Requirement already satisfied: certifi>=2020.06.20 in /opt/anaconda3/lib/python3.7/site-packages (from matplotlib->lucem-illud-2020==8.0.1) (2020.11.8)\n",
      "Requirement already satisfied: idna<3,>=2.5 in /opt/anaconda3/lib/python3.7/site-packages (from requests->lucem-illud-2020==8.0.1) (2.10)\n",
      "Requirement already satisfied: urllib3<1.26,>=1.25.4 in /opt/anaconda3/lib/python3.7/site-packages (from botocore<1.20.0,>=1.19.4->boto3->lucem-illud-2020==8.0.1) (1.25.11)\n",
      "Requirement already satisfied: botocore<1.20.0,>=1.19.4 in /opt/anaconda3/lib/python3.7/site-packages (from boto3->lucem-illud-2020==8.0.1) (1.19.4)\n",
      "Requirement already satisfied: numpy in /opt/anaconda3/lib/python3.7/site-packages (from lucem-illud-2020==8.0.1) (1.19.2)\n",
      "Requirement already satisfied: scipy in /opt/anaconda3/lib/python3.7/site-packages (from lucem-illud-2020==8.0.1) (1.5.2)\n",
      "Requirement already satisfied: matplotlib in /opt/anaconda3/lib/python3.7/site-packages (from lucem-illud-2020==8.0.1) (3.3.2)\n",
      "Requirement already satisfied: networkx in /opt/anaconda3/lib/python3.7/site-packages (from lucem-illud-2020==8.0.1) (2.5)\n",
      "Requirement already satisfied: Pillow in /opt/anaconda3/lib/python3.7/site-packages (from lucem-illud-2020==8.0.1) (8.0.1)\n",
      "Requirement already satisfied: imageio>=2.3.0 in /opt/anaconda3/lib/python3.7/site-packages (from scikit-image->lucem-illud-2020==8.0.1) (2.9.0)\n",
      "Requirement already satisfied: tifffile>=2019.7.26 in /opt/anaconda3/lib/python3.7/site-packages (from scikit-image->lucem-illud-2020==8.0.1) (2020.11.26)\n",
      "Requirement already satisfied: PyWavelets>=1.1.1 in /opt/anaconda3/lib/python3.7/site-packages (from scikit-image->lucem-illud-2020==8.0.1) (1.1.1)\n",
      "Requirement already satisfied: numpy in /opt/anaconda3/lib/python3.7/site-packages (from lucem-illud-2020==8.0.1) (1.19.2)\n",
      "Requirement already satisfied: Pillow in /opt/anaconda3/lib/python3.7/site-packages (from lucem-illud-2020==8.0.1) (8.0.1)\n",
      "Requirement already satisfied: numpy in /opt/anaconda3/lib/python3.7/site-packages (from lucem-illud-2020==8.0.1) (1.19.2)\n",
      "Requirement already satisfied: numpy in /opt/anaconda3/lib/python3.7/site-packages (from lucem-illud-2020==8.0.1) (1.19.2)\n",
      "Requirement already satisfied: scipy in /opt/anaconda3/lib/python3.7/site-packages (from lucem-illud-2020==8.0.1) (1.5.2)\n",
      "Requirement already satisfied: threadpoolctl>=2.0.0 in /opt/anaconda3/lib/python3.7/site-packages (from scikit-learn->lucem-illud-2020==8.0.1) (2.1.0)\n",
      "Requirement already satisfied: joblib in /opt/anaconda3/lib/python3.7/site-packages (from nltk->lucem-illud-2020==8.0.1) (0.17.0)\n",
      "Requirement already satisfied: numpy in /opt/anaconda3/lib/python3.7/site-packages (from lucem-illud-2020==8.0.1) (1.19.2)\n",
      "Requirement already satisfied: matplotlib in /opt/anaconda3/lib/python3.7/site-packages (from lucem-illud-2020==8.0.1) (3.3.2)\n",
      "Requirement already satisfied: numpy in /opt/anaconda3/lib/python3.7/site-packages (from lucem-illud-2020==8.0.1) (1.19.2)\n",
      "Requirement already satisfied: pandas in /opt/anaconda3/lib/python3.7/site-packages (from lucem-illud-2020==8.0.1) (1.1.3)\n",
      "Requirement already satisfied: scipy in /opt/anaconda3/lib/python3.7/site-packages (from lucem-illud-2020==8.0.1) (1.5.2)\n",
      "Requirement already satisfied: murmurhash<1.1.0,>=0.28.0 in /opt/anaconda3/lib/python3.7/site-packages (from spacy->lucem-illud-2020==8.0.1) (1.0.2)\n",
      "Requirement already satisfied: numpy in /opt/anaconda3/lib/python3.7/site-packages (from lucem-illud-2020==8.0.1) (1.19.2)\n",
      "Requirement already satisfied: requests in /opt/anaconda3/lib/python3.7/site-packages (from lucem-illud-2020==8.0.1) (2.25.0)\n",
      "Requirement already satisfied: wasabi<1.1.0,>=0.4.0 in /opt/anaconda3/lib/python3.7/site-packages (from spacy->lucem-illud-2020==8.0.1) (0.7.1)\n",
      "Requirement already satisfied: tqdm in /opt/anaconda3/lib/python3.7/site-packages (from nltk->lucem-illud-2020==8.0.1) (4.54.0)\n",
      "Requirement already satisfied: thinc==7.4.1 in /opt/anaconda3/lib/python3.7/site-packages (from spacy->lucem-illud-2020==8.0.1) (7.4.1)\n",
      "Requirement already satisfied: blis<0.5.0,>=0.4.0 in /opt/anaconda3/lib/python3.7/site-packages (from spacy->lucem-illud-2020==8.0.1) (0.4.1)\n",
      "Requirement already satisfied: srsly<1.1.0,>=1.0.2 in /opt/anaconda3/lib/python3.7/site-packages (from spacy->lucem-illud-2020==8.0.1) (1.0.2)\n",
      "Requirement already satisfied: catalogue<1.1.0,>=0.0.7 in /opt/anaconda3/lib/python3.7/site-packages (from spacy->lucem-illud-2020==8.0.1) (1.0.0)\n",
      "Requirement already satisfied: setuptools>=18.5 in /opt/anaconda3/lib/python3.7/site-packages (from IPython->lucem-illud-2020==8.0.1) (50.3.2.post20201201)\n",
      "Requirement already satisfied: preshed<3.1.0,>=3.0.2 in /opt/anaconda3/lib/python3.7/site-packages (from spacy->lucem-illud-2020==8.0.1) (3.0.2)\n",
      "Requirement already satisfied: plac<1.2.0,>=0.9.6 in /opt/anaconda3/lib/python3.7/site-packages (from spacy->lucem-illud-2020==8.0.1) (1.1.3)\n",
      "Requirement already satisfied: cymem<2.1.0,>=2.0.2 in /opt/anaconda3/lib/python3.7/site-packages (from spacy->lucem-illud-2020==8.0.1) (2.0.3)\n",
      "Requirement already satisfied: numpy in /opt/anaconda3/lib/python3.7/site-packages (from lucem-illud-2020==8.0.1) (1.19.2)\n",
      "Requirement already satisfied: importlib-metadata>=0.20 in /opt/anaconda3/lib/python3.7/site-packages (from catalogue<1.1.0,>=0.0.7->spacy->lucem-illud-2020==8.0.1) (2.0.0)\n",
      "Requirement already satisfied: zipp>=0.5 in /opt/anaconda3/lib/python3.7/site-packages (from importlib-metadata>=0.20->catalogue<1.1.0,>=0.0.7->spacy->lucem-illud-2020==8.0.1) (3.4.0)\n",
      "Requirement already satisfied: murmurhash<1.1.0,>=0.28.0 in /opt/anaconda3/lib/python3.7/site-packages (from spacy->lucem-illud-2020==8.0.1) (1.0.2)\n",
      "Requirement already satisfied: cymem<2.1.0,>=2.0.2 in /opt/anaconda3/lib/python3.7/site-packages (from spacy->lucem-illud-2020==8.0.1) (2.0.3)\n"
     ]
    },
    {
     "name": "stdout",
     "output_type": "stream",
     "text": [
      "Requirement already satisfied: murmurhash<1.1.0,>=0.28.0 in /opt/anaconda3/lib/python3.7/site-packages (from spacy->lucem-illud-2020==8.0.1) (1.0.2)\n",
      "Requirement already satisfied: wasabi<1.1.0,>=0.4.0 in /opt/anaconda3/lib/python3.7/site-packages (from spacy->lucem-illud-2020==8.0.1) (0.7.1)\n",
      "Requirement already satisfied: tqdm in /opt/anaconda3/lib/python3.7/site-packages (from nltk->lucem-illud-2020==8.0.1) (4.54.0)\n",
      "Requirement already satisfied: blis<0.5.0,>=0.4.0 in /opt/anaconda3/lib/python3.7/site-packages (from spacy->lucem-illud-2020==8.0.1) (0.4.1)\n",
      "Requirement already satisfied: preshed<3.1.0,>=3.0.2 in /opt/anaconda3/lib/python3.7/site-packages (from spacy->lucem-illud-2020==8.0.1) (3.0.2)\n",
      "Requirement already satisfied: srsly<1.1.0,>=1.0.2 in /opt/anaconda3/lib/python3.7/site-packages (from spacy->lucem-illud-2020==8.0.1) (1.0.2)\n",
      "Requirement already satisfied: numpy in /opt/anaconda3/lib/python3.7/site-packages (from lucem-illud-2020==8.0.1) (1.19.2)\n",
      "Requirement already satisfied: catalogue<1.1.0,>=0.0.7 in /opt/anaconda3/lib/python3.7/site-packages (from spacy->lucem-illud-2020==8.0.1) (1.0.0)\n",
      "Requirement already satisfied: plac<1.2.0,>=0.9.6 in /opt/anaconda3/lib/python3.7/site-packages (from spacy->lucem-illud-2020==8.0.1) (1.1.3)\n",
      "Requirement already satisfied: cymem<2.1.0,>=2.0.2 in /opt/anaconda3/lib/python3.7/site-packages (from spacy->lucem-illud-2020==8.0.1) (2.0.3)\n",
      "Requirement already satisfied: numpy in /opt/anaconda3/lib/python3.7/site-packages (from lucem-illud-2020==8.0.1) (1.19.2)\n",
      "Requirement already satisfied: ipython-genutils in /opt/anaconda3/lib/python3.7/site-packages (from traitlets>=4.2->IPython->lucem-illud-2020==8.0.1) (0.2.0)\n",
      "Requirement already satisfied: numpy in /opt/anaconda3/lib/python3.7/site-packages (from lucem-illud-2020==8.0.1) (1.19.2)\n",
      "Requirement already satisfied: matplotlib in /opt/anaconda3/lib/python3.7/site-packages (from lucem-illud-2020==8.0.1) (3.3.2)\n",
      "Requirement already satisfied: Pillow in /opt/anaconda3/lib/python3.7/site-packages (from lucem-illud-2020==8.0.1) (8.0.1)\n",
      "Building wheels for collected packages: lucem-illud-2020\n",
      "  Building wheel for lucem-illud-2020 (setup.py) ... \u001b[?25ldone\n",
      "\u001b[?25h  Created wheel for lucem-illud-2020: filename=lucem_illud_2020-8.0.1-py3-none-any.whl size=35126 sha256=9cf19e4c95d3fc8b5b6a6cbfdff7983fd9a45566835a11031c6311f3011a9b19\n",
      "  Stored in directory: /private/var/folders/1s/smh2hpds5dx3qkk3b1j6x5dw0000gn/T/pip-ephem-wheel-cache-nbasfaib/wheels/73/ac/48/e57cacd331bd9aa129209539f282dbc2b61ee000c9fb4fefbe\n",
      "Successfully built lucem-illud-2020\n",
      "Installing collected packages: lucem-illud-2020\n",
      "Successfully installed lucem-illud-2020-8.0.1\n",
      "Note: you may need to restart the kernel to use updated packages.\n"
     ]
    }
   ],
   "source": [
    "pip install -U git+git://github.com/Computational-Content-Analysis-2020/lucem_illud_2020.git"
   ]
  },
  {
   "cell_type": "code",
   "execution_count": 3,
   "metadata": {},
   "outputs": [],
   "source": [
    "#Special module written for this class\n",
    "#This provides access to data and to helper functions from previous weeks\n",
    "#Make sure you update it before starting this notebook\n",
    "import lucem_illud_2020 #pip install -U git+git://github.com/Computational-Content-Analysis-2020/lucem_illud_2020.git\n",
    "\n",
    "#All these packages need to be installed from pip\n",
    "import numpy as np #For arrays\n",
    "import scipy as sp #For some stats\n",
    "import pandas #Gives us DataFrames\n",
    "import matplotlib.pyplot as plt #For graphics\n",
    "import seaborn #Makes the graphics look nicer\n",
    "import pyanno #On python3 make sure to pip install pyanno3\n",
    "\n",
    "#We need to import these this way due to how pyanno is setup\n",
    "from pyanno.measures import pairwise_matrix, agreement, cohens_kappa, cohens_weighted_kappa, fleiss_kappa, krippendorffs_alpha, pearsons_rho, scotts_pi, spearmans_rho\n",
    "from pyanno.annotations import AnnotationsContainer\n",
    "from pyanno.models import ModelA, ModelBt, ModelB\n",
    "\n",
    "from functools import reduce\n",
    "from itertools import permutations\n",
    "import math\n",
    "\n",
    "\n",
    "#This 'magic' command makes the plots work better\n",
    "#in the notebook, don't use it outside of a notebook.\n",
    "#Also you can ignore the warning\n",
    "%matplotlib inline\n",
    "\n",
    "import os #For looking through files\n",
    "import os.path #For managing file paths"
   ]
  },
  {
   "cell_type": "markdown",
   "metadata": {},
   "source": [
    "## <span style=\"color:red\">*Pitch the Domain of your Project*</span>\n",
    "\n",
    "<span style=\"color:red\">In the two cells immediately following, describe **WHAT** you are planning to analyze for your final project (i.e., texts, contexts and the social game, world and actors you intend to learn about through your analysis) (<200 words) and **WHY** you are going to do it (i.e., why would theory and/or the average person benefit from knowing the results of your investigation) (<200 words)? [**Note**: your individual or collective project can change over the course of the quarter if new data and/or analysis opportunities arise or if old ones fade away.]"
   ]
  },
  {
   "cell_type": "markdown",
   "metadata": {},
   "source": [
    "## ***What?*** \n",
    "<200 words"
   ]
  },
  {
   "cell_type": "markdown",
   "metadata": {},
   "source": [
    "## ***Why?***\n",
    "<200 words"
   ]
  },
  {
   "cell_type": "markdown",
   "metadata": {},
   "source": [
    "## <span style=\"color:red\">*Pitch Your Sample*</span>\n",
    "\n",
    "<span style=\"color:red\">In the cell immediately following, describe the rationale behind your proposed sample design for your final project. What is the social game, social work, or social actors about whom you are seeking to make inferences? What are its virtues with respect to your research questions? What are its limitations? What are alternatives? What would be a reasonable path to \"scale up\" your sample for further analysis (i.e., high-profile publication)? (<200 words)."
   ]
  },
  {
   "cell_type": "markdown",
   "metadata": {},
   "source": [
    "# Example Annotation Dataset"
   ]
  },
  {
   "cell_type": "markdown",
   "metadata": {},
   "source": [
    "Load Rzhetsky et al (2009)'s sample dataset, which can be found [here](https://github.com/enthought/uchicago-pyanno/tree/master/data). This data is the result of a content analytic / content extraction study in which Andrey Rzhetsky and colleagues from the National Library of Medicine, published [here](http://journals.plos.org/ploscompbiol/article?id=10.1371/journal.pcbi.1000391) in [PLOS Computational Biology](http://journals.plos.org/ploscompbiol/), gave eight annotators 10,000 sentence chunks from biomedical text in biomedical abstracts and articles, then asked them, in a loop design schematically illustrated below that provided 3 independent codings for each document. The sampling strategy pursued diversity by drawing from PubMed abstracts (1000) and full-text articles (9000: 20% from abstracts, 10% from introductions, 20% from methods, 25% from results, and 25% from discussions.) The dataset extract here involves respondents codes for sentences in terms of their *Evidence*: {0, 1, 2, 3, -1} where 0 is the complete lack of evidence, 3 is direct evidence present within the sentence, and -1 is didn't respond. (They also crowdsourced and analyzed *polarity*, *certainty*, and *number*). For example, consider the following two abutting sentence chunks: *\"Because null mutations in toxR and toxT abolish CT and TcpA expression in the El Tor biotype and also attenuate virulence...\"* [i.e., average certainty = 0], *\"...it is likely that the ToxR regulon has functional similarities between the two biotypes despite the clear differences in the inducing parameters observed in vitro\"* [i.e., average certainty = 1].\""
   ]
  },
  {
   "cell_type": "code",
   "execution_count": 4,
   "metadata": {},
   "outputs": [
    {
     "data": {
      "text/html": [
       "<img source=\"loopdesign.png\">\n"
      ],
      "text/plain": [
       "<IPython.core.display.HTML object>"
      ]
     },
     "metadata": {},
     "output_type": "display_data"
    }
   ],
   "source": [
    "%%html\n",
    "<img source=\"loopdesign.png\">"
   ]
  },
  {
   "cell_type": "markdown",
   "metadata": {},
   "source": [
    "[Click here for loop design](loopdesign.png)"
   ]
  },
  {
   "cell_type": "code",
   "execution_count": 5,
   "metadata": {},
   "outputs": [],
   "source": [
    "x = np.loadtxt(\"../data/pyAnno/testdata_numerical.txt\")\n",
    "anno = AnnotationsContainer.from_array(x, missing_values=[-1])"
   ]
  },
  {
   "cell_type": "markdown",
   "metadata": {},
   "source": [
    "Interrogate the AnnotationsContainer object."
   ]
  },
  {
   "cell_type": "code",
   "execution_count": 6,
   "metadata": {},
   "outputs": [
    {
     "data": {
      "text/plain": [
       "array([[ 1,  2,  3, ..., -1, -1, -1],\n",
       "       [ 0,  0,  0, ..., -1, -1, -1],\n",
       "       [ 2,  2,  1, ..., -1, -1, -1],\n",
       "       ...,\n",
       "       [ 2,  2, -1, ..., -1, -1,  1],\n",
       "       [ 2,  2, -1, ..., -1, -1,  3],\n",
       "       [ 1,  1, -1, ..., -1, -1,  0]])"
      ]
     },
     "execution_count": 6,
     "metadata": {},
     "output_type": "execute_result"
    }
   ],
   "source": [
    "anno.annotations"
   ]
  },
  {
   "cell_type": "code",
   "execution_count": 7,
   "metadata": {},
   "outputs": [
    {
     "data": {
      "text/plain": [
       "[1.0, 2.0, 3.0, 4.0]"
      ]
     },
     "execution_count": 7,
     "metadata": {},
     "output_type": "execute_result"
    }
   ],
   "source": [
    "anno.labels"
   ]
  },
  {
   "cell_type": "code",
   "execution_count": 8,
   "metadata": {},
   "outputs": [
    {
     "data": {
      "text/plain": [
       "[-1]"
      ]
     },
     "execution_count": 8,
     "metadata": {},
     "output_type": "execute_result"
    }
   ],
   "source": [
    "anno.missing_values"
   ]
  },
  {
   "cell_type": "markdown",
   "metadata": {},
   "source": [
    "# Annotation Statistics"
   ]
  },
  {
   "cell_type": "markdown",
   "metadata": {},
   "source": [
    "First, we assume categorical codes...that each code is qualitatively distinct from each other. Two measures are primarily used for this: Scott's $\\pi$, Cohen's $\\kappa$, and Krippendorff's $\\alpha$ which each measure the extent of agreement between two annotators, but take into account the possibility of the agreement occurring by chance in slightly different ways. Any agreement measure begins with the frequency of codes:"
   ]
  },
  {
   "cell_type": "code",
   "execution_count": 7,
   "metadata": {},
   "outputs": [
    {
     "data": {
      "text/plain": [
       "array([0.11666667, 0.245     , 0.34083333, 0.2975    ])"
      ]
     },
     "execution_count": 7,
     "metadata": {},
     "output_type": "execute_result"
    }
   ],
   "source": [
    "pyanno.measures.agreement.labels_frequency(anno.annotations,4)"
   ]
  },
  {
   "cell_type": "markdown",
   "metadata": {},
   "source": [
    "Now consider the \"confusion matrix\" or matrix of coded agreements between any two coders:"
   ]
  },
  {
   "cell_type": "code",
   "execution_count": 8,
   "metadata": {},
   "outputs": [
    {
     "name": "stdout",
     "output_type": "stream",
     "text": [
      "[[ 8.  7.  3.  2.]\n",
      " [ 9. 30. 13.  3.]\n",
      " [ 2.  9. 42. 11.]\n",
      " [ 1.  7. 14. 39.]]\n"
     ]
    },
    {
     "data": {
      "image/png": "[encoded data removed]",
      "text/plain": [
       "<Figure size 432x288 with 2 Axes>"
      ]
     },
     "metadata": {
      "needs_background": "light"
     },
     "output_type": "display_data"
    }
   ],
   "source": [
    "c = pyanno.measures.agreement.confusion_matrix(anno.annotations[:,0], anno.annotations[:,1],4)\n",
    "print(c)\n",
    "ac = seaborn.heatmap(c)\n",
    "plt.show()"
   ]
  },
  {
   "cell_type": "markdown",
   "metadata": {},
   "source": [
    "Scott's $\\pi$ is computed as:\n",
    "\n",
    "$\\pi = \\frac{\\text{Pr}(a)-\\text{Pr}(e)}{1-\\text{Pr}(e)}$\n",
    "\n",
    "Where Pr($a$) is relative observed agreement, and Pr($e$) is expected agreement using joint proportions calculated from the confusion matrix or matrix of coded agreements between any two coders:"
   ]
  },
  {
   "cell_type": "code",
   "execution_count": 9,
   "metadata": {},
   "outputs": [
    {
     "data": {
      "text/plain": [
       "0.4386478265891502"
      ]
     },
     "execution_count": 9,
     "metadata": {},
     "output_type": "execute_result"
    }
   ],
   "source": [
    "scotts_pi(anno.annotations[:,0], anno.annotations[:,1])"
   ]
  },
  {
   "cell_type": "markdown",
   "metadata": {},
   "source": [
    "The generalization of Scott's $\\pi$ to $n$ coders is Fleiss' $\\kappa$ (Fleiss called it $\\kappa$ because he thought he was generalizing Cohen's $\\kappa$)"
   ]
  },
  {
   "cell_type": "code",
   "execution_count": 10,
   "metadata": {},
   "outputs": [
    {
     "data": {
      "text/plain": [
       "0.40417653771912765"
      ]
     },
     "execution_count": 10,
     "metadata": {},
     "output_type": "execute_result"
    }
   ],
   "source": [
    "fleiss_kappa(anno.annotations[::])"
   ]
  },
  {
   "cell_type": "markdown",
   "metadata": {},
   "source": [
    "Krippendorff's $\\alpha$ generalizes of Fleiss' $\\kappa$ to $n$ coders and takes into account the fact that annotations here are not categorically different, but ordinal, by adding a weight matrix in which off-diagonal cells contain weights indicating the seriousness of the disagreement between each score. When produced with no arguments, it simply produces an arithmetic distance (e.g., 3-1=2), such that cells one off the diagonal are weighted 1, two off 2, etc."
   ]
  },
  {
   "cell_type": "code",
   "execution_count": 11,
   "metadata": {},
   "outputs": [
    {
     "data": {
      "text/plain": [
       "0.6472588223831547"
      ]
     },
     "execution_count": 11,
     "metadata": {},
     "output_type": "execute_result"
    }
   ],
   "source": [
    "krippendorffs_alpha(anno.annotations[::])"
   ]
  },
  {
   "cell_type": "markdown",
   "metadata": {},
   "source": [
    "Like Scott's $\\pi$, Cohen's $\\kappa$ also takes into account the possibility of the agreement occurring by chance, but in the following way:\n",
    "\n",
    "$\\kappa = \\frac{p_o-p_e}{1-p_e}=1-\\frac{1-p_o}{p_e}$\n",
    "\n",
    "where $p_o$ is the relative observed agreement among raters, and $p_e$ is the hypothetical probability of chance agreement, using the observed data to calculate the probabilities of each observer randomly saying each category. If the raters are in complete agreement then $\\kappa = 1$. If there is no agreement among the raters other than what would be expected by chance (as given by $p_e$), $\\kappa ≤ 0 $. Here, Cohen's $\\kappa$ statistic for the first two annotators is computed. This is probably the most common metric of agreement."
   ]
  },
  {
   "cell_type": "code",
   "execution_count": 12,
   "metadata": {},
   "outputs": [
    {
     "data": {
      "text/plain": [
       "0.43917037219392857"
      ]
     },
     "execution_count": 12,
     "metadata": {},
     "output_type": "execute_result"
    }
   ],
   "source": [
    "cohens_kappa(anno.annotations[:,0], anno.annotations[:,1])"
   ]
  },
  {
   "cell_type": "code",
   "execution_count": 13,
   "metadata": {},
   "outputs": [
    {
     "name": "stdout",
     "output_type": "stream",
     "text": [
      "[[1.         0.43917037 0.47677621        nan        nan        nan\n",
      "  0.45819119 0.43381462]\n",
      " [0.43917037 1.         0.38432922 0.41344423        nan        nan\n",
      "         nan 0.33643611]\n",
      " [0.47677621 0.38432922 1.         0.39583333 0.51704894        nan\n",
      "         nan        nan]\n",
      " [       nan 0.41344423 0.39583333 1.         0.34597068 0.4446844\n",
      "         nan        nan]\n",
      " [       nan        nan 0.51704894 0.34597068 1.         0.37938644\n",
      "  0.43039733        nan]\n",
      " [       nan        nan        nan 0.4446844  0.37938644 1.\n",
      "  0.38341929 0.31214748]\n",
      " [0.45819119        nan        nan        nan 0.43039733 0.38341929\n",
      "  1.         0.394806  ]\n",
      " [0.43381462 0.33643611        nan        nan        nan 0.31214748\n",
      "  0.394806   1.        ]]\n"
     ]
    }
   ],
   "source": [
    "m = pairwise_matrix(cohens_kappa, anno.annotations)\n",
    "print(m)"
   ]
  },
  {
   "cell_type": "code",
   "execution_count": 14,
   "metadata": {},
   "outputs": [
    {
     "data": {
      "image/png": "[encoded data removed]",
      "text/plain": [
       "<Figure size 432x288 with 2 Axes>"
      ]
     },
     "metadata": {
      "needs_background": "light"
     },
     "output_type": "display_data"
    }
   ],
   "source": [
    "ax = seaborn.heatmap(m)\n",
    "plt.show()"
   ]
  },
  {
   "cell_type": "markdown",
   "metadata": {},
   "source": [
    "You can see that this 8 by 3 loop design will be less stable than an 8 choose 3 combinatorial design, because each codes with more others. "
   ]
  },
  {
   "cell_type": "markdown",
   "metadata": {},
   "source": [
    "One can also assess the average Cohen's $\\kappa$ for all pairs of coders that have coded against one another:"
   ]
  },
  {
   "cell_type": "code",
   "execution_count": 15,
   "metadata": {},
   "outputs": [
    {
     "data": {
      "text/plain": [
       "0.40911598940065674"
      ]
     },
     "execution_count": 15,
     "metadata": {},
     "output_type": "execute_result"
    }
   ],
   "source": [
    "def pairwise_metric_average(metric, array):\n",
    "    \"\"\"Calculate the pairwise metric average for the real elements of metric function run on an array of annotations\"\"\"\n",
    "    p = permutations(range(array[0,:].size),2)\n",
    "    m = [metric(array[:,x[0]], array[:,x[1]]) for x in p]\n",
    "    clean_m = [c for c in m if not math.isnan(c)]\n",
    "    return reduce(lambda a, b: a + b, clean_m)/len(clean_m)    \n",
    " \n",
    "pairwise_metric_average(cohens_kappa, anno.annotations)"
   ]
  },
  {
   "cell_type": "markdown",
   "metadata": {},
   "source": [
    "As recognized with Krippendorff's flexible $\\alpha$, our scores are *not* categorical, but rather ordered and her considered metric. Weighted $\\kappa$ allows you to count disagreements differently and is useful when codes are ordered as they are here. Here a weight matrix is added to the calculation, in which off-diagonal cells contain weights indicating the seriousness of the disagreement between each score. When automatically produced, it simply produces an arithmetic distance (e.g., 3-1=2), such that cells one off the diagonal are weighted 1, two off 2, etc. Here\n",
    "\n",
    "$\\kappa = 1-\\frac{\\sum^k_{i=1}\\sum^k_{j=1}w_{ij}x_{ij}}{\\sum^k_{i=1}\\sum^k_{j=1}w_{ij}m_{ij}}$\n",
    "\n",
    "where $\\kappa$ = $n$ codes and $w_{ij}$,$x_{ij}$, and $m_{ij}$ represent elements in the weight, observed, and expected matrices, respectively. (Obviously, when diagonal cells contain weights of 0 and off-diagonal cells weights of 1, this equals $\\kappa$)."
   ]
  },
  {
   "cell_type": "code",
   "execution_count": 16,
   "metadata": {},
   "outputs": [
    {
     "data": {
      "text/plain": [
       "0.5330240507874497"
      ]
     },
     "execution_count": 16,
     "metadata": {},
     "output_type": "execute_result"
    }
   ],
   "source": [
    "cohens_weighted_kappa(anno.annotations[:,0], anno.annotations[:,1])"
   ]
  },
  {
   "cell_type": "markdown",
   "metadata": {},
   "source": [
    "Or averaged over the total:"
   ]
  },
  {
   "cell_type": "code",
   "execution_count": 17,
   "metadata": {},
   "outputs": [
    {
     "data": {
      "text/plain": [
       "0.5299113458717166"
      ]
     },
     "execution_count": 17,
     "metadata": {},
     "output_type": "execute_result"
    }
   ],
   "source": [
    "pairwise_metric_average(cohens_weighted_kappa,anno.annotations)"
   ]
  },
  {
   "cell_type": "markdown",
   "metadata": {},
   "source": [
    "Alternatively, if the annontation data can be understood as indicating real values, we can assess not agreement, but rather the correlation of values (Pearson's $\\rho$) or correlation of ranks (Spearman's $\\rho$) for pairs of coders:"
   ]
  },
  {
   "cell_type": "code",
   "execution_count": 18,
   "metadata": {
    "scrolled": true
   },
   "outputs": [
    {
     "data": {
      "image/png": "[encoded data removed]",
      "text/plain": [
       "<Figure size 432x288 with 2 Axes>"
      ]
     },
     "metadata": {
      "needs_background": "light"
     },
     "output_type": "display_data"
    },
    {
     "data": {
      "image/png": "[encoded data removed]",
      "text/plain": [
       "<Figure size 432x288 with 2 Axes>"
      ]
     },
     "metadata": {
      "needs_background": "light"
     },
     "output_type": "display_data"
    }
   ],
   "source": [
    "n = pairwise_matrix(pearsons_rho, anno.annotations)\n",
    "m = pairwise_matrix(spearmans_rho, anno.annotations)\n",
    "an = seaborn.heatmap(n)\n",
    "plt.show()\n",
    "am = seaborn.heatmap(m)\n",
    "plt.show()"
   ]
  },
  {
   "cell_type": "markdown",
   "metadata": {},
   "source": [
    "Or averaged over all comparable pairs:"
   ]
  },
  {
   "cell_type": "code",
   "execution_count": 19,
   "metadata": {},
   "outputs": [
    {
     "name": "stdout",
     "output_type": "stream",
     "text": [
      "0.6517219321175077 0.63808488688039\n"
     ]
    }
   ],
   "source": [
    "print(pairwise_metric_average(pearsons_rho,anno.annotations), pairwise_metric_average(spearmans_rho,anno.annotations))"
   ]
  },
  {
   "cell_type": "markdown",
   "metadata": {},
   "source": [
    "## <span style=\"color:red\">*Your turn*</span>\n",
    "\n",
    "<span style=\"color:red\">Perform a content annotation survey of some kind in which at least 3 people evaluate and code each piece of content, using Amazon Mechanical Turk as described in the MTurk slides in the Assignment link on Canvas, or by hand with friends.  With the resulting data, calculate, visualize and discuss inter-coder agreement or covariation with appropriate metrics. What does this means for the reliability of human assessments regarding content in your domain?"
   ]
  },
  {
   "cell_type": "code",
   "execution_count": 9,
   "metadata": {},
   "outputs": [],
   "source": [
    "import pandas as pd"
   ]
  },
  {
   "cell_type": "code",
   "execution_count": 34,
   "metadata": {},
   "outputs": [],
   "source": [
    "df = pd.read_csv('/Users/lilygrier/Documents/Grad_School/Computational Content Analysis/Content Analysis_January 28, 2021_09.47.csv', encoding = 'unicode_escape')"
   ]
  },
  {
   "cell_type": "code",
   "execution_count": 35,
   "metadata": {},
   "outputs": [],
   "source": [
    "# fix Clinton typo\n",
    "df = df.rename(columns={'Cinton': 'Clinton'})"
   ]
  },
  {
   "cell_type": "code",
   "execution_count": 36,
   "metadata": {},
   "outputs": [],
   "source": [
    "results = df[['Clinton', 'Bush Sr.', 'Bush Jr.', 'Carter', \n",
    "              'Reagan', 'Obama', 'Trump']]"
   ]
  },
  {
   "cell_type": "code",
   "execution_count": 37,
   "metadata": {},
   "outputs": [],
   "source": [
    "# drop first two rows of metadata to keep results\n",
    "results = results.iloc[2:, :].reset_index(drop=True)"
   ]
  },
  {
   "cell_type": "code",
   "execution_count": 38,
   "metadata": {},
   "outputs": [],
   "source": [
    "# convert to numpy array\n",
    "results = results.to_numpy(dtype=np.float64)"
   ]
  },
  {
   "cell_type": "code",
   "execution_count": 102,
   "metadata": {},
   "outputs": [],
   "source": [
    "results = results.T"
   ]
  },
  {
   "cell_type": "code",
   "execution_count": 103,
   "metadata": {},
   "outputs": [],
   "source": [
    "anno = AnnotationsContainer.from_array(results)"
   ]
  },
  {
   "cell_type": "code",
   "execution_count": 104,
   "metadata": {},
   "outputs": [
    {
     "data": {
      "text/plain": [
       "array([[2, 4, 4, 4, 4, 3, 3, 3, 1, 4, 3, 3, 3, 1, 3, 3, 3, 2, 3, 2, 4, 3,\n",
       "        3, 3],\n",
       "       [2, 4, 4, 4, 4, 4, 2, 3, 2, 2, 3, 4, 3, 2, 3, 2, 1, 3, 3, 2, 4, 4,\n",
       "        4, 3],\n",
       "       [3, 3, 1, 3, 2, 3, 4, 3, 3, 2, 2, 4, 4, 4, 1, 4, 3, 4, 2, 2, 4, 3,\n",
       "        4, 2],\n",
       "       [2, 0, 3, 1, 2, 1, 1, 3, 3, 3, 2, 4, 1, 4, 2, 4, 3, 3, 2, 2, 4, 4,\n",
       "        3, 2],\n",
       "       [0, 0, 0, 0, 0, 0, 1, 3, 3, 4, 4, 3, 0, 3, 3, 3, 2, 2, 3, 2, 4, 3,\n",
       "        2, 2],\n",
       "       [3, 4, 4, 4, 2, 3, 4, 4, 2, 3, 3, 4, 3, 3, 2, 3, 3, 3, 3, 2, 4, 4,\n",
       "        3, 3],\n",
       "       [0, 0, 0, 1, 0, 0, 0, 4, 1, 3, 1, 4, 0, 0, 1, 2, 3, 3, 3, 2, 4, 3,\n",
       "        1, 1]])"
      ]
     },
     "execution_count": 104,
     "metadata": {},
     "output_type": "execute_result"
    }
   ],
   "source": [
    "anno.annotations"
   ]
  },
  {
   "cell_type": "code",
   "execution_count": 105,
   "metadata": {},
   "outputs": [
    {
     "data": {
      "text/plain": [
       "[1.0, 2.0, 3.0, 4.0, 5.0]"
      ]
     },
     "execution_count": 105,
     "metadata": {},
     "output_type": "execute_result"
    }
   ],
   "source": [
    "anno.labels"
   ]
  },
  {
   "cell_type": "markdown",
   "metadata": {},
   "source": [
    "Now that we have our annotation object, we can calculate some statistics."
   ]
  },
  {
   "cell_type": "code",
   "execution_count": 106,
   "metadata": {},
   "outputs": [
    {
     "data": {
      "text/plain": [
       "array([0.0952381 , 0.0952381 , 0.20238095, 0.35714286, 0.25      ])"
      ]
     },
     "execution_count": 106,
     "metadata": {},
     "output_type": "execute_result"
    }
   ],
   "source": [
    "pyanno.measures.agreement.labels_frequency(anno.annotations,5)"
   ]
  },
  {
   "cell_type": "code",
   "execution_count": 155,
   "metadata": {},
   "outputs": [
    {
     "name": "stdout",
     "output_type": "stream",
     "text": [
      "[[0. 0. 0. 0. 1.]\n",
      " [0. 0. 0. 2. 0.]\n",
      " [0. 0. 0. 0. 0.]\n",
      " [0. 0. 1. 0. 0.]\n",
      " [0. 0. 1. 1. 1.]]\n"
     ]
    },
    {
     "data": {
      "image/png": "[encoded data removed]",
      "text/plain": [
       "<Figure size 432x288 with 2 Axes>"
      ]
     },
     "metadata": {
      "needs_background": "light"
     },
     "output_type": "display_data"
    }
   ],
   "source": [
    "c = pyanno.measures.agreement.confusion_matrix(anno.annotations[:,3], \n",
    "                                               anno.annotations[:,9],5)\n",
    "print(c)\n",
    "ac = seaborn.heatmap(c)\n",
    "plt.show()"
   ]
  },
  {
   "cell_type": "code",
   "execution_count": 156,
   "metadata": {},
   "outputs": [
    {
     "data": {
      "text/plain": [
       "-0.15068493150684925"
      ]
     },
     "execution_count": 156,
     "metadata": {},
     "output_type": "execute_result"
    }
   ],
   "source": [
    "scotts_pi(anno.annotations[:,3], anno.annotations[:,9])"
   ]
  },
  {
   "cell_type": "code",
   "execution_count": 109,
   "metadata": {},
   "outputs": [
    {
     "data": {
      "text/plain": [
       "0.029395834359151083"
      ]
     },
     "execution_count": 109,
     "metadata": {},
     "output_type": "execute_result"
    }
   ],
   "source": [
    "fleiss_kappa(anno.annotations[::])"
   ]
  },
  {
   "cell_type": "code",
   "execution_count": 110,
   "metadata": {},
   "outputs": [
    {
     "data": {
      "text/plain": [
       "0.18458631857885976"
      ]
     },
     "execution_count": 110,
     "metadata": {},
     "output_type": "execute_result"
    }
   ],
   "source": [
    "krippendorffs_alpha(anno.annotations[::])"
   ]
  },
  {
   "cell_type": "code",
   "execution_count": 157,
   "metadata": {},
   "outputs": [
    {
     "data": {
      "text/plain": [
       "-0.04999999999999999"
      ]
     },
     "execution_count": 157,
     "metadata": {},
     "output_type": "execute_result"
    }
   ],
   "source": [
    "cohens_kappa(anno.annotations[:,3], anno.annotations[:,9])"
   ]
  },
  {
   "cell_type": "code",
   "execution_count": 112,
   "metadata": {},
   "outputs": [
    {
     "name": "stdout",
     "output_type": "stream",
     "text": [
      "[[ 1.          0.31707317  0.18604651  0.22222222  0.22222222  0.46153846\n",
      "   0.16666667 -0.07692308  0.05405405  0.05405405  0.05405405 -0.08888889\n",
      "   0.28205128  0.3        -0.13513514  0.05405405  0.02777778  0.\n",
      "  -0.06060606  0.          0.         -0.02439024 -0.05       -0.02941176]\n",
      " [ 0.31707317  1.          0.57575758  0.61111111  0.43243243  0.43243243\n",
      "   0.1025641   0.07894737  0.08695652 -0.05       -0.13953488 -0.09375\n",
      "   0.05405405 -0.10526316 -0.06521739 -0.225       0.04545455 -0.16666667\n",
      "  -0.11363636  0.          0.          0.22222222 -0.05       -0.06521739]\n",
      " [ 0.18604651  0.57575758  1.          0.4         0.46153846  0.26315789\n",
      "   0.07894737  0.07894737  0.04545455  0.125      -0.16666667 -0.09375\n",
      "   0.07894737 -0.10526316  0.04545455 -0.225       0.02325581  0.\n",
      "  -0.11363636  0.          0.          0.02777778  0.1025641  -0.08888889]\n",
      " [ 0.22222222  0.61111111  0.4         1.          0.31707317  0.46153846\n",
      "   0.05405405  0.07894737  0.16666667 -0.05       -0.02439024 -0.09375\n",
      "   0.1025641  -0.28947368  0.         -0.225       0.         -0.16666667\n",
      "  -0.11363636  0.          0.          0.22222222  0.07894737  0.04545455]\n",
      " [ 0.22222222  0.43243243  0.46153846  0.31707317  1.          0.34883721\n",
      "  -0.05       -0.08888889  0.02325581  0.1025641   0.14634146 -0.07692308\n",
      "   0.18604651 -0.05        0.18604651 -0.25641026 -0.06521739 -0.19512195\n",
      "   0.18604651  0.          0.          0.02325581  0.          0.125     ]\n",
      " [ 0.46153846  0.43243243  0.26315789  0.46153846  0.34883721  1.\n",
      "   0.3        -0.09375    -0.10526316 -0.10526316  0.07894737  0.07894737\n",
      "   0.58823529  0.07894737 -0.10526316  0.07894737  0.15151515 -0.16666667\n",
      "  -0.02941176  0.          0.          0.17647059  0.24324324  0.1025641 ]\n",
      " [ 0.16666667  0.1025641   0.07894737  0.05405405 -0.05        0.3\n",
      "   1.          0.125      -0.05       -0.05       -0.05        0.24324324\n",
      "   0.475       0.28205128 -0.05        0.3        -0.02439024 -0.02439024\n",
      "   0.          0.          0.          0.1025641   0.1025641  -0.02439024]\n",
      " [-0.07692308  0.07894737  0.07894737  0.07894737 -0.08888889 -0.09375\n",
      "   0.125       1.          0.17647059 -0.4        -0.09375     0.27586207\n",
      "  -0.09375    -0.2         0.17647059 -0.16666667 -0.16666667 -0.2962963\n",
      "  -0.16666667  0.          0.          0.08695652 -0.16666667 -0.02941176]\n",
      " [ 0.05405405  0.08695652  0.04545455  0.16666667  0.02325581 -0.10526316\n",
      "  -0.05        0.17647059  1.          0.02777778 -0.23529412  0.02325581\n",
      "  -0.28947368  0.28205128  0.125       0.02777778 -0.16666667 -0.27272727\n",
      "  -0.4         0.          0.          0.05405405  0.02777778 -0.3125    ]\n",
      " [ 0.05405405 -0.05        0.125      -0.05        0.1025641  -0.10526316\n",
      "  -0.05       -0.4         0.02777778  1.          0.17647059 -0.48484848\n",
      "  -0.10526316  0.05405405 -0.36111111 -0.09375     0.125       0.09677419\n",
      "   0.06666667  0.          0.         -0.35483871 -0.02941176 -0.02941176]\n",
      " [ 0.05405405 -0.13953488 -0.16666667 -0.02439024  0.14634146  0.07894737\n",
      "  -0.05       -0.09375    -0.23529412  0.17647059  1.         -0.10526316\n",
      "   0.26315789 -0.10526316  0.38235294 -0.02941176 -0.12903226 -0.09375\n",
      "   0.53333333  0.          0.         -0.23529412  0.2         0.78787879]\n",
      " [-0.08888889 -0.09375    -0.09375    -0.09375    -0.07692308  0.07894737\n",
      "   0.24324324  0.27586207  0.02325581 -0.48484848 -0.10526316  1.\n",
      "   0.07894737  0.2         0.18604651  0.36363636 -0.07692308 -0.16666667\n",
      "   0.1025641   0.          0.          0.46153846  0.15151515  0.02325581]\n",
      " [ 0.28205128  0.05405405  0.07894737  0.1025641   0.18604651  0.58823529\n",
      "   0.475      -0.09375    -0.28947368 -0.10526316  0.26315789  0.07894737\n",
      "   1.          0.26315789  0.07894737  0.26315789 -0.06060606  0.22222222\n",
      "   0.17647059  0.          0.         -0.23529412  0.24324324  0.28205128]\n",
      " [ 0.3        -0.10526316 -0.10526316 -0.28947368 -0.05        0.07894737\n",
      "   0.28205128 -0.2         0.28205128  0.05405405 -0.10526316  0.2\n",
      "   0.26315789  1.         -0.07692308  0.62162162 -0.13513514  0.05405405\n",
      "   0.05405405  0.          0.          0.          0.05405405 -0.07692308]\n",
      " [-0.13513514 -0.06521739  0.04545455  0.          0.18604651 -0.10526316\n",
      "  -0.05        0.17647059  0.125      -0.36111111  0.38235294  0.18604651\n",
      "   0.07894737 -0.07692308  1.          0.02777778 -0.4        -0.27272727\n",
      "   0.3         0.          0.          0.05405405  0.02777778  0.34375   ]\n",
      " [ 0.05405405 -0.225      -0.225      -0.225      -0.25641026  0.07894737\n",
      "   0.3        -0.16666667  0.02777778 -0.09375    -0.02941176  0.36363636\n",
      "   0.26315789  0.62162162  0.02777778  1.         -0.09375    -0.12903226\n",
      "   0.06666667  0.          0.          0.09677419  0.17647059 -0.02941176]\n",
      " [ 0.02777778  0.04545455  0.02325581  0.         -0.06521739  0.15151515\n",
      "  -0.02439024 -0.16666667 -0.16666667  0.125      -0.12903226 -0.07692308\n",
      "  -0.06060606 -0.13513514 -0.4        -0.09375     1.          0.22222222\n",
      "  -0.27272727  0.          0.          0.03448276  0.34375     0.06666667]\n",
      " [ 0.         -0.16666667  0.         -0.16666667 -0.19512195 -0.16666667\n",
      "  -0.02439024 -0.2962963  -0.27272727  0.09677419 -0.09375    -0.16666667\n",
      "   0.22222222  0.05405405 -0.27272727 -0.12903226  0.22222222  1.\n",
      "  -0.12        0.          0.         -0.4         0.36363636  0.09677419]\n",
      " [-0.06060606 -0.11363636 -0.11363636 -0.11363636  0.18604651 -0.02941176\n",
      "   0.         -0.16666667 -0.4         0.06666667  0.53333333  0.1025641\n",
      "   0.17647059  0.05405405  0.3         0.06666667 -0.27272727 -0.12\n",
      "   1.          0.          0.          0.03448276 -0.09375     0.5       ]\n",
      " [ 0.          0.          0.          0.          0.          0.\n",
      "   0.          0.          0.          0.          0.          0.\n",
      "   0.          0.          0.          0.          0.          0.\n",
      "   0.                 nan  0.          0.          0.          0.        ]\n",
      " [ 0.          0.          0.          0.          0.          0.\n",
      "   0.          0.          0.          0.          0.          0.\n",
      "   0.          0.          0.          0.          0.          0.\n",
      "   0.          0.                 nan  0.          0.          0.        ]\n",
      " [-0.02439024  0.22222222  0.02777778  0.22222222  0.02325581  0.17647059\n",
      "   0.1025641   0.08695652  0.05405405 -0.35483871 -0.23529412  0.46153846\n",
      "  -0.23529412  0.          0.05405405  0.09677419  0.03448276 -0.4\n",
      "   0.03448276  0.          0.          1.         -0.12903226 -0.13513514]\n",
      " [-0.05       -0.05        0.1025641   0.07894737  0.          0.24324324\n",
      "   0.1025641  -0.16666667  0.02777778 -0.02941176  0.2         0.15151515\n",
      "   0.24324324  0.05405405  0.02777778  0.17647059  0.34375     0.36363636\n",
      "  -0.09375     0.          0.         -0.12903226  1.          0.41666667]\n",
      " [-0.02941176 -0.06521739 -0.08888889  0.04545455  0.125       0.1025641\n",
      "  -0.02439024 -0.02941176 -0.3125     -0.02941176  0.78787879  0.02325581\n",
      "   0.28205128 -0.07692308  0.34375    -0.02941176  0.06666667  0.09677419\n",
      "   0.5         0.          0.         -0.13513514  0.41666667  1.        ]]\n"
     ]
    },
    {
     "name": "stderr",
     "output_type": "stream",
     "text": [
      "/opt/anaconda3/lib/python3.7/site-packages/pyanno/measures/helpers.py:166: RuntimeWarning: invalid value encountered in double_scalars\n",
      "  return (observed_agreement - chance_agreement) / (1. - chance_agreement)\n"
     ]
    }
   ],
   "source": [
    "m = pairwise_matrix(cohens_kappa, anno.annotations)\n",
    "print(m)"
   ]
  },
  {
   "cell_type": "code",
   "execution_count": 113,
   "metadata": {
    "scrolled": true
   },
   "outputs": [
    {
     "data": {
      "image/png": "[encoded data removed]",
      "text/plain": [
       "<Figure size 432x288 with 2 Axes>"
      ]
     },
     "metadata": {
      "needs_background": "light"
     },
     "output_type": "display_data"
    }
   ],
   "source": [
    "ax = seaborn.heatmap(m)\n",
    "plt.show()"
   ]
  },
  {
   "cell_type": "code",
   "execution_count": 114,
   "metadata": {},
   "outputs": [
    {
     "data": {
      "text/plain": [
       "0.038714462763836055"
      ]
     },
     "execution_count": 114,
     "metadata": {},
     "output_type": "execute_result"
    }
   ],
   "source": [
    "def pairwise_metric_average(metric, array):\n",
    "    \"\"\"Calculate the pairwise metric average for the real elements of metric function run on an array of annotations\"\"\"\n",
    "    p = permutations(range(array[0,:].size),2)\n",
    "    m = [metric(array[:,x[0]], array[:,x[1]]) for x in p]\n",
    "    clean_m = [c for c in m if not math.isnan(c)]\n",
    "    return reduce(lambda a, b: a + b, clean_m)/len(clean_m)    \n",
    " \n",
    "pairwise_metric_average(cohens_kappa, anno.annotations)"
   ]
  },
  {
   "cell_type": "markdown",
   "metadata": {},
   "source": [
    "As my results are ordered rather than categorical here, it would be useful to compute Cohen's weighted kappa as well."
   ]
  },
  {
   "cell_type": "code",
   "execution_count": 158,
   "metadata": {},
   "outputs": [
    {
     "data": {
      "text/plain": [
       "-0.1351351351351353"
      ]
     },
     "execution_count": 158,
     "metadata": {},
     "output_type": "execute_result"
    }
   ],
   "source": [
    "cohens_weighted_kappa(anno.annotations[:,3], anno.annotations[:,9])"
   ]
  },
  {
   "cell_type": "markdown",
   "metadata": {},
   "source": [
    "Here is Cohen's weighted kappa averaged over the toal responses."
   ]
  },
  {
   "cell_type": "code",
   "execution_count": 116,
   "metadata": {},
   "outputs": [
    {
     "data": {
      "text/plain": [
       "0.0904630370108133"
      ]
     },
     "execution_count": 116,
     "metadata": {},
     "output_type": "execute_result"
    }
   ],
   "source": [
    "pairwise_metric_average(cohens_weighted_kappa,anno.annotations)"
   ]
  },
  {
   "cell_type": "code",
   "execution_count": 117,
   "metadata": {},
   "outputs": [
    {
     "name": "stderr",
     "output_type": "stream",
     "text": [
      "/opt/anaconda3/lib/python3.7/site-packages/scipy/stats/stats.py:3845: PearsonRConstantInputWarning: An input array is constant; the correlation coefficent is not defined.\n",
      "  warnings.warn(PearsonRConstantInputWarning())\n",
      "/opt/anaconda3/lib/python3.7/site-packages/scipy/stats/stats.py:4196: SpearmanRConstantInputWarning: An input array is constant; the correlation coefficent is not defined.\n",
      "  warnings.warn(SpearmanRConstantInputWarning())\n"
     ]
    },
    {
     "data": {
      "image/png": "[encoded data removed]",
      "text/plain": [
       "<Figure size 432x288 with 2 Axes>"
      ]
     },
     "metadata": {
      "needs_background": "light"
     },
     "output_type": "display_data"
    },
    {
     "data": {
      "image/png": "[encoded data removed]",
      "text/plain": [
       "<Figure size 432x288 with 2 Axes>"
      ]
     },
     "metadata": {
      "needs_background": "light"
     },
     "output_type": "display_data"
    }
   ],
   "source": [
    "n = pairwise_matrix(pearsons_rho, anno.annotations)\n",
    "m = pairwise_matrix(spearmans_rho, anno.annotations)\n",
    "an = seaborn.heatmap(n)\n",
    "plt.show()\n",
    "am = seaborn.heatmap(m)\n",
    "plt.show()"
   ]
  },
  {
   "cell_type": "code",
   "execution_count": 119,
   "metadata": {},
   "outputs": [
    {
     "name": "stdout",
     "output_type": "stream",
     "text": [
      "0.18001215441568394 0.16934044744204274\n"
     ]
    }
   ],
   "source": [
    "# averaged over comparable pairs\n",
    "print(pairwise_metric_average(pearsons_rho,anno.annotations), pairwise_metric_average(spearmans_rho,anno.annotations))"
   ]
  },
  {
   "cell_type": "code",
   "execution_count": 120,
   "metadata": {},
   "outputs": [],
   "source": [
    "# ARE THE ABOVE APPROPRIATE HERE??"
   ]
  },
  {
   "cell_type": "markdown",
   "metadata": {},
   "source": [
    "# Models"
   ]
  },
  {
   "cell_type": "markdown",
   "metadata": {},
   "source": [
    "However, what if some coders are better than others. The prior measures all rely on the assumption that all coders are equally good. What if some are worse than others? Now we use Rzhetsky et al (2009) and Dawid & Skene's models to make inference about true label classes by downweighting bad or deviant coders. Pyanno provides three relevant models: ModelA, ModelB, and ModelBt. Model A can only be currently run on a balanced 8-coder design, but assesses accuracy purely based on agreement. Model B with $\\theta$s models the relationship between each coder and code. Model B is the Dawid & Skene model from the reading. The following image schematically suggests the relationship between the models. <img src=\"../data/models.png\">"
   ]
  },
  {
   "cell_type": "markdown",
   "metadata": {},
   "source": [
    "The models should provide similar results. To estimate the parameters for any models, we first need to create a new model. "
   ]
  },
  {
   "cell_type": "code",
   "execution_count": 20,
   "metadata": {},
   "outputs": [
    {
     "name": "stdout",
     "output_type": "stream",
     "text": [
      "[[[0.80309133 0.16442953 0.02510272 0.00737642]\n",
      "  [0.09555449 0.67005458 0.12758822 0.1068027 ]\n",
      "  [0.02952063 0.23083083 0.54380256 0.19584597]\n",
      "  [0.09324687 0.1747604  0.25346345 0.47852928]]\n",
      "\n",
      " [[0.70739942 0.20647827 0.08229406 0.00382825]\n",
      "  [0.08309886 0.70618879 0.18876326 0.02194908]\n",
      "  [0.02621502 0.10327181 0.73651672 0.13399644]\n",
      "  [0.04595428 0.13955645 0.21552251 0.59896675]]\n",
      "\n",
      " [[0.63626383 0.22008043 0.11789391 0.02576183]\n",
      "  [0.22102614 0.57376142 0.11292856 0.09228388]\n",
      "  [0.11625237 0.07537856 0.62965782 0.17871124]\n",
      "  [0.01291827 0.05808522 0.19152109 0.73747543]]\n",
      "\n",
      " [[0.66033376 0.29377273 0.02927075 0.01662275]\n",
      "  [0.15358802 0.66082414 0.11409247 0.07149537]\n",
      "  [0.04681237 0.1767609  0.66475361 0.11167312]\n",
      "  [0.00216538 0.03262772 0.21930207 0.74590484]]\n",
      "\n",
      " [[0.72328038 0.03815922 0.17956104 0.05899937]\n",
      "  [0.10597195 0.66382456 0.17992819 0.05027529]\n",
      "  [0.0465953  0.1538707  0.57067679 0.22885722]\n",
      "  [0.03513911 0.18336723 0.1496886  0.63180506]]\n",
      "\n",
      " [[0.66848747 0.12430091 0.03876814 0.16844347]\n",
      "  [0.05449344 0.58060627 0.32183276 0.04306753]\n",
      "  [0.08618355 0.08353011 0.68333025 0.14695609]\n",
      "  [0.05064354 0.08012081 0.19991717 0.66931849]]\n",
      "\n",
      " [[0.8343495  0.12206797 0.03020599 0.01337654]\n",
      "  [0.11548853 0.59429064 0.17982174 0.11039909]\n",
      "  [0.06102219 0.09587341 0.63973389 0.20337052]\n",
      "  [0.01839658 0.04360733 0.07646997 0.86152612]]\n",
      "\n",
      " [[0.71975258 0.1297993  0.10240041 0.04804771]\n",
      "  [0.11549873 0.56716739 0.24101388 0.07632   ]\n",
      "  [0.07337364 0.13869732 0.62979738 0.15813166]\n",
      "  [0.03077518 0.01922301 0.15340186 0.79659995]]]\n",
      "-3137.509342202119\n"
     ]
    }
   ],
   "source": [
    "# create a new instance of model A, with 4 label classes\n",
    "model = ModelB.create_initial_state(4, 8)\n",
    "# other model parameters are initialized from the model prior\n",
    "print(model.theta)\n",
    "print(model.log_likelihood(anno.annotations))"
   ]
  },
  {
   "cell_type": "code",
   "execution_count": 21,
   "metadata": {},
   "outputs": [],
   "source": [
    "samples = model.sample_posterior_over_accuracy(anno.annotations, 200, burn_in_samples=100, thin_samples=3)"
   ]
  },
  {
   "cell_type": "markdown",
   "metadata": {},
   "source": [
    "Pyanno allows one to use either MLE (maximum likelihood estimation) or MAP (maximum a posteriori estimation) to estimate model parameters. Note that the parameters here correspond to our estimation of the accuracy of each annotator."
   ]
  },
  {
   "cell_type": "code",
   "execution_count": 22,
   "metadata": {},
   "outputs": [
    {
     "name": "stdout",
     "output_type": "stream",
     "text": [
      "[[[7.73398728e-01 2.01020245e-01 2.55810269e-02 1.20101219e-26]\n",
      "  [1.47832659e-01 7.11503767e-01 7.66499157e-02 6.40136580e-02]\n",
      "  [1.97431020e-02 1.48708709e-01 6.96639326e-01 1.34908863e-01]\n",
      "  [2.52463780e-18 2.13647377e-02 8.51550428e-02 8.93480220e-01]]\n",
      "\n",
      " [[7.19395465e-01 2.01828761e-01 7.87757734e-02 1.55486964e-13]\n",
      "  [1.33941799e-01 7.07223261e-01 1.10418200e-01 4.84167403e-02]\n",
      "  [2.72093282e-02 1.65178369e-01 6.71232700e-01 1.36379603e-01]\n",
      "  [2.15358721e-30 5.38211823e-02 1.21871740e-01 8.24307077e-01]]\n",
      "\n",
      " [[8.50073137e-01 1.22955501e-01 2.69713621e-02 3.64395738e-42]\n",
      "  [8.93514251e-02 7.89280333e-01 8.93429608e-02 3.20252811e-02]\n",
      "  [6.11638366e-02 1.29121422e-01 7.03992731e-01 1.05722011e-01]\n",
      "  [6.53666390e-03 5.12606512e-02 2.10869595e-01 7.31333090e-01]]\n",
      "\n",
      " [[6.99612801e-01 2.70976969e-01 2.94102301e-02 8.57899704e-52]\n",
      "  [9.67171336e-02 7.62615701e-01 1.09523823e-01 3.11433425e-02]\n",
      "  [1.81150586e-02 1.45472330e-01 6.85587954e-01 1.50824657e-01]\n",
      "  [2.71897111e-47 2.98511124e-02 2.28749569e-01 7.41399319e-01]]\n",
      "\n",
      " [[8.11803144e-01 1.19373545e-01 6.88233110e-02 9.13991546e-49]\n",
      "  [1.24726986e-01 6.93211818e-01 1.47008725e-01 3.50524714e-02]\n",
      "  [1.10580622e-02 2.13907919e-01 6.46719976e-01 1.28314044e-01]\n",
      "  [6.58948915e-52 5.98095047e-02 1.82979139e-01 7.57211357e-01]]\n",
      "\n",
      " [[7.71186748e-01 2.05349662e-01 2.34635900e-02 1.87519848e-51]\n",
      "  [1.10920303e-01 6.98703449e-01 1.62586425e-01 2.77898237e-02]\n",
      "  [2.69432947e-02 1.74971748e-01 6.58688648e-01 1.39396309e-01]\n",
      "  [1.04070689e-20 8.19488668e-02 1.50728042e-01 7.67323091e-01]]\n",
      "\n",
      " [[7.77751875e-01 1.41612394e-01 8.06357307e-02 7.49343463e-22]\n",
      "  [1.14108703e-01 6.72056519e-01 1.68346177e-01 4.54886006e-02]\n",
      "  [1.60943993e-02 1.18997632e-01 7.24591200e-01 1.40316769e-01]\n",
      "  [9.41957786e-52 4.72911966e-02 1.30538454e-01 8.22170350e-01]]\n",
      "\n",
      " [[8.52754118e-01 1.18087361e-01 2.91585215e-02 1.95577162e-42]\n",
      "  [1.29319568e-01 6.36012446e-01 1.95669325e-01 3.89986612e-02]\n",
      "  [2.96631200e-02 1.67273811e-01 6.42736730e-01 1.60326339e-01]\n",
      "  [1.03418107e-24 4.32627993e-02 1.13010804e-01 8.43726397e-01]]]\n",
      "-2625.8850676193924\n"
     ]
    }
   ],
   "source": [
    "model.map(anno.annotations)\n",
    "print(model.theta)\n",
    "print(model.log_likelihood(anno.annotations))"
   ]
  },
  {
   "cell_type": "code",
   "execution_count": 23,
   "metadata": {},
   "outputs": [
    {
     "name": "stdout",
     "output_type": "stream",
     "text": [
      "[[[7.73398728e-01 2.01020245e-01 2.55810269e-02 1.20101219e-26]\n",
      "  [1.47832659e-01 7.11503767e-01 7.66499157e-02 6.40136580e-02]\n",
      "  [1.97431020e-02 1.48708709e-01 6.96639326e-01 1.34908863e-01]\n",
      "  [2.52463780e-18 2.13647377e-02 8.51550428e-02 8.93480220e-01]]\n",
      "\n",
      " [[7.19395465e-01 2.01828761e-01 7.87757734e-02 1.55486964e-13]\n",
      "  [1.33941799e-01 7.07223261e-01 1.10418200e-01 4.84167403e-02]\n",
      "  [2.72093282e-02 1.65178369e-01 6.71232700e-01 1.36379603e-01]\n",
      "  [2.15358721e-30 5.38211823e-02 1.21871740e-01 8.24307077e-01]]\n",
      "\n",
      " [[8.50073137e-01 1.22955501e-01 2.69713621e-02 3.64395738e-42]\n",
      "  [8.93514251e-02 7.89280333e-01 8.93429608e-02 3.20252811e-02]\n",
      "  [6.11638366e-02 1.29121422e-01 7.03992731e-01 1.05722011e-01]\n",
      "  [6.53666390e-03 5.12606512e-02 2.10869595e-01 7.31333090e-01]]\n",
      "\n",
      " [[6.99612801e-01 2.70976969e-01 2.94102301e-02 8.57899704e-52]\n",
      "  [9.67171336e-02 7.62615701e-01 1.09523823e-01 3.11433425e-02]\n",
      "  [1.81150586e-02 1.45472330e-01 6.85587954e-01 1.50824657e-01]\n",
      "  [2.71897111e-47 2.98511124e-02 2.28749569e-01 7.41399319e-01]]\n",
      "\n",
      " [[8.11803144e-01 1.19373545e-01 6.88233110e-02 9.13991546e-49]\n",
      "  [1.24726986e-01 6.93211818e-01 1.47008725e-01 3.50524714e-02]\n",
      "  [1.10580622e-02 2.13907919e-01 6.46719976e-01 1.28314044e-01]\n",
      "  [6.58948915e-52 5.98095047e-02 1.82979139e-01 7.57211357e-01]]\n",
      "\n",
      " [[7.71186748e-01 2.05349662e-01 2.34635900e-02 1.87519848e-51]\n",
      "  [1.10920303e-01 6.98703449e-01 1.62586425e-01 2.77898237e-02]\n",
      "  [2.69432947e-02 1.74971748e-01 6.58688648e-01 1.39396309e-01]\n",
      "  [1.04070689e-20 8.19488668e-02 1.50728042e-01 7.67323091e-01]]\n",
      "\n",
      " [[7.77751875e-01 1.41612394e-01 8.06357307e-02 7.49343463e-22]\n",
      "  [1.14108703e-01 6.72056519e-01 1.68346177e-01 4.54886006e-02]\n",
      "  [1.60943993e-02 1.18997632e-01 7.24591200e-01 1.40316769e-01]\n",
      "  [9.41957786e-52 4.72911966e-02 1.30538454e-01 8.22170350e-01]]\n",
      "\n",
      " [[8.52754118e-01 1.18087361e-01 2.91585215e-02 1.95577162e-42]\n",
      "  [1.29319568e-01 6.36012446e-01 1.95669325e-01 3.89986612e-02]\n",
      "  [2.96631200e-02 1.67273811e-01 6.42736730e-01 1.60326339e-01]\n",
      "  [1.03418107e-24 4.32627993e-02 1.13010804e-01 8.43726397e-01]]]\n",
      "-2625.8850676193924\n"
     ]
    }
   ],
   "source": [
    "model = ModelB.create_initial_state(4, 8)\n",
    "model.map(anno.annotations)\n",
    "print(model.theta)\n",
    "print(model.log_likelihood(anno.annotations))"
   ]
  },
  {
   "cell_type": "markdown",
   "metadata": {},
   "source": [
    "Once we have model parameters estimated, we can now make inferences about the true label classes. We can calculate the posterior distribution over the true label classes."
   ]
  },
  {
   "cell_type": "code",
   "execution_count": 24,
   "metadata": {},
   "outputs": [
    {
     "name": "stdout",
     "output_type": "stream",
     "text": [
      "[[1.20741380e-42 1.00240780e-01 7.90821679e-01 1.08937540e-01]\n",
      " [9.92682453e-01 7.07056554e-03 2.46981317e-04 2.03944498e-49]\n",
      " [1.07420297e-03 5.51435353e-02 9.37476514e-01 6.30574822e-03]\n",
      " ...\n",
      " [8.15378491e-04 3.51193436e-02 9.59859130e-01 4.20614824e-03]\n",
      " [1.34481992e-44 2.14447325e-03 9.16166870e-01 8.16886569e-02]\n",
      " [2.14745550e-01 7.69057353e-01 1.61970966e-02 2.01807019e-26]]\n"
     ]
    }
   ],
   "source": [
    "posterior = model.infer_labels(anno.annotations)\n",
    "print(posterior)"
   ]
  },
  {
   "cell_type": "markdown",
   "metadata": {},
   "source": [
    "Let's turn the posterior of the first 100 samples into a heatmap."
   ]
  },
  {
   "cell_type": "code",
   "execution_count": 25,
   "metadata": {},
   "outputs": [],
   "source": [
    "votes = []\n",
    "for r in anno.annotations:\n",
    "    v = [0] * len(anno.labels)\n",
    "    votes.append(v)\n",
    "    for a in r:\n",
    "        if a > -1:\n",
    "            v[a] += 1\n",
    "votes_array = np.array(votes)"
   ]
  },
  {
   "cell_type": "code",
   "execution_count": 26,
   "metadata": {},
   "outputs": [
    {
     "data": {
      "image/png": "[encoded data removed]",
      "text/plain": [
       "<Figure size 1080x720 with 4 Axes>"
      ]
     },
     "metadata": {
      "needs_background": "light"
     },
     "output_type": "display_data"
    }
   ],
   "source": [
    "fig, (ax1, ax2) = plt.subplots(ncols=2, figsize = (15, 10), sharey=True)\n",
    "num_questions = 20\n",
    "\n",
    "seaborn.heatmap(votes_array[:num_questions], annot = True, ax=ax2)\n",
    "seaborn.heatmap(posterior[:num_questions], annot=True, ax =ax1)\n",
    "ax1.set_title(\"Model\")\n",
    "ax2.set_title(\"Votes\")\n",
    "plt.show()"
   ]
  },
  {
   "cell_type": "markdown",
   "metadata": {},
   "source": [
    "This differs markedly from taking annotator scores at face value (Add comparison of average values)"
   ]
  },
  {
   "cell_type": "code",
   "execution_count": 27,
   "metadata": {},
   "outputs": [],
   "source": [
    "samples = model.sample_posterior_over_accuracy(anno.annotations, 200, burn_in_samples=100, thin_samples=3)"
   ]
  },
  {
   "cell_type": "code",
   "execution_count": 28,
   "metadata": {},
   "outputs": [
    {
     "name": "stdout",
     "output_type": "stream",
     "text": [
      "[[[0.73057703 0.20122948 0.04793995 0.02025354]\n",
      "  [0.14519804 0.69505586 0.08623888 0.07350722]\n",
      "  [0.02719294 0.15166889 0.69014818 0.13098999]\n",
      "  [0.01293925 0.03221837 0.10004094 0.85480145]]\n",
      "\n",
      " [[0.67064422 0.20919883 0.09129461 0.02886234]\n",
      "  [0.13481953 0.68914136 0.12249972 0.05353939]\n",
      "  [0.03171706 0.17304241 0.65934246 0.13589806]\n",
      "  [0.01165564 0.06238288 0.13775616 0.78820531]]\n",
      "\n",
      " [[0.78558712 0.15105649 0.04605003 0.01730636]\n",
      "  [0.09780213 0.75397346 0.10420759 0.04401682]\n",
      "  [0.06570599 0.13169064 0.69792488 0.10467849]\n",
      "  [0.01809137 0.05861744 0.21491922 0.70837198]]\n",
      "\n",
      " [[0.65749054 0.27382076 0.04624026 0.02244844]\n",
      "  [0.10321668 0.73342586 0.11933919 0.04401827]\n",
      "  [0.02815673 0.14410288 0.6756976  0.15204279]\n",
      "  [0.0080862  0.03790608 0.235052   0.71895572]]\n",
      "\n",
      " [[0.7689065  0.1303502  0.08105325 0.01969005]\n",
      "  [0.12738873 0.67010875 0.15340921 0.04909331]\n",
      "  [0.02012575 0.21031413 0.63981064 0.12974948]\n",
      "  [0.00773622 0.0719649  0.18457157 0.73572731]]\n",
      "\n",
      " [[0.71620394 0.22042777 0.0452829  0.01808538]\n",
      "  [0.11379112 0.67512498 0.16363548 0.04744842]\n",
      "  [0.03370404 0.17823342 0.64697719 0.14108536]\n",
      "  [0.01024786 0.08674422 0.16053773 0.74247019]]\n",
      "\n",
      " [[0.73152934 0.15702581 0.09262065 0.01882421]\n",
      "  [0.11743659 0.64428278 0.18083055 0.05745007]\n",
      "  [0.02258437 0.1260885  0.71213546 0.13919167]\n",
      "  [0.01029331 0.05872866 0.14354723 0.78743081]]\n",
      "\n",
      " [[0.77831783 0.14717024 0.05507556 0.01943637]\n",
      "  [0.1413065  0.60877257 0.19471157 0.05520936]\n",
      "  [0.03553843 0.17114661 0.63920808 0.15410689]\n",
      "  [0.01114871 0.05944406 0.12721281 0.80219442]]]\n",
      "[[[0.06769493 0.0633677  0.02947421 0.02055505]\n",
      "  [0.0463363  0.05780636 0.03909744 0.03465386]\n",
      "  [0.01609456 0.03928624 0.04739282 0.0362409 ]\n",
      "  [0.01261586 0.01983111 0.04035001 0.04554705]]\n",
      "\n",
      " [[0.07190395 0.06355069 0.04188599 0.02851507]\n",
      "  [0.04150413 0.05885926 0.04153216 0.03026212]\n",
      "  [0.01504183 0.03648808 0.04281287 0.03560328]\n",
      "  [0.01117831 0.02672987 0.0430601  0.04951886]]\n",
      "\n",
      " [[0.06262533 0.05698817 0.02976362 0.01739556]\n",
      "  [0.04247343 0.05675005 0.04173671 0.0255943 ]\n",
      "  [0.02420121 0.03466711 0.0464048  0.03244167]\n",
      "  [0.01273539 0.02515535 0.05050517 0.05111102]]\n",
      "\n",
      " [[0.06401749 0.06261903 0.03194425 0.02207506]\n",
      "  [0.03490982 0.05189329 0.03947883 0.02673903]\n",
      "  [0.01480174 0.03606764 0.04952616 0.0390045 ]\n",
      "  [0.00738602 0.02114373 0.0427592  0.04296957]]\n",
      "\n",
      " [[0.06219828 0.04805095 0.03855821 0.01768048]\n",
      "  [0.04372289 0.05959126 0.04391544 0.02675835]\n",
      "  [0.01348641 0.04314199 0.05041788 0.0402954 ]\n",
      "  [0.00820307 0.02791739 0.039424   0.04472595]]\n",
      "\n",
      " [[0.0651641  0.0628808  0.02958931 0.017691  ]\n",
      "  [0.04353862 0.05853384 0.05040611 0.02824417]\n",
      "  [0.01762414 0.03810973 0.04467269 0.0344673 ]\n",
      "  [0.0089612  0.03103332 0.04303907 0.05088692]]\n",
      "\n",
      " [[0.06665444 0.05410569 0.04365577 0.01899901]\n",
      "  [0.04254214 0.06691501 0.06100917 0.03052687]\n",
      "  [0.01268156 0.03517141 0.04428183 0.03567872]\n",
      "  [0.01113389 0.02794472 0.04229966 0.04792866]]\n",
      "\n",
      " [[0.06014375 0.05265236 0.03722556 0.01828395]\n",
      "  [0.04093666 0.06223984 0.05478722 0.02949633]\n",
      "  [0.0184305  0.03713521 0.04711135 0.03609383]\n",
      "  [0.01097302 0.03062559 0.04290955 0.04906757]]]\n"
     ]
    }
   ],
   "source": [
    "print(samples[0].mean(axis=0))\n",
    "print(samples[0].std(axis=0))"
   ]
  },
  {
   "cell_type": "markdown",
   "metadata": {},
   "source": [
    "Let's try everything again with ModelBt"
   ]
  },
  {
   "cell_type": "code",
   "execution_count": 29,
   "metadata": {},
   "outputs": [
    {
     "name": "stdout",
     "output_type": "stream",
     "text": [
      "[0.66576609 0.61949332 0.94711622 0.63167219 0.7951171  0.66340722\n",
      " 0.79945208 0.80753003]\n",
      "-2937.703460811853\n"
     ]
    }
   ],
   "source": [
    "# create a new instance of model B, with 4 label classes and 8 annotators.\n",
    "model = ModelBt.create_initial_state(4, 8)\n",
    "print(model.theta)\n",
    "print(model.log_likelihood(anno.annotations))"
   ]
  },
  {
   "cell_type": "code",
   "execution_count": 30,
   "metadata": {},
   "outputs": [
    {
     "name": "stdout",
     "output_type": "stream",
     "text": [
      "[0.7913299  0.74078916 0.76223295 0.72524156 0.71644425 0.71863481\n",
      " 0.7732043  0.71672854]\n",
      "-2811.9465256478834\n"
     ]
    }
   ],
   "source": [
    "model.map(anno.annotations)\n",
    "print(model.theta)\n",
    "print(model.log_likelihood(anno.annotations))"
   ]
  },
  {
   "cell_type": "code",
   "execution_count": 31,
   "metadata": {},
   "outputs": [
    {
     "name": "stdout",
     "output_type": "stream",
     "text": [
      "[[0.01110269 0.28933228 0.36498371 0.33458132]\n",
      " [0.99022704 0.00241794 0.00404742 0.00330759]\n",
      " [0.00249902 0.05505257 0.93461796 0.00783044]\n",
      " ...\n",
      " [0.00252836 0.0439604  0.94558888 0.00792236]\n",
      " [0.00249334 0.00571126 0.93249316 0.05930224]\n",
      " [0.03189534 0.93882664 0.01611152 0.0131665 ]]\n"
     ]
    }
   ],
   "source": [
    "posterior = model.infer_labels(anno.annotations)\n",
    "print(posterior)"
   ]
  },
  {
   "cell_type": "markdown",
   "metadata": {},
   "source": [
    "Let's visualize the posterior of the first 10 samples according to ModelBt."
   ]
  },
  {
   "cell_type": "code",
   "execution_count": 32,
   "metadata": {},
   "outputs": [
    {
     "data": {
      "image/png": "[encoded data removed]",
      "text/plain": [
       "<Figure size 432x288 with 2 Axes>"
      ]
     },
     "metadata": {
      "needs_background": "light"
     },
     "output_type": "display_data"
    }
   ],
   "source": [
    "ax = seaborn.heatmap(posterior[:10,])\n",
    "plt.show()"
   ]
  },
  {
   "cell_type": "markdown",
   "metadata": {},
   "source": [
    "The property of these scores is that they enable us to identify the most likely code assuming coders of unequal quality, which also allows us to break ties when we know coder identity. For some analyses, we may simply use the posterior themselves rather than the most probably code outcome."
   ]
  },
  {
   "cell_type": "markdown",
   "metadata": {},
   "source": [
    "# Generating Annotations"
   ]
  },
  {
   "cell_type": "markdown",
   "metadata": {},
   "source": [
    "Pyanno also allows one to generate artificial data from a model."
   ]
  },
  {
   "cell_type": "code",
   "execution_count": 33,
   "metadata": {},
   "outputs": [
    {
     "data": {
      "text/plain": [
       "array([[1, 1, 2],\n",
       "       [1, 1, 0],\n",
       "       [0, 0, 2],\n",
       "       [1, 1, 2],\n",
       "       [0, 0, 0],\n",
       "       [1, 0, 0],\n",
       "       [3, 3, 3],\n",
       "       [1, 1, 3],\n",
       "       [2, 2, 2],\n",
       "       [1, 2, 0],\n",
       "       [1, 0, 0],\n",
       "       [1, 0, 1],\n",
       "       [1, 1, 0],\n",
       "       [0, 2, 0],\n",
       "       [0, 0, 0],\n",
       "       [1, 3, 3],\n",
       "       [1, 1, 3],\n",
       "       [1, 1, 3],\n",
       "       [1, 3, 0],\n",
       "       [1, 1, 3]])"
      ]
     },
     "execution_count": 33,
     "metadata": {},
     "output_type": "execute_result"
    }
   ],
   "source": [
    "model = ModelBt.create_initial_state(4, 3, theta=[0.99,0.75,0.25])\n",
    "#randome generate annotations with 4 label classes and 3 annotators. The accuracy of the three annotators are 0.99, 0.75, and 0.25 respectively.\n",
    "model.generate_annotations(20)"
   ]
  },
  {
   "cell_type": "markdown",
   "metadata": {},
   "source": [
    "## Visualizing coder accuracy"
   ]
  },
  {
   "cell_type": "markdown",
   "metadata": {},
   "source": [
    "Pyanno provides a [graphical user interface](http://docs.enthought.com/uchicago-pyanno/user_guide.html) for making plots. However, it is not compatible with ipython notebooks. Nevertheless, nothing prevents us from making plots using matplotlib. Let's make a plot of the accuracy of each annotator inferred from ModelA."
   ]
  },
  {
   "cell_type": "code",
   "execution_count": 34,
   "metadata": {},
   "outputs": [],
   "source": [
    "model = ModelBt.create_initial_state(4, 8)\n",
    "model.mle(anno.annotations)\n",
    "samples = model.sample_posterior_over_accuracy(anno.annotations, 200, burn_in_samples=100, thin_samples=3)\n",
    "y =  samples.mean(axis=0)#.mean(axis = 1).mean(axis = 1)\n",
    "y_ci = samples.std(axis=0)#.mean(axis = 1).mean(axis = 1)"
   ]
  },
  {
   "cell_type": "code",
   "execution_count": 35,
   "metadata": {},
   "outputs": [
    {
     "data": {
      "image/png": "[encoded data removed]",
      "text/plain": [
       "<Figure size 432x288 with 1 Axes>"
      ]
     },
     "metadata": {
      "needs_background": "light"
     },
     "output_type": "display_data"
    }
   ],
   "source": [
    "plt.figure()\n",
    "plt.errorbar(range(8),y, yerr = y_ci)\n",
    "plt.show()"
   ]
  },
  {
   "cell_type": "markdown",
   "metadata": {},
   "source": [
    "# Example with articles that use the General Social Survey"
   ]
  },
  {
   "cell_type": "markdown",
   "metadata": {},
   "source": [
    "I performed a recent study in which the variables from thousands of articles were associated with those used in the General Social Survey, a widely used population sample, in order to interrogate how social science analyses are performed. Each article was reread and coded by a balanced set of three student coders using a 6 choose 3 design, such that all possible 3-coder-subsets (20) coded an equal number of articles. Coding was performed through a website that allowed students access to the digital article. To evaluate the validity of the student codes, we also recruited a sample of authors associated with 97 of our published articles to fill out the same online survey. \n",
    "\n",
    "Because not all coders coded items with equal accuracy, and because “don’t know” was an optional answer, leading to potential ties, we used a generative, probabilistic model to estimate the maximum a posteriori probability (MAP) prediction that an item’s code is true, which integrates over the estimated accuracy of coders, assuming only that the entire population of coders is slightly more often right than wrong. The model (“Model B”) is based on a simple underlying generation process that directly accounts for the probability that coded values are correct (Rzhetsky et al. 2009). For each coded value j, a set of parameters, denoted γj, represents the probability that each coded value is correct. For the ith coder (i = 1, 2, …, 6), we introduce a matrix of probabilities, denoted λ(i)x|y, that defines the probability that she assigns code x (e.g., Dependent variable) to a GSS variable with correct annotation y. For a perfect coder, the matrix λ(i)x|y would equal the identity matrix and her vote would count most toward the total. For a coder that always codes incorrectly—a “troll”—her matrix λ(i)x|y will have all its value off the diagonal and will only minimally influence the posterior. We co-authored the open source pyanno software that implements this model."
   ]
  },
  {
   "cell_type": "markdown",
   "metadata": {},
   "source": [
    "Getting the data for each content analysis survey regarding how GSS variables were used in a large population of social science articles."
   ]
  },
  {
   "cell_type": "code",
   "execution_count": 36,
   "metadata": {},
   "outputs": [],
   "source": [
    "#anno_vdep = AnnotationsContainer.from_file(missing_values=[-1], filename=\"GSSvariable_testSdependent.csv\")\n",
    "dev = np.loadtxt(fname=\"../data/dataforgssstudy/n7GSSvariable_testSdependent.csv\", dtype=int, delimiter=\",\")\n",
    "anno_dv = AnnotationsContainer.from_array(dev)\n",
    "\n",
    "ind = np.loadtxt(fname=\"../data/dataforgssstudy/n7GSSvariable_testSindependent.csv\", dtype=int, delimiter=\",\")\n",
    "anno_iv = AnnotationsContainer.from_array(ind)\n",
    "\n",
    "cent = np.loadtxt(fname=\"../data/dataforgssstudy/n7GSSvariable_testScentral.csv\", dtype=int, delimiter=\",\")\n",
    "anno_cv = AnnotationsContainer.from_array(cent)\n",
    "\n",
    "cont = np.loadtxt(fname=\"../data/dataforgssstudy/n7GSSvariable_testScontrol.csv\", dtype=int, delimiter=\",\")\n",
    "anno_ctv = AnnotationsContainer.from_array(cont)\n",
    "\n",
    "test = np.loadtxt(fname=\"../data/dataforgssstudy/testH.csv\", dtype=int, delimiter=\",\")\n",
    "anno_test = AnnotationsContainer.from_array(test)"
   ]
  },
  {
   "cell_type": "markdown",
   "metadata": {},
   "source": [
    "Let's examine the data structure."
   ]
  },
  {
   "cell_type": "code",
   "execution_count": 37,
   "metadata": {},
   "outputs": [
    {
     "data": {
      "text/plain": [
       "(21461, 6)"
      ]
     },
     "execution_count": 37,
     "metadata": {},
     "output_type": "execute_result"
    }
   ],
   "source": [
    "dev.shape"
   ]
  },
  {
   "cell_type": "code",
   "execution_count": 38,
   "metadata": {},
   "outputs": [
    {
     "data": {
      "text/plain": [
       "[0, 1]"
      ]
     },
     "execution_count": 38,
     "metadata": {},
     "output_type": "execute_result"
    }
   ],
   "source": [
    "anno_dv.labels"
   ]
  },
  {
   "cell_type": "code",
   "execution_count": 39,
   "metadata": {},
   "outputs": [
    {
     "data": {
      "text/plain": [
       "[-1]"
      ]
     },
     "execution_count": 39,
     "metadata": {},
     "output_type": "execute_result"
    }
   ],
   "source": [
    "anno_dv.missing_values"
   ]
  },
  {
   "cell_type": "code",
   "execution_count": 40,
   "metadata": {},
   "outputs": [
    {
     "data": {
      "text/plain": [
       "(21461, 6)"
      ]
     },
     "execution_count": 40,
     "metadata": {},
     "output_type": "execute_result"
    }
   ],
   "source": [
    "anno_dv.annotations.shape"
   ]
  },
  {
   "cell_type": "markdown",
   "metadata": {},
   "source": [
    "First, let's use Cohen's $\\kappa$ to measure agreement between coders..."
   ]
  },
  {
   "cell_type": "code",
   "execution_count": 41,
   "metadata": {},
   "outputs": [
    {
     "name": "stdout",
     "output_type": "stream",
     "text": [
      "[[1.         0.62426874 0.46682841 0.44599604 0.16569888 0.36657805]\n",
      " [0.62426874 1.         0.53480937 0.52673854 0.3306905  0.59513211]\n",
      " [0.46682841 0.53480937 1.         0.50580068 0.42393752 0.49833997]\n",
      " [0.44599604 0.52673854 0.50580068 1.         0.46517493 0.47023754]\n",
      " [0.16569888 0.3306905  0.42393752 0.46517493 1.         0.66190749]\n",
      " [0.36657805 0.59513211 0.49833997 0.47023754 0.66190749 1.        ]]\n"
     ]
    }
   ],
   "source": [
    "m = pairwise_matrix(cohens_kappa, anno_dv.annotations)\n",
    "print(m)"
   ]
  },
  {
   "cell_type": "markdown",
   "metadata": {},
   "source": [
    "Let's visualize that..."
   ]
  },
  {
   "cell_type": "code",
   "execution_count": 42,
   "metadata": {},
   "outputs": [
    {
     "data": {
      "image/png": "[encoded data removed]",
      "text/plain": [
       "<Figure size 432x288 with 2 Axes>"
      ]
     },
     "metadata": {
      "needs_background": "light"
     },
     "output_type": "display_data"
    }
   ],
   "source": [
    "ax = seaborn.heatmap(m)\n",
    "plt.show()"
   ]
  },
  {
   "cell_type": "code",
   "execution_count": 43,
   "metadata": {},
   "outputs": [
    {
     "data": {
      "text/plain": [
       "0.4721425844540702"
      ]
     },
     "execution_count": 43,
     "metadata": {},
     "output_type": "execute_result"
    }
   ],
   "source": [
    "pairwise_metric_average(cohens_kappa, anno_dv.annotations)"
   ]
  },
  {
   "cell_type": "markdown",
   "metadata": {},
   "source": [
    "Let's compute the statistics on each of the datasets and with Pearson's $\\rho$. "
   ]
  },
  {
   "cell_type": "code",
   "execution_count": 44,
   "metadata": {},
   "outputs": [],
   "source": [
    "datasets = [anno_dv.annotations, anno_iv.annotations, anno_cv.annotations, anno_ctv.annotations]\n",
    "ck = [pairwise_matrix(cohens_kappa, anno) for anno in datasets]\n",
    "pr = [pairwise_matrix(pearsons_rho, anno) for anno in datasets]\n",
    "titles = ['DV', 'IV', 'Central Variable', \"Control Variable\"]"
   ]
  },
  {
   "cell_type": "code",
   "execution_count": 45,
   "metadata": {},
   "outputs": [
    {
     "data": {
      "image/png": "[encoded data removed]",
      "text/plain": [
       "<Figure size 1296x504 with 16 Axes>"
      ]
     },
     "metadata": {
      "needs_background": "light"
     },
     "output_type": "display_data"
    }
   ],
   "source": [
    "fig, axs = plt.subplots(2,4)\n",
    "fig.set_size_inches(18, 7)\n",
    "for k, ax, title in zip(ck,axs[0], titles):\n",
    "    seaborn.heatmap(k, ax = ax)\n",
    "    ax.set_title(title)\n",
    "    ax.set_xticks(())\n",
    "    ax.set_yticks(())\n",
    "for r, ax in zip(pr,axs[1]):\n",
    "    seaborn.heatmap(r, ax = ax)\n",
    "    ax.set_xticks(())\n",
    "    ax.set_yticks(())\n",
    "plt.show()"
   ]
  },
  {
   "cell_type": "markdown",
   "metadata": {},
   "source": [
    "Now we will compare the student coders."
   ]
  },
  {
   "cell_type": "code",
   "execution_count": 46,
   "metadata": {},
   "outputs": [],
   "source": [
    "nondiag = (np.eye(6)-np.ones(6))*-1.0"
   ]
  },
  {
   "cell_type": "code",
   "execution_count": 47,
   "metadata": {},
   "outputs": [
    {
     "name": "stdout",
     "output_type": "stream",
     "text": [
      "0.47214258445407015\n",
      "0.5142407278222342\n",
      "0.4529627823703711\n",
      "0.47596526866863437\n",
      "0.27082376869768193\n",
      "0.3151404982836273\n",
      "0.32833477875850064\n",
      "0.39458527791963466\n"
     ]
    }
   ],
   "source": [
    "xdevck = pairwise_matrix(cohens_kappa, anno_dv.annotations)\n",
    "xdevpr = pairwise_matrix(pearsons_rho, anno_dv.annotations)\n",
    "\n",
    "xindck = pairwise_matrix(cohens_kappa, anno_iv.annotations)\n",
    "xindpr = pairwise_matrix(pearsons_rho, anno_iv.annotations)\n",
    "\n",
    "xcenck = pairwise_matrix(cohens_kappa, anno_cv.annotations)\n",
    "xcenpr = pairwise_matrix(pearsons_rho, anno_cv.annotations)\n",
    "\n",
    "xconck = pairwise_matrix(cohens_kappa, anno_ctv.annotations)\n",
    "xconpr = pairwise_matrix(pearsons_rho, anno_ctv.annotations)\n",
    "\n",
    "print(np.average(xdevck, weights=nondiag))\n",
    "print(np.average(xdevpr, weights=nondiag))\n",
    "print(np.average(xindck, weights=nondiag))\n",
    "print(np.average(xindpr, weights=nondiag))\n",
    "print(np.average(xcenck, weights=nondiag))\n",
    "print(np.average(xcenpr, weights=nondiag))\n",
    "print(np.average(xconck, weights=nondiag))\n",
    "print(np.average(xconpr, weights=nondiag))"
   ]
  },
  {
   "cell_type": "markdown",
   "metadata": {},
   "source": [
    "Now we are going to bring in \"gold standard\" data. In this case, this is where we asked authors of the articles to code their own article's variables and compare with our student coders."
   ]
  },
  {
   "cell_type": "code",
   "execution_count": 48,
   "metadata": {},
   "outputs": [],
   "source": [
    "mergedata = np.loadtxt(fname=\"../data/dataforgssstudy/gss_mergedataC.txt\", dtype=int, delimiter=\"\\t\")"
   ]
  },
  {
   "cell_type": "code",
   "execution_count": 49,
   "metadata": {},
   "outputs": [],
   "source": [
    "anno_merge_dep = AnnotationsContainer.from_array(mergedata[:,0:2])\n",
    "anno_merge_ind = AnnotationsContainer.from_array(mergedata[:,2:4])\n",
    "anno_merge_cen = AnnotationsContainer.from_array(mergedata[:,4:6])\n",
    "anno_merge_con = AnnotationsContainer.from_array(mergedata[:,6:8])\n",
    "anno_merge_dkn = AnnotationsContainer.from_array(mergedata[:,8:10])"
   ]
  },
  {
   "cell_type": "code",
   "execution_count": 50,
   "metadata": {},
   "outputs": [
    {
     "name": "stdout",
     "output_type": "stream",
     "text": [
      "Dependent variable -- kappa & rho\n",
      "0.3744311057948666\n",
      "0.38563437203620643\n",
      "\n",
      "Independent variable\n",
      "0.5430690164641346\n",
      "0.5529974941771468\n",
      "\n",
      "Central variable\n",
      "-0.064017189548477\n",
      "-0.08887644319259189\n",
      "\n",
      "Control variable\n",
      "0.2815172499181942\n",
      "0.28239237574620263\n"
     ]
    }
   ],
   "source": [
    "print(\"\"\"Dependent variable -- kappa & rho\"\"\")\n",
    "print(cohens_kappa(anno_merge_dep.annotations[:,0], anno_merge_dep.annotations[:,1]))\n",
    "print(pearsons_rho(anno_merge_dep.annotations[:,0], anno_merge_dep.annotations[:,1]))\n",
    "\n",
    "print(\"\\nIndependent variable\")\n",
    "print(cohens_kappa(anno_merge_ind.annotations[:,0], anno_merge_ind.annotations[:,1]))\n",
    "print(pearsons_rho(anno_merge_ind.annotations[:,0], anno_merge_ind.annotations[:,1]))\n",
    "\n",
    "print(\"\\nCentral variable\")\n",
    "print(cohens_kappa(anno_merge_cen.annotations[:,0], anno_merge_cen.annotations[:,1]))\n",
    "print(pearsons_rho(anno_merge_cen.annotations[:,0], anno_merge_cen.annotations[:,1]))\n",
    "\n",
    "print(\"\\nControl variable\")\n",
    "print(cohens_kappa(anno_merge_con.annotations[:,0], anno_merge_con.annotations[:,1]))\n",
    "print(pearsons_rho(anno_merge_con.annotations[:,0], anno_merge_con.annotations[:,1]))"
   ]
  },
  {
   "cell_type": "markdown",
   "metadata": {},
   "source": [
    "Whoah! Student coders and authors viewed articles that were \"central\" or critical to the published argument as fundamentally different (exhibiting negative agreement and correlation). Why? Likely because that researchers recalled what they had _intended_ as their central variables before analysis, but those that _worked out_ became central in the text."
   ]
  },
  {
   "cell_type": "markdown",
   "metadata": {},
   "source": [
    "Now for the assessment of the relative values of authors, then student coders."
   ]
  },
  {
   "cell_type": "code",
   "execution_count": 51,
   "metadata": {},
   "outputs": [
    {
     "name": "stdout",
     "output_type": "stream",
     "text": [
      "Dependent\n",
      "0.4763912310286678\n",
      "0.35834738617200673\n",
      "\n",
      "Independent\n",
      "0.23777403035413153\n",
      "0.3136593591905565\n",
      "\n",
      "Central\n",
      "0.35328836424957843\n",
      "0.7512647554806071\n",
      "\n",
      "Control\n",
      "0.081787521079258\n",
      "0.09443507588532883\n"
     ]
    }
   ],
   "source": [
    "print(\"Dependent\")\n",
    "print(np.average(anno_merge_dep.annotations[:,0]))\n",
    "print(np.average(anno_merge_dep.annotations[:,1]))\n",
    "\n",
    "print(\"\\nIndependent\")\n",
    "print(np.average(anno_merge_ind.annotations[:,0]))\n",
    "print(np.average(anno_merge_ind.annotations[:,1]))\n",
    "\n",
    "print(\"\\nCentral\")\n",
    "print(np.average(anno_merge_cen.annotations[:,0]))\n",
    "print(np.average(anno_merge_cen.annotations[:,1]))\n",
    "\n",
    "print(\"\\nControl\")\n",
    "print(np.average(anno_merge_con.annotations[:,0]))\n",
    "print(np.average(anno_merge_con.annotations[:,1]))"
   ]
  },
  {
   "cell_type": "markdown",
   "metadata": {},
   "source": [
    "## Now we are going to use models to predict the correct annotations\n",
    "\n",
    "Recall that Model A is built for 8 coders, but we have 6. We're going to *hack* it by adding two blank columns."
   ]
  },
  {
   "cell_type": "code",
   "execution_count": 52,
   "metadata": {},
   "outputs": [
    {
     "data": {
      "text/plain": [
       "(21461, 6)"
      ]
     },
     "execution_count": 52,
     "metadata": {},
     "output_type": "execute_result"
    }
   ],
   "source": [
    "dev.shape"
   ]
  },
  {
   "cell_type": "code",
   "execution_count": 53,
   "metadata": {},
   "outputs": [
    {
     "data": {
      "text/plain": [
       "array([[ 0, -1, -1, ...,  1, -1, -1],\n",
       "       [ 0, -1, -1, ...,  0, -1, -1],\n",
       "       [ 0, -1, -1, ...,  0, -1, -1],\n",
       "       ...,\n",
       "       [-1, -1, -1, ..., -1, -1, -1],\n",
       "       [-1, -1, -1, ..., -1, -1, -1],\n",
       "       [-1, -1, -1, ..., -1, -1, -1]])"
      ]
     },
     "execution_count": 53,
     "metadata": {},
     "output_type": "execute_result"
    }
   ],
   "source": [
    "negs2 = np.ones((21461, 2), dtype=np.int)*(-1)\n",
    "devA = np.concatenate((dev, negs2), axis=1)\n",
    "devA"
   ]
  },
  {
   "cell_type": "code",
   "execution_count": 54,
   "metadata": {},
   "outputs": [
    {
     "data": {
      "text/plain": [
       "array([0.92391337, 0.63853173, 0.80387743, 0.90988229, 0.76849683,\n",
       "       0.6244931 , 0.91305503, 0.83408409])"
      ]
     },
     "execution_count": 54,
     "metadata": {},
     "output_type": "execute_result"
    }
   ],
   "source": [
    "anno_dvA = AnnotationsContainer.from_array(devA)\n",
    "model_devA = ModelA.create_initial_state(2)\n",
    "model_devA.theta"
   ]
  },
  {
   "cell_type": "code",
   "execution_count": 55,
   "metadata": {},
   "outputs": [
    {
     "name": "stdout",
     "output_type": "stream",
     "text": [
      "[0.92374273 0.07625727]\n",
      "-31352.978984767964\n"
     ]
    }
   ],
   "source": [
    "model_dvB = ModelB.create_initial_state(2, 6)\n",
    "print(model_dvB.pi)\n",
    "print(model_dvB.log_likelihood(anno_dv.annotations))"
   ]
  },
  {
   "cell_type": "code",
   "execution_count": 56,
   "metadata": {},
   "outputs": [
    {
     "name": "stdout",
     "output_type": "stream",
     "text": [
      "[0.69455487 0.30544513]\n",
      "-25462.473635032595\n"
     ]
    }
   ],
   "source": [
    "model_dvB.map(anno_dv.annotations)\n",
    "print(model_dvB.pi)\n",
    "print(model_dvB.log_likelihood(anno_dv.annotations))"
   ]
  },
  {
   "cell_type": "code",
   "execution_count": 57,
   "metadata": {},
   "outputs": [
    {
     "name": "stdout",
     "output_type": "stream",
     "text": [
      "[[0.01110269 0.28933228 0.36498371 0.33458132]\n",
      " [0.99022704 0.00241794 0.00404742 0.00330759]\n",
      " [0.00249902 0.05505257 0.93461796 0.00783044]\n",
      " ...\n",
      " [0.00252836 0.0439604  0.94558888 0.00792236]\n",
      " [0.00249334 0.00571126 0.93249316 0.05930224]\n",
      " [0.03189534 0.93882664 0.01611152 0.0131665 ]]\n"
     ]
    }
   ],
   "source": [
    "# compute the posterior distribution over true annotations\n",
    "posterior_dvB = model_dvB.infer_labels(anno_dv.annotations)\n",
    "# each row show the probability of each label class for the\n",
    "# corresponding item\n",
    "print(posterior)"
   ]
  },
  {
   "cell_type": "code",
   "execution_count": 58,
   "metadata": {},
   "outputs": [],
   "source": [
    "samples_dvB = model_dvB.sample_posterior_over_accuracy(anno_dv.annotations, 200, burn_in_samples=100, thin_samples=3)"
   ]
  },
  {
   "cell_type": "code",
   "execution_count": 59,
   "metadata": {},
   "outputs": [
    {
     "name": "stdout",
     "output_type": "stream",
     "text": [
      "Mean\n",
      "[[[0.97897223 0.02102777]\n",
      "  [0.51454802 0.48545198]]\n",
      "\n",
      " [[0.96846188 0.03153812]\n",
      "  [0.258171   0.741829  ]]\n",
      "\n",
      " [[0.98240048 0.01759952]\n",
      "  [0.34532174 0.65467826]]\n",
      "\n",
      " [[0.9338791  0.0661209 ]\n",
      "  [0.23961877 0.76038123]]\n",
      "\n",
      " [[0.69202284 0.30797716]\n",
      "  [0.0457214  0.9542786 ]]\n",
      "\n",
      " [[0.86254389 0.13745611]\n",
      "  [0.06859404 0.93140596]]]\n",
      "\n",
      "STD\n",
      "[[[0.00208558 0.00208558]\n",
      "  [0.01144073 0.01144073]]\n",
      "\n",
      " [[0.00298093 0.00298093]\n",
      "  [0.01279121 0.01279121]]\n",
      "\n",
      " [[0.00317605 0.00317605]\n",
      "  [0.01347967 0.01347967]]\n",
      "\n",
      " [[0.00492921 0.00492921]\n",
      "  [0.01149928 0.01149928]]\n",
      "\n",
      " [[0.00703396 0.00703396]\n",
      "  [0.00615834 0.00615834]]\n",
      "\n",
      " [[0.00707492 0.00707492]\n",
      "  [0.00670185 0.00670185]]]\n"
     ]
    }
   ],
   "source": [
    "# we can then compute a credible interval for the parameters:\n",
    "ci_dv_mean = samples_dvB[0].mean(axis=0)\n",
    "print(\"Mean\")\n",
    "print(ci_dv_mean)\n",
    "\n",
    "ci_dv_stdev = samples_dvB[0].std(axis=0)\n",
    "print(\"\\nSTD\")\n",
    "print(ci_dv_stdev)\n"
   ]
  },
  {
   "cell_type": "markdown",
   "metadata": {},
   "source": [
    "We will use Model B estimates for other variable assessments."
   ]
  },
  {
   "cell_type": "code",
   "execution_count": 60,
   "metadata": {},
   "outputs": [
    {
     "name": "stdout",
     "output_type": "stream",
     "text": [
      "-90.7435721847138\n",
      "[9.20933481e-20 1.00000000e+00]\n",
      "-48.9756711393957\n",
      "(48, 6)\n",
      "(48, 2)\n",
      "[[[0.79599419 0.20400581]\n",
      "  [0.1338016  0.8661984 ]]\n",
      "\n",
      " [[0.80499172 0.19500828]\n",
      "  [0.08959929 0.91040071]]\n",
      "\n",
      " [[0.80489069 0.19510931]\n",
      "  [0.50224937 0.49775063]]\n",
      "\n",
      " [[0.78873893 0.21126107]\n",
      "  [0.07209558 0.92790442]]\n",
      "\n",
      " [[0.79663009 0.20336991]\n",
      "  [0.3702855  0.6297145 ]]\n",
      "\n",
      " [[0.7850576  0.2149424 ]\n",
      "  [0.13146227 0.86853773]]]\n"
     ]
    }
   ],
   "source": [
    "#test\n",
    "model_testB = ModelB.create_initial_state(2, 6)\n",
    "print(model_testB.log_likelihood(anno_test.annotations))\n",
    "model_testB.map(anno_test.annotations)\n",
    "print(model_testB.pi)\n",
    "print(model_testB.log_likelihood(anno_test.annotations))\n",
    "print(anno_test.annotations.shape)\n",
    "posterior_testB = model_testB.infer_labels(anno_test.annotations)\n",
    "print(posterior_testB.shape)\n",
    "samples_testB = model_testB.sample_posterior_over_accuracy(anno_test.annotations, 200, burn_in_samples=100, thin_samples=3)\n",
    "ci_test_mean = samples_testB[0].mean(axis=0)\n",
    "print(ci_test_mean)"
   ]
  },
  {
   "cell_type": "code",
   "execution_count": 61,
   "metadata": {},
   "outputs": [
    {
     "name": "stdout",
     "output_type": "stream",
     "text": [
      "-32271.13949954751\n",
      "[0.61093546 0.38906454]\n",
      "-28620.66523246587\n",
      "(21461, 6)\n",
      "(21461, 2)\n",
      "[[[0.97096452 0.02903548]\n",
      "  [0.3480823  0.6519177 ]]\n",
      "\n",
      " [[0.93775726 0.06224274]\n",
      "  [0.05371109 0.94628891]]\n",
      "\n",
      " [[0.65839976 0.34160024]\n",
      "  [0.21177825 0.78822175]]\n",
      "\n",
      " [[0.53626062 0.46373938]\n",
      "  [0.03046035 0.96953965]]\n",
      "\n",
      " [[0.87549674 0.12450326]\n",
      "  [0.0989712  0.9010288 ]]\n",
      "\n",
      " [[0.89204183 0.10795817]\n",
      "  [0.09038903 0.90961097]]]\n",
      "-33627.85439314795\n",
      "[0.23988844 0.76011156]\n",
      "-25034.918555765576\n",
      "(21461, 6)\n",
      "(21461, 2)\n",
      "[[[0.89473614 0.10526386]\n",
      "  [0.06972237 0.93027763]]\n",
      "\n",
      " [[0.78718784 0.21281216]\n",
      "  [0.05826706 0.94173294]]\n",
      "\n",
      " [[0.9923     0.0077    ]\n",
      "  [0.84185161 0.15814839]]\n",
      "\n",
      " [[0.95228808 0.04771192]\n",
      "  [0.45641085 0.54358915]]\n",
      "\n",
      " [[0.6795567  0.3204433 ]\n",
      "  [0.05810338 0.94189662]]\n",
      "\n",
      " [[0.59429159 0.40570841]\n",
      "  [0.09562873 0.90437127]]]\n",
      "-32821.3784383908\n",
      "[0.83068326 0.16931674]\n",
      "-19415.702035242168\n",
      "(21461, 6)\n",
      "(21461, 2)\n",
      "[[[0.97093556 0.02906444]\n",
      "  [0.34858461 0.65141539]]\n",
      "\n",
      " [[0.93735038 0.06264962]\n",
      "  [0.0544324  0.9455676 ]]\n",
      "\n",
      " [[0.65736887 0.34263113]\n",
      "  [0.21012947 0.78987053]]\n",
      "\n",
      " [[0.53658042 0.46341958]\n",
      "  [0.03026267 0.96973733]]\n",
      "\n",
      " [[0.87573556 0.12426444]\n",
      "  [0.09914222 0.90085778]]\n",
      "\n",
      " [[0.89179345 0.10820655]\n",
      "  [0.0887114  0.9112886 ]]]\n"
     ]
    }
   ],
   "source": [
    "#indepedent variables\n",
    "model_ivB = ModelB.create_initial_state(2, 6)\n",
    "print(model_ivB.log_likelihood(anno_iv.annotations))\n",
    "model_ivB.map(anno_iv.annotations)\n",
    "print(model_ivB.pi)\n",
    "print(model_ivB.log_likelihood(anno_iv.annotations))\n",
    "print(anno_iv.annotations.shape)\n",
    "posterior_ivB = model_ivB.infer_labels(anno_iv.annotations)\n",
    "print(posterior_ivB.shape)\n",
    "samples_ivB = model_ivB.sample_posterior_over_accuracy(anno_iv.annotations, 200, burn_in_samples=100, thin_samples=3)\n",
    "ci_iv_mean = samples_ivB[0].mean(axis=0)\n",
    "print(ci_iv_mean)\n",
    "\n",
    "#central variables\n",
    "model_cvB = ModelB.create_initial_state(2, 6)\n",
    "print(model_cvB.log_likelihood(anno_cv.annotations))\n",
    "model_cvB.map(anno_cv.annotations)\n",
    "print(model_cvB.pi)\n",
    "print(model_cvB.log_likelihood(anno_cv.annotations))\n",
    "print(anno_cv.annotations.shape)\n",
    "posterior_cvB = model_cvB.infer_labels(anno_cv.annotations)\n",
    "print(posterior_cvB.shape)\n",
    "samples_cvB = model_cvB.sample_posterior_over_accuracy(anno_cv.annotations, 200, burn_in_samples=100, thin_samples=3)\n",
    "ci_cv_mean = samples_cvB[0].mean(axis=0)\n",
    "print(ci_cv_mean)\n",
    "\n",
    "#control variables\n",
    "model_ctvB = ModelB.create_initial_state(2, 6)\n",
    "print(model_ctvB.log_likelihood(anno_ctv.annotations))\n",
    "model_ctvB.map(anno_ctv.annotations)\n",
    "print(model_ctvB.pi)\n",
    "print(model_ctvB.log_likelihood(anno_ctv.annotations))\n",
    "print(anno_ctv.annotations.shape)\n",
    "posterior_ctvB = model_ctvB.infer_labels(anno_ctv.annotations)\n",
    "print(posterior_ctvB.shape)\n",
    "samples_ctvB = model_ctvB.sample_posterior_over_accuracy(anno_iv.annotations, 200, burn_in_samples=100, thin_samples=3)\n",
    "ci_ctv_mean = samples_ctvB[0].mean(axis=0)\n",
    "print(ci_ctv_mean)"
   ]
  },
  {
   "cell_type": "markdown",
   "metadata": {},
   "source": [
    "Now we will package up the predicted data into a format we can use for other, subsequent analysis:"
   ]
  },
  {
   "cell_type": "code",
   "execution_count": 62,
   "metadata": {},
   "outputs": [
    {
     "name": "stdout",
     "output_type": "stream",
     "text": [
      "(21461, 2)\n",
      "(21461, 2)\n",
      "(21461, 2)\n",
      "(21461, 2)\n"
     ]
    }
   ],
   "source": [
    "print(posterior_dvB.shape)\n",
    "print(posterior_ivB.shape)\n",
    "print(posterior_cvB.shape)\n",
    "print(posterior_ctvB.shape)"
   ]
  },
  {
   "cell_type": "code",
   "execution_count": 63,
   "metadata": {},
   "outputs": [],
   "source": [
    "predicted_annotations = np.concatenate((posterior_dvB, posterior_ivB, posterior_cvB, posterior_ctvB), axis=1) # posterior_dvBt, posterior_ivBt, posterior_cvBt, posterior_ctvBt), axis=1)"
   ]
  },
  {
   "cell_type": "code",
   "execution_count": 64,
   "metadata": {},
   "outputs": [
    {
     "data": {
      "text/plain": [
       "(21461, 8)"
      ]
     },
     "execution_count": 64,
     "metadata": {},
     "output_type": "execute_result"
    }
   ],
   "source": [
    "predicted_annotations.shape"
   ]
  },
  {
   "cell_type": "markdown",
   "metadata": {},
   "source": [
    "These annotations allowed us to uncover the degree to which social scientists alter their models to achieve a better fit...undocumented data mining. The answer was that social scientists did mine their data, but that it likely improved their analysis because change in the social world was the result of greater distortion than undocumented data mining."
   ]
  },
  {
   "cell_type": "markdown",
   "metadata": {},
   "source": [
    "## Another example analysis looks at a different data set of Hotel Reviews by a variety of patrons."
   ]
  },
  {
   "cell_type": "code",
   "execution_count": 65,
   "metadata": {},
   "outputs": [
    {
     "data": {
      "text/html": [
       "<div>\n",
       "<style scoped>\n",
       "    .dataframe tbody tr th:only-of-type {\n",
       "        vertical-align: middle;\n",
       "    }\n",
       "\n",
       "    .dataframe tbody tr th {\n",
       "        vertical-align: top;\n",
       "    }\n",
       "\n",
       "    .dataframe thead th {\n",
       "        text-align: right;\n",
       "    }\n",
       "</style>\n",
       "<table border=\"1\" class=\"dataframe\">\n",
       "  <thead>\n",
       "    <tr style=\"text-align: right;\">\n",
       "      <th></th>\n",
       "      <th>Karen</th>\n",
       "      <th>Scott</th>\n",
       "      <th>Jessica</th>\n",
       "      <th>write a review</th>\n",
       "      <th>A verified traveler</th>\n",
       "      <th>Kevin</th>\n",
       "      <th>William</th>\n",
       "      <th>R</th>\n",
       "      <th>S</th>\n",
       "      <th>Christopher</th>\n",
       "      <th>...</th>\n",
       "      <th>Thomas</th>\n",
       "      <th>Susan</th>\n",
       "      <th>A Traveler</th>\n",
       "      <th>M</th>\n",
       "      <th>Not Provided</th>\n",
       "      <th>B</th>\n",
       "      <th>Laura</th>\n",
       "      <th>xxxxxxxxxxxxxx</th>\n",
       "      <th>Michael</th>\n",
       "      <th>Joseph</th>\n",
       "    </tr>\n",
       "  </thead>\n",
       "  <tbody>\n",
       "    <tr>\n",
       "      <th>1785 Inn</th>\n",
       "      <td>NaN</td>\n",
       "      <td>NaN</td>\n",
       "      <td>NaN</td>\n",
       "      <td>NaN</td>\n",
       "      <td>NaN</td>\n",
       "      <td>NaN</td>\n",
       "      <td>NaN</td>\n",
       "      <td>NaN</td>\n",
       "      <td>NaN</td>\n",
       "      <td>NaN</td>\n",
       "      <td>...</td>\n",
       "      <td>NaN</td>\n",
       "      <td>NaN</td>\n",
       "      <td>NaN</td>\n",
       "      <td>NaN</td>\n",
       "      <td>NaN</td>\n",
       "      <td>NaN</td>\n",
       "      <td>NaN</td>\n",
       "      <td>NaN</td>\n",
       "      <td>NaN</td>\n",
       "      <td>NaN</td>\n",
       "    </tr>\n",
       "    <tr>\n",
       "      <th>1900 House</th>\n",
       "      <td>NaN</td>\n",
       "      <td>NaN</td>\n",
       "      <td>NaN</td>\n",
       "      <td>NaN</td>\n",
       "      <td>NaN</td>\n",
       "      <td>NaN</td>\n",
       "      <td>NaN</td>\n",
       "      <td>NaN</td>\n",
       "      <td>NaN</td>\n",
       "      <td>NaN</td>\n",
       "      <td>...</td>\n",
       "      <td>NaN</td>\n",
       "      <td>NaN</td>\n",
       "      <td>NaN</td>\n",
       "      <td>NaN</td>\n",
       "      <td>NaN</td>\n",
       "      <td>NaN</td>\n",
       "      <td>NaN</td>\n",
       "      <td>NaN</td>\n",
       "      <td>NaN</td>\n",
       "      <td>NaN</td>\n",
       "    </tr>\n",
       "    <tr>\n",
       "      <th>A Bed &amp; Breakfast In Cambridge</th>\n",
       "      <td>NaN</td>\n",
       "      <td>NaN</td>\n",
       "      <td>NaN</td>\n",
       "      <td>NaN</td>\n",
       "      <td>NaN</td>\n",
       "      <td>NaN</td>\n",
       "      <td>NaN</td>\n",
       "      <td>NaN</td>\n",
       "      <td>NaN</td>\n",
       "      <td>NaN</td>\n",
       "      <td>...</td>\n",
       "      <td>NaN</td>\n",
       "      <td>NaN</td>\n",
       "      <td>3.0</td>\n",
       "      <td>NaN</td>\n",
       "      <td>NaN</td>\n",
       "      <td>NaN</td>\n",
       "      <td>NaN</td>\n",
       "      <td>NaN</td>\n",
       "      <td>NaN</td>\n",
       "      <td>NaN</td>\n",
       "    </tr>\n",
       "    <tr>\n",
       "      <th>A Swallow's Nest Motel</th>\n",
       "      <td>NaN</td>\n",
       "      <td>NaN</td>\n",
       "      <td>NaN</td>\n",
       "      <td>NaN</td>\n",
       "      <td>NaN</td>\n",
       "      <td>NaN</td>\n",
       "      <td>NaN</td>\n",
       "      <td>NaN</td>\n",
       "      <td>NaN</td>\n",
       "      <td>NaN</td>\n",
       "      <td>...</td>\n",
       "      <td>NaN</td>\n",
       "      <td>NaN</td>\n",
       "      <td>NaN</td>\n",
       "      <td>NaN</td>\n",
       "      <td>NaN</td>\n",
       "      <td>NaN</td>\n",
       "      <td>NaN</td>\n",
       "      <td>NaN</td>\n",
       "      <td>NaN</td>\n",
       "      <td>NaN</td>\n",
       "    </tr>\n",
       "    <tr>\n",
       "      <th>Abbeville Inn</th>\n",
       "      <td>NaN</td>\n",
       "      <td>NaN</td>\n",
       "      <td>NaN</td>\n",
       "      <td>NaN</td>\n",
       "      <td>NaN</td>\n",
       "      <td>NaN</td>\n",
       "      <td>NaN</td>\n",
       "      <td>NaN</td>\n",
       "      <td>NaN</td>\n",
       "      <td>NaN</td>\n",
       "      <td>...</td>\n",
       "      <td>NaN</td>\n",
       "      <td>NaN</td>\n",
       "      <td>NaN</td>\n",
       "      <td>NaN</td>\n",
       "      <td>NaN</td>\n",
       "      <td>NaN</td>\n",
       "      <td>NaN</td>\n",
       "      <td>NaN</td>\n",
       "      <td>NaN</td>\n",
       "      <td>NaN</td>\n",
       "    </tr>\n",
       "  </tbody>\n",
       "</table>\n",
       "<p>5 rows × 49 columns</p>\n",
       "</div>"
      ],
      "text/plain": [
       "                                Karen  Scott  Jessica  write a review  \\\n",
       "1785 Inn                          NaN    NaN      NaN             NaN   \n",
       "1900 House                        NaN    NaN      NaN             NaN   \n",
       "A Bed & Breakfast In Cambridge    NaN    NaN      NaN             NaN   \n",
       "A Swallow's Nest Motel            NaN    NaN      NaN             NaN   \n",
       "Abbeville Inn                     NaN    NaN      NaN             NaN   \n",
       "\n",
       "                                A verified traveler  Kevin  William   R   S  \\\n",
       "1785 Inn                                        NaN    NaN      NaN NaN NaN   \n",
       "1900 House                                      NaN    NaN      NaN NaN NaN   \n",
       "A Bed & Breakfast In Cambridge                  NaN    NaN      NaN NaN NaN   \n",
       "A Swallow's Nest Motel                          NaN    NaN      NaN NaN NaN   \n",
       "Abbeville Inn                                   NaN    NaN      NaN NaN NaN   \n",
       "\n",
       "                                Christopher  ...  Thomas  Susan  A Traveler  \\\n",
       "1785 Inn                                NaN  ...     NaN    NaN         NaN   \n",
       "1900 House                              NaN  ...     NaN    NaN         NaN   \n",
       "A Bed & Breakfast In Cambridge          NaN  ...     NaN    NaN         3.0   \n",
       "A Swallow's Nest Motel                  NaN  ...     NaN    NaN         NaN   \n",
       "Abbeville Inn                           NaN  ...     NaN    NaN         NaN   \n",
       "\n",
       "                                 M  Not Provided   B  Laura  xxxxxxxxxxxxxx  \\\n",
       "1785 Inn                       NaN           NaN NaN    NaN             NaN   \n",
       "1900 House                     NaN           NaN NaN    NaN             NaN   \n",
       "A Bed & Breakfast In Cambridge NaN           NaN NaN    NaN             NaN   \n",
       "A Swallow's Nest Motel         NaN           NaN NaN    NaN             NaN   \n",
       "Abbeville Inn                  NaN           NaN NaN    NaN             NaN   \n",
       "\n",
       "                                Michael  Joseph  \n",
       "1785 Inn                            NaN     NaN  \n",
       "1900 House                          NaN     NaN  \n",
       "A Bed & Breakfast In Cambridge      NaN     NaN  \n",
       "A Swallow's Nest Motel              NaN     NaN  \n",
       "Abbeville Inn                       NaN     NaN  \n",
       "\n",
       "[5 rows x 49 columns]"
      ]
     },
     "execution_count": 65,
     "metadata": {},
     "output_type": "execute_result"
    }
   ],
   "source": [
    "df_hotels = pandas.read_csv('../data/hot_Reviews.csv', index_col=0)\n",
    "df_hotels[:5]"
   ]
  },
  {
   "cell_type": "markdown",
   "metadata": {},
   "source": [
    "Here a rank of 0 is a missing value and to simplify things more we will convert from a 1-10 scale to a 1-5 scale, with 0 as missing"
   ]
  },
  {
   "cell_type": "code",
   "execution_count": 66,
   "metadata": {},
   "outputs": [],
   "source": [
    "df_hotels = df_hotels.apply(lambda x: x // 2) #integer divide by 2 rounds all values"
   ]
  },
  {
   "cell_type": "markdown",
   "metadata": {},
   "source": [
    "And we can visualize all the reviews as a heatmap with the missing values greyed out"
   ]
  },
  {
   "cell_type": "code",
   "execution_count": 67,
   "metadata": {},
   "outputs": [
    {
     "data": {
      "image/png": "[encoded data removed]",
      "text/plain": [
       "<Figure size 1440x1440 with 2 Axes>"
      ]
     },
     "metadata": {
      "needs_background": "light"
     },
     "output_type": "display_data"
    }
   ],
   "source": [
    "fig, ax = plt.subplots(figsize = (20,20))\n",
    "seaborn.heatmap(df_hotels, cmap='rainbow', ax = ax)\n",
    "plt.show()"
   ]
  },
  {
   "cell_type": "markdown",
   "metadata": {},
   "source": [
    "To give the dataframe to pyanno we need to convert to np array and change the nans to intergers, lets use -1"
   ]
  },
  {
   "cell_type": "code",
   "execution_count": 68,
   "metadata": {},
   "outputs": [],
   "source": [
    "hot_mat = np.array(df_hotels.fillna(-1).as_matrix())\n",
    "anno_hot = AnnotationsContainer.from_array(hot_mat, missing_values=[-1])"
   ]
  },
  {
   "cell_type": "code",
   "execution_count": 69,
   "metadata": {},
   "outputs": [
    {
     "data": {
      "text/plain": [
       "array([[-1, -1, -1, ..., -1, -1, -1],\n",
       "       [-1, -1, -1, ..., -1, -1, -1],\n",
       "       [-1, -1, -1, ..., -1, -1, -1],\n",
       "       ...,\n",
       "       [-1, -1, -1, ..., -1, -1, -1],\n",
       "       [-1, -1, -1, ..., -1, -1, -1],\n",
       "       [-1, -1, -1, ..., -1, -1, -1]])"
      ]
     },
     "execution_count": 69,
     "metadata": {},
     "output_type": "execute_result"
    }
   ],
   "source": [
    "anno_hot.annotations"
   ]
  },
  {
   "cell_type": "code",
   "execution_count": 70,
   "metadata": {},
   "outputs": [
    {
     "data": {
      "text/plain": [
       "[0.0, 1.0, 2.0, 3.0, 4.0, 5.0]"
      ]
     },
     "execution_count": 70,
     "metadata": {},
     "output_type": "execute_result"
    }
   ],
   "source": [
    "anno_hot.labels"
   ]
  },
  {
   "cell_type": "code",
   "execution_count": 71,
   "metadata": {},
   "outputs": [
    {
     "data": {
      "text/plain": [
       "[-1]"
      ]
     },
     "execution_count": 71,
     "metadata": {},
     "output_type": "execute_result"
    }
   ],
   "source": [
    "anno_hot.missing_values"
   ]
  },
  {
   "cell_type": "markdown",
   "metadata": {},
   "source": [
    "Look at coder agreement"
   ]
  },
  {
   "cell_type": "code",
   "execution_count": 72,
   "metadata": {},
   "outputs": [
    {
     "data": {
      "text/plain": [
       "array([0.07806534, 0.26262198, 0.63555367, 0.00636402, 0.0093339 ,\n",
       "       0.00806109])"
      ]
     },
     "execution_count": 72,
     "metadata": {},
     "output_type": "execute_result"
    }
   ],
   "source": [
    "pyanno.measures.agreement.labels_frequency(anno_hot.annotations, 6)#6 possible catagories"
   ]
  },
  {
   "cell_type": "code",
   "execution_count": 73,
   "metadata": {},
   "outputs": [
    {
     "name": "stdout",
     "output_type": "stream",
     "text": [
      "[[0. 0. 0. 0. 0. 0.]\n",
      " [0. 0. 1. 0. 0. 0.]\n",
      " [1. 0. 4. 0. 0. 0.]\n",
      " [0. 0. 0. 0. 0. 0.]\n",
      " [0. 0. 0. 0. 0. 0.]\n",
      " [0. 0. 0. 0. 0. 0.]]\n"
     ]
    },
    {
     "data": {
      "image/png": "[encoded data removed]",
      "text/plain": [
       "<Figure size 432x288 with 2 Axes>"
      ]
     },
     "metadata": {
      "needs_background": "light"
     },
     "output_type": "display_data"
    }
   ],
   "source": [
    "c = pyanno.measures.agreement.confusion_matrix(anno_hot.annotations[:,0], anno_hot.annotations[:,1], 6) #6 possible catagories\n",
    "print(c)\n",
    "ac = seaborn.heatmap(c)\n",
    "plt.show()"
   ]
  },
  {
   "cell_type": "markdown",
   "metadata": {},
   "source": [
    "Most agreement is on 2 i.e. an average hotel and there's little agreement as rating go higher, likely due to scarcity in the sample"
   ]
  },
  {
   "cell_type": "code",
   "execution_count": 74,
   "metadata": {},
   "outputs": [
    {
     "data": {
      "text/plain": [
       "0.3787878787878787"
      ]
     },
     "execution_count": 74,
     "metadata": {},
     "output_type": "execute_result"
    }
   ],
   "source": [
    "scotts_pi(anno_hot.annotations[:,0], anno_hot.annotations[:,1])"
   ]
  },
  {
   "cell_type": "code",
   "execution_count": 75,
   "metadata": {},
   "outputs": [
    {
     "data": {
      "text/plain": [
       "0.398760907615921"
      ]
     },
     "execution_count": 75,
     "metadata": {},
     "output_type": "execute_result"
    }
   ],
   "source": [
    "krippendorffs_alpha(anno_hot.annotations[::])"
   ]
  },
  {
   "cell_type": "code",
   "execution_count": 76,
   "metadata": {},
   "outputs": [
    {
     "data": {
      "text/plain": [
       "0.40328336902212697"
      ]
     },
     "execution_count": 76,
     "metadata": {},
     "output_type": "execute_result"
    }
   ],
   "source": [
    "cohens_kappa(anno_hot.annotations[:,0], anno_hot.annotations[:,1])"
   ]
  },
  {
   "cell_type": "code",
   "execution_count": 77,
   "metadata": {},
   "outputs": [
    {
     "name": "stderr",
     "output_type": "stream",
     "text": [
      "/Users/bhargavvader/open_source/Content-Analysis-2020/venv/lib/python3.5/site-packages/pyanno/measures/helpers.py:166: RuntimeWarning: invalid value encountered in double_scalars\n",
      "  return (observed_agreement - chance_agreement) / (1. - chance_agreement)\n"
     ]
    },
    {
     "data": {
      "text/plain": [
       "<matplotlib.axes._subplots.AxesSubplot at 0x1230c7c88>"
      ]
     },
     "execution_count": 77,
     "metadata": {},
     "output_type": "execute_result"
    },
    {
     "data": {
      "image/png": "[encoded data removed]",
      "text/plain": [
       "<Figure size 1080x1080 with 2 Axes>"
      ]
     },
     "metadata": {
      "needs_background": "light"
     },
     "output_type": "display_data"
    }
   ],
   "source": [
    "m = pairwise_matrix(cohens_kappa, anno_hot.annotations)\n",
    "fig, ax = plt.subplots(figsize = (15, 15))\n",
    "seaborn.heatmap(m, ax =ax)"
   ]
  },
  {
   "cell_type": "code",
   "execution_count": 82,
   "metadata": {},
   "outputs": [
    {
     "name": "stdout",
     "output_type": "stream",
     "text": [
      "[0.7904694  0.73959802 0.76128702 0.72415501 0.71531648 0.71738583\n",
      " 0.77232673 0.71548412]\n",
      "-2725.647607136476\n"
     ]
    }
   ],
   "source": [
    "model_hot = ModelBt.create_initial_state(6, 49)\n",
    "model_hot.mle(anno_hot.annotations)\n",
    "print(model.theta)\n",
    "print(model_hot.log_likelihood(anno_hot.annotations))"
   ]
  },
  {
   "cell_type": "code",
   "execution_count": 83,
   "metadata": {},
   "outputs": [],
   "source": [
    "def makeQuestionComparison(model, anno_target, num_questions = 20):\n",
    "    votes = []\n",
    "    for r in anno_target.annotations:\n",
    "        v = [0] * len(anno_target.labels)\n",
    "        votes.append(v)\n",
    "        for a in r:\n",
    "            if a > -1:\n",
    "                v[a] += 1\n",
    "    votes_array = np.array(votes)\n",
    "    posterior = model.infer_labels(anno_target.annotations)\n",
    "    fig, (ax1, ax2) = plt.subplots(ncols=2, figsize = (15, 10), sharey=True)\n",
    "\n",
    "    seaborn.heatmap(votes_array[:num_questions], annot = True, ax=ax2)\n",
    "    seaborn.heatmap(np.nan_to_num(posterior,0)[:num_questions], annot=True, ax =ax1)\n",
    "    ax1.set_title(\"Model\")\n",
    "    ax2.set_title(\"Votes\")\n",
    "    return fig, (ax1, ax2)"
   ]
  },
  {
   "cell_type": "code",
   "execution_count": 84,
   "metadata": {
    "scrolled": true
   },
   "outputs": [
    {
     "data": {
      "text/plain": [
       "(<Figure size 1080x720 with 4 Axes>,\n",
       " (<matplotlib.axes._subplots.AxesSubplot at 0x13ffa1470>,\n",
       "  <matplotlib.axes._subplots.AxesSubplot at 0x141492080>))"
      ]
     },
     "execution_count": 84,
     "metadata": {},
     "output_type": "execute_result"
    },
    {
     "data": {
      "image/png": "[encoded data removed]",
      "text/plain": [
       "<Figure size 1080x720 with 4 Axes>"
      ]
     },
     "metadata": {
      "needs_background": "light"
     },
     "output_type": "display_data"
    }
   ],
   "source": [
    "makeQuestionComparison(model_hot, anno_hot)"
   ]
  },
  {
   "cell_type": "markdown",
   "metadata": {},
   "source": [
    "## <span style=\"color:red\">*Your turn*</span>\n",
    "\n",
    "<span style=\"color:red\">In the cells immediately following, use the results of your content annotation survey to predict high and low-quality analysts, then predict MAP estimates for your codes in question. What do these estimates suggest about the distribution of skill among your coders? How different are these estimates from a majority vote?"
   ]
  },
  {
   "cell_type": "markdown",
   "metadata": {},
   "source": [
    "Let's start with model B."
   ]
  },
  {
   "cell_type": "code",
   "execution_count": 123,
   "metadata": {},
   "outputs": [
    {
     "name": "stdout",
     "output_type": "stream",
     "text": [
      "[[[5.87364938e-01 1.77761317e-01 1.42302592e-01 1.86288411e-03\n",
      "   9.07082692e-02]\n",
      "  [1.53605396e-01 7.40336059e-01 6.82148355e-02 3.35024986e-02\n",
      "   4.34121079e-03]\n",
      "  [2.71282160e-02 1.42630026e-01 6.16459100e-01 1.75336726e-01\n",
      "   3.84459323e-02]\n",
      "  [1.86814591e-02 1.79199819e-01 6.94106873e-02 6.72639208e-01\n",
      "   6.00688261e-02]\n",
      "  [7.12936724e-02 1.53288922e-03 2.24525093e-02 3.64698922e-01\n",
      "   5.40022007e-01]]\n",
      "\n",
      " [[6.37367074e-01 2.55466955e-01 5.69114514e-02 4.22597528e-02\n",
      "   7.99476746e-03]\n",
      "  [1.79794300e-01 5.73640774e-01 2.11481940e-01 2.35747679e-02\n",
      "   1.15082180e-02]\n",
      "  [7.03469182e-02 4.44255695e-02 4.93268769e-01 1.82354016e-01\n",
      "   2.09604727e-01]\n",
      "  [1.81618712e-02 8.48391095e-02 2.04156873e-01 5.55238960e-01\n",
      "   1.37603187e-01]\n",
      "  [3.68500966e-02 1.43379495e-02 3.52086619e-03 1.94587838e-01\n",
      "   7.50703249e-01]]\n",
      "\n",
      " [[7.97256116e-01 2.83817013e-02 8.03849909e-02 3.17758604e-02\n",
      "   6.22013313e-02]\n",
      "  [2.73620908e-01 5.80805148e-01 9.95148472e-02 4.57177439e-02\n",
      "   3.41352691e-04]\n",
      "  [2.20815677e-02 2.68694048e-01 4.81643572e-01 1.82027123e-01\n",
      "   4.55536903e-02]\n",
      "  [8.56382374e-03 4.13201513e-02 2.17874500e-01 5.53686513e-01\n",
      "   1.78555011e-01]\n",
      "  [1.45131097e-01 4.99113845e-03 8.76005062e-02 1.04571996e-01\n",
      "   6.57705262e-01]]\n",
      "\n",
      " [[6.37613570e-01 2.11163381e-01 8.91442540e-02 2.06389411e-03\n",
      "   6.00149004e-02]\n",
      "  [5.85212534e-02 7.48422728e-01 1.29474203e-01 3.79180860e-02\n",
      "   2.56637295e-02]\n",
      "  [3.91069328e-02 1.42691920e-01 6.42184262e-01 1.20200740e-01\n",
      "   5.58161456e-02]\n",
      "  [1.51898610e-01 2.01466748e-02 1.80677542e-01 4.95896866e-01\n",
      "   1.51380307e-01]\n",
      "  [4.52152365e-02 2.16364499e-02 8.73949089e-02 3.15029440e-01\n",
      "   5.30723964e-01]]\n",
      "\n",
      " [[5.58051466e-01 2.36331721e-01 9.97330900e-02 1.10455175e-02\n",
      "   9.48382056e-02]\n",
      "  [1.95552571e-01 4.24477976e-01 2.65154451e-01 5.54785248e-02\n",
      "   5.93364764e-02]\n",
      "  [4.03691694e-02 1.58110554e-01 5.94187603e-01 6.69616335e-02\n",
      "   1.40371040e-01]\n",
      "  [5.34567501e-02 1.67390417e-01 8.01581398e-02 6.21231465e-01\n",
      "   7.77632282e-02]\n",
      "  [1.56720203e-02 8.65949143e-04 1.19786966e-01 2.27810704e-01\n",
      "   6.35864360e-01]]\n",
      "\n",
      " [[6.42733795e-01 1.59652364e-01 6.96373844e-02 9.27298685e-02\n",
      "   3.52465888e-02]\n",
      "  [1.05318378e-01 5.52365496e-01 2.47628320e-01 5.59384632e-02\n",
      "   3.87493426e-02]\n",
      "  [2.89710124e-02 8.61383586e-02 5.01237327e-01 2.01633911e-01\n",
      "   1.82019391e-01]\n",
      "  [5.76745749e-03 8.10154308e-02 1.13482705e-01 7.04155469e-01\n",
      "   9.55789383e-02]\n",
      "  [7.27027723e-02 3.03789785e-02 4.31969715e-02 9.68986253e-02\n",
      "   7.56822652e-01]]\n",
      "\n",
      " [[7.62029564e-01 1.31261863e-01 2.73290786e-02 5.19109428e-02\n",
      "   2.74685515e-02]\n",
      "  [1.69107181e-01 6.30258063e-01 7.83612197e-02 8.38716390e-02\n",
      "   3.84018970e-02]\n",
      "  [2.68096303e-02 1.31579101e-01 7.03634578e-01 1.16097614e-01\n",
      "   2.18790766e-02]\n",
      "  [1.98457141e-03 5.54332910e-02 1.23991293e-01 5.63048903e-01\n",
      "   2.55541942e-01]\n",
      "  [3.34895240e-02 4.60317258e-02 3.92916805e-02 1.25805144e-01\n",
      "   7.55381926e-01]]\n",
      "\n",
      " [[6.68714473e-01 1.47544665e-01 1.61777872e-01 2.19291377e-02\n",
      "   3.38513648e-05]\n",
      "  [6.00603721e-02 7.71310506e-01 1.01792084e-01 4.04900484e-02\n",
      "   2.63469897e-02]\n",
      "  [1.41819014e-01 1.27992872e-01 6.60935863e-01 6.18645405e-02\n",
      "   7.38771038e-03]\n",
      "  [5.69384129e-03 2.51819412e-02 1.16125220e-01 6.95456920e-01\n",
      "   1.57542077e-01]\n",
      "  [8.24590128e-02 4.05914071e-03 2.40662363e-02 2.93827835e-01\n",
      "   5.95587776e-01]]\n",
      "\n",
      " [[5.11904213e-01 2.93878465e-01 2.31783866e-02 6.57650821e-02\n",
      "   1.05273853e-01]\n",
      "  [1.36624570e-01 6.84976200e-01 1.32178646e-01 3.00734003e-02\n",
      "   1.61471829e-02]\n",
      "  [7.52637457e-02 9.37566249e-02 4.64117745e-01 1.51736726e-01\n",
      "   2.15125158e-01]\n",
      "  [6.99014103e-03 3.82106150e-02 1.74693603e-01 6.47005437e-01\n",
      "   1.33100203e-01]\n",
      "  [1.56197114e-02 7.37433405e-02 5.90578993e-02 4.84779790e-02\n",
      "   8.03101070e-01]]\n",
      "\n",
      " [[5.41506601e-01 2.27288665e-01 2.29531436e-02 1.28993012e-01\n",
      "   7.92585781e-02]\n",
      "  [6.70287709e-02 7.53491244e-01 1.18910143e-01 1.75410126e-02\n",
      "   4.30288287e-02]\n",
      "  [2.69323286e-02 2.13280583e-01 5.53010000e-01 1.88916540e-01\n",
      "   1.78605489e-02]\n",
      "  [2.98006643e-02 8.75151201e-02 7.70540202e-02 6.51645320e-01\n",
      "   1.53984875e-01]\n",
      "  [6.44078901e-02 9.45610285e-02 5.65475845e-02 1.37566758e-01\n",
      "   6.46916739e-01]]\n",
      "\n",
      " [[5.72446592e-01 1.35215913e-01 2.83842956e-01 2.72545656e-03\n",
      "   5.76908243e-03]\n",
      "  [1.51724884e-01 5.56936142e-01 1.26637797e-01 1.48297709e-01\n",
      "   1.64034685e-02]\n",
      "  [1.05454385e-02 1.36343275e-01 4.06163964e-01 4.32702217e-01\n",
      "   1.42451046e-02]\n",
      "  [6.83080107e-03 1.66339100e-02 5.20057279e-02 6.84723966e-01\n",
      "   2.39805595e-01]\n",
      "  [8.91628939e-03 4.12974294e-02 4.80935313e-02 1.61422027e-01\n",
      "   7.40270723e-01]]\n",
      "\n",
      " [[6.73286035e-01 1.45964445e-01 7.86857980e-02 6.40764858e-02\n",
      "   3.79872359e-02]\n",
      "  [8.36587634e-02 5.07025904e-01 2.52700897e-01 1.03358937e-01\n",
      "   5.32554987e-02]\n",
      "  [4.09784014e-02 5.14442191e-02 7.70373602e-01 6.59260938e-02\n",
      "   7.12776841e-02]\n",
      "  [7.59150955e-03 9.40119021e-02 1.74907631e-01 6.17813802e-01\n",
      "   1.05675155e-01]\n",
      "  [1.56732193e-02 2.41756434e-02 9.28589966e-02 2.12286161e-01\n",
      "   6.55005980e-01]]\n",
      "\n",
      " [[6.65253700e-01 2.10970315e-01 7.80457709e-02 3.70129254e-02\n",
      "   8.71728833e-03]\n",
      "  [3.75702918e-02 6.86572642e-01 7.97394214e-02 1.65489883e-01\n",
      "   3.06277619e-02]\n",
      "  [1.48972360e-01 3.93644931e-01 3.48208112e-01 7.76935212e-02\n",
      "   3.14810751e-02]\n",
      "  [2.11108463e-03 7.51369193e-02 1.80785490e-01 6.25687279e-01\n",
      "   1.16279227e-01]\n",
      "  [2.74493401e-02 7.56195913e-03 7.19787236e-02 4.02005818e-01\n",
      "   4.91004160e-01]]\n",
      "\n",
      " [[5.11565313e-01 3.23001267e-01 9.46763453e-02 2.58303859e-02\n",
      "   4.49266895e-02]\n",
      "  [1.31028571e-01 6.59188164e-01 1.40580909e-01 1.56071528e-02\n",
      "   5.35952028e-02]\n",
      "  [4.15708226e-02 1.17525006e-01 5.82976382e-01 1.78574642e-01\n",
      "   7.93531480e-02]\n",
      "  [1.26113540e-01 2.07069086e-02 1.60064165e-01 5.60415574e-01\n",
      "   1.32699813e-01]\n",
      "  [9.98257068e-02 1.50702021e-03 1.25572244e-01 2.15442277e-01\n",
      "   5.57652753e-01]]\n",
      "\n",
      " [[6.78643368e-01 9.68551646e-02 5.46267623e-02 1.00977044e-01\n",
      "   6.88976606e-02]\n",
      "  [1.39515849e-01 6.84640561e-01 6.56319905e-02 6.04037344e-02\n",
      "   4.98078646e-02]\n",
      "  [3.50854141e-02 1.95835010e-01 5.47109486e-01 1.66081851e-01\n",
      "   5.58882390e-02]\n",
      "  [5.64638209e-02 7.78003083e-02 1.62143180e-01 5.54392121e-01\n",
      "   1.49200570e-01]\n",
      "  [1.94410020e-02 3.69056234e-02 4.02837743e-02 2.43096716e-01\n",
      "   6.60272885e-01]]\n",
      "\n",
      " [[6.06077725e-01 1.25082570e-01 1.67398337e-01 2.26627904e-02\n",
      "   7.87785780e-02]\n",
      "  [1.04140839e-01 5.89110349e-01 1.46672357e-01 1.04432109e-01\n",
      "   5.56443451e-02]\n",
      "  [5.22674942e-02 2.24364834e-01 5.64213510e-01 4.18111169e-02\n",
      "   1.17343045e-01]\n",
      "  [2.43795129e-03 9.84130770e-02 1.08556579e-01 6.27178629e-01\n",
      "   1.63413763e-01]\n",
      "  [9.56110096e-02 4.34894585e-02 2.58289972e-02 1.35917451e-01\n",
      "   6.99153084e-01]]\n",
      "\n",
      " [[5.79540753e-01 1.57568115e-01 1.09107567e-02 7.41026013e-02\n",
      "   1.77877774e-01]\n",
      "  [1.06098433e-01 7.33376646e-01 1.13447448e-01 1.47110473e-02\n",
      "   3.23664257e-02]\n",
      "  [1.45624321e-01 8.46869335e-02 6.39545019e-01 8.61999336e-02\n",
      "   4.39437933e-02]\n",
      "  [2.33276841e-02 4.45334608e-02 2.79859843e-01 5.37132064e-01\n",
      "   1.15146948e-01]\n",
      "  [2.19046945e-02 2.81108009e-02 2.16255235e-01 1.47930714e-01\n",
      "   5.85798556e-01]]\n",
      "\n",
      " [[8.52566467e-01 7.75164160e-02 1.98775968e-02 2.89714828e-02\n",
      "   2.10680376e-02]\n",
      "  [1.75232229e-01 5.38259050e-01 1.55798111e-01 1.19762487e-01\n",
      "   1.09481240e-02]\n",
      "  [9.38374635e-03 1.17311326e-01 4.01799266e-01 3.23511524e-01\n",
      "   1.47994138e-01]\n",
      "  [4.30548708e-02 6.71060798e-02 5.35432091e-02 7.20799763e-01\n",
      "   1.15496077e-01]\n",
      "  [1.61609633e-01 2.62923384e-03 1.15114386e-01 1.37324546e-01\n",
      "   5.83322201e-01]]\n",
      "\n",
      " [[6.18641460e-01 6.03293334e-02 1.27236531e-01 5.98254570e-03\n",
      "   1.87810130e-01]\n",
      "  [1.18637086e-01 6.08440699e-01 1.88220427e-01 2.05942126e-02\n",
      "   6.41075748e-02]\n",
      "  [1.37012596e-01 1.03102801e-01 6.68809251e-01 5.02701594e-02\n",
      "   4.08051937e-02]\n",
      "  [5.84645558e-02 5.27428971e-02 2.24236268e-01 5.13732174e-01\n",
      "   1.50824105e-01]\n",
      "  [2.45868910e-02 3.25452546e-02 8.90147283e-02 1.28673074e-01\n",
      "   7.25180052e-01]]\n",
      "\n",
      " [[5.79876283e-01 3.14520288e-01 5.93577713e-02 1.94839135e-02\n",
      "   2.67617433e-02]\n",
      "  [1.81041572e-01 5.22273713e-01 9.20534397e-02 7.34804997e-02\n",
      "   1.31150775e-01]\n",
      "  [2.22543851e-02 1.77871389e-01 5.68624598e-01 1.49344776e-01\n",
      "   8.19048525e-02]\n",
      "  [8.03189241e-03 6.77366004e-02 2.19253143e-01 4.09781280e-01\n",
      "   2.95197084e-01]\n",
      "  [2.51300441e-02 1.84680809e-02 3.80837092e-02 2.21624274e-01\n",
      "   6.96693891e-01]]\n",
      "\n",
      " [[7.81364989e-01 1.18822073e-01 8.34068867e-02 1.00481501e-03\n",
      "   1.54012361e-02]\n",
      "  [3.00589638e-01 4.39396135e-01 1.82974680e-01 7.17806645e-02\n",
      "   5.25888199e-03]\n",
      "  [4.89166202e-02 1.00975503e-01 6.06058623e-01 2.06480072e-01\n",
      "   3.75691817e-02]\n",
      "  [1.79076168e-03 1.29159469e-01 1.65201664e-01 6.18132577e-01\n",
      "   8.57155288e-02]\n",
      "  [4.19797892e-02 3.59601586e-02 2.33129516e-01 1.11364313e-01\n",
      "   5.77566223e-01]]\n",
      "\n",
      " [[6.68724728e-01 1.63432608e-01 3.05392908e-02 2.36959002e-02\n",
      "   1.13607473e-01]\n",
      "  [1.68672472e-01 3.41886034e-01 2.64185045e-01 2.20095431e-01\n",
      "   5.16101816e-03]\n",
      "  [4.90749466e-02 1.44807800e-01 5.94815093e-01 1.42983504e-01\n",
      "   6.83186563e-02]\n",
      "  [3.97993937e-04 9.26530278e-02 1.78744219e-01 5.07087114e-01\n",
      "   2.21117645e-01]\n",
      "  [3.01465459e-02 1.15912588e-01 8.98335490e-02 5.82602032e-02\n",
      "   7.05847114e-01]]\n",
      "\n",
      " [[6.65064229e-01 1.46959738e-01 1.58672587e-01 2.58943354e-02\n",
      "   3.40911078e-03]\n",
      "  [3.80073541e-02 7.31359258e-01 1.62219416e-01 4.38935196e-02\n",
      "   2.45204525e-02]\n",
      "  [1.16006042e-01 1.59496184e-01 4.90811653e-01 1.60510396e-01\n",
      "   7.31757251e-02]\n",
      "  [2.33681618e-02 1.01293817e-01 2.62300317e-01 5.52847377e-01\n",
      "   6.01903275e-02]\n",
      "  [2.58203643e-03 6.12673121e-02 1.23362827e-01 4.90161608e-02\n",
      "   7.63771663e-01]]\n",
      "\n",
      " [[7.84202138e-01 1.49520570e-01 1.90960940e-02 2.01541527e-02\n",
      "   2.70270452e-02]\n",
      "  [1.75369104e-01 4.72699791e-01 1.21357507e-01 2.22113350e-01\n",
      "   8.46024803e-03]\n",
      "  [7.77392993e-02 1.13957121e-01 5.49766092e-01 1.28756575e-01\n",
      "   1.29780913e-01]\n",
      "  [8.35931991e-02 1.32057381e-01 7.19485490e-02 6.13338131e-01\n",
      "   9.90627409e-02]\n",
      "  [8.28971682e-02 3.80540113e-03 1.42740772e-01 1.10769895e-01\n",
      "   6.59786764e-01]]]\n",
      "-299.5854113183532\n"
     ]
    }
   ],
   "source": [
    "model = ModelB.create_initial_state(5, 24)\n",
    "# other model parameters are initialized from the model prior\n",
    "print(model.theta)\n",
    "print(model.log_likelihood(anno.annotations))"
   ]
  },
  {
   "cell_type": "code",
   "execution_count": 124,
   "metadata": {},
   "outputs": [],
   "source": [
    "samples = model.sample_posterior_over_accuracy(anno.annotations, \n",
    "                        200, burn_in_samples=100, thin_samples=3)"
   ]
  },
  {
   "cell_type": "code",
   "execution_count": 159,
   "metadata": {},
   "outputs": [
    {
     "name": "stdout",
     "output_type": "stream",
     "text": [
      "0.5126853238733043\n",
      "0.21063400312115857\n"
     ]
    }
   ],
   "source": [
    "print(samples[0].mean(axis=0))\n",
    "print(samples[0].std(axis=0))"
   ]
  },
  {
   "cell_type": "code",
   "execution_count": 125,
   "metadata": {},
   "outputs": [
    {
     "name": "stdout",
     "output_type": "stream",
     "text": [
      "[[[0.8        0.15       0.05       0.         0.        ]\n",
      "  [0.13636364 0.68181818 0.13636364 0.04545455 0.        ]\n",
      "  [0.04347826 0.13043478 0.65217391 0.13043478 0.04347826]\n",
      "  [0.03571429 0.03571429 0.21428571 0.60714286 0.10714286]\n",
      "  [0.         0.         0.05263158 0.15789474 0.78947368]]\n",
      "\n",
      " [[0.8        0.15       0.05       0.         0.        ]\n",
      "  [0.13636364 0.68181818 0.13636364 0.04545455 0.        ]\n",
      "  [0.04347826 0.13043478 0.65217391 0.13043478 0.04347826]\n",
      "  [0.07142857 0.03571429 0.10714286 0.57142857 0.21428571]\n",
      "  [0.         0.         0.05263158 0.15789474 0.78947368]]\n",
      "\n",
      " [[0.8        0.15       0.05       0.         0.        ]\n",
      "  [0.13636364 0.68181818 0.13636364 0.04545455 0.        ]\n",
      "  [0.04347826 0.13043478 0.65217391 0.13043478 0.04347826]\n",
      "  [0.03571429 0.07142857 0.10714286 0.57142857 0.21428571]\n",
      "  [0.         0.         0.05263158 0.15789474 0.78947368]]\n",
      "\n",
      " [[0.75       0.2        0.05       0.         0.        ]\n",
      "  [0.13636364 0.68181818 0.13636364 0.04545455 0.        ]\n",
      "  [0.04347826 0.13043478 0.65217391 0.13043478 0.04347826]\n",
      "  [0.03571429 0.07142857 0.10714286 0.57142857 0.21428571]\n",
      "  [0.         0.         0.05263158 0.15789474 0.78947368]]\n",
      "\n",
      " [[0.8        0.15       0.05       0.         0.        ]\n",
      "  [0.13636364 0.68181818 0.13636364 0.04545455 0.        ]\n",
      "  [0.04347826 0.13043478 0.65217391 0.13043478 0.04347826]\n",
      "  [0.03571429 0.03571429 0.21428571 0.53571429 0.17857143]\n",
      "  [0.         0.         0.05263158 0.15789474 0.78947368]]\n",
      "\n",
      " [[0.8        0.15       0.05       0.         0.        ]\n",
      "  [0.13636364 0.68181818 0.13636364 0.04545455 0.        ]\n",
      "  [0.04347826 0.13043478 0.65217391 0.13043478 0.04347826]\n",
      "  [0.03571429 0.07142857 0.10714286 0.64285714 0.14285714]\n",
      "  [0.         0.         0.05263158 0.15789474 0.78947368]]\n",
      "\n",
      " [[0.8        0.15       0.05       0.         0.        ]\n",
      "  [0.13636364 0.68181818 0.13636364 0.04545455 0.        ]\n",
      "  [0.04347826 0.13043478 0.65217391 0.13043478 0.04347826]\n",
      "  [0.         0.10714286 0.14285714 0.57142857 0.17857143]\n",
      "  [0.         0.         0.05263158 0.15789474 0.78947368]]\n",
      "\n",
      " [[0.75       0.15       0.05       0.         0.05      ]\n",
      "  [0.13636364 0.68181818 0.13636364 0.04545455 0.        ]\n",
      "  [0.04347826 0.13043478 0.65217391 0.13043478 0.04347826]\n",
      "  [0.         0.03571429 0.10714286 0.71428571 0.14285714]\n",
      "  [0.         0.         0.05263158 0.15789474 0.78947368]]\n",
      "\n",
      " [[0.75       0.2        0.05       0.         0.        ]\n",
      "  [0.13636364 0.68181818 0.13636364 0.04545455 0.        ]\n",
      "  [0.04347826 0.13043478 0.65217391 0.13043478 0.04347826]\n",
      "  [0.         0.07142857 0.17857143 0.64285714 0.10714286]\n",
      "  [0.         0.         0.05263158 0.15789474 0.78947368]]\n",
      "\n",
      " [[0.75       0.15       0.05       0.05       0.        ]\n",
      "  [0.13636364 0.68181818 0.13636364 0.04545455 0.        ]\n",
      "  [0.04347826 0.13043478 0.65217391 0.13043478 0.04347826]\n",
      "  [0.         0.03571429 0.17857143 0.60714286 0.17857143]\n",
      "  [0.         0.         0.05263158 0.15789474 0.78947368]]\n",
      "\n",
      " [[0.75       0.2        0.05       0.         0.        ]\n",
      "  [0.13636364 0.68181818 0.13636364 0.04545455 0.        ]\n",
      "  [0.04347826 0.13043478 0.65217391 0.13043478 0.04347826]\n",
      "  [0.         0.03571429 0.17857143 0.64285714 0.14285714]\n",
      "  [0.         0.         0.05263158 0.15789474 0.78947368]]\n",
      "\n",
      " [[0.75       0.15       0.05       0.         0.05      ]\n",
      "  [0.13636364 0.68181818 0.13636364 0.04545455 0.        ]\n",
      "  [0.04347826 0.13043478 0.65217391 0.13043478 0.04347826]\n",
      "  [0.         0.03571429 0.10714286 0.60714286 0.25      ]\n",
      "  [0.         0.         0.05263158 0.15789474 0.78947368]]\n",
      "\n",
      " [[0.8        0.15       0.05       0.         0.        ]\n",
      "  [0.13636364 0.68181818 0.13636364 0.04545455 0.        ]\n",
      "  [0.04347826 0.13043478 0.65217391 0.13043478 0.04347826]\n",
      "  [0.03571429 0.07142857 0.10714286 0.64285714 0.14285714]\n",
      "  [0.         0.         0.05263158 0.15789474 0.78947368]]\n",
      "\n",
      " [[0.8        0.15       0.05       0.         0.        ]\n",
      "  [0.13636364 0.68181818 0.13636364 0.04545455 0.        ]\n",
      "  [0.04347826 0.13043478 0.65217391 0.13043478 0.04347826]\n",
      "  [0.         0.07142857 0.14285714 0.60714286 0.17857143]\n",
      "  [0.         0.         0.05263158 0.15789474 0.78947368]]\n",
      "\n",
      " [[0.75       0.2        0.05       0.         0.        ]\n",
      "  [0.13636364 0.68181818 0.13636364 0.04545455 0.        ]\n",
      "  [0.04347826 0.13043478 0.65217391 0.13043478 0.04347826]\n",
      "  [0.         0.07142857 0.17857143 0.64285714 0.10714286]\n",
      "  [0.         0.         0.05263158 0.15789474 0.78947368]]\n",
      "\n",
      " [[0.75       0.15       0.1        0.         0.        ]\n",
      "  [0.13636364 0.68181818 0.13636364 0.04545455 0.        ]\n",
      "  [0.04347826 0.13043478 0.65217391 0.13043478 0.04347826]\n",
      "  [0.         0.03571429 0.14285714 0.64285714 0.17857143]\n",
      "  [0.         0.         0.05263158 0.15789474 0.78947368]]\n",
      "\n",
      " [[0.75       0.15       0.05       0.05       0.        ]\n",
      "  [0.13636364 0.68181818 0.13636364 0.04545455 0.        ]\n",
      "  [0.04347826 0.13043478 0.65217391 0.13043478 0.04347826]\n",
      "  [0.         0.07142857 0.14285714 0.67857143 0.10714286]\n",
      "  [0.         0.         0.05263158 0.15789474 0.78947368]]\n",
      "\n",
      " [[0.75       0.15       0.05       0.05       0.        ]\n",
      "  [0.13636364 0.68181818 0.13636364 0.04545455 0.        ]\n",
      "  [0.04347826 0.13043478 0.65217391 0.13043478 0.04347826]\n",
      "  [0.         0.03571429 0.17857143 0.64285714 0.14285714]\n",
      "  [0.         0.         0.05263158 0.15789474 0.78947368]]\n",
      "\n",
      " [[0.75       0.15       0.05       0.05       0.        ]\n",
      "  [0.13636364 0.68181818 0.13636364 0.04545455 0.        ]\n",
      "  [0.04347826 0.13043478 0.65217391 0.13043478 0.04347826]\n",
      "  [0.         0.03571429 0.17857143 0.67857143 0.10714286]\n",
      "  [0.         0.         0.05263158 0.15789474 0.78947368]]\n",
      "\n",
      " [[0.75       0.15       0.1        0.         0.        ]\n",
      "  [0.13636364 0.68181818 0.13636364 0.04545455 0.        ]\n",
      "  [0.04347826 0.13043478 0.65217391 0.13043478 0.04347826]\n",
      "  [0.         0.03571429 0.32142857 0.53571429 0.10714286]\n",
      "  [0.         0.         0.05263158 0.15789474 0.78947368]]\n",
      "\n",
      " [[0.75       0.15       0.05       0.         0.05      ]\n",
      "  [0.13636364 0.68181818 0.13636364 0.04545455 0.        ]\n",
      "  [0.04347826 0.13043478 0.65217391 0.13043478 0.04347826]\n",
      "  [0.         0.03571429 0.10714286 0.53571429 0.32142857]\n",
      "  [0.         0.         0.05263158 0.15789474 0.78947368]]\n",
      "\n",
      " [[0.75       0.15       0.05       0.05       0.        ]\n",
      "  [0.13636364 0.68181818 0.13636364 0.04545455 0.        ]\n",
      "  [0.04347826 0.13043478 0.65217391 0.13043478 0.04347826]\n",
      "  [0.         0.03571429 0.10714286 0.64285714 0.21428571]\n",
      "  [0.         0.         0.05263158 0.15789474 0.78947368]]\n",
      "\n",
      " [[0.75       0.2        0.05       0.         0.        ]\n",
      "  [0.13636364 0.68181818 0.13636364 0.04545455 0.        ]\n",
      "  [0.04347826 0.13043478 0.65217391 0.13043478 0.04347826]\n",
      "  [0.         0.03571429 0.14285714 0.64285714 0.17857143]\n",
      "  [0.         0.         0.05263158 0.15789474 0.78947368]]\n",
      "\n",
      " [[0.75       0.2        0.05       0.         0.        ]\n",
      "  [0.13636364 0.68181818 0.13636364 0.04545455 0.        ]\n",
      "  [0.04347826 0.13043478 0.65217391 0.13043478 0.04347826]\n",
      "  [0.         0.03571429 0.21428571 0.64285714 0.10714286]\n",
      "  [0.         0.         0.05263158 0.15789474 0.78947368]]]\n",
      "-230.3242461027932\n"
     ]
    }
   ],
   "source": [
    "model.map(anno.annotations)\n",
    "print(model.theta)\n",
    "print(model.log_likelihood(anno.annotations))"
   ]
  },
  {
   "cell_type": "code",
   "execution_count": 126,
   "metadata": {},
   "outputs": [
    {
     "name": "stdout",
     "output_type": "stream",
     "text": [
      "[[[0.8        0.15       0.05       0.         0.        ]\n",
      "  [0.13636364 0.68181818 0.13636364 0.04545455 0.        ]\n",
      "  [0.04347826 0.13043478 0.65217391 0.13043478 0.04347826]\n",
      "  [0.03571429 0.03571429 0.21428571 0.60714286 0.10714286]\n",
      "  [0.         0.         0.05263158 0.15789474 0.78947368]]\n",
      "\n",
      " [[0.8        0.15       0.05       0.         0.        ]\n",
      "  [0.13636364 0.68181818 0.13636364 0.04545455 0.        ]\n",
      "  [0.04347826 0.13043478 0.65217391 0.13043478 0.04347826]\n",
      "  [0.07142857 0.03571429 0.10714286 0.57142857 0.21428571]\n",
      "  [0.         0.         0.05263158 0.15789474 0.78947368]]\n",
      "\n",
      " [[0.8        0.15       0.05       0.         0.        ]\n",
      "  [0.13636364 0.68181818 0.13636364 0.04545455 0.        ]\n",
      "  [0.04347826 0.13043478 0.65217391 0.13043478 0.04347826]\n",
      "  [0.03571429 0.07142857 0.10714286 0.57142857 0.21428571]\n",
      "  [0.         0.         0.05263158 0.15789474 0.78947368]]\n",
      "\n",
      " [[0.75       0.2        0.05       0.         0.        ]\n",
      "  [0.13636364 0.68181818 0.13636364 0.04545455 0.        ]\n",
      "  [0.04347826 0.13043478 0.65217391 0.13043478 0.04347826]\n",
      "  [0.03571429 0.07142857 0.10714286 0.57142857 0.21428571]\n",
      "  [0.         0.         0.05263158 0.15789474 0.78947368]]\n",
      "\n",
      " [[0.8        0.15       0.05       0.         0.        ]\n",
      "  [0.13636364 0.68181818 0.13636364 0.04545455 0.        ]\n",
      "  [0.04347826 0.13043478 0.65217391 0.13043478 0.04347826]\n",
      "  [0.03571429 0.03571429 0.21428571 0.53571429 0.17857143]\n",
      "  [0.         0.         0.05263158 0.15789474 0.78947368]]\n",
      "\n",
      " [[0.8        0.15       0.05       0.         0.        ]\n",
      "  [0.13636364 0.68181818 0.13636364 0.04545455 0.        ]\n",
      "  [0.04347826 0.13043478 0.65217391 0.13043478 0.04347826]\n",
      "  [0.03571429 0.07142857 0.10714286 0.64285714 0.14285714]\n",
      "  [0.         0.         0.05263158 0.15789474 0.78947368]]\n",
      "\n",
      " [[0.8        0.15       0.05       0.         0.        ]\n",
      "  [0.13636364 0.68181818 0.13636364 0.04545455 0.        ]\n",
      "  [0.04347826 0.13043478 0.65217391 0.13043478 0.04347826]\n",
      "  [0.         0.10714286 0.14285714 0.57142857 0.17857143]\n",
      "  [0.         0.         0.05263158 0.15789474 0.78947368]]\n",
      "\n",
      " [[0.75       0.15       0.05       0.         0.05      ]\n",
      "  [0.13636364 0.68181818 0.13636364 0.04545455 0.        ]\n",
      "  [0.04347826 0.13043478 0.65217391 0.13043478 0.04347826]\n",
      "  [0.         0.03571429 0.10714286 0.71428571 0.14285714]\n",
      "  [0.         0.         0.05263158 0.15789474 0.78947368]]\n",
      "\n",
      " [[0.75       0.2        0.05       0.         0.        ]\n",
      "  [0.13636364 0.68181818 0.13636364 0.04545455 0.        ]\n",
      "  [0.04347826 0.13043478 0.65217391 0.13043478 0.04347826]\n",
      "  [0.         0.07142857 0.17857143 0.64285714 0.10714286]\n",
      "  [0.         0.         0.05263158 0.15789474 0.78947368]]\n",
      "\n",
      " [[0.75       0.15       0.05       0.05       0.        ]\n",
      "  [0.13636364 0.68181818 0.13636364 0.04545455 0.        ]\n",
      "  [0.04347826 0.13043478 0.65217391 0.13043478 0.04347826]\n",
      "  [0.         0.03571429 0.17857143 0.60714286 0.17857143]\n",
      "  [0.         0.         0.05263158 0.15789474 0.78947368]]\n",
      "\n",
      " [[0.75       0.2        0.05       0.         0.        ]\n",
      "  [0.13636364 0.68181818 0.13636364 0.04545455 0.        ]\n",
      "  [0.04347826 0.13043478 0.65217391 0.13043478 0.04347826]\n",
      "  [0.         0.03571429 0.17857143 0.64285714 0.14285714]\n",
      "  [0.         0.         0.05263158 0.15789474 0.78947368]]\n",
      "\n",
      " [[0.75       0.15       0.05       0.         0.05      ]\n",
      "  [0.13636364 0.68181818 0.13636364 0.04545455 0.        ]\n",
      "  [0.04347826 0.13043478 0.65217391 0.13043478 0.04347826]\n",
      "  [0.         0.03571429 0.10714286 0.60714286 0.25      ]\n",
      "  [0.         0.         0.05263158 0.15789474 0.78947368]]\n",
      "\n",
      " [[0.8        0.15       0.05       0.         0.        ]\n",
      "  [0.13636364 0.68181818 0.13636364 0.04545455 0.        ]\n",
      "  [0.04347826 0.13043478 0.65217391 0.13043478 0.04347826]\n",
      "  [0.03571429 0.07142857 0.10714286 0.64285714 0.14285714]\n",
      "  [0.         0.         0.05263158 0.15789474 0.78947368]]\n",
      "\n",
      " [[0.8        0.15       0.05       0.         0.        ]\n",
      "  [0.13636364 0.68181818 0.13636364 0.04545455 0.        ]\n",
      "  [0.04347826 0.13043478 0.65217391 0.13043478 0.04347826]\n",
      "  [0.         0.07142857 0.14285714 0.60714286 0.17857143]\n",
      "  [0.         0.         0.05263158 0.15789474 0.78947368]]\n",
      "\n",
      " [[0.75       0.2        0.05       0.         0.        ]\n",
      "  [0.13636364 0.68181818 0.13636364 0.04545455 0.        ]\n",
      "  [0.04347826 0.13043478 0.65217391 0.13043478 0.04347826]\n",
      "  [0.         0.07142857 0.17857143 0.64285714 0.10714286]\n",
      "  [0.         0.         0.05263158 0.15789474 0.78947368]]\n",
      "\n",
      " [[0.75       0.15       0.1        0.         0.        ]\n",
      "  [0.13636364 0.68181818 0.13636364 0.04545455 0.        ]\n",
      "  [0.04347826 0.13043478 0.65217391 0.13043478 0.04347826]\n",
      "  [0.         0.03571429 0.14285714 0.64285714 0.17857143]\n",
      "  [0.         0.         0.05263158 0.15789474 0.78947368]]\n",
      "\n",
      " [[0.75       0.15       0.05       0.05       0.        ]\n",
      "  [0.13636364 0.68181818 0.13636364 0.04545455 0.        ]\n",
      "  [0.04347826 0.13043478 0.65217391 0.13043478 0.04347826]\n",
      "  [0.         0.07142857 0.14285714 0.67857143 0.10714286]\n",
      "  [0.         0.         0.05263158 0.15789474 0.78947368]]\n",
      "\n",
      " [[0.75       0.15       0.05       0.05       0.        ]\n",
      "  [0.13636364 0.68181818 0.13636364 0.04545455 0.        ]\n",
      "  [0.04347826 0.13043478 0.65217391 0.13043478 0.04347826]\n",
      "  [0.         0.03571429 0.17857143 0.64285714 0.14285714]\n",
      "  [0.         0.         0.05263158 0.15789474 0.78947368]]\n",
      "\n",
      " [[0.75       0.15       0.05       0.05       0.        ]\n",
      "  [0.13636364 0.68181818 0.13636364 0.04545455 0.        ]\n",
      "  [0.04347826 0.13043478 0.65217391 0.13043478 0.04347826]\n",
      "  [0.         0.03571429 0.17857143 0.67857143 0.10714286]\n",
      "  [0.         0.         0.05263158 0.15789474 0.78947368]]\n",
      "\n",
      " [[0.75       0.15       0.1        0.         0.        ]\n",
      "  [0.13636364 0.68181818 0.13636364 0.04545455 0.        ]\n",
      "  [0.04347826 0.13043478 0.65217391 0.13043478 0.04347826]\n",
      "  [0.         0.03571429 0.32142857 0.53571429 0.10714286]\n",
      "  [0.         0.         0.05263158 0.15789474 0.78947368]]\n",
      "\n",
      " [[0.75       0.15       0.05       0.         0.05      ]\n",
      "  [0.13636364 0.68181818 0.13636364 0.04545455 0.        ]\n",
      "  [0.04347826 0.13043478 0.65217391 0.13043478 0.04347826]\n",
      "  [0.         0.03571429 0.10714286 0.53571429 0.32142857]\n",
      "  [0.         0.         0.05263158 0.15789474 0.78947368]]\n",
      "\n",
      " [[0.75       0.15       0.05       0.05       0.        ]\n",
      "  [0.13636364 0.68181818 0.13636364 0.04545455 0.        ]\n",
      "  [0.04347826 0.13043478 0.65217391 0.13043478 0.04347826]\n",
      "  [0.         0.03571429 0.10714286 0.64285714 0.21428571]\n",
      "  [0.         0.         0.05263158 0.15789474 0.78947368]]\n",
      "\n",
      " [[0.75       0.2        0.05       0.         0.        ]\n",
      "  [0.13636364 0.68181818 0.13636364 0.04545455 0.        ]\n",
      "  [0.04347826 0.13043478 0.65217391 0.13043478 0.04347826]\n",
      "  [0.         0.03571429 0.14285714 0.64285714 0.17857143]\n",
      "  [0.         0.         0.05263158 0.15789474 0.78947368]]\n",
      "\n",
      " [[0.75       0.2        0.05       0.         0.        ]\n",
      "  [0.13636364 0.68181818 0.13636364 0.04545455 0.        ]\n",
      "  [0.04347826 0.13043478 0.65217391 0.13043478 0.04347826]\n",
      "  [0.         0.03571429 0.21428571 0.64285714 0.10714286]\n",
      "  [0.         0.         0.05263158 0.15789474 0.78947368]]]\n",
      "-230.3242461027932\n"
     ]
    }
   ],
   "source": [
    "model = ModelB.create_initial_state(5, 24)\n",
    "model.map(anno.annotations)\n",
    "print(model.theta)\n",
    "print(model.log_likelihood(anno.annotations))"
   ]
  },
  {
   "cell_type": "code",
   "execution_count": 127,
   "metadata": {},
   "outputs": [
    {
     "name": "stdout",
     "output_type": "stream",
     "text": [
      "[[0.00000000e+00 0.00000000e+00 3.41597176e-78 1.00000000e+00\n",
      "  0.00000000e+00]\n",
      " [0.00000000e+00 0.00000000e+00 8.86627670e-74 1.00000000e+00\n",
      "  0.00000000e+00]\n",
      " [0.00000000e+00 0.00000000e+00 5.47497802e-74 1.00000000e+00\n",
      "  0.00000000e+00]\n",
      " [0.00000000e+00 0.00000000e+00 3.64998535e-71 1.00000000e+00\n",
      "  0.00000000e+00]\n",
      " [0.00000000e+00 0.00000000e+00 2.22657058e-71 1.00000000e+00\n",
      "  0.00000000e+00]\n",
      " [0.00000000e+00 0.00000000e+00 9.00569256e-79 1.00000000e+00\n",
      "  5.70847286e-76]\n",
      " [1.00000000e+00 0.00000000e+00 8.47193772e-74 0.00000000e+00\n",
      "  0.00000000e+00]]\n"
     ]
    }
   ],
   "source": [
    "posterior = model.infer_labels(anno.annotations)\n",
    "print(posterior)"
   ]
  },
  {
   "cell_type": "code",
   "execution_count": 128,
   "metadata": {},
   "outputs": [],
   "source": [
    "votes = []\n",
    "for r in anno.annotations:\n",
    "    v = [0] * len(anno.labels)\n",
    "    votes.append(v)\n",
    "    for a in r:\n",
    "        if a > -1:\n",
    "            v[a] += 1\n",
    "votes_array = np.array(votes)"
   ]
  },
  {
   "cell_type": "code",
   "execution_count": 136,
   "metadata": {},
   "outputs": [
    {
     "data": {
      "image/png": "[encoded data removed]",
      "text/plain": [
       "<Figure size 1080x720 with 4 Axes>"
      ]
     },
     "metadata": {
      "needs_background": "light"
     },
     "output_type": "display_data"
    }
   ],
   "source": [
    "fig, (ax1, ax2) = plt.subplots(ncols=2, figsize = (15, 10), sharey=True)\n",
    "num_questions = 7\n",
    "\n",
    "seaborn.heatmap(votes_array[:num_questions], annot = True, ax=ax2)\n",
    "seaborn.heatmap(posterior[:num_questions], annot=True, ax =ax1)\n",
    "ax1.set_title(\"Model\")\n",
    "ax2.set_title(\"Votes\")\n",
    "plt.show()"
   ]
  },
  {
   "cell_type": "markdown",
   "metadata": {},
   "source": [
    "Now let's compare the above to just average values."
   ]
  },
  {
   "cell_type": "code",
   "execution_count": 137,
   "metadata": {},
   "outputs": [],
   "source": [
    "samples = model.sample_posterior_over_accuracy(anno.annotations, 200, burn_in_samples=100, thin_samples=3)"
   ]
  },
  {
   "cell_type": "code",
   "execution_count": 138,
   "metadata": {},
   "outputs": [
    {
     "name": "stdout",
     "output_type": "stream",
     "text": [
      "0.49521812129845016\n",
      "0.20623659549417933\n"
     ]
    }
   ],
   "source": [
    "print(samples[0].mean(axis=0))\n",
    "print(samples[0].std(axis=0))"
   ]
  },
  {
   "cell_type": "markdown",
   "metadata": {},
   "source": [
    "Now let's repeat the process using Model B with theta."
   ]
  },
  {
   "cell_type": "code",
   "execution_count": 139,
   "metadata": {},
   "outputs": [
    {
     "name": "stdout",
     "output_type": "stream",
     "text": [
      "[0.85385294 0.94017983 0.71284378 0.75252344 0.73763686 0.61040259\n",
      " 0.78017322 0.65505533 0.93864171 0.72005451 0.76001877 0.89629166\n",
      " 0.82150488 0.68590927 0.851526   0.69715126 0.89343424 0.66597731\n",
      " 0.63592564 0.63435738 0.74107831 0.74158508 0.66070548 0.65277264]\n",
      "-324.70524718046727\n"
     ]
    }
   ],
   "source": [
    "# create a new instance of model B, with 5 label classes and 24 annotators.\n",
    "model = ModelBt.create_initial_state(5, 24)\n",
    "print(model.theta)\n",
    "print(model.log_likelihood(anno.annotations))"
   ]
  },
  {
   "cell_type": "code",
   "execution_count": 140,
   "metadata": {},
   "outputs": [
    {
     "name": "stdout",
     "output_type": "stream",
     "text": [
      "[0.66737097 0.68937215 0.66765611 0.59180666 0.57037481 0.84331641\n",
      " 0.32434263 0.55586015 0.37279287 0.35031236 0.39813575 0.38599918\n",
      " 0.63494785 0.34022342 0.26399044 0.3129215  0.58899752 0.42155519\n",
      " 0.38606089 0.10756786 0.23001044 0.50615593 0.72152432 0.46818498]\n",
      "-254.16223610142612\n"
     ]
    }
   ],
   "source": [
    "model.map(anno.annotations)\n",
    "print(model.theta)\n",
    "print(model.log_likelihood(anno.annotations))"
   ]
  },
  {
   "cell_type": "code",
   "execution_count": 141,
   "metadata": {},
   "outputs": [
    {
     "name": "stdout",
     "output_type": "stream",
     "text": [
      "[[1.28664070e-08 6.25781456e-09 1.05560500e-13 9.99968193e-01\n",
      "  3.17880526e-05]\n",
      " [3.78802223e-07 2.15359000e-07 3.94444109e-11 1.86061169e-03\n",
      "  9.98138794e-01]\n",
      " [2.79212026e-07 3.19260702e-07 2.62845194e-11 9.99444166e-01\n",
      "  5.55235904e-04]\n",
      " [1.72064896e-04 3.20643210e-03 9.74105245e-09 9.96229968e-01\n",
      "  3.91525439e-04]\n",
      " [9.99093135e-01 7.20484597e-08 8.09118779e-11 9.05667166e-04\n",
      "  1.12580189e-06]\n",
      " [1.75707398e-08 1.74265552e-09 1.11616003e-13 9.99624376e-01\n",
      "  3.75604207e-04]\n",
      " [9.99595007e-01 1.05003275e-04 3.54084115e-13 2.96351633e-04\n",
      "  3.63805219e-06]]\n"
     ]
    }
   ],
   "source": [
    "posterior = model.infer_labels(anno.annotations)\n",
    "print(posterior)"
   ]
  },
  {
   "cell_type": "markdown",
   "metadata": {},
   "source": [
    "Now let's plot the first 10 samples according to the model."
   ]
  },
  {
   "cell_type": "code",
   "execution_count": 142,
   "metadata": {
    "scrolled": true
   },
   "outputs": [
    {
     "data": {
      "image/png": "[encoded data removed]",
      "text/plain": [
       "<Figure size 432x288 with 2 Axes>"
      ]
     },
     "metadata": {
      "needs_background": "light"
     },
     "output_type": "display_data"
    }
   ],
   "source": [
    "ax = seaborn.heatmap(posterior[:10,])\n",
    "plt.show()"
   ]
  },
  {
   "cell_type": "code",
   "execution_count": 161,
   "metadata": {},
   "outputs": [
    {
     "data": {
      "image/png": "[encoded data removed]",
      "text/plain": [
       "<Figure size 432x288 with 2 Axes>"
      ]
     },
     "metadata": {
      "needs_background": "light"
     },
     "output_type": "display_data"
    }
   ],
   "source": [
    "ax = seaborn.heatmap(posterior)\n",
    "plt.show()"
   ]
  },
  {
   "cell_type": "markdown",
   "metadata": {},
   "source": [
    "Now we can visualize coder accuracy using our model."
   ]
  },
  {
   "cell_type": "code",
   "execution_count": 162,
   "metadata": {},
   "outputs": [
    {
     "ename": "AxisError",
     "evalue": "axis 1 is out of bounds for array of dimension 1",
     "output_type": "error",
     "traceback": [
      "\u001b[0;31m-------------------------------------------------------------------\u001b[0m",
      "\u001b[0;31mAxisError\u001b[0m                         Traceback (most recent call last)",
      "\u001b[0;32m<ipython-input-162-e0416c3caa62>\u001b[0m in \u001b[0;36m<module>\u001b[0;34m\u001b[0m\n\u001b[1;32m      2\u001b[0m \u001b[0mmodel\u001b[0m\u001b[0;34m.\u001b[0m\u001b[0mmle\u001b[0m\u001b[0;34m(\u001b[0m\u001b[0manno\u001b[0m\u001b[0;34m.\u001b[0m\u001b[0mannotations\u001b[0m\u001b[0;34m)\u001b[0m\u001b[0;34m\u001b[0m\u001b[0;34m\u001b[0m\u001b[0m\n\u001b[1;32m      3\u001b[0m \u001b[0msamples\u001b[0m \u001b[0;34m=\u001b[0m \u001b[0mmodel\u001b[0m\u001b[0;34m.\u001b[0m\u001b[0msample_posterior_over_accuracy\u001b[0m\u001b[0;34m(\u001b[0m\u001b[0manno\u001b[0m\u001b[0;34m.\u001b[0m\u001b[0mannotations\u001b[0m\u001b[0;34m,\u001b[0m \u001b[0;36m200\u001b[0m\u001b[0;34m,\u001b[0m \u001b[0mburn_in_samples\u001b[0m\u001b[0;34m=\u001b[0m\u001b[0;36m100\u001b[0m\u001b[0;34m,\u001b[0m \u001b[0mthin_samples\u001b[0m\u001b[0;34m=\u001b[0m\u001b[0;36m3\u001b[0m\u001b[0;34m)\u001b[0m\u001b[0;34m\u001b[0m\u001b[0;34m\u001b[0m\u001b[0m\n\u001b[0;32m----> 4\u001b[0;31m \u001b[0my\u001b[0m \u001b[0;34m=\u001b[0m  \u001b[0msamples\u001b[0m\u001b[0;34m.\u001b[0m\u001b[0mmean\u001b[0m\u001b[0;34m(\u001b[0m\u001b[0maxis\u001b[0m\u001b[0;34m=\u001b[0m\u001b[0;36m0\u001b[0m\u001b[0;34m)\u001b[0m\u001b[0;34m.\u001b[0m\u001b[0mmean\u001b[0m\u001b[0;34m(\u001b[0m\u001b[0maxis\u001b[0m \u001b[0;34m=\u001b[0m \u001b[0;36m1\u001b[0m\u001b[0;34m)\u001b[0m\u001b[0;34m.\u001b[0m\u001b[0mmean\u001b[0m\u001b[0;34m(\u001b[0m\u001b[0maxis\u001b[0m \u001b[0;34m=\u001b[0m \u001b[0;36m1\u001b[0m\u001b[0;34m)\u001b[0m\u001b[0;34m\u001b[0m\u001b[0;34m\u001b[0m\u001b[0m\n\u001b[0m\u001b[1;32m      5\u001b[0m \u001b[0my_ci\u001b[0m \u001b[0;34m=\u001b[0m \u001b[0msamples\u001b[0m\u001b[0;34m.\u001b[0m\u001b[0mstd\u001b[0m\u001b[0;34m(\u001b[0m\u001b[0maxis\u001b[0m\u001b[0;34m=\u001b[0m\u001b[0;36m0\u001b[0m\u001b[0;34m)\u001b[0m\u001b[0;34m.\u001b[0m\u001b[0mmean\u001b[0m\u001b[0;34m(\u001b[0m\u001b[0maxis\u001b[0m \u001b[0;34m=\u001b[0m \u001b[0;36m1\u001b[0m\u001b[0;34m)\u001b[0m\u001b[0;34m.\u001b[0m\u001b[0mmean\u001b[0m\u001b[0;34m(\u001b[0m\u001b[0maxis\u001b[0m \u001b[0;34m=\u001b[0m \u001b[0;36m1\u001b[0m\u001b[0;34m)\u001b[0m\u001b[0;34m\u001b[0m\u001b[0;34m\u001b[0m\u001b[0m\n\u001b[1;32m      6\u001b[0m \u001b[0mplt\u001b[0m\u001b[0;34m.\u001b[0m\u001b[0mfigure\u001b[0m\u001b[0;34m(\u001b[0m\u001b[0;34m)\u001b[0m\u001b[0;34m\u001b[0m\u001b[0;34m\u001b[0m\u001b[0m\n",
      "\u001b[0;32m/opt/anaconda3/lib/python3.7/site-packages/numpy/core/_methods.py\u001b[0m in \u001b[0;36m_mean\u001b[0;34m(a, axis, dtype, out, keepdims)\u001b[0m\n\u001b[1;32m    145\u001b[0m \u001b[0;34m\u001b[0m\u001b[0m\n\u001b[1;32m    146\u001b[0m     \u001b[0mis_float16_result\u001b[0m \u001b[0;34m=\u001b[0m \u001b[0;32mFalse\u001b[0m\u001b[0;34m\u001b[0m\u001b[0;34m\u001b[0m\u001b[0m\n\u001b[0;32m--> 147\u001b[0;31m     \u001b[0mrcount\u001b[0m \u001b[0;34m=\u001b[0m \u001b[0m_count_reduce_items\u001b[0m\u001b[0;34m(\u001b[0m\u001b[0marr\u001b[0m\u001b[0;34m,\u001b[0m \u001b[0maxis\u001b[0m\u001b[0;34m)\u001b[0m\u001b[0;34m\u001b[0m\u001b[0;34m\u001b[0m\u001b[0m\n\u001b[0m\u001b[1;32m    148\u001b[0m     \u001b[0;31m# Make this warning show up first\u001b[0m\u001b[0;34m\u001b[0m\u001b[0;34m\u001b[0m\u001b[0;34m\u001b[0m\u001b[0m\n\u001b[1;32m    149\u001b[0m     \u001b[0;32mif\u001b[0m \u001b[0mrcount\u001b[0m \u001b[0;34m==\u001b[0m \u001b[0;36m0\u001b[0m\u001b[0;34m:\u001b[0m\u001b[0;34m\u001b[0m\u001b[0;34m\u001b[0m\u001b[0m\n",
      "\u001b[0;32m/opt/anaconda3/lib/python3.7/site-packages/numpy/core/_methods.py\u001b[0m in \u001b[0;36m_count_reduce_items\u001b[0;34m(arr, axis)\u001b[0m\n\u001b[1;32m     64\u001b[0m     \u001b[0mitems\u001b[0m \u001b[0;34m=\u001b[0m \u001b[0;36m1\u001b[0m\u001b[0;34m\u001b[0m\u001b[0;34m\u001b[0m\u001b[0m\n\u001b[1;32m     65\u001b[0m     \u001b[0;32mfor\u001b[0m \u001b[0max\u001b[0m \u001b[0;32min\u001b[0m \u001b[0maxis\u001b[0m\u001b[0;34m:\u001b[0m\u001b[0;34m\u001b[0m\u001b[0;34m\u001b[0m\u001b[0m\n\u001b[0;32m---> 66\u001b[0;31m         \u001b[0mitems\u001b[0m \u001b[0;34m*=\u001b[0m \u001b[0marr\u001b[0m\u001b[0;34m.\u001b[0m\u001b[0mshape\u001b[0m\u001b[0;34m[\u001b[0m\u001b[0mmu\u001b[0m\u001b[0;34m.\u001b[0m\u001b[0mnormalize_axis_index\u001b[0m\u001b[0;34m(\u001b[0m\u001b[0max\u001b[0m\u001b[0;34m,\u001b[0m \u001b[0marr\u001b[0m\u001b[0;34m.\u001b[0m\u001b[0mndim\u001b[0m\u001b[0;34m)\u001b[0m\u001b[0;34m]\u001b[0m\u001b[0;34m\u001b[0m\u001b[0;34m\u001b[0m\u001b[0m\n\u001b[0m\u001b[1;32m     67\u001b[0m     \u001b[0;32mreturn\u001b[0m \u001b[0mitems\u001b[0m\u001b[0;34m\u001b[0m\u001b[0;34m\u001b[0m\u001b[0m\n\u001b[1;32m     68\u001b[0m \u001b[0;34m\u001b[0m\u001b[0m\n",
      "\u001b[0;31mAxisError\u001b[0m: axis 1 is out of bounds for array of dimension 1"
     ]
    }
   ],
   "source": [
    "model = ModelBt.create_initial_state(5, 24)\n",
    "model.mle(anno.annotations)\n",
    "samples = model.sample_posterior_over_accuracy(anno.annotations, 200, burn_in_samples=100, thin_samples=3)\n",
    "y =  samples.mean(axis=0).mean(axis = 1).mean(axis = 1)\n",
    "y_ci = samples.std(axis=0).mean(axis = 1).mean(axis = 1)\n",
    "plt.figure()\n",
    "plt.errorbar(range(8),y, yerr = y_ci)\n",
    "plt.show()"
   ]
  },
  {
   "cell_type": "code",
   "execution_count": 149,
   "metadata": {},
   "outputs": [],
   "source": [
    "results_df = df[['Clinton', 'Bush Sr.', 'Bush Jr.', 'Carter', 'Reagan', 'Obama', 'Trump']]"
   ]
  },
  {
   "cell_type": "code",
   "execution_count": 150,
   "metadata": {},
   "outputs": [],
   "source": [
    "# drop first two rows of metadata to keep results\n",
    "results_df = results_df.iloc[2:, :].reset_index(drop=True).T"
   ]
  },
  {
   "cell_type": "code",
   "execution_count": 151,
   "metadata": {},
   "outputs": [
    {
     "data": {
      "text/html": [
       "<div>\n",
       "<style scoped>\n",
       "    .dataframe tbody tr th:only-of-type {\n",
       "        vertical-align: middle;\n",
       "    }\n",
       "\n",
       "    .dataframe tbody tr th {\n",
       "        vertical-align: top;\n",
       "    }\n",
       "\n",
       "    .dataframe thead th {\n",
       "        text-align: right;\n",
       "    }\n",
       "</style>\n",
       "<table border=\"1\" class=\"dataframe\">\n",
       "  <thead>\n",
       "    <tr style=\"text-align: right;\">\n",
       "      <th></th>\n",
       "      <th>0</th>\n",
       "      <th>1</th>\n",
       "      <th>2</th>\n",
       "      <th>3</th>\n",
       "      <th>4</th>\n",
       "      <th>5</th>\n",
       "      <th>6</th>\n",
       "      <th>7</th>\n",
       "      <th>8</th>\n",
       "      <th>9</th>\n",
       "      <th>...</th>\n",
       "      <th>14</th>\n",
       "      <th>15</th>\n",
       "      <th>16</th>\n",
       "      <th>17</th>\n",
       "      <th>18</th>\n",
       "      <th>19</th>\n",
       "      <th>20</th>\n",
       "      <th>21</th>\n",
       "      <th>22</th>\n",
       "      <th>23</th>\n",
       "    </tr>\n",
       "  </thead>\n",
       "  <tbody>\n",
       "    <tr>\n",
       "      <th>Clinton</th>\n",
       "      <td>3</td>\n",
       "      <td>5</td>\n",
       "      <td>5</td>\n",
       "      <td>5</td>\n",
       "      <td>5</td>\n",
       "      <td>4</td>\n",
       "      <td>4</td>\n",
       "      <td>4</td>\n",
       "      <td>2</td>\n",
       "      <td>5</td>\n",
       "      <td>...</td>\n",
       "      <td>4</td>\n",
       "      <td>4</td>\n",
       "      <td>4</td>\n",
       "      <td>3</td>\n",
       "      <td>4</td>\n",
       "      <td>3</td>\n",
       "      <td>5</td>\n",
       "      <td>4</td>\n",
       "      <td>4</td>\n",
       "      <td>4</td>\n",
       "    </tr>\n",
       "    <tr>\n",
       "      <th>Bush Sr.</th>\n",
       "      <td>3</td>\n",
       "      <td>5</td>\n",
       "      <td>5</td>\n",
       "      <td>5</td>\n",
       "      <td>5</td>\n",
       "      <td>5</td>\n",
       "      <td>3</td>\n",
       "      <td>4</td>\n",
       "      <td>3</td>\n",
       "      <td>3</td>\n",
       "      <td>...</td>\n",
       "      <td>4</td>\n",
       "      <td>3</td>\n",
       "      <td>2</td>\n",
       "      <td>4</td>\n",
       "      <td>4</td>\n",
       "      <td>3</td>\n",
       "      <td>5</td>\n",
       "      <td>5</td>\n",
       "      <td>5</td>\n",
       "      <td>4</td>\n",
       "    </tr>\n",
       "    <tr>\n",
       "      <th>Bush Jr.</th>\n",
       "      <td>4</td>\n",
       "      <td>4</td>\n",
       "      <td>2</td>\n",
       "      <td>4</td>\n",
       "      <td>3</td>\n",
       "      <td>4</td>\n",
       "      <td>5</td>\n",
       "      <td>4</td>\n",
       "      <td>4</td>\n",
       "      <td>3</td>\n",
       "      <td>...</td>\n",
       "      <td>2</td>\n",
       "      <td>5</td>\n",
       "      <td>4</td>\n",
       "      <td>5</td>\n",
       "      <td>3</td>\n",
       "      <td>3</td>\n",
       "      <td>5</td>\n",
       "      <td>4</td>\n",
       "      <td>5</td>\n",
       "      <td>3</td>\n",
       "    </tr>\n",
       "    <tr>\n",
       "      <th>Carter</th>\n",
       "      <td>3</td>\n",
       "      <td>1</td>\n",
       "      <td>4</td>\n",
       "      <td>2</td>\n",
       "      <td>3</td>\n",
       "      <td>2</td>\n",
       "      <td>2</td>\n",
       "      <td>4</td>\n",
       "      <td>4</td>\n",
       "      <td>4</td>\n",
       "      <td>...</td>\n",
       "      <td>3</td>\n",
       "      <td>5</td>\n",
       "      <td>4</td>\n",
       "      <td>4</td>\n",
       "      <td>3</td>\n",
       "      <td>3</td>\n",
       "      <td>5</td>\n",
       "      <td>5</td>\n",
       "      <td>4</td>\n",
       "      <td>3</td>\n",
       "    </tr>\n",
       "    <tr>\n",
       "      <th>Reagan</th>\n",
       "      <td>1</td>\n",
       "      <td>1</td>\n",
       "      <td>1</td>\n",
       "      <td>1</td>\n",
       "      <td>1</td>\n",
       "      <td>1</td>\n",
       "      <td>2</td>\n",
       "      <td>4</td>\n",
       "      <td>4</td>\n",
       "      <td>5</td>\n",
       "      <td>...</td>\n",
       "      <td>4</td>\n",
       "      <td>4</td>\n",
       "      <td>3</td>\n",
       "      <td>3</td>\n",
       "      <td>4</td>\n",
       "      <td>3</td>\n",
       "      <td>5</td>\n",
       "      <td>4</td>\n",
       "      <td>3</td>\n",
       "      <td>3</td>\n",
       "    </tr>\n",
       "    <tr>\n",
       "      <th>Obama</th>\n",
       "      <td>4</td>\n",
       "      <td>5</td>\n",
       "      <td>5</td>\n",
       "      <td>5</td>\n",
       "      <td>3</td>\n",
       "      <td>4</td>\n",
       "      <td>5</td>\n",
       "      <td>5</td>\n",
       "      <td>3</td>\n",
       "      <td>4</td>\n",
       "      <td>...</td>\n",
       "      <td>3</td>\n",
       "      <td>4</td>\n",
       "      <td>4</td>\n",
       "      <td>4</td>\n",
       "      <td>4</td>\n",
       "      <td>3</td>\n",
       "      <td>5</td>\n",
       "      <td>5</td>\n",
       "      <td>4</td>\n",
       "      <td>4</td>\n",
       "    </tr>\n",
       "    <tr>\n",
       "      <th>Trump</th>\n",
       "      <td>1</td>\n",
       "      <td>1</td>\n",
       "      <td>1</td>\n",
       "      <td>2</td>\n",
       "      <td>1</td>\n",
       "      <td>1</td>\n",
       "      <td>1</td>\n",
       "      <td>5</td>\n",
       "      <td>2</td>\n",
       "      <td>4</td>\n",
       "      <td>...</td>\n",
       "      <td>2</td>\n",
       "      <td>3</td>\n",
       "      <td>4</td>\n",
       "      <td>4</td>\n",
       "      <td>4</td>\n",
       "      <td>3</td>\n",
       "      <td>5</td>\n",
       "      <td>4</td>\n",
       "      <td>2</td>\n",
       "      <td>2</td>\n",
       "    </tr>\n",
       "  </tbody>\n",
       "</table>\n",
       "<p>7 rows × 24 columns</p>\n",
       "</div>"
      ],
      "text/plain": [
       "         0  1  2  3  4  5  6  7  8  9   ... 14 15 16 17 18 19 20 21 22 23\n",
       "Clinton   3  5  5  5  5  4  4  4  2  5  ...  4  4  4  3  4  3  5  4  4  4\n",
       "Bush Sr.  3  5  5  5  5  5  3  4  3  3  ...  4  3  2  4  4  3  5  5  5  4\n",
       "Bush Jr.  4  4  2  4  3  4  5  4  4  3  ...  2  5  4  5  3  3  5  4  5  3\n",
       "Carter    3  1  4  2  3  2  2  4  4  4  ...  3  5  4  4  3  3  5  5  4  3\n",
       "Reagan    1  1  1  1  1  1  2  4  4  5  ...  4  4  3  3  4  3  5  4  3  3\n",
       "Obama     4  5  5  5  3  4  5  5  3  4  ...  3  4  4  4  4  3  5  5  4  4\n",
       "Trump     1  1  1  2  1  1  1  5  2  4  ...  2  3  4  4  4  3  5  4  2  2\n",
       "\n",
       "[7 rows x 24 columns]"
      ]
     },
     "execution_count": 151,
     "metadata": {},
     "output_type": "execute_result"
    }
   ],
   "source": [
    "results_df"
   ]
  },
  {
   "cell_type": "code",
   "execution_count": 152,
   "metadata": {},
   "outputs": [
    {
     "ename": "TypeError",
     "evalue": "unsupported operand type(s) for -: 'str' and 'float'",
     "output_type": "error",
     "traceback": [
      "\u001b[0;31m-------------------------------------------------------------------\u001b[0m",
      "\u001b[0;31mTypeError\u001b[0m                         Traceback (most recent call last)",
      "\u001b[0;32m<ipython-input-152-7b6c0cee02a0>\u001b[0m in \u001b[0;36m<module>\u001b[0;34m\u001b[0m\n\u001b[1;32m      1\u001b[0m \u001b[0mfig\u001b[0m\u001b[0;34m,\u001b[0m \u001b[0max\u001b[0m \u001b[0;34m=\u001b[0m \u001b[0mplt\u001b[0m\u001b[0;34m.\u001b[0m\u001b[0msubplots\u001b[0m\u001b[0;34m(\u001b[0m\u001b[0mfigsize\u001b[0m \u001b[0;34m=\u001b[0m \u001b[0;34m(\u001b[0m\u001b[0;36m20\u001b[0m\u001b[0;34m,\u001b[0m\u001b[0;36m20\u001b[0m\u001b[0;34m)\u001b[0m\u001b[0;34m)\u001b[0m\u001b[0;34m\u001b[0m\u001b[0;34m\u001b[0m\u001b[0m\n\u001b[0;32m----> 2\u001b[0;31m \u001b[0mseaborn\u001b[0m\u001b[0;34m.\u001b[0m\u001b[0mheatmap\u001b[0m\u001b[0;34m(\u001b[0m\u001b[0mresults_df\u001b[0m\u001b[0;34m,\u001b[0m \u001b[0mcmap\u001b[0m\u001b[0;34m=\u001b[0m\u001b[0;34m'rainbow'\u001b[0m\u001b[0;34m,\u001b[0m \u001b[0max\u001b[0m \u001b[0;34m=\u001b[0m \u001b[0max\u001b[0m\u001b[0;34m)\u001b[0m\u001b[0;34m\u001b[0m\u001b[0;34m\u001b[0m\u001b[0m\n\u001b[0m\u001b[1;32m      3\u001b[0m \u001b[0mplt\u001b[0m\u001b[0;34m.\u001b[0m\u001b[0mshow\u001b[0m\u001b[0;34m(\u001b[0m\u001b[0;34m)\u001b[0m\u001b[0;34m\u001b[0m\u001b[0;34m\u001b[0m\u001b[0m\n",
      "\u001b[0;32m/opt/anaconda3/lib/python3.7/site-packages/seaborn/_decorators.py\u001b[0m in \u001b[0;36minner_f\u001b[0;34m(*args, **kwargs)\u001b[0m\n\u001b[1;32m     44\u001b[0m             )\n\u001b[1;32m     45\u001b[0m         \u001b[0mkwargs\u001b[0m\u001b[0;34m.\u001b[0m\u001b[0mupdate\u001b[0m\u001b[0;34m(\u001b[0m\u001b[0;34m{\u001b[0m\u001b[0mk\u001b[0m\u001b[0;34m:\u001b[0m \u001b[0marg\u001b[0m \u001b[0;32mfor\u001b[0m \u001b[0mk\u001b[0m\u001b[0;34m,\u001b[0m \u001b[0marg\u001b[0m \u001b[0;32min\u001b[0m \u001b[0mzip\u001b[0m\u001b[0;34m(\u001b[0m\u001b[0msig\u001b[0m\u001b[0;34m.\u001b[0m\u001b[0mparameters\u001b[0m\u001b[0;34m,\u001b[0m \u001b[0margs\u001b[0m\u001b[0;34m)\u001b[0m\u001b[0;34m}\u001b[0m\u001b[0;34m)\u001b[0m\u001b[0;34m\u001b[0m\u001b[0;34m\u001b[0m\u001b[0m\n\u001b[0;32m---> 46\u001b[0;31m         \u001b[0;32mreturn\u001b[0m \u001b[0mf\u001b[0m\u001b[0;34m(\u001b[0m\u001b[0;34m**\u001b[0m\u001b[0mkwargs\u001b[0m\u001b[0;34m)\u001b[0m\u001b[0;34m\u001b[0m\u001b[0;34m\u001b[0m\u001b[0m\n\u001b[0m\u001b[1;32m     47\u001b[0m     \u001b[0;32mreturn\u001b[0m \u001b[0minner_f\u001b[0m\u001b[0;34m\u001b[0m\u001b[0;34m\u001b[0m\u001b[0m\n\u001b[1;32m     48\u001b[0m \u001b[0;34m\u001b[0m\u001b[0m\n",
      "\u001b[0;32m/opt/anaconda3/lib/python3.7/site-packages/seaborn/matrix.py\u001b[0m in \u001b[0;36mheatmap\u001b[0;34m(data, vmin, vmax, cmap, center, robust, annot, fmt, annot_kws, linewidths, linecolor, cbar, cbar_kws, cbar_ax, square, xticklabels, yticklabels, mask, ax, **kwargs)\u001b[0m\n\u001b[1;32m    556\u001b[0m     \u001b[0;32mif\u001b[0m \u001b[0msquare\u001b[0m\u001b[0;34m:\u001b[0m\u001b[0;34m\u001b[0m\u001b[0;34m\u001b[0m\u001b[0m\n\u001b[1;32m    557\u001b[0m         \u001b[0max\u001b[0m\u001b[0;34m.\u001b[0m\u001b[0mset_aspect\u001b[0m\u001b[0;34m(\u001b[0m\u001b[0;34m\"equal\"\u001b[0m\u001b[0;34m)\u001b[0m\u001b[0;34m\u001b[0m\u001b[0;34m\u001b[0m\u001b[0m\n\u001b[0;32m--> 558\u001b[0;31m     \u001b[0mplotter\u001b[0m\u001b[0;34m.\u001b[0m\u001b[0mplot\u001b[0m\u001b[0;34m(\u001b[0m\u001b[0max\u001b[0m\u001b[0;34m,\u001b[0m \u001b[0mcbar_ax\u001b[0m\u001b[0;34m,\u001b[0m \u001b[0mkwargs\u001b[0m\u001b[0;34m)\u001b[0m\u001b[0;34m\u001b[0m\u001b[0;34m\u001b[0m\u001b[0m\n\u001b[0m\u001b[1;32m    559\u001b[0m     \u001b[0;32mreturn\u001b[0m \u001b[0max\u001b[0m\u001b[0;34m\u001b[0m\u001b[0;34m\u001b[0m\u001b[0m\n\u001b[1;32m    560\u001b[0m \u001b[0;34m\u001b[0m\u001b[0m\n",
      "\u001b[0;32m/opt/anaconda3/lib/python3.7/site-packages/seaborn/matrix.py\u001b[0m in \u001b[0;36mplot\u001b[0;34m(self, ax, cax, kws)\u001b[0m\n\u001b[1;32m    340\u001b[0m         \u001b[0;31m# Possibly rotate them if they overlap\u001b[0m\u001b[0;34m\u001b[0m\u001b[0;34m\u001b[0m\u001b[0;34m\u001b[0m\u001b[0m\n\u001b[1;32m    341\u001b[0m         \u001b[0;32mif\u001b[0m \u001b[0mhasattr\u001b[0m\u001b[0;34m(\u001b[0m\u001b[0max\u001b[0m\u001b[0;34m.\u001b[0m\u001b[0mfigure\u001b[0m\u001b[0;34m.\u001b[0m\u001b[0mcanvas\u001b[0m\u001b[0;34m,\u001b[0m \u001b[0;34m\"get_renderer\"\u001b[0m\u001b[0;34m)\u001b[0m\u001b[0;34m:\u001b[0m\u001b[0;34m\u001b[0m\u001b[0;34m\u001b[0m\u001b[0m\n\u001b[0;32m--> 342\u001b[0;31m             \u001b[0max\u001b[0m\u001b[0;34m.\u001b[0m\u001b[0mfigure\u001b[0m\u001b[0;34m.\u001b[0m\u001b[0mdraw\u001b[0m\u001b[0;34m(\u001b[0m\u001b[0max\u001b[0m\u001b[0;34m.\u001b[0m\u001b[0mfigure\u001b[0m\u001b[0;34m.\u001b[0m\u001b[0mcanvas\u001b[0m\u001b[0;34m.\u001b[0m\u001b[0mget_renderer\u001b[0m\u001b[0;34m(\u001b[0m\u001b[0;34m)\u001b[0m\u001b[0;34m)\u001b[0m\u001b[0;34m\u001b[0m\u001b[0;34m\u001b[0m\u001b[0m\n\u001b[0m\u001b[1;32m    343\u001b[0m         \u001b[0;32mif\u001b[0m \u001b[0maxis_ticklabels_overlap\u001b[0m\u001b[0;34m(\u001b[0m\u001b[0mxtl\u001b[0m\u001b[0;34m)\u001b[0m\u001b[0;34m:\u001b[0m\u001b[0;34m\u001b[0m\u001b[0;34m\u001b[0m\u001b[0m\n\u001b[1;32m    344\u001b[0m             \u001b[0mplt\u001b[0m\u001b[0;34m.\u001b[0m\u001b[0msetp\u001b[0m\u001b[0;34m(\u001b[0m\u001b[0mxtl\u001b[0m\u001b[0;34m,\u001b[0m \u001b[0mrotation\u001b[0m\u001b[0;34m=\u001b[0m\u001b[0;34m\"vertical\"\u001b[0m\u001b[0;34m)\u001b[0m\u001b[0;34m\u001b[0m\u001b[0;34m\u001b[0m\u001b[0m\n",
      "\u001b[0;32m/opt/anaconda3/lib/python3.7/site-packages/matplotlib/artist.py\u001b[0m in \u001b[0;36mdraw_wrapper\u001b[0;34m(artist, renderer, *args, **kwargs)\u001b[0m\n\u001b[1;32m     39\u001b[0m                 \u001b[0mrenderer\u001b[0m\u001b[0;34m.\u001b[0m\u001b[0mstart_filter\u001b[0m\u001b[0;34m(\u001b[0m\u001b[0;34m)\u001b[0m\u001b[0;34m\u001b[0m\u001b[0;34m\u001b[0m\u001b[0m\n\u001b[1;32m     40\u001b[0m \u001b[0;34m\u001b[0m\u001b[0m\n\u001b[0;32m---> 41\u001b[0;31m             \u001b[0;32mreturn\u001b[0m \u001b[0mdraw\u001b[0m\u001b[0;34m(\u001b[0m\u001b[0martist\u001b[0m\u001b[0;34m,\u001b[0m \u001b[0mrenderer\u001b[0m\u001b[0;34m,\u001b[0m \u001b[0;34m*\u001b[0m\u001b[0margs\u001b[0m\u001b[0;34m,\u001b[0m \u001b[0;34m**\u001b[0m\u001b[0mkwargs\u001b[0m\u001b[0;34m)\u001b[0m\u001b[0;34m\u001b[0m\u001b[0;34m\u001b[0m\u001b[0m\n\u001b[0m\u001b[1;32m     42\u001b[0m         \u001b[0;32mfinally\u001b[0m\u001b[0;34m:\u001b[0m\u001b[0;34m\u001b[0m\u001b[0;34m\u001b[0m\u001b[0m\n\u001b[1;32m     43\u001b[0m             \u001b[0;32mif\u001b[0m \u001b[0martist\u001b[0m\u001b[0;34m.\u001b[0m\u001b[0mget_agg_filter\u001b[0m\u001b[0;34m(\u001b[0m\u001b[0;34m)\u001b[0m \u001b[0;32mis\u001b[0m \u001b[0;32mnot\u001b[0m \u001b[0;32mNone\u001b[0m\u001b[0;34m:\u001b[0m\u001b[0;34m\u001b[0m\u001b[0;34m\u001b[0m\u001b[0m\n",
      "\u001b[0;32m/opt/anaconda3/lib/python3.7/site-packages/matplotlib/figure.py\u001b[0m in \u001b[0;36mdraw\u001b[0;34m(self, renderer)\u001b[0m\n\u001b[1;32m   1862\u001b[0m             \u001b[0mself\u001b[0m\u001b[0;34m.\u001b[0m\u001b[0mpatch\u001b[0m\u001b[0;34m.\u001b[0m\u001b[0mdraw\u001b[0m\u001b[0;34m(\u001b[0m\u001b[0mrenderer\u001b[0m\u001b[0;34m)\u001b[0m\u001b[0;34m\u001b[0m\u001b[0;34m\u001b[0m\u001b[0m\n\u001b[1;32m   1863\u001b[0m             mimage._draw_list_compositing_images(\n\u001b[0;32m-> 1864\u001b[0;31m                 renderer, self, artists, self.suppressComposite)\n\u001b[0m\u001b[1;32m   1865\u001b[0m \u001b[0;34m\u001b[0m\u001b[0m\n\u001b[1;32m   1866\u001b[0m             \u001b[0mrenderer\u001b[0m\u001b[0;34m.\u001b[0m\u001b[0mclose_group\u001b[0m\u001b[0;34m(\u001b[0m\u001b[0;34m'figure'\u001b[0m\u001b[0;34m)\u001b[0m\u001b[0;34m\u001b[0m\u001b[0;34m\u001b[0m\u001b[0m\n",
      "\u001b[0;32m/opt/anaconda3/lib/python3.7/site-packages/matplotlib/image.py\u001b[0m in \u001b[0;36m_draw_list_compositing_images\u001b[0;34m(renderer, parent, artists, suppress_composite)\u001b[0m\n\u001b[1;32m    129\u001b[0m     \u001b[0;32mif\u001b[0m \u001b[0mnot_composite\u001b[0m \u001b[0;32mor\u001b[0m \u001b[0;32mnot\u001b[0m \u001b[0mhas_images\u001b[0m\u001b[0;34m:\u001b[0m\u001b[0;34m\u001b[0m\u001b[0;34m\u001b[0m\u001b[0m\n\u001b[1;32m    130\u001b[0m         \u001b[0;32mfor\u001b[0m \u001b[0ma\u001b[0m \u001b[0;32min\u001b[0m \u001b[0martists\u001b[0m\u001b[0;34m:\u001b[0m\u001b[0;34m\u001b[0m\u001b[0;34m\u001b[0m\u001b[0m\n\u001b[0;32m--> 131\u001b[0;31m             \u001b[0ma\u001b[0m\u001b[0;34m.\u001b[0m\u001b[0mdraw\u001b[0m\u001b[0;34m(\u001b[0m\u001b[0mrenderer\u001b[0m\u001b[0;34m)\u001b[0m\u001b[0;34m\u001b[0m\u001b[0;34m\u001b[0m\u001b[0m\n\u001b[0m\u001b[1;32m    132\u001b[0m     \u001b[0;32melse\u001b[0m\u001b[0;34m:\u001b[0m\u001b[0;34m\u001b[0m\u001b[0;34m\u001b[0m\u001b[0m\n\u001b[1;32m    133\u001b[0m         \u001b[0;31m# Composite any adjacent images together\u001b[0m\u001b[0;34m\u001b[0m\u001b[0;34m\u001b[0m\u001b[0;34m\u001b[0m\u001b[0m\n",
      "\u001b[0;32m/opt/anaconda3/lib/python3.7/site-packages/matplotlib/artist.py\u001b[0m in \u001b[0;36mdraw_wrapper\u001b[0;34m(artist, renderer, *args, **kwargs)\u001b[0m\n\u001b[1;32m     39\u001b[0m                 \u001b[0mrenderer\u001b[0m\u001b[0;34m.\u001b[0m\u001b[0mstart_filter\u001b[0m\u001b[0;34m(\u001b[0m\u001b[0;34m)\u001b[0m\u001b[0;34m\u001b[0m\u001b[0;34m\u001b[0m\u001b[0m\n\u001b[1;32m     40\u001b[0m \u001b[0;34m\u001b[0m\u001b[0m\n\u001b[0;32m---> 41\u001b[0;31m             \u001b[0;32mreturn\u001b[0m \u001b[0mdraw\u001b[0m\u001b[0;34m(\u001b[0m\u001b[0martist\u001b[0m\u001b[0;34m,\u001b[0m \u001b[0mrenderer\u001b[0m\u001b[0;34m,\u001b[0m \u001b[0;34m*\u001b[0m\u001b[0margs\u001b[0m\u001b[0;34m,\u001b[0m \u001b[0;34m**\u001b[0m\u001b[0mkwargs\u001b[0m\u001b[0;34m)\u001b[0m\u001b[0;34m\u001b[0m\u001b[0;34m\u001b[0m\u001b[0m\n\u001b[0m\u001b[1;32m     42\u001b[0m         \u001b[0;32mfinally\u001b[0m\u001b[0;34m:\u001b[0m\u001b[0;34m\u001b[0m\u001b[0;34m\u001b[0m\u001b[0m\n\u001b[1;32m     43\u001b[0m             \u001b[0;32mif\u001b[0m \u001b[0martist\u001b[0m\u001b[0;34m.\u001b[0m\u001b[0mget_agg_filter\u001b[0m\u001b[0;34m(\u001b[0m\u001b[0;34m)\u001b[0m \u001b[0;32mis\u001b[0m \u001b[0;32mnot\u001b[0m \u001b[0;32mNone\u001b[0m\u001b[0;34m:\u001b[0m\u001b[0;34m\u001b[0m\u001b[0;34m\u001b[0m\u001b[0m\n",
      "\u001b[0;32m/opt/anaconda3/lib/python3.7/site-packages/matplotlib/cbook/deprecation.py\u001b[0m in \u001b[0;36mwrapper\u001b[0;34m(*inner_args, **inner_kwargs)\u001b[0m\n\u001b[1;32m    409\u001b[0m                          \u001b[0;32melse\u001b[0m \u001b[0mdeprecation_addendum\u001b[0m\u001b[0;34m,\u001b[0m\u001b[0;34m\u001b[0m\u001b[0;34m\u001b[0m\u001b[0m\n\u001b[1;32m    410\u001b[0m                 **kwargs)\n\u001b[0;32m--> 411\u001b[0;31m         \u001b[0;32mreturn\u001b[0m \u001b[0mfunc\u001b[0m\u001b[0;34m(\u001b[0m\u001b[0;34m*\u001b[0m\u001b[0minner_args\u001b[0m\u001b[0;34m,\u001b[0m \u001b[0;34m**\u001b[0m\u001b[0minner_kwargs\u001b[0m\u001b[0;34m)\u001b[0m\u001b[0;34m\u001b[0m\u001b[0;34m\u001b[0m\u001b[0m\n\u001b[0m\u001b[1;32m    412\u001b[0m \u001b[0;34m\u001b[0m\u001b[0m\n\u001b[1;32m    413\u001b[0m     \u001b[0;32mreturn\u001b[0m \u001b[0mwrapper\u001b[0m\u001b[0;34m\u001b[0m\u001b[0;34m\u001b[0m\u001b[0m\n",
      "\u001b[0;32m/opt/anaconda3/lib/python3.7/site-packages/matplotlib/axes/_base.py\u001b[0m in \u001b[0;36mdraw\u001b[0;34m(self, renderer, inframe)\u001b[0m\n\u001b[1;32m   2745\u001b[0m             \u001b[0mrenderer\u001b[0m\u001b[0;34m.\u001b[0m\u001b[0mstop_rasterizing\u001b[0m\u001b[0;34m(\u001b[0m\u001b[0;34m)\u001b[0m\u001b[0;34m\u001b[0m\u001b[0;34m\u001b[0m\u001b[0m\n\u001b[1;32m   2746\u001b[0m \u001b[0;34m\u001b[0m\u001b[0m\n\u001b[0;32m-> 2747\u001b[0;31m         \u001b[0mmimage\u001b[0m\u001b[0;34m.\u001b[0m\u001b[0m_draw_list_compositing_images\u001b[0m\u001b[0;34m(\u001b[0m\u001b[0mrenderer\u001b[0m\u001b[0;34m,\u001b[0m \u001b[0mself\u001b[0m\u001b[0;34m,\u001b[0m \u001b[0martists\u001b[0m\u001b[0;34m)\u001b[0m\u001b[0;34m\u001b[0m\u001b[0;34m\u001b[0m\u001b[0m\n\u001b[0m\u001b[1;32m   2748\u001b[0m \u001b[0;34m\u001b[0m\u001b[0m\n\u001b[1;32m   2749\u001b[0m         \u001b[0mrenderer\u001b[0m\u001b[0;34m.\u001b[0m\u001b[0mclose_group\u001b[0m\u001b[0;34m(\u001b[0m\u001b[0;34m'axes'\u001b[0m\u001b[0;34m)\u001b[0m\u001b[0;34m\u001b[0m\u001b[0;34m\u001b[0m\u001b[0m\n",
      "\u001b[0;32m/opt/anaconda3/lib/python3.7/site-packages/matplotlib/image.py\u001b[0m in \u001b[0;36m_draw_list_compositing_images\u001b[0;34m(renderer, parent, artists, suppress_composite)\u001b[0m\n\u001b[1;32m    129\u001b[0m     \u001b[0;32mif\u001b[0m \u001b[0mnot_composite\u001b[0m \u001b[0;32mor\u001b[0m \u001b[0;32mnot\u001b[0m \u001b[0mhas_images\u001b[0m\u001b[0;34m:\u001b[0m\u001b[0;34m\u001b[0m\u001b[0;34m\u001b[0m\u001b[0m\n\u001b[1;32m    130\u001b[0m         \u001b[0;32mfor\u001b[0m \u001b[0ma\u001b[0m \u001b[0;32min\u001b[0m \u001b[0martists\u001b[0m\u001b[0;34m:\u001b[0m\u001b[0;34m\u001b[0m\u001b[0;34m\u001b[0m\u001b[0m\n\u001b[0;32m--> 131\u001b[0;31m             \u001b[0ma\u001b[0m\u001b[0;34m.\u001b[0m\u001b[0mdraw\u001b[0m\u001b[0;34m(\u001b[0m\u001b[0mrenderer\u001b[0m\u001b[0;34m)\u001b[0m\u001b[0;34m\u001b[0m\u001b[0;34m\u001b[0m\u001b[0m\n\u001b[0m\u001b[1;32m    132\u001b[0m     \u001b[0;32melse\u001b[0m\u001b[0;34m:\u001b[0m\u001b[0;34m\u001b[0m\u001b[0;34m\u001b[0m\u001b[0m\n\u001b[1;32m    133\u001b[0m         \u001b[0;31m# Composite any adjacent images together\u001b[0m\u001b[0;34m\u001b[0m\u001b[0;34m\u001b[0m\u001b[0;34m\u001b[0m\u001b[0m\n",
      "\u001b[0;32m/opt/anaconda3/lib/python3.7/site-packages/matplotlib/artist.py\u001b[0m in \u001b[0;36mdraw_wrapper\u001b[0;34m(artist, renderer, *args, **kwargs)\u001b[0m\n\u001b[1;32m     39\u001b[0m                 \u001b[0mrenderer\u001b[0m\u001b[0;34m.\u001b[0m\u001b[0mstart_filter\u001b[0m\u001b[0;34m(\u001b[0m\u001b[0;34m)\u001b[0m\u001b[0;34m\u001b[0m\u001b[0;34m\u001b[0m\u001b[0m\n\u001b[1;32m     40\u001b[0m \u001b[0;34m\u001b[0m\u001b[0m\n\u001b[0;32m---> 41\u001b[0;31m             \u001b[0;32mreturn\u001b[0m \u001b[0mdraw\u001b[0m\u001b[0;34m(\u001b[0m\u001b[0martist\u001b[0m\u001b[0;34m,\u001b[0m \u001b[0mrenderer\u001b[0m\u001b[0;34m,\u001b[0m \u001b[0;34m*\u001b[0m\u001b[0margs\u001b[0m\u001b[0;34m,\u001b[0m \u001b[0;34m**\u001b[0m\u001b[0mkwargs\u001b[0m\u001b[0;34m)\u001b[0m\u001b[0;34m\u001b[0m\u001b[0;34m\u001b[0m\u001b[0m\n\u001b[0m\u001b[1;32m     42\u001b[0m         \u001b[0;32mfinally\u001b[0m\u001b[0;34m:\u001b[0m\u001b[0;34m\u001b[0m\u001b[0;34m\u001b[0m\u001b[0m\n\u001b[1;32m     43\u001b[0m             \u001b[0;32mif\u001b[0m \u001b[0martist\u001b[0m\u001b[0;34m.\u001b[0m\u001b[0mget_agg_filter\u001b[0m\u001b[0;34m(\u001b[0m\u001b[0;34m)\u001b[0m \u001b[0;32mis\u001b[0m \u001b[0;32mnot\u001b[0m \u001b[0;32mNone\u001b[0m\u001b[0;34m:\u001b[0m\u001b[0;34m\u001b[0m\u001b[0;34m\u001b[0m\u001b[0m\n",
      "\u001b[0;32m/opt/anaconda3/lib/python3.7/site-packages/matplotlib/collections.py\u001b[0m in \u001b[0;36mdraw\u001b[0;34m(self, renderer)\u001b[0m\n\u001b[1;32m   2022\u001b[0m                 \u001b[0moffsets\u001b[0m \u001b[0;34m=\u001b[0m \u001b[0mnp\u001b[0m\u001b[0;34m.\u001b[0m\u001b[0mcolumn_stack\u001b[0m\u001b[0;34m(\u001b[0m\u001b[0;34m[\u001b[0m\u001b[0mxs\u001b[0m\u001b[0;34m,\u001b[0m \u001b[0mys\u001b[0m\u001b[0;34m]\u001b[0m\u001b[0;34m)\u001b[0m\u001b[0;34m\u001b[0m\u001b[0;34m\u001b[0m\u001b[0m\n\u001b[1;32m   2023\u001b[0m \u001b[0;34m\u001b[0m\u001b[0m\n\u001b[0;32m-> 2024\u001b[0;31m         \u001b[0mself\u001b[0m\u001b[0;34m.\u001b[0m\u001b[0mupdate_scalarmappable\u001b[0m\u001b[0;34m(\u001b[0m\u001b[0;34m)\u001b[0m\u001b[0;34m\u001b[0m\u001b[0;34m\u001b[0m\u001b[0m\n\u001b[0m\u001b[1;32m   2025\u001b[0m \u001b[0;34m\u001b[0m\u001b[0m\n\u001b[1;32m   2026\u001b[0m         \u001b[0;32mif\u001b[0m \u001b[0;32mnot\u001b[0m \u001b[0mtransform\u001b[0m\u001b[0;34m.\u001b[0m\u001b[0mis_affine\u001b[0m\u001b[0;34m:\u001b[0m\u001b[0;34m\u001b[0m\u001b[0;34m\u001b[0m\u001b[0m\n",
      "\u001b[0;32m/opt/anaconda3/lib/python3.7/site-packages/matplotlib/collections.py\u001b[0m in \u001b[0;36mupdate_scalarmappable\u001b[0;34m(self)\u001b[0m\n\u001b[1;32m    853\u001b[0m             \u001b[0;32mreturn\u001b[0m\u001b[0;34m\u001b[0m\u001b[0;34m\u001b[0m\u001b[0m\n\u001b[1;32m    854\u001b[0m         \u001b[0;32mif\u001b[0m \u001b[0mself\u001b[0m\u001b[0;34m.\u001b[0m\u001b[0m_is_filled\u001b[0m\u001b[0;34m:\u001b[0m\u001b[0;34m\u001b[0m\u001b[0;34m\u001b[0m\u001b[0m\n\u001b[0;32m--> 855\u001b[0;31m             \u001b[0mself\u001b[0m\u001b[0;34m.\u001b[0m\u001b[0m_facecolors\u001b[0m \u001b[0;34m=\u001b[0m \u001b[0mself\u001b[0m\u001b[0;34m.\u001b[0m\u001b[0mto_rgba\u001b[0m\u001b[0;34m(\u001b[0m\u001b[0mself\u001b[0m\u001b[0;34m.\u001b[0m\u001b[0m_A\u001b[0m\u001b[0;34m,\u001b[0m \u001b[0mself\u001b[0m\u001b[0;34m.\u001b[0m\u001b[0m_alpha\u001b[0m\u001b[0;34m)\u001b[0m\u001b[0;34m\u001b[0m\u001b[0;34m\u001b[0m\u001b[0m\n\u001b[0m\u001b[1;32m    856\u001b[0m         \u001b[0;32melif\u001b[0m \u001b[0mself\u001b[0m\u001b[0;34m.\u001b[0m\u001b[0m_is_stroked\u001b[0m\u001b[0;34m:\u001b[0m\u001b[0;34m\u001b[0m\u001b[0;34m\u001b[0m\u001b[0m\n\u001b[1;32m    857\u001b[0m             \u001b[0mself\u001b[0m\u001b[0;34m.\u001b[0m\u001b[0m_edgecolors\u001b[0m \u001b[0;34m=\u001b[0m \u001b[0mself\u001b[0m\u001b[0;34m.\u001b[0m\u001b[0mto_rgba\u001b[0m\u001b[0;34m(\u001b[0m\u001b[0mself\u001b[0m\u001b[0;34m.\u001b[0m\u001b[0m_A\u001b[0m\u001b[0;34m,\u001b[0m \u001b[0mself\u001b[0m\u001b[0;34m.\u001b[0m\u001b[0m_alpha\u001b[0m\u001b[0;34m)\u001b[0m\u001b[0;34m\u001b[0m\u001b[0;34m\u001b[0m\u001b[0m\n",
      "\u001b[0;32m/opt/anaconda3/lib/python3.7/site-packages/matplotlib/cm.py\u001b[0m in \u001b[0;36mto_rgba\u001b[0;34m(self, x, alpha, bytes, norm)\u001b[0m\n\u001b[1;32m    330\u001b[0m         \u001b[0mx\u001b[0m \u001b[0;34m=\u001b[0m \u001b[0mma\u001b[0m\u001b[0;34m.\u001b[0m\u001b[0masarray\u001b[0m\u001b[0;34m(\u001b[0m\u001b[0mx\u001b[0m\u001b[0;34m)\u001b[0m\u001b[0;34m\u001b[0m\u001b[0;34m\u001b[0m\u001b[0m\n\u001b[1;32m    331\u001b[0m         \u001b[0;32mif\u001b[0m \u001b[0mnorm\u001b[0m\u001b[0;34m:\u001b[0m\u001b[0;34m\u001b[0m\u001b[0;34m\u001b[0m\u001b[0m\n\u001b[0;32m--> 332\u001b[0;31m             \u001b[0mx\u001b[0m \u001b[0;34m=\u001b[0m \u001b[0mself\u001b[0m\u001b[0;34m.\u001b[0m\u001b[0mnorm\u001b[0m\u001b[0;34m(\u001b[0m\u001b[0mx\u001b[0m\u001b[0;34m)\u001b[0m\u001b[0;34m\u001b[0m\u001b[0;34m\u001b[0m\u001b[0m\n\u001b[0m\u001b[1;32m    333\u001b[0m         \u001b[0mrgba\u001b[0m \u001b[0;34m=\u001b[0m \u001b[0mself\u001b[0m\u001b[0;34m.\u001b[0m\u001b[0mcmap\u001b[0m\u001b[0;34m(\u001b[0m\u001b[0mx\u001b[0m\u001b[0;34m,\u001b[0m \u001b[0malpha\u001b[0m\u001b[0;34m=\u001b[0m\u001b[0malpha\u001b[0m\u001b[0;34m,\u001b[0m \u001b[0mbytes\u001b[0m\u001b[0;34m=\u001b[0m\u001b[0mbytes\u001b[0m\u001b[0;34m)\u001b[0m\u001b[0;34m\u001b[0m\u001b[0;34m\u001b[0m\u001b[0m\n\u001b[1;32m    334\u001b[0m         \u001b[0;32mreturn\u001b[0m \u001b[0mrgba\u001b[0m\u001b[0;34m\u001b[0m\u001b[0;34m\u001b[0m\u001b[0m\n",
      "\u001b[0;32m/opt/anaconda3/lib/python3.7/site-packages/matplotlib/colors.py\u001b[0m in \u001b[0;36m__call__\u001b[0;34m(self, value, clip)\u001b[0m\n\u001b[1;32m   1059\u001b[0m             \u001b[0;31m# ma division is very slow; we can take a shortcut\u001b[0m\u001b[0;34m\u001b[0m\u001b[0;34m\u001b[0m\u001b[0;34m\u001b[0m\u001b[0m\n\u001b[1;32m   1060\u001b[0m             \u001b[0mresdat\u001b[0m \u001b[0;34m=\u001b[0m \u001b[0mresult\u001b[0m\u001b[0;34m.\u001b[0m\u001b[0mdata\u001b[0m\u001b[0;34m\u001b[0m\u001b[0;34m\u001b[0m\u001b[0m\n\u001b[0;32m-> 1061\u001b[0;31m             \u001b[0mresdat\u001b[0m \u001b[0;34m-=\u001b[0m \u001b[0mvmin\u001b[0m\u001b[0;34m\u001b[0m\u001b[0;34m\u001b[0m\u001b[0m\n\u001b[0m\u001b[1;32m   1062\u001b[0m             \u001b[0mresdat\u001b[0m \u001b[0;34m/=\u001b[0m \u001b[0;34m(\u001b[0m\u001b[0mvmax\u001b[0m \u001b[0;34m-\u001b[0m \u001b[0mvmin\u001b[0m\u001b[0;34m)\u001b[0m\u001b[0;34m\u001b[0m\u001b[0;34m\u001b[0m\u001b[0m\n\u001b[1;32m   1063\u001b[0m             \u001b[0mresult\u001b[0m \u001b[0;34m=\u001b[0m \u001b[0mnp\u001b[0m\u001b[0;34m.\u001b[0m\u001b[0mma\u001b[0m\u001b[0;34m.\u001b[0m\u001b[0marray\u001b[0m\u001b[0;34m(\u001b[0m\u001b[0mresdat\u001b[0m\u001b[0;34m,\u001b[0m \u001b[0mmask\u001b[0m\u001b[0;34m=\u001b[0m\u001b[0mresult\u001b[0m\u001b[0;34m.\u001b[0m\u001b[0mmask\u001b[0m\u001b[0;34m,\u001b[0m \u001b[0mcopy\u001b[0m\u001b[0;34m=\u001b[0m\u001b[0;32mFalse\u001b[0m\u001b[0;34m)\u001b[0m\u001b[0;34m\u001b[0m\u001b[0;34m\u001b[0m\u001b[0m\n",
      "\u001b[0;31mTypeError\u001b[0m: unsupported operand type(s) for -: 'str' and 'float'"
     ]
    },
    {
     "data": {
      "image/png": "[encoded data removed]",
      "text/plain": [
       "<Figure size 1440x1440 with 2 Axes>"
      ]
     },
     "metadata": {
      "needs_background": "light"
     },
     "output_type": "display_data"
    }
   ],
   "source": [
    "fig, ax = plt.subplots(figsize = (20,20))\n",
    "seaborn.heatmap(results_df, cmap='rainbow', ax = ax)\n",
    "plt.show()"
   ]
  },
  {
   "cell_type": "code",
   "execution_count": null,
   "metadata": {},
   "outputs": [],
   "source": []
  }
 ],
 "metadata": {
  "anaconda-cloud": {},
  "kernelspec": {
   "display_name": "Python 3",
   "language": "python",
   "name": "python3"
  },
  "language_info": {
   "codemirror_mode": {
    "name": "ipython",
    "version": 3
   },
   "file_extension": ".py",
   "mimetype": "text/x-python",
   "name": "python",
   "nbconvert_exporter": "python",
   "pygments_lexer": "ipython3",
   "version": "3.7.6"
  }
 },
 "nbformat": 4,
 "nbformat_minor": 1
}
