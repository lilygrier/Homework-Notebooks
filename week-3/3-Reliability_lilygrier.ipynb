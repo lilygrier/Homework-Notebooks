{
 "cells": [
  {
   "cell_type": "markdown",
   "metadata": {},
   "source": [
    "# Week 2 - Sampling & Reliability\n",
    "\n",
    "Up until this week, we have assumed that the corpus you have used for analysis assignments represented a *meaningful* assemblage of texts from which reasonable inferences could be drawn about the social game, social world and social actors that produced it. \n",
    "\n",
    "This week, we ask you to build a corpus for preliminary analysis and articulate what your sample represents in context of your final project. We begin by exploring how we can get *human* readings of content at scale. We want to gather and utilize human responses for several reasons. First, we may want to use crowdsourced human scores as the primary method of coding, extracting or organizing content (as it was in two of the assigned readings). Second, we may want to validate or tune a computational algorithm we may have developed in terms of how it is associated with human meanings or experience. Finally, we may want to use human coding on a sample of data as the basis for training a model or algorithm to then extrapolate *human-like* annotations to the entire population. Here intelligent sampling is critical to maximize effective maching training. \n",
    "\n",
    "For this notebook we will be using the following packages"
   ]
  },
  {
   "cell_type": "code",
   "execution_count": 1,
   "metadata": {},
   "outputs": [
    {
     "name": "stdout",
     "output_type": "stream",
     "text": [
      "Collecting git+git://github.com/Computational-Content-Analysis-2020/lucem_illud_2020.git\n",
      "  Cloning git://github.com/Computational-Content-Analysis-2020/lucem_illud_2020.git to /private/var/folders/1s/smh2hpds5dx3qkk3b1j6x5dw0000gn/T/pip-req-build-locv4_an\n",
      "Requirement already satisfied: numpy in /opt/anaconda3/lib/python3.7/site-packages (from lucem-illud-2020==8.0.1) (1.19.2)\n",
      "Requirement already satisfied: requests in /opt/anaconda3/lib/python3.7/site-packages (from lucem-illud-2020==8.0.1) (2.25.0)\n",
      "Requirement already satisfied: pandas in /opt/anaconda3/lib/python3.7/site-packages (from lucem-illud-2020==8.0.1) (1.1.3)\n",
      "Requirement already satisfied: python-docx in /opt/anaconda3/lib/python3.7/site-packages (from lucem-illud-2020==8.0.1) (0.8.10)\n",
      "Requirement already satisfied: pillow in /opt/anaconda3/lib/python3.7/site-packages (from lucem-illud-2020==8.0.1) (8.0.1)\n",
      "Requirement already satisfied: pdfminer2 in /opt/anaconda3/lib/python3.7/site-packages (from lucem-illud-2020==8.0.1) (20151206)\n",
      "Requirement already satisfied: GitPython in /opt/anaconda3/lib/python3.7/site-packages (from lucem-illud-2020==8.0.1) (3.1.12)\n",
      "Requirement already satisfied: wordcloud in /opt/anaconda3/lib/python3.7/site-packages (from lucem-illud-2020==8.0.1) (1.8.1)\n",
      "Requirement already satisfied: scipy in /opt/anaconda3/lib/python3.7/site-packages (from lucem-illud-2020==8.0.1) (1.5.2)\n",
      "Requirement already satisfied: seaborn in /opt/anaconda3/lib/python3.7/site-packages (from lucem-illud-2020==8.0.1) (0.11.0)\n",
      "Requirement already satisfied: scikit-learn in /opt/anaconda3/lib/python3.7/site-packages (from lucem-illud-2020==8.0.1) (0.23.2)\n",
      "Requirement already satisfied: nltk in /opt/anaconda3/lib/python3.7/site-packages (from lucem-illud-2020==8.0.1) (3.5)\n",
      "Requirement already satisfied: gensim in /opt/anaconda3/lib/python3.7/site-packages (from lucem-illud-2020==8.0.1) (3.8.3)\n",
      "Requirement already satisfied: matplotlib in /opt/anaconda3/lib/python3.7/site-packages (from lucem-illud-2020==8.0.1) (3.3.2)\n",
      "Requirement already satisfied: pyanno3 in /opt/anaconda3/lib/python3.7/site-packages (from lucem-illud-2020==8.0.1) (2.0.2)\n",
      "Requirement already satisfied: beautifulsoup4 in /opt/anaconda3/lib/python3.7/site-packages (from lucem-illud-2020==8.0.1) (4.9.3)\n",
      "Requirement already satisfied: graphviz in /opt/anaconda3/lib/python3.7/site-packages (from lucem-illud-2020==8.0.1) (0.14)\n",
      "Requirement already satisfied: boto3 in /opt/anaconda3/lib/python3.7/site-packages (from lucem-illud-2020==8.0.1) (1.16.4)\n",
      "Requirement already satisfied: networkx in /opt/anaconda3/lib/python3.7/site-packages (from lucem-illud-2020==8.0.1) (2.5)\n",
      "Requirement already satisfied: pydub in /opt/anaconda3/lib/python3.7/site-packages (from lucem-illud-2020==8.0.1) (0.24.1)\n",
      "Requirement already satisfied: speechrecognition in /opt/anaconda3/lib/python3.7/site-packages (from lucem-illud-2020==8.0.1) (3.8.1)\n",
      "Requirement already satisfied: pysoundfile in /opt/anaconda3/lib/python3.7/site-packages (from lucem-illud-2020==8.0.1) (0.9.0.post1)\n",
      "Requirement already satisfied: scikit-image in /opt/anaconda3/lib/python3.7/site-packages (from lucem-illud-2020==8.0.1) (0.17.2)\n",
      "Requirement already satisfied: IPython in /opt/anaconda3/lib/python3.7/site-packages (from lucem-illud-2020==8.0.1) (7.19.0)\n",
      "Requirement already satisfied: spacy in /opt/anaconda3/lib/python3.7/site-packages (from lucem-illud-2020==8.0.1) (2.3.2)\n",
      "Requirement already satisfied: Pillow in /opt/anaconda3/lib/python3.7/site-packages (from lucem-illud-2020==8.0.1) (8.0.1)\n",
      "Requirement already satisfied: soupsieve>1.2 in /opt/anaconda3/lib/python3.7/site-packages (from beautifulsoup4->lucem-illud-2020==8.0.1) (2.0.1)\n",
      "Requirement already satisfied: botocore<1.20.0,>=1.19.4 in /opt/anaconda3/lib/python3.7/site-packages (from boto3->lucem-illud-2020==8.0.1) (1.19.4)\n",
      "Requirement already satisfied: s3transfer<0.4.0,>=0.3.0 in /opt/anaconda3/lib/python3.7/site-packages (from boto3->lucem-illud-2020==8.0.1) (0.3.3)\n",
      "Requirement already satisfied: jmespath<1.0.0,>=0.7.1 in /opt/anaconda3/lib/python3.7/site-packages (from boto3->lucem-illud-2020==8.0.1) (0.10.0)\n",
      "Requirement already satisfied: urllib3<1.26,>=1.25.4 in /opt/anaconda3/lib/python3.7/site-packages (from botocore<1.20.0,>=1.19.4->boto3->lucem-illud-2020==8.0.1) (1.25.11)\n",
      "Requirement already satisfied: python-dateutil<3.0.0,>=2.1 in /opt/anaconda3/lib/python3.7/site-packages (from botocore<1.20.0,>=1.19.4->boto3->lucem-illud-2020==8.0.1) (2.8.1)\n",
      "Requirement already satisfied: jmespath<1.0.0,>=0.7.1 in /opt/anaconda3/lib/python3.7/site-packages (from boto3->lucem-illud-2020==8.0.1) (0.10.0)\n",
      "Requirement already satisfied: smart-open>=1.8.1 in /opt/anaconda3/lib/python3.7/site-packages (from gensim->lucem-illud-2020==8.0.1) (4.1.2)\n",
      "Requirement already satisfied: numpy in /opt/anaconda3/lib/python3.7/site-packages (from lucem-illud-2020==8.0.1) (1.19.2)\n",
      "Requirement already satisfied: six>=1.5.0 in /opt/anaconda3/lib/python3.7/site-packages (from gensim->lucem-illud-2020==8.0.1) (1.15.0)\n",
      "Requirement already satisfied: scipy in /opt/anaconda3/lib/python3.7/site-packages (from lucem-illud-2020==8.0.1) (1.5.2)\n",
      "Requirement already satisfied: gitdb<5,>=4.0.1 in /opt/anaconda3/lib/python3.7/site-packages (from GitPython->lucem-illud-2020==8.0.1) (4.0.5)\n",
      "Requirement already satisfied: smmap<4,>=3.0.1 in /opt/anaconda3/lib/python3.7/site-packages (from gitdb<5,>=4.0.1->GitPython->lucem-illud-2020==8.0.1) (3.0.5)\n",
      "Requirement already satisfied: jedi>=0.10 in /opt/anaconda3/lib/python3.7/site-packages (from IPython->lucem-illud-2020==8.0.1) (0.14.1)\n",
      "Requirement already satisfied: pexpect>4.3 in /opt/anaconda3/lib/python3.7/site-packages (from IPython->lucem-illud-2020==8.0.1) (4.8.0)\n",
      "Requirement already satisfied: decorator in /opt/anaconda3/lib/python3.7/site-packages (from IPython->lucem-illud-2020==8.0.1) (4.4.2)\n",
      "Requirement already satisfied: traitlets>=4.2 in /opt/anaconda3/lib/python3.7/site-packages (from IPython->lucem-illud-2020==8.0.1) (5.0.5)\n",
      "Requirement already satisfied: prompt-toolkit!=3.0.0,!=3.0.1,<3.1.0,>=2.0.0 in /opt/anaconda3/lib/python3.7/site-packages (from IPython->lucem-illud-2020==8.0.1) (3.0.8)\n",
      "Requirement already satisfied: appnope in /opt/anaconda3/lib/python3.7/site-packages (from IPython->lucem-illud-2020==8.0.1) (0.1.2)\n",
      "Requirement already satisfied: backcall in /opt/anaconda3/lib/python3.7/site-packages (from IPython->lucem-illud-2020==8.0.1) (0.2.0)\n",
      "Requirement already satisfied: pygments in /opt/anaconda3/lib/python3.7/site-packages (from IPython->lucem-illud-2020==8.0.1) (2.7.2)\n",
      "Requirement already satisfied: pickleshare in /opt/anaconda3/lib/python3.7/site-packages (from IPython->lucem-illud-2020==8.0.1) (0.7.5)\n",
      "Requirement already satisfied: setuptools>=18.5 in /opt/anaconda3/lib/python3.7/site-packages (from IPython->lucem-illud-2020==8.0.1) (50.3.2.post20201201)\n",
      "Requirement already satisfied: parso>=0.5.0 in /opt/anaconda3/lib/python3.7/site-packages (from jedi>=0.10->IPython->lucem-illud-2020==8.0.1) (0.5.2)\n",
      "Requirement already satisfied: numpy in /opt/anaconda3/lib/python3.7/site-packages (from lucem-illud-2020==8.0.1) (1.19.2)\n",
      "Requirement already satisfied: kiwisolver>=1.0.1 in /opt/anaconda3/lib/python3.7/site-packages (from matplotlib->lucem-illud-2020==8.0.1) (1.3.0)\n",
      "Requirement already satisfied: pyparsing!=2.0.4,!=2.1.2,!=2.1.6,>=2.0.3 in /opt/anaconda3/lib/python3.7/site-packages (from matplotlib->lucem-illud-2020==8.0.1) (2.4.7)\n",
      "Requirement already satisfied: python-dateutil<3.0.0,>=2.1 in /opt/anaconda3/lib/python3.7/site-packages (from botocore<1.20.0,>=1.19.4->boto3->lucem-illud-2020==8.0.1) (2.8.1)\n",
      "Requirement already satisfied: certifi>=2020.06.20 in /opt/anaconda3/lib/python3.7/site-packages (from matplotlib->lucem-illud-2020==8.0.1) (2020.11.8)\n",
      "Requirement already satisfied: Pillow in /opt/anaconda3/lib/python3.7/site-packages (from lucem-illud-2020==8.0.1) (8.0.1)\n",
      "Requirement already satisfied: cycler>=0.10 in /opt/anaconda3/lib/python3.7/site-packages (from matplotlib->lucem-illud-2020==8.0.1) (0.10.0)\n",
      "Requirement already satisfied: six>=1.5.0 in /opt/anaconda3/lib/python3.7/site-packages (from gensim->lucem-illud-2020==8.0.1) (1.15.0)\n",
      "Requirement already satisfied: decorator in /opt/anaconda3/lib/python3.7/site-packages (from IPython->lucem-illud-2020==8.0.1) (4.4.2)\n"
     ]
    },
    {
     "name": "stdout",
     "output_type": "stream",
     "text": [
      "Requirement already satisfied: click in /opt/anaconda3/lib/python3.7/site-packages (from nltk->lucem-illud-2020==8.0.1) (7.1.2)\n",
      "Requirement already satisfied: tqdm in /opt/anaconda3/lib/python3.7/site-packages (from nltk->lucem-illud-2020==8.0.1) (4.54.0)\n",
      "Requirement already satisfied: regex in /opt/anaconda3/lib/python3.7/site-packages (from nltk->lucem-illud-2020==8.0.1) (2020.11.13)\n",
      "Requirement already satisfied: joblib in /opt/anaconda3/lib/python3.7/site-packages (from nltk->lucem-illud-2020==8.0.1) (0.17.0)\n",
      "Requirement already satisfied: pytz>=2017.2 in /opt/anaconda3/lib/python3.7/site-packages (from pandas->lucem-illud-2020==8.0.1) (2020.4)\n",
      "Requirement already satisfied: python-dateutil<3.0.0,>=2.1 in /opt/anaconda3/lib/python3.7/site-packages (from botocore<1.20.0,>=1.19.4->boto3->lucem-illud-2020==8.0.1) (2.8.1)\n",
      "Requirement already satisfied: numpy in /opt/anaconda3/lib/python3.7/site-packages (from lucem-illud-2020==8.0.1) (1.19.2)\n",
      "Requirement already satisfied: six>=1.5.0 in /opt/anaconda3/lib/python3.7/site-packages (from gensim->lucem-illud-2020==8.0.1) (1.15.0)\n",
      "Requirement already satisfied: ptyprocess>=0.5 in /opt/anaconda3/lib/python3.7/site-packages (from pexpect>4.3->IPython->lucem-illud-2020==8.0.1) (0.6.0)\n",
      "Requirement already satisfied: wcwidth in /opt/anaconda3/lib/python3.7/site-packages (from prompt-toolkit!=3.0.0,!=3.0.1,<3.1.0,>=2.0.0->IPython->lucem-illud-2020==8.0.1) (0.2.5)\n",
      "Requirement already satisfied: traits in /opt/anaconda3/lib/python3.7/site-packages (from pyanno3->lucem-illud-2020==8.0.1) (6.2.0)\n",
      "Requirement already satisfied: scipy in /opt/anaconda3/lib/python3.7/site-packages (from lucem-illud-2020==8.0.1) (1.5.2)\n",
      "Requirement already satisfied: numpy in /opt/anaconda3/lib/python3.7/site-packages (from lucem-illud-2020==8.0.1) (1.19.2)\n",
      "Requirement already satisfied: cffi>=0.6 in /opt/anaconda3/lib/python3.7/site-packages (from pysoundfile->lucem-illud-2020==8.0.1) (1.14.0)\n",
      "Requirement already satisfied: pycparser in /opt/anaconda3/lib/python3.7/site-packages (from cffi>=0.6->pysoundfile->lucem-illud-2020==8.0.1) (2.20)\n",
      "Requirement already satisfied: six>=1.5.0 in /opt/anaconda3/lib/python3.7/site-packages (from gensim->lucem-illud-2020==8.0.1) (1.15.0)\n",
      "Requirement already satisfied: lxml>=2.3.2 in /opt/anaconda3/lib/python3.7/site-packages (from python-docx->lucem-illud-2020==8.0.1) (4.6.2)\n",
      "Requirement already satisfied: idna<3,>=2.5 in /opt/anaconda3/lib/python3.7/site-packages (from requests->lucem-illud-2020==8.0.1) (2.10)\n",
      "Requirement already satisfied: chardet<4,>=3.0.2 in /opt/anaconda3/lib/python3.7/site-packages (from requests->lucem-illud-2020==8.0.1) (3.0.4)\n",
      "Requirement already satisfied: urllib3<1.26,>=1.25.4 in /opt/anaconda3/lib/python3.7/site-packages (from botocore<1.20.0,>=1.19.4->boto3->lucem-illud-2020==8.0.1) (1.25.11)\n",
      "Requirement already satisfied: certifi>=2020.06.20 in /opt/anaconda3/lib/python3.7/site-packages (from matplotlib->lucem-illud-2020==8.0.1) (2020.11.8)\n",
      "Requirement already satisfied: botocore<1.20.0,>=1.19.4 in /opt/anaconda3/lib/python3.7/site-packages (from boto3->lucem-illud-2020==8.0.1) (1.19.4)\n",
      "Requirement already satisfied: numpy in /opt/anaconda3/lib/python3.7/site-packages (from lucem-illud-2020==8.0.1) (1.19.2)\n",
      "Requirement already satisfied: scipy in /opt/anaconda3/lib/python3.7/site-packages (from lucem-illud-2020==8.0.1) (1.5.2)\n",
      "Requirement already satisfied: matplotlib in /opt/anaconda3/lib/python3.7/site-packages (from lucem-illud-2020==8.0.1) (3.3.2)\n",
      "Requirement already satisfied: networkx in /opt/anaconda3/lib/python3.7/site-packages (from lucem-illud-2020==8.0.1) (2.5)\n",
      "Requirement already satisfied: Pillow in /opt/anaconda3/lib/python3.7/site-packages (from lucem-illud-2020==8.0.1) (8.0.1)\n",
      "Requirement already satisfied: imageio>=2.3.0 in /opt/anaconda3/lib/python3.7/site-packages (from scikit-image->lucem-illud-2020==8.0.1) (2.9.0)\n",
      "Requirement already satisfied: tifffile>=2019.7.26 in /opt/anaconda3/lib/python3.7/site-packages (from scikit-image->lucem-illud-2020==8.0.1) (2020.11.26)\n",
      "Requirement already satisfied: PyWavelets>=1.1.1 in /opt/anaconda3/lib/python3.7/site-packages (from scikit-image->lucem-illud-2020==8.0.1) (1.1.1)\n",
      "Requirement already satisfied: Pillow in /opt/anaconda3/lib/python3.7/site-packages (from lucem-illud-2020==8.0.1) (8.0.1)\n",
      "Requirement already satisfied: numpy in /opt/anaconda3/lib/python3.7/site-packages (from lucem-illud-2020==8.0.1) (1.19.2)\n",
      "Requirement already satisfied: numpy in /opt/anaconda3/lib/python3.7/site-packages (from lucem-illud-2020==8.0.1) (1.19.2)\n",
      "Requirement already satisfied: scipy in /opt/anaconda3/lib/python3.7/site-packages (from lucem-illud-2020==8.0.1) (1.5.2)\n",
      "Requirement already satisfied: numpy in /opt/anaconda3/lib/python3.7/site-packages (from lucem-illud-2020==8.0.1) (1.19.2)\n",
      "Requirement already satisfied: joblib in /opt/anaconda3/lib/python3.7/site-packages (from nltk->lucem-illud-2020==8.0.1) (0.17.0)\n",
      "Requirement already satisfied: threadpoolctl>=2.0.0 in /opt/anaconda3/lib/python3.7/site-packages (from scikit-learn->lucem-illud-2020==8.0.1) (2.1.0)\n",
      "Requirement already satisfied: numpy in /opt/anaconda3/lib/python3.7/site-packages (from lucem-illud-2020==8.0.1) (1.19.2)\n",
      "Requirement already satisfied: numpy in /opt/anaconda3/lib/python3.7/site-packages (from lucem-illud-2020==8.0.1) (1.19.2)\n",
      "Requirement already satisfied: pandas in /opt/anaconda3/lib/python3.7/site-packages (from lucem-illud-2020==8.0.1) (1.1.3)\n",
      "Requirement already satisfied: matplotlib in /opt/anaconda3/lib/python3.7/site-packages (from lucem-illud-2020==8.0.1) (3.3.2)\n",
      "Requirement already satisfied: scipy in /opt/anaconda3/lib/python3.7/site-packages (from lucem-illud-2020==8.0.1) (1.5.2)\n",
      "Requirement already satisfied: numpy in /opt/anaconda3/lib/python3.7/site-packages (from lucem-illud-2020==8.0.1) (1.19.2)\n",
      "Requirement already satisfied: murmurhash<1.1.0,>=0.28.0 in /opt/anaconda3/lib/python3.7/site-packages (from spacy->lucem-illud-2020==8.0.1) (1.0.2)\n",
      "Requirement already satisfied: setuptools>=18.5 in /opt/anaconda3/lib/python3.7/site-packages (from IPython->lucem-illud-2020==8.0.1) (50.3.2.post20201201)\n",
      "Requirement already satisfied: thinc==7.4.1 in /opt/anaconda3/lib/python3.7/site-packages (from spacy->lucem-illud-2020==8.0.1) (7.4.1)\n",
      "Requirement already satisfied: preshed<3.1.0,>=3.0.2 in /opt/anaconda3/lib/python3.7/site-packages (from spacy->lucem-illud-2020==8.0.1) (3.0.2)\n",
      "Requirement already satisfied: srsly<1.1.0,>=1.0.2 in /opt/anaconda3/lib/python3.7/site-packages (from spacy->lucem-illud-2020==8.0.1) (1.0.2)\n",
      "Requirement already satisfied: plac<1.2.0,>=0.9.6 in /opt/anaconda3/lib/python3.7/site-packages (from spacy->lucem-illud-2020==8.0.1) (1.1.3)\n",
      "Requirement already satisfied: cymem<2.1.0,>=2.0.2 in /opt/anaconda3/lib/python3.7/site-packages (from spacy->lucem-illud-2020==8.0.1) (2.0.3)\n",
      "Requirement already satisfied: catalogue<1.1.0,>=0.0.7 in /opt/anaconda3/lib/python3.7/site-packages (from spacy->lucem-illud-2020==8.0.1) (1.0.0)\n",
      "Requirement already satisfied: tqdm in /opt/anaconda3/lib/python3.7/site-packages (from nltk->lucem-illud-2020==8.0.1) (4.54.0)\n",
      "Requirement already satisfied: requests in /opt/anaconda3/lib/python3.7/site-packages (from lucem-illud-2020==8.0.1) (2.25.0)\n",
      "Requirement already satisfied: blis<0.5.0,>=0.4.0 in /opt/anaconda3/lib/python3.7/site-packages (from spacy->lucem-illud-2020==8.0.1) (0.4.1)\n",
      "Requirement already satisfied: wasabi<1.1.0,>=0.4.0 in /opt/anaconda3/lib/python3.7/site-packages (from spacy->lucem-illud-2020==8.0.1) (0.7.1)\n",
      "Requirement already satisfied: numpy in /opt/anaconda3/lib/python3.7/site-packages (from lucem-illud-2020==8.0.1) (1.19.2)\n",
      "Requirement already satisfied: importlib-metadata>=0.20 in /opt/anaconda3/lib/python3.7/site-packages (from catalogue<1.1.0,>=0.0.7->spacy->lucem-illud-2020==8.0.1) (2.0.0)\n",
      "Requirement already satisfied: zipp>=0.5 in /opt/anaconda3/lib/python3.7/site-packages (from importlib-metadata>=0.20->catalogue<1.1.0,>=0.0.7->spacy->lucem-illud-2020==8.0.1) (3.4.0)\n",
      "Requirement already satisfied: murmurhash<1.1.0,>=0.28.0 in /opt/anaconda3/lib/python3.7/site-packages (from spacy->lucem-illud-2020==8.0.1) (1.0.2)\n",
      "Requirement already satisfied: cymem<2.1.0,>=2.0.2 in /opt/anaconda3/lib/python3.7/site-packages (from spacy->lucem-illud-2020==8.0.1) (2.0.3)\n"
     ]
    },
    {
     "name": "stdout",
     "output_type": "stream",
     "text": [
      "Requirement already satisfied: murmurhash<1.1.0,>=0.28.0 in /opt/anaconda3/lib/python3.7/site-packages (from spacy->lucem-illud-2020==8.0.1) (1.0.2)\n",
      "Requirement already satisfied: wasabi<1.1.0,>=0.4.0 in /opt/anaconda3/lib/python3.7/site-packages (from spacy->lucem-illud-2020==8.0.1) (0.7.1)\n",
      "Requirement already satisfied: tqdm in /opt/anaconda3/lib/python3.7/site-packages (from nltk->lucem-illud-2020==8.0.1) (4.54.0)\n",
      "Requirement already satisfied: plac<1.2.0,>=0.9.6 in /opt/anaconda3/lib/python3.7/site-packages (from spacy->lucem-illud-2020==8.0.1) (1.1.3)\n",
      "Requirement already satisfied: cymem<2.1.0,>=2.0.2 in /opt/anaconda3/lib/python3.7/site-packages (from spacy->lucem-illud-2020==8.0.1) (2.0.3)\n",
      "Requirement already satisfied: catalogue<1.1.0,>=0.0.7 in /opt/anaconda3/lib/python3.7/site-packages (from spacy->lucem-illud-2020==8.0.1) (1.0.0)\n",
      "Requirement already satisfied: numpy in /opt/anaconda3/lib/python3.7/site-packages (from lucem-illud-2020==8.0.1) (1.19.2)\n",
      "Requirement already satisfied: srsly<1.1.0,>=1.0.2 in /opt/anaconda3/lib/python3.7/site-packages (from spacy->lucem-illud-2020==8.0.1) (1.0.2)\n",
      "Requirement already satisfied: blis<0.5.0,>=0.4.0 in /opt/anaconda3/lib/python3.7/site-packages (from spacy->lucem-illud-2020==8.0.1) (0.4.1)\n",
      "Requirement already satisfied: preshed<3.1.0,>=3.0.2 in /opt/anaconda3/lib/python3.7/site-packages (from spacy->lucem-illud-2020==8.0.1) (3.0.2)\n",
      "Requirement already satisfied: numpy in /opt/anaconda3/lib/python3.7/site-packages (from lucem-illud-2020==8.0.1) (1.19.2)\n",
      "Requirement already satisfied: ipython-genutils in /opt/anaconda3/lib/python3.7/site-packages (from traitlets>=4.2->IPython->lucem-illud-2020==8.0.1) (0.2.0)\n",
      "Requirement already satisfied: Pillow in /opt/anaconda3/lib/python3.7/site-packages (from lucem-illud-2020==8.0.1) (8.0.1)\n",
      "Requirement already satisfied: numpy in /opt/anaconda3/lib/python3.7/site-packages (from lucem-illud-2020==8.0.1) (1.19.2)\n",
      "Requirement already satisfied: matplotlib in /opt/anaconda3/lib/python3.7/site-packages (from lucem-illud-2020==8.0.1) (3.3.2)\n",
      "Note: you may need to restart the kernel to use updated packages.\n"
     ]
    }
   ],
   "source": [
    "pip install -U git+git://github.com/Computational-Content-Analysis-2020/lucem_illud_2020.git"
   ]
  },
  {
   "cell_type": "code",
   "execution_count": 2,
   "metadata": {},
   "outputs": [],
   "source": [
    "#Special module written for this class\n",
    "#This provides access to data and to helper functions from previous weeks\n",
    "#Make sure you update it before starting this notebook\n",
    "import lucem_illud_2020 #pip install -U git+git://github.com/Computational-Content-Analysis-2020/lucem_illud_2020.git\n",
    "\n",
    "#All these packages need to be installed from pip\n",
    "import numpy as np #For arrays\n",
    "import scipy as sp #For some stats\n",
    "import pandas #Gives us DataFrames\n",
    "import matplotlib.pyplot as plt #For graphics\n",
    "import seaborn #Makes the graphics look nicer\n",
    "import pyanno #On python3 make sure to pip install pyanno3\n",
    "\n",
    "#We need to import these this way due to how pyanno is setup\n",
    "from pyanno.measures import pairwise_matrix, agreement, cohens_kappa, cohens_weighted_kappa, fleiss_kappa, krippendorffs_alpha, pearsons_rho, scotts_pi, spearmans_rho\n",
    "from pyanno.annotations import AnnotationsContainer\n",
    "from pyanno.models import ModelA, ModelBt, ModelB\n",
    "\n",
    "from functools import reduce\n",
    "from itertools import permutations\n",
    "import math\n",
    "\n",
    "\n",
    "#This 'magic' command makes the plots work better\n",
    "#in the notebook, don't use it outside of a notebook.\n",
    "#Also you can ignore the warning\n",
    "%matplotlib inline\n",
    "\n",
    "import os #For looking through files\n",
    "import os.path #For managing file paths"
   ]
  },
  {
   "cell_type": "markdown",
   "metadata": {},
   "source": [
    "## <span style=\"color:red\">*Pitch the Domain of your Project*</span>\n",
    "\n",
    "<span style=\"color:red\">In the two cells immediately following, describe **WHAT** you are planning to analyze for your final project (i.e., texts, contexts and the social game, world and actors you intend to learn about through your analysis) (<200 words) and **WHY** you are going to do it (i.e., why would theory and/or the average person benefit from knowing the results of your investigation) (<200 words)? [**Note**: your individual or collective project can change over the course of the quarter if new data and/or analysis opportunities arise or if old ones fade away.]"
   ]
  },
  {
   "attachments": {},
   "cell_type": "markdown",
   "metadata": {},
   "source": [
    "## ***What?*** \n",
    "NOTE: I will be working in a team with classmates Roberto Barroso-Luque and Linh Dinh for this project.\n",
    "\n",
    "\n",
    "I am interested in exploring the relationship between US presidential rhetoric surrounding climate change, climate-related executive orders, and how the public perceives these orders. I plan to incorporate three corpuses: 1) transcripts from presidential speeches, 2) executive orders, and 3) climate-related news from the NOW corpus. We choose to consider the role of the president and not other political actors because we believe the president has great influence over public perception of climate change. \n",
    "\n",
    "\n",
    "We are interested in questions such as: when a president issues a policy that results in environmental de-regulations, do his speeches focus on creating jobs in the energy sector rather than on trying to justify or deny the environmental harm? Adding on the layer of news coverage of climate talk and policy could answer questions such as what makes climate rhetoric more or less convincing. Specifically, I’d be interested in whether there are presidents who promote similar climate policies yet garner different levels of media support for those policies (i.e., whether it is possible to make a single policy more or less appealing through different framings). "
   ]
  },
  {
   "attachments": {},
   "cell_type": "markdown",
   "metadata": {},
   "source": [
    "## ***Why?***\n",
    "One question of consequence is how much sway presidential rhetoric has public discourse (as manifested in media coverage) over climate change. If the president denies climate change, or chooses to talk about “clean coal” instead of pollution, how does the media subsequently discuss climate change? Does climate coverage change based on the extent of a source’s ideological alignment with the president? Understanding how much of a role the president plays in public opinion on environmental issues reflects how much power in general the president has. \n",
    "There is a narrative that the Republican Party’s has become more against climate regulation over time, and it would be interesting to see whether speeches and executive orders of Republican presidents reveal any truth in this. Because news media is a major informational channel, the amount of influence a president has over media coverage can determine the president’s (indirect) influence over the average person. These results could also help identify coded climate-related language and allow people to make sense of the practical implications of buzzword-laden communications as revealed by policies enacted through executive orders. Identifying frameworks that dominate climate change discourse across presidencies is important because it reveals the context within which people form opinions.\n"
   ]
  },
  {
   "cell_type": "markdown",
   "metadata": {},
   "source": [
    "## <span style=\"color:red\">*Pitch Your Sample*</span>\n",
    "\n",
    "<span style=\"color:red\">In the cell immediately following, describe the rationale behind your proposed sample design for your final project. What is the social game, social work, or social actors about whom you are seeking to make inferences? What are its virtues with respect to your research questions? What are its limitations? What are alternatives? What would be a reasonable path to \"scale up\" your sample for further analysis (i.e., high-profile publication)? (<200 words)."
   ]
  },
  {
   "cell_type": "markdown",
   "metadata": {},
   "source": [
    "We will examine speeches and executive orders and see how presidents present and justify their executive orders through speech, and evaluate fluctuations in media coverage surrounding these events. We will limit our analysis to Clinton onward; future scaling could incorporate previous presidents as well. Arguably, the composition of the House and Senate has more influence over national climate legislation (and policy in general) than the president, but we believe an administration’s attitudes toward environmental policy can set a tone for the nation and thus merits analysis. \n",
    "\n",
    "\n",
    "One limitation is that attempting to evaluate the impact of presidential rhetoric on media coverage of climate change assumes the media is paying attention to these speeches. We intend to evaluate media coverage of the environment two weeks before and after a presidential speech or executive order. Because not mentioning terms such as climate change and global warming when talking about the environment (as well as the extent to which sources cover climate change at various points in time) is itself important, it will be challenging to assess news fluctuations. Further, we are limiting our study to formal speeches and not other forms of communication (i.e., Tweets) through which presidents may reach more of the American public. Future iterations could incorporate a wider array of presidential communications.\n"
   ]
  },
  {
   "cell_type": "markdown",
   "metadata": {},
   "source": [
    "# Example Annotation Dataset"
   ]
  },
  {
   "cell_type": "markdown",
   "metadata": {},
   "source": [
    "Load Rzhetsky et al (2009)'s sample dataset, which can be found [here](https://github.com/enthought/uchicago-pyanno/tree/master/data). This data is the result of a content analytic / content extraction study in which Andrey Rzhetsky and colleagues from the National Library of Medicine, published [here](http://journals.plos.org/ploscompbiol/article?id=10.1371/journal.pcbi.1000391) in [PLOS Computational Biology](http://journals.plos.org/ploscompbiol/), gave eight annotators 10,000 sentence chunks from biomedical text in biomedical abstracts and articles, then asked them, in a loop design schematically illustrated below that provided 3 independent codings for each document. The sampling strategy pursued diversity by drawing from PubMed abstracts (1000) and full-text articles (9000: 20% from abstracts, 10% from introductions, 20% from methods, 25% from results, and 25% from discussions.) The dataset extract here involves respondents codes for sentences in terms of their *Evidence*: {0, 1, 2, 3, -1} where 0 is the complete lack of evidence, 3 is direct evidence present within the sentence, and -1 is didn't respond. (They also crowdsourced and analyzed *polarity*, *certainty*, and *number*). For example, consider the following two abutting sentence chunks: *\"Because null mutations in toxR and toxT abolish CT and TcpA expression in the El Tor biotype and also attenuate virulence...\"* [i.e., average certainty = 0], *\"...it is likely that the ToxR regulon has functional similarities between the two biotypes despite the clear differences in the inducing parameters observed in vitro\"* [i.e., average certainty = 1].\""
   ]
  },
  {
   "cell_type": "code",
   "execution_count": 3,
   "metadata": {},
   "outputs": [
    {
     "data": {
      "text/html": [
       "<img source=\"loopdesign.png\">\n"
      ],
      "text/plain": [
       "<IPython.core.display.HTML object>"
      ]
     },
     "metadata": {},
     "output_type": "display_data"
    }
   ],
   "source": [
    "%%html\n",
    "<img source=\"loopdesign.png\">"
   ]
  },
  {
   "cell_type": "markdown",
   "metadata": {},
   "source": [
    "[Click here for loop design](loopdesign.png)"
   ]
  },
  {
   "cell_type": "code",
   "execution_count": 4,
   "metadata": {},
   "outputs": [],
   "source": [
    "x = np.loadtxt(\"../data/pyAnno/testdata_numerical.txt\")\n",
    "anno = AnnotationsContainer.from_array(x, missing_values=[-1])"
   ]
  },
  {
   "cell_type": "markdown",
   "metadata": {},
   "source": [
    "Interrogate the AnnotationsContainer object."
   ]
  },
  {
   "cell_type": "code",
   "execution_count": 5,
   "metadata": {},
   "outputs": [
    {
     "data": {
      "text/plain": [
       "array([[ 1,  2,  3, ..., -1, -1, -1],\n",
       "       [ 0,  0,  0, ..., -1, -1, -1],\n",
       "       [ 2,  2,  1, ..., -1, -1, -1],\n",
       "       ...,\n",
       "       [ 2,  2, -1, ..., -1, -1,  1],\n",
       "       [ 2,  2, -1, ..., -1, -1,  3],\n",
       "       [ 1,  1, -1, ..., -1, -1,  0]])"
      ]
     },
     "execution_count": 5,
     "metadata": {},
     "output_type": "execute_result"
    }
   ],
   "source": [
    "anno.annotations"
   ]
  },
  {
   "cell_type": "code",
   "execution_count": 6,
   "metadata": {},
   "outputs": [
    {
     "data": {
      "text/plain": [
       "[1.0, 2.0, 3.0, 4.0]"
      ]
     },
     "execution_count": 6,
     "metadata": {},
     "output_type": "execute_result"
    }
   ],
   "source": [
    "anno.labels"
   ]
  },
  {
   "cell_type": "code",
   "execution_count": 7,
   "metadata": {},
   "outputs": [
    {
     "data": {
      "text/plain": [
       "[-1]"
      ]
     },
     "execution_count": 7,
     "metadata": {},
     "output_type": "execute_result"
    }
   ],
   "source": [
    "anno.missing_values"
   ]
  },
  {
   "cell_type": "markdown",
   "metadata": {},
   "source": [
    "# Annotation Statistics"
   ]
  },
  {
   "cell_type": "markdown",
   "metadata": {},
   "source": [
    "First, we assume categorical codes...that each code is qualitatively distinct from each other. Two measures are primarily used for this: Scott's $\\pi$, Cohen's $\\kappa$, and Krippendorff's $\\alpha$ which each measure the extent of agreement between two annotators, but take into account the possibility of the agreement occurring by chance in slightly different ways. Any agreement measure begins with the frequency of codes:"
   ]
  },
  {
   "cell_type": "code",
   "execution_count": 8,
   "metadata": {},
   "outputs": [
    {
     "data": {
      "text/plain": [
       "array([0.11666667, 0.245     , 0.34083333, 0.2975    ])"
      ]
     },
     "execution_count": 8,
     "metadata": {},
     "output_type": "execute_result"
    }
   ],
   "source": [
    "pyanno.measures.agreement.labels_frequency(anno.annotations,4)"
   ]
  },
  {
   "cell_type": "markdown",
   "metadata": {},
   "source": [
    "Now consider the \"confusion matrix\" or matrix of coded agreements between any two coders:"
   ]
  },
  {
   "cell_type": "code",
   "execution_count": 9,
   "metadata": {},
   "outputs": [
    {
     "name": "stdout",
     "output_type": "stream",
     "text": [
      "[[ 8.  7.  3.  2.]\n",
      " [ 9. 30. 13.  3.]\n",
      " [ 2.  9. 42. 11.]\n",
      " [ 1.  7. 14. 39.]]\n"
     ]
    },
    {
     "data": {
      "image/png": "[encoded data removed]",
      "text/plain": [
       "<Figure size 432x288 with 2 Axes>"
      ]
     },
     "metadata": {
      "needs_background": "light"
     },
     "output_type": "display_data"
    }
   ],
   "source": [
    "c = pyanno.measures.agreement.confusion_matrix(anno.annotations[:,0], anno.annotations[:,1],4)\n",
    "print(c)\n",
    "ac = seaborn.heatmap(c)\n",
    "plt.show()"
   ]
  },
  {
   "cell_type": "markdown",
   "metadata": {},
   "source": [
    "Scott's $\\pi$ is computed as:\n",
    "\n",
    "$\\pi = \\frac{\\text{Pr}(a)-\\text{Pr}(e)}{1-\\text{Pr}(e)}$\n",
    "\n",
    "Where Pr($a$) is relative observed agreement, and Pr($e$) is expected agreement using joint proportions calculated from the confusion matrix or matrix of coded agreements between any two coders:"
   ]
  },
  {
   "cell_type": "code",
   "execution_count": 10,
   "metadata": {},
   "outputs": [
    {
     "data": {
      "text/plain": [
       "0.4386478265891502"
      ]
     },
     "execution_count": 10,
     "metadata": {},
     "output_type": "execute_result"
    }
   ],
   "source": [
    "scotts_pi(anno.annotations[:,0], anno.annotations[:,1])"
   ]
  },
  {
   "cell_type": "markdown",
   "metadata": {},
   "source": [
    "The generalization of Scott's $\\pi$ to $n$ coders is Fleiss' $\\kappa$ (Fleiss called it $\\kappa$ because he thought he was generalizing Cohen's $\\kappa$)"
   ]
  },
  {
   "cell_type": "code",
   "execution_count": 11,
   "metadata": {},
   "outputs": [
    {
     "data": {
      "text/plain": [
       "0.40417653771912765"
      ]
     },
     "execution_count": 11,
     "metadata": {},
     "output_type": "execute_result"
    }
   ],
   "source": [
    "fleiss_kappa(anno.annotations[::])"
   ]
  },
  {
   "cell_type": "markdown",
   "metadata": {},
   "source": [
    "Krippendorff's $\\alpha$ generalizes of Fleiss' $\\kappa$ to $n$ coders and takes into account the fact that annotations here are not categorically different, but ordinal, by adding a weight matrix in which off-diagonal cells contain weights indicating the seriousness of the disagreement between each score. When produced with no arguments, it simply produces an arithmetic distance (e.g., 3-1=2), such that cells one off the diagonal are weighted 1, two off 2, etc."
   ]
  },
  {
   "cell_type": "code",
   "execution_count": 12,
   "metadata": {},
   "outputs": [
    {
     "data": {
      "text/plain": [
       "0.6472588223831547"
      ]
     },
     "execution_count": 12,
     "metadata": {},
     "output_type": "execute_result"
    }
   ],
   "source": [
    "krippendorffs_alpha(anno.annotations[::])"
   ]
  },
  {
   "cell_type": "markdown",
   "metadata": {},
   "source": [
    "Like Scott's $\\pi$, Cohen's $\\kappa$ also takes into account the possibility of the agreement occurring by chance, but in the following way:\n",
    "\n",
    "$\\kappa = \\frac{p_o-p_e}{1-p_e}=1-\\frac{1-p_o}{p_e}$\n",
    "\n",
    "where $p_o$ is the relative observed agreement among raters, and $p_e$ is the hypothetical probability of chance agreement, using the observed data to calculate the probabilities of each observer randomly saying each category. If the raters are in complete agreement then $\\kappa = 1$. If there is no agreement among the raters other than what would be expected by chance (as given by $p_e$), $\\kappa ≤ 0 $. Here, Cohen's $\\kappa$ statistic for the first two annotators is computed. This is probably the most common metric of agreement."
   ]
  },
  {
   "cell_type": "code",
   "execution_count": 13,
   "metadata": {},
   "outputs": [
    {
     "data": {
      "text/plain": [
       "0.43917037219392857"
      ]
     },
     "execution_count": 13,
     "metadata": {},
     "output_type": "execute_result"
    }
   ],
   "source": [
    "cohens_kappa(anno.annotations[:,0], anno.annotations[:,1])"
   ]
  },
  {
   "cell_type": "code",
   "execution_count": 14,
   "metadata": {},
   "outputs": [
    {
     "name": "stdout",
     "output_type": "stream",
     "text": [
      "[[1.         0.43917037 0.47677621        nan        nan        nan\n",
      "  0.45819119 0.43381462]\n",
      " [0.43917037 1.         0.38432922 0.41344423        nan        nan\n",
      "         nan 0.33643611]\n",
      " [0.47677621 0.38432922 1.         0.39583333 0.51704894        nan\n",
      "         nan        nan]\n",
      " [       nan 0.41344423 0.39583333 1.         0.34597068 0.4446844\n",
      "         nan        nan]\n",
      " [       nan        nan 0.51704894 0.34597068 1.         0.37938644\n",
      "  0.43039733        nan]\n",
      " [       nan        nan        nan 0.4446844  0.37938644 1.\n",
      "  0.38341929 0.31214748]\n",
      " [0.45819119        nan        nan        nan 0.43039733 0.38341929\n",
      "  1.         0.394806  ]\n",
      " [0.43381462 0.33643611        nan        nan        nan 0.31214748\n",
      "  0.394806   1.        ]]\n"
     ]
    }
   ],
   "source": [
    "m = pairwise_matrix(cohens_kappa, anno.annotations)\n",
    "print(m)"
   ]
  },
  {
   "cell_type": "code",
   "execution_count": 15,
   "metadata": {},
   "outputs": [
    {
     "data": {
      "image/png": "[encoded data removed]",
      "text/plain": [
       "<Figure size 432x288 with 2 Axes>"
      ]
     },
     "metadata": {
      "needs_background": "light"
     },
     "output_type": "display_data"
    }
   ],
   "source": [
    "ax = seaborn.heatmap(m)\n",
    "plt.show()"
   ]
  },
  {
   "cell_type": "markdown",
   "metadata": {},
   "source": [
    "You can see that this 8 by 3 loop design will be less stable than an 8 choose 3 combinatorial design, because each codes with more others. "
   ]
  },
  {
   "cell_type": "markdown",
   "metadata": {},
   "source": [
    "One can also assess the average Cohen's $\\kappa$ for all pairs of coders that have coded against one another:"
   ]
  },
  {
   "cell_type": "code",
   "execution_count": 16,
   "metadata": {},
   "outputs": [
    {
     "data": {
      "text/plain": [
       "0.40911598940065674"
      ]
     },
     "execution_count": 16,
     "metadata": {},
     "output_type": "execute_result"
    }
   ],
   "source": [
    "def pairwise_metric_average(metric, array):\n",
    "    \"\"\"Calculate the pairwise metric average for the real elements of metric function run on an array of annotations\"\"\"\n",
    "    p = permutations(range(array[0,:].size),2)\n",
    "    m = [metric(array[:,x[0]], array[:,x[1]]) for x in p]\n",
    "    clean_m = [c for c in m if not math.isnan(c)]\n",
    "    return reduce(lambda a, b: a + b, clean_m)/len(clean_m)    \n",
    " \n",
    "pairwise_metric_average(cohens_kappa, anno.annotations)"
   ]
  },
  {
   "cell_type": "markdown",
   "metadata": {},
   "source": [
    "As recognized with Krippendorff's flexible $\\alpha$, our scores are *not* categorical, but rather ordered and her considered metric. Weighted $\\kappa$ allows you to count disagreements differently and is useful when codes are ordered as they are here. Here a weight matrix is added to the calculation, in which off-diagonal cells contain weights indicating the seriousness of the disagreement between each score. When automatically produced, it simply produces an arithmetic distance (e.g., 3-1=2), such that cells one off the diagonal are weighted 1, two off 2, etc. Here\n",
    "\n",
    "$\\kappa = 1-\\frac{\\sum^k_{i=1}\\sum^k_{j=1}w_{ij}x_{ij}}{\\sum^k_{i=1}\\sum^k_{j=1}w_{ij}m_{ij}}$\n",
    "\n",
    "where $\\kappa$ = $n$ codes and $w_{ij}$,$x_{ij}$, and $m_{ij}$ represent elements in the weight, observed, and expected matrices, respectively. (Obviously, when diagonal cells contain weights of 0 and off-diagonal cells weights of 1, this equals $\\kappa$)."
   ]
  },
  {
   "cell_type": "code",
   "execution_count": 17,
   "metadata": {},
   "outputs": [
    {
     "data": {
      "text/plain": [
       "0.5330240507874497"
      ]
     },
     "execution_count": 17,
     "metadata": {},
     "output_type": "execute_result"
    }
   ],
   "source": [
    "cohens_weighted_kappa(anno.annotations[:,0], anno.annotations[:,1])"
   ]
  },
  {
   "cell_type": "markdown",
   "metadata": {},
   "source": [
    "Or averaged over the total:"
   ]
  },
  {
   "cell_type": "code",
   "execution_count": 18,
   "metadata": {},
   "outputs": [
    {
     "data": {
      "text/plain": [
       "0.5299113458717166"
      ]
     },
     "execution_count": 18,
     "metadata": {},
     "output_type": "execute_result"
    }
   ],
   "source": [
    "pairwise_metric_average(cohens_weighted_kappa,anno.annotations)"
   ]
  },
  {
   "cell_type": "markdown",
   "metadata": {},
   "source": [
    "Alternatively, if the annontation data can be understood as indicating real values, we can assess not agreement, but rather the correlation of values (Pearson's $\\rho$) or correlation of ranks (Spearman's $\\rho$) for pairs of coders:"
   ]
  },
  {
   "cell_type": "code",
   "execution_count": 19,
   "metadata": {
    "scrolled": true
   },
   "outputs": [
    {
     "data": {
      "image/png": "[encoded data removed]",
      "text/plain": [
       "<Figure size 432x288 with 2 Axes>"
      ]
     },
     "metadata": {
      "needs_background": "light"
     },
     "output_type": "display_data"
    },
    {
     "data": {
      "image/png": "[encoded data removed]",
      "text/plain": [
       "<Figure size 432x288 with 2 Axes>"
      ]
     },
     "metadata": {
      "needs_background": "light"
     },
     "output_type": "display_data"
    }
   ],
   "source": [
    "n = pairwise_matrix(pearsons_rho, anno.annotations)\n",
    "m = pairwise_matrix(spearmans_rho, anno.annotations)\n",
    "an = seaborn.heatmap(n)\n",
    "plt.show()\n",
    "am = seaborn.heatmap(m)\n",
    "plt.show()"
   ]
  },
  {
   "cell_type": "markdown",
   "metadata": {},
   "source": [
    "Or averaged over all comparable pairs:"
   ]
  },
  {
   "cell_type": "code",
   "execution_count": 20,
   "metadata": {},
   "outputs": [
    {
     "name": "stdout",
     "output_type": "stream",
     "text": [
      "0.6517219321175077 0.63808488688039\n"
     ]
    }
   ],
   "source": [
    "print(pairwise_metric_average(pearsons_rho,anno.annotations), pairwise_metric_average(spearmans_rho,anno.annotations))"
   ]
  },
  {
   "cell_type": "markdown",
   "metadata": {},
   "source": [
    "## <span style=\"color:red\">*Your turn*</span>\n",
    "\n",
    "<span style=\"color:red\">Perform a content annotation survey of some kind in which at least 3 people evaluate and code each piece of content, using Amazon Mechanical Turk as described in the MTurk slides in the Assignment link on Canvas, or by hand with friends.  With the resulting data, calculate, visualize and discuss inter-coder agreement or covariation with appropriate metrics. What does this means for the reliability of human assessments regarding content in your domain?"
   ]
  },
  {
   "cell_type": "markdown",
   "metadata": {},
   "source": [
    "I made a survey on MTurk that sampled excerpts of speeches from the past seven presidents preceding Biden and asked respondents to rate on a Likert-style 5-point scale how much they perceived the speaker view fighting climate change as a priority (1: very low priority, 2: low priority, 3: medium priority, 4: high priority, 5: very high priority)."
   ]
  },
  {
   "cell_type": "code",
   "execution_count": 131,
   "metadata": {},
   "outputs": [],
   "source": [
    "import pandas as pd"
   ]
  },
  {
   "cell_type": "code",
   "execution_count": 132,
   "metadata": {},
   "outputs": [],
   "source": [
    "df = pd.read_csv('/Users/lilygrier/Documents/Grad_School/Computational Content Analysis/Content Analysis_January 28, 2021_09.47.csv', encoding = 'unicode_escape')"
   ]
  },
  {
   "cell_type": "code",
   "execution_count": 133,
   "metadata": {},
   "outputs": [],
   "source": [
    "# fix Clinton typo\n",
    "df = df.rename(columns={'Cinton': 'Clinton'})"
   ]
  },
  {
   "cell_type": "code",
   "execution_count": 134,
   "metadata": {},
   "outputs": [],
   "source": [
    "results = df[['Clinton', 'Bush Sr.', 'Bush Jr.', 'Carter', \n",
    "              'Reagan', 'Obama', 'Trump']]"
   ]
  },
  {
   "cell_type": "code",
   "execution_count": 135,
   "metadata": {},
   "outputs": [],
   "source": [
    "# drop first two rows of metadata to keep results\n",
    "results = results.iloc[2:, :].reset_index(drop=True)"
   ]
  },
  {
   "cell_type": "code",
   "execution_count": 136,
   "metadata": {},
   "outputs": [],
   "source": [
    "# convert to numpy array\n",
    "results = results.to_numpy(dtype=np.float64)"
   ]
  },
  {
   "cell_type": "code",
   "execution_count": 137,
   "metadata": {},
   "outputs": [],
   "source": [
    "results = results.T"
   ]
  },
  {
   "cell_type": "code",
   "execution_count": 138,
   "metadata": {},
   "outputs": [],
   "source": [
    "anno = AnnotationsContainer.from_array(results)"
   ]
  },
  {
   "cell_type": "code",
   "execution_count": 139,
   "metadata": {},
   "outputs": [
    {
     "data": {
      "text/plain": [
       "array([[2, 4, 4, 4, 4, 3, 3, 3, 1, 4, 3, 3, 3, 1, 3, 3, 3, 2, 3, 2, 4, 3,\n",
       "        3, 3],\n",
       "       [2, 4, 4, 4, 4, 4, 2, 3, 2, 2, 3, 4, 3, 2, 3, 2, 1, 3, 3, 2, 4, 4,\n",
       "        4, 3],\n",
       "       [3, 3, 1, 3, 2, 3, 4, 3, 3, 2, 2, 4, 4, 4, 1, 4, 3, 4, 2, 2, 4, 3,\n",
       "        4, 2],\n",
       "       [2, 0, 3, 1, 2, 1, 1, 3, 3, 3, 2, 4, 1, 4, 2, 4, 3, 3, 2, 2, 4, 4,\n",
       "        3, 2],\n",
       "       [0, 0, 0, 0, 0, 0, 1, 3, 3, 4, 4, 3, 0, 3, 3, 3, 2, 2, 3, 2, 4, 3,\n",
       "        2, 2],\n",
       "       [3, 4, 4, 4, 2, 3, 4, 4, 2, 3, 3, 4, 3, 3, 2, 3, 3, 3, 3, 2, 4, 4,\n",
       "        3, 3],\n",
       "       [0, 0, 0, 1, 0, 0, 0, 4, 1, 3, 1, 4, 0, 0, 1, 2, 3, 3, 3, 2, 4, 3,\n",
       "        1, 1]])"
      ]
     },
     "execution_count": 139,
     "metadata": {},
     "output_type": "execute_result"
    }
   ],
   "source": [
    "anno.annotations"
   ]
  },
  {
   "cell_type": "code",
   "execution_count": 140,
   "metadata": {},
   "outputs": [
    {
     "data": {
      "text/plain": [
       "[1.0, 2.0, 3.0, 4.0, 5.0]"
      ]
     },
     "execution_count": 140,
     "metadata": {},
     "output_type": "execute_result"
    }
   ],
   "source": [
    "anno.labels"
   ]
  },
  {
   "cell_type": "markdown",
   "metadata": {},
   "source": [
    "Now that we have our annotation object, we can calculate some statistics."
   ]
  },
  {
   "cell_type": "code",
   "execution_count": 141,
   "metadata": {},
   "outputs": [
    {
     "data": {
      "text/plain": [
       "array([0.0952381 , 0.0952381 , 0.20238095, 0.35714286, 0.25      ])"
      ]
     },
     "execution_count": 141,
     "metadata": {},
     "output_type": "execute_result"
    }
   ],
   "source": [
    "pyanno.measures.agreement.labels_frequency(anno.annotations,5)"
   ]
  },
  {
   "cell_type": "code",
   "execution_count": 142,
   "metadata": {},
   "outputs": [
    {
     "name": "stdout",
     "output_type": "stream",
     "text": [
      "[[0. 0. 0. 0. 1.]\n",
      " [0. 0. 0. 2. 0.]\n",
      " [0. 0. 0. 0. 0.]\n",
      " [0. 0. 1. 0. 0.]\n",
      " [0. 0. 1. 1. 1.]]\n"
     ]
    },
    {
     "data": {
      "image/png": "[encoded data removed]",
      "text/plain": [
       "<Figure size 432x288 with 2 Axes>"
      ]
     },
     "metadata": {
      "needs_background": "light"
     },
     "output_type": "display_data"
    }
   ],
   "source": [
    "c = pyanno.measures.agreement.confusion_matrix(anno.annotations[:,3], \n",
    "                                               anno.annotations[:,9],5)\n",
    "print(c)\n",
    "ac = seaborn.heatmap(c)\n",
    "plt.show()"
   ]
  },
  {
   "cell_type": "code",
   "execution_count": 143,
   "metadata": {},
   "outputs": [
    {
     "data": {
      "text/plain": [
       "-0.15068493150684925"
      ]
     },
     "execution_count": 143,
     "metadata": {},
     "output_type": "execute_result"
    }
   ],
   "source": [
    "scotts_pi(anno.annotations[:,3], anno.annotations[:,9])"
   ]
  },
  {
   "cell_type": "code",
   "execution_count": 144,
   "metadata": {},
   "outputs": [
    {
     "data": {
      "text/plain": [
       "0.029395834359151083"
      ]
     },
     "execution_count": 144,
     "metadata": {},
     "output_type": "execute_result"
    }
   ],
   "source": [
    "fleiss_kappa(anno.annotations[::])"
   ]
  },
  {
   "cell_type": "code",
   "execution_count": 145,
   "metadata": {},
   "outputs": [
    {
     "data": {
      "text/plain": [
       "0.18458631857885976"
      ]
     },
     "execution_count": 145,
     "metadata": {},
     "output_type": "execute_result"
    }
   ],
   "source": [
    "krippendorffs_alpha(anno.annotations[::])"
   ]
  },
  {
   "cell_type": "code",
   "execution_count": 146,
   "metadata": {},
   "outputs": [
    {
     "data": {
      "text/plain": [
       "-0.04999999999999999"
      ]
     },
     "execution_count": 146,
     "metadata": {},
     "output_type": "execute_result"
    }
   ],
   "source": [
    "cohens_kappa(anno.annotations[:,3], anno.annotations[:,9])"
   ]
  },
  {
   "cell_type": "markdown",
   "metadata": {},
   "source": [
    "The above matrix, as well as Scott's pi and Cohen's kappa, reveal inter-coder agreement for respondents 3 and 9. As seen in the confusioin matrix, these respondents have relatively low levels of agreement, which is reflected in the negative values of Scott's pi and Cohen's kappa for those two respondents. Fleiss's kappa and Krippendorf's alpha show agreement across all coders in the sample, which is relatively low. The pairwise matrix below also reflects this lack of agreement. Given the question was framed in terms of individual perception and there wasn't a correct answer, this lack of agreement is not surprising, though is larger than I expected it would be."
   ]
  },
  {
   "cell_type": "code",
   "execution_count": 147,
   "metadata": {},
   "outputs": [
    {
     "name": "stdout",
     "output_type": "stream",
     "text": [
      "[[ 1.          0.31707317  0.18604651  0.22222222  0.22222222  0.46153846\n",
      "   0.16666667 -0.07692308  0.05405405  0.05405405  0.05405405 -0.08888889\n",
      "   0.28205128  0.3        -0.13513514  0.05405405  0.02777778  0.\n",
      "  -0.06060606  0.          0.         -0.02439024 -0.05       -0.02941176]\n",
      " [ 0.31707317  1.          0.57575758  0.61111111  0.43243243  0.43243243\n",
      "   0.1025641   0.07894737  0.08695652 -0.05       -0.13953488 -0.09375\n",
      "   0.05405405 -0.10526316 -0.06521739 -0.225       0.04545455 -0.16666667\n",
      "  -0.11363636  0.          0.          0.22222222 -0.05       -0.06521739]\n",
      " [ 0.18604651  0.57575758  1.          0.4         0.46153846  0.26315789\n",
      "   0.07894737  0.07894737  0.04545455  0.125      -0.16666667 -0.09375\n",
      "   0.07894737 -0.10526316  0.04545455 -0.225       0.02325581  0.\n",
      "  -0.11363636  0.          0.          0.02777778  0.1025641  -0.08888889]\n",
      " [ 0.22222222  0.61111111  0.4         1.          0.31707317  0.46153846\n",
      "   0.05405405  0.07894737  0.16666667 -0.05       -0.02439024 -0.09375\n",
      "   0.1025641  -0.28947368  0.         -0.225       0.         -0.16666667\n",
      "  -0.11363636  0.          0.          0.22222222  0.07894737  0.04545455]\n",
      " [ 0.22222222  0.43243243  0.46153846  0.31707317  1.          0.34883721\n",
      "  -0.05       -0.08888889  0.02325581  0.1025641   0.14634146 -0.07692308\n",
      "   0.18604651 -0.05        0.18604651 -0.25641026 -0.06521739 -0.19512195\n",
      "   0.18604651  0.          0.          0.02325581  0.          0.125     ]\n",
      " [ 0.46153846  0.43243243  0.26315789  0.46153846  0.34883721  1.\n",
      "   0.3        -0.09375    -0.10526316 -0.10526316  0.07894737  0.07894737\n",
      "   0.58823529  0.07894737 -0.10526316  0.07894737  0.15151515 -0.16666667\n",
      "  -0.02941176  0.          0.          0.17647059  0.24324324  0.1025641 ]\n",
      " [ 0.16666667  0.1025641   0.07894737  0.05405405 -0.05        0.3\n",
      "   1.          0.125      -0.05       -0.05       -0.05        0.24324324\n",
      "   0.475       0.28205128 -0.05        0.3        -0.02439024 -0.02439024\n",
      "   0.          0.          0.          0.1025641   0.1025641  -0.02439024]\n",
      " [-0.07692308  0.07894737  0.07894737  0.07894737 -0.08888889 -0.09375\n",
      "   0.125       1.          0.17647059 -0.4        -0.09375     0.27586207\n",
      "  -0.09375    -0.2         0.17647059 -0.16666667 -0.16666667 -0.2962963\n",
      "  -0.16666667  0.          0.          0.08695652 -0.16666667 -0.02941176]\n",
      " [ 0.05405405  0.08695652  0.04545455  0.16666667  0.02325581 -0.10526316\n",
      "  -0.05        0.17647059  1.          0.02777778 -0.23529412  0.02325581\n",
      "  -0.28947368  0.28205128  0.125       0.02777778 -0.16666667 -0.27272727\n",
      "  -0.4         0.          0.          0.05405405  0.02777778 -0.3125    ]\n",
      " [ 0.05405405 -0.05        0.125      -0.05        0.1025641  -0.10526316\n",
      "  -0.05       -0.4         0.02777778  1.          0.17647059 -0.48484848\n",
      "  -0.10526316  0.05405405 -0.36111111 -0.09375     0.125       0.09677419\n",
      "   0.06666667  0.          0.         -0.35483871 -0.02941176 -0.02941176]\n",
      " [ 0.05405405 -0.13953488 -0.16666667 -0.02439024  0.14634146  0.07894737\n",
      "  -0.05       -0.09375    -0.23529412  0.17647059  1.         -0.10526316\n",
      "   0.26315789 -0.10526316  0.38235294 -0.02941176 -0.12903226 -0.09375\n",
      "   0.53333333  0.          0.         -0.23529412  0.2         0.78787879]\n",
      " [-0.08888889 -0.09375    -0.09375    -0.09375    -0.07692308  0.07894737\n",
      "   0.24324324  0.27586207  0.02325581 -0.48484848 -0.10526316  1.\n",
      "   0.07894737  0.2         0.18604651  0.36363636 -0.07692308 -0.16666667\n",
      "   0.1025641   0.          0.          0.46153846  0.15151515  0.02325581]\n",
      " [ 0.28205128  0.05405405  0.07894737  0.1025641   0.18604651  0.58823529\n",
      "   0.475      -0.09375    -0.28947368 -0.10526316  0.26315789  0.07894737\n",
      "   1.          0.26315789  0.07894737  0.26315789 -0.06060606  0.22222222\n",
      "   0.17647059  0.          0.         -0.23529412  0.24324324  0.28205128]\n",
      " [ 0.3        -0.10526316 -0.10526316 -0.28947368 -0.05        0.07894737\n",
      "   0.28205128 -0.2         0.28205128  0.05405405 -0.10526316  0.2\n",
      "   0.26315789  1.         -0.07692308  0.62162162 -0.13513514  0.05405405\n",
      "   0.05405405  0.          0.          0.          0.05405405 -0.07692308]\n",
      " [-0.13513514 -0.06521739  0.04545455  0.          0.18604651 -0.10526316\n",
      "  -0.05        0.17647059  0.125      -0.36111111  0.38235294  0.18604651\n",
      "   0.07894737 -0.07692308  1.          0.02777778 -0.4        -0.27272727\n",
      "   0.3         0.          0.          0.05405405  0.02777778  0.34375   ]\n",
      " [ 0.05405405 -0.225      -0.225      -0.225      -0.25641026  0.07894737\n",
      "   0.3        -0.16666667  0.02777778 -0.09375    -0.02941176  0.36363636\n",
      "   0.26315789  0.62162162  0.02777778  1.         -0.09375    -0.12903226\n",
      "   0.06666667  0.          0.          0.09677419  0.17647059 -0.02941176]\n",
      " [ 0.02777778  0.04545455  0.02325581  0.         -0.06521739  0.15151515\n",
      "  -0.02439024 -0.16666667 -0.16666667  0.125      -0.12903226 -0.07692308\n",
      "  -0.06060606 -0.13513514 -0.4        -0.09375     1.          0.22222222\n",
      "  -0.27272727  0.          0.          0.03448276  0.34375     0.06666667]\n",
      " [ 0.         -0.16666667  0.         -0.16666667 -0.19512195 -0.16666667\n",
      "  -0.02439024 -0.2962963  -0.27272727  0.09677419 -0.09375    -0.16666667\n",
      "   0.22222222  0.05405405 -0.27272727 -0.12903226  0.22222222  1.\n",
      "  -0.12        0.          0.         -0.4         0.36363636  0.09677419]\n",
      " [-0.06060606 -0.11363636 -0.11363636 -0.11363636  0.18604651 -0.02941176\n",
      "   0.         -0.16666667 -0.4         0.06666667  0.53333333  0.1025641\n",
      "   0.17647059  0.05405405  0.3         0.06666667 -0.27272727 -0.12\n",
      "   1.          0.          0.          0.03448276 -0.09375     0.5       ]\n",
      " [ 0.          0.          0.          0.          0.          0.\n",
      "   0.          0.          0.          0.          0.          0.\n",
      "   0.          0.          0.          0.          0.          0.\n",
      "   0.                 nan  0.          0.          0.          0.        ]\n",
      " [ 0.          0.          0.          0.          0.          0.\n",
      "   0.          0.          0.          0.          0.          0.\n",
      "   0.          0.          0.          0.          0.          0.\n",
      "   0.          0.                 nan  0.          0.          0.        ]\n",
      " [-0.02439024  0.22222222  0.02777778  0.22222222  0.02325581  0.17647059\n",
      "   0.1025641   0.08695652  0.05405405 -0.35483871 -0.23529412  0.46153846\n",
      "  -0.23529412  0.          0.05405405  0.09677419  0.03448276 -0.4\n",
      "   0.03448276  0.          0.          1.         -0.12903226 -0.13513514]\n",
      " [-0.05       -0.05        0.1025641   0.07894737  0.          0.24324324\n",
      "   0.1025641  -0.16666667  0.02777778 -0.02941176  0.2         0.15151515\n",
      "   0.24324324  0.05405405  0.02777778  0.17647059  0.34375     0.36363636\n",
      "  -0.09375     0.          0.         -0.12903226  1.          0.41666667]\n",
      " [-0.02941176 -0.06521739 -0.08888889  0.04545455  0.125       0.1025641\n",
      "  -0.02439024 -0.02941176 -0.3125     -0.02941176  0.78787879  0.02325581\n",
      "   0.28205128 -0.07692308  0.34375    -0.02941176  0.06666667  0.09677419\n",
      "   0.5         0.          0.         -0.13513514  0.41666667  1.        ]]\n"
     ]
    },
    {
     "name": "stderr",
     "output_type": "stream",
     "text": [
      "/opt/anaconda3/lib/python3.7/site-packages/pyanno/measures/helpers.py:166: RuntimeWarning: invalid value encountered in double_scalars\n",
      "  return (observed_agreement - chance_agreement) / (1. - chance_agreement)\n"
     ]
    }
   ],
   "source": [
    "m = pairwise_matrix(cohens_kappa, anno.annotations)\n",
    "print(m)"
   ]
  },
  {
   "cell_type": "code",
   "execution_count": 148,
   "metadata": {
    "scrolled": true
   },
   "outputs": [
    {
     "data": {
      "image/png": "[encoded data removed]",
      "text/plain": [
       "<Figure size 432x288 with 2 Axes>"
      ]
     },
     "metadata": {
      "needs_background": "light"
     },
     "output_type": "display_data"
    }
   ],
   "source": [
    "ax = seaborn.heatmap(m)\n",
    "plt.show()"
   ]
  },
  {
   "cell_type": "code",
   "execution_count": 149,
   "metadata": {},
   "outputs": [
    {
     "data": {
      "text/plain": [
       "0.038714462763836055"
      ]
     },
     "execution_count": 149,
     "metadata": {},
     "output_type": "execute_result"
    }
   ],
   "source": [
    "def pairwise_metric_average(metric, array):\n",
    "    \"\"\"Calculate the pairwise metric average for the real elements of metric function run on an array of annotations\"\"\"\n",
    "    p = permutations(range(array[0,:].size),2)\n",
    "    m = [metric(array[:,x[0]], array[:,x[1]]) for x in p]\n",
    "    clean_m = [c for c in m if not math.isnan(c)]\n",
    "    return reduce(lambda a, b: a + b, clean_m)/len(clean_m)    \n",
    " \n",
    "pairwise_metric_average(cohens_kappa, anno.annotations)"
   ]
  },
  {
   "cell_type": "markdown",
   "metadata": {},
   "source": [
    "As my results are ordered rather than categorical here, it would be useful to compute Cohen's weighted kappa as well."
   ]
  },
  {
   "cell_type": "code",
   "execution_count": 150,
   "metadata": {},
   "outputs": [
    {
     "data": {
      "text/plain": [
       "-0.1351351351351353"
      ]
     },
     "execution_count": 150,
     "metadata": {},
     "output_type": "execute_result"
    }
   ],
   "source": [
    "cohens_weighted_kappa(anno.annotations[:,3], anno.annotations[:,9])"
   ]
  },
  {
   "cell_type": "markdown",
   "metadata": {},
   "source": [
    "For these two coders, Cohen's weighted kappa is larger in magnitude than the unweighted statistic. This makes sense, as this value ascribes greater disagreement between ratings of 2 and 5 than between ratings of 2 and 3 and thus reflects the magnitude of disagreement between the coders."
   ]
  },
  {
   "cell_type": "markdown",
   "metadata": {},
   "source": [
    "Here is Cohen's weighted kappa averaged over the toal responses. This value is again very low, reflecting the disagreement among coders."
   ]
  },
  {
   "cell_type": "code",
   "execution_count": 151,
   "metadata": {},
   "outputs": [
    {
     "data": {
      "text/plain": [
       "0.0904630370108133"
      ]
     },
     "execution_count": 151,
     "metadata": {},
     "output_type": "execute_result"
    }
   ],
   "source": [
    "pairwise_metric_average(cohens_weighted_kappa,anno.annotations)"
   ]
  },
  {
   "cell_type": "code",
   "execution_count": 152,
   "metadata": {},
   "outputs": [
    {
     "name": "stderr",
     "output_type": "stream",
     "text": [
      "/opt/anaconda3/lib/python3.7/site-packages/scipy/stats/stats.py:3845: PearsonRConstantInputWarning: An input array is constant; the correlation coefficent is not defined.\n",
      "  warnings.warn(PearsonRConstantInputWarning())\n",
      "/opt/anaconda3/lib/python3.7/site-packages/scipy/stats/stats.py:4196: SpearmanRConstantInputWarning: An input array is constant; the correlation coefficent is not defined.\n",
      "  warnings.warn(SpearmanRConstantInputWarning())\n"
     ]
    },
    {
     "data": {
      "image/png": "[encoded data removed]",
      "text/plain": [
       "<Figure size 432x288 with 2 Axes>"
      ]
     },
     "metadata": {
      "needs_background": "light"
     },
     "output_type": "display_data"
    },
    {
     "data": {
      "image/png": "[encoded data removed]",
      "text/plain": [
       "<Figure size 432x288 with 2 Axes>"
      ]
     },
     "metadata": {
      "needs_background": "light"
     },
     "output_type": "display_data"
    }
   ],
   "source": [
    "n = pairwise_matrix(pearsons_rho, anno.annotations)\n",
    "m = pairwise_matrix(spearmans_rho, anno.annotations)\n",
    "an = seaborn.heatmap(n)\n",
    "plt.show()\n",
    "am = seaborn.heatmap(m)\n",
    "plt.show()"
   ]
  },
  {
   "cell_type": "code",
   "execution_count": 153,
   "metadata": {},
   "outputs": [
    {
     "name": "stdout",
     "output_type": "stream",
     "text": [
      "0.18001215441568394 0.16934044744204274\n"
     ]
    }
   ],
   "source": [
    "# averaged over comparable pairs\n",
    "print(pairwise_metric_average(pearsons_rho,anno.annotations), pairwise_metric_average(spearmans_rho,anno.annotations))"
   ]
  },
  {
   "cell_type": "markdown",
   "metadata": {},
   "source": [
    "The above matrices reflect the tendency with which coders' scores tend to change together. The uniformity in the top left of these Pearson's rho and Spearman's rho matrices (where the first seven coders are compared to each other) is likely due to my sampling strategy. Before posting the survey on MTurk, I sent it out to people in my personal network, most of whom are similar in terms of levels of education and political ideology. Thus, it is likely that those individuals would have similar perceptions of how much statements prioritized fighting climate change. Obviously, this was just a toy example of a survey, and such a sampling strategy would not yield generalizable results. Among the MTurk Sample (coders 7 onward), there is a lot less uniformity in the extent to which coders' responses tend to vary with one another as evidenced by the darker colors indicating lower values. The individual and averaged values for the two metrics are very similar, which makes sense given the linear nature of the ratings. Users 19 and 20 both gave ratings of all 2s and all 4s respectively to every speaker (as shown below) and thus have no variation in ratings, which is why there are gaps in the matrix corresponding to those users."
   ]
  },
  {
   "cell_type": "code",
   "execution_count": 198,
   "metadata": {},
   "outputs": [
    {
     "data": {
      "text/plain": [
       "array([2, 2, 2, 2, 2, 2, 2])"
      ]
     },
     "execution_count": 198,
     "metadata": {},
     "output_type": "execute_result"
    }
   ],
   "source": [
    "anno.annotations[:, 19]"
   ]
  },
  {
   "cell_type": "code",
   "execution_count": 199,
   "metadata": {},
   "outputs": [
    {
     "data": {
      "text/plain": [
       "array([4, 4, 4, 4, 4, 4, 4])"
      ]
     },
     "execution_count": 199,
     "metadata": {},
     "output_type": "execute_result"
    }
   ],
   "source": [
    "anno.annotations[:, 20]"
   ]
  },
  {
   "cell_type": "markdown",
   "metadata": {},
   "source": [
    "# Models"
   ]
  },
  {
   "cell_type": "markdown",
   "metadata": {},
   "source": [
    "However, what if some coders are better than others. The prior measures all rely on the assumption that all coders are equally good. What if some are worse than others? Now we use Rzhetsky et al (2009) and Dawid & Skene's models to make inference about true label classes by downweighting bad or deviant coders. Pyanno provides three relevant models: ModelA, ModelB, and ModelBt. Model A can only be currently run on a balanced 8-coder design, but assesses accuracy purely based on agreement. Model B with $\\theta$s models the relationship between each coder and code. Model B is the Dawid & Skene model from the reading. The following image schematically suggests the relationship between the models. <img src=\"../data/models.png\">"
   ]
  },
  {
   "cell_type": "markdown",
   "metadata": {},
   "source": [
    "The models should provide similar results. To estimate the parameters for any models, we first need to create a new model. "
   ]
  },
  {
   "cell_type": "code",
   "execution_count": 108,
   "metadata": {},
   "outputs": [],
   "source": [
    "x = np.loadtxt(\"../data/pyAnno/testdata_numerical.txt\")\n",
    "anno = AnnotationsContainer.from_array(x, missing_values=[-1])"
   ]
  },
  {
   "cell_type": "code",
   "execution_count": 109,
   "metadata": {},
   "outputs": [
    {
     "name": "stdout",
     "output_type": "stream",
     "text": [
      "[[[0.79781664 0.08788052 0.04602549 0.06827735]\n",
      "  [0.03523295 0.64824183 0.11977775 0.19674747]\n",
      "  [0.05229883 0.09064336 0.75592151 0.10113631]\n",
      "  [0.06712386 0.01852125 0.24512929 0.66922561]]\n",
      "\n",
      " [[0.62875082 0.20686374 0.10058563 0.06379981]\n",
      "  [0.2674915  0.54240563 0.09745198 0.09265089]\n",
      "  [0.05265325 0.07027558 0.70401615 0.17305502]\n",
      "  [0.07300511 0.06803583 0.15439362 0.70456545]]\n",
      "\n",
      " [[0.63896176 0.22615321 0.06445538 0.07042965]\n",
      "  [0.17914508 0.50099601 0.25741949 0.06243942]\n",
      "  [0.05661295 0.1025089  0.67176044 0.16911771]\n",
      "  [0.02751668 0.14484278 0.17986965 0.6477709 ]]\n",
      "\n",
      " [[0.84396256 0.04951867 0.10290923 0.00360954]\n",
      "  [0.10185389 0.61576236 0.26029944 0.02208432]\n",
      "  [0.11940035 0.09202366 0.69041081 0.09816518]\n",
      "  [0.21581541 0.10570126 0.14533966 0.53314368]]\n",
      "\n",
      " [[0.70771465 0.12239118 0.15628836 0.01360581]\n",
      "  [0.11478505 0.74907197 0.1072611  0.02888188]\n",
      "  [0.17525635 0.13302602 0.58353767 0.10817996]\n",
      "  [0.05163449 0.0223604  0.33843488 0.58757024]]\n",
      "\n",
      " [[0.7265637  0.14263881 0.07200584 0.05879165]\n",
      "  [0.32050548 0.52836487 0.12636439 0.02476525]\n",
      "  [0.20105572 0.12121928 0.58560768 0.09211732]\n",
      "  [0.00386565 0.06891026 0.1886502  0.73857389]]\n",
      "\n",
      " [[0.6361513  0.23813527 0.05108577 0.07462766]\n",
      "  [0.05392964 0.75332957 0.1650835  0.02765729]\n",
      "  [0.08242649 0.1534857  0.52656456 0.23752325]\n",
      "  [0.02029654 0.0516684  0.1199212  0.80811385]]\n",
      "\n",
      " [[0.65020065 0.12241215 0.1180507  0.1093365 ]\n",
      "  [0.21235756 0.65370643 0.09973126 0.03420474]\n",
      "  [0.14262323 0.13183457 0.57139701 0.15414519]\n",
      "  [0.07153008 0.13260334 0.08350132 0.71236526]]]\n",
      "-3231.7845350329544\n"
     ]
    }
   ],
   "source": [
    "# create a new instance of model A, with 4 label classes\n",
    "model = ModelB.create_initial_state(4, 8)\n",
    "# other model parameters are initialized from the model prior\n",
    "print(model.theta)\n",
    "print(model.log_likelihood(anno.annotations))"
   ]
  },
  {
   "cell_type": "code",
   "execution_count": 110,
   "metadata": {},
   "outputs": [],
   "source": [
    "samples = model.sample_posterior_over_accuracy(anno.annotations, 200, burn_in_samples=100, thin_samples=3)"
   ]
  },
  {
   "cell_type": "markdown",
   "metadata": {},
   "source": [
    "Pyanno allows one to use either MLE (maximum likelihood estimation) or MAP (maximum a posteriori estimation) to estimate model parameters. Note that the parameters here correspond to our estimation of the accuracy of each annotator."
   ]
  },
  {
   "cell_type": "code",
   "execution_count": 111,
   "metadata": {},
   "outputs": [
    {
     "name": "stdout",
     "output_type": "stream",
     "text": [
      "[[[7.73398728e-01 2.01020245e-01 2.55810269e-02 1.20101219e-26]\n",
      "  [1.47832659e-01 7.11503767e-01 7.66499157e-02 6.40136580e-02]\n",
      "  [1.97431020e-02 1.48708709e-01 6.96639326e-01 1.34908863e-01]\n",
      "  [2.52463780e-18 2.13647377e-02 8.51550428e-02 8.93480220e-01]]\n",
      "\n",
      " [[7.19395465e-01 2.01828761e-01 7.87757734e-02 1.55486964e-13]\n",
      "  [1.33941799e-01 7.07223261e-01 1.10418200e-01 4.84167403e-02]\n",
      "  [2.72093282e-02 1.65178369e-01 6.71232700e-01 1.36379603e-01]\n",
      "  [2.15358721e-30 5.38211823e-02 1.21871740e-01 8.24307077e-01]]\n",
      "\n",
      " [[8.50073137e-01 1.22955501e-01 2.69713621e-02 3.64395738e-42]\n",
      "  [8.93514251e-02 7.89280333e-01 8.93429608e-02 3.20252811e-02]\n",
      "  [6.11638366e-02 1.29121422e-01 7.03992731e-01 1.05722011e-01]\n",
      "  [6.53666390e-03 5.12606512e-02 2.10869595e-01 7.31333090e-01]]\n",
      "\n",
      " [[6.99612801e-01 2.70976969e-01 2.94102301e-02 8.57899704e-52]\n",
      "  [9.67171336e-02 7.62615701e-01 1.09523823e-01 3.11433425e-02]\n",
      "  [1.81150586e-02 1.45472330e-01 6.85587954e-01 1.50824657e-01]\n",
      "  [2.71897111e-47 2.98511124e-02 2.28749569e-01 7.41399319e-01]]\n",
      "\n",
      " [[8.11803144e-01 1.19373545e-01 6.88233110e-02 9.13991546e-49]\n",
      "  [1.24726986e-01 6.93211818e-01 1.47008725e-01 3.50524714e-02]\n",
      "  [1.10580622e-02 2.13907919e-01 6.46719976e-01 1.28314044e-01]\n",
      "  [6.58948915e-52 5.98095047e-02 1.82979139e-01 7.57211357e-01]]\n",
      "\n",
      " [[7.71186748e-01 2.05349662e-01 2.34635900e-02 1.87519848e-51]\n",
      "  [1.10920303e-01 6.98703449e-01 1.62586425e-01 2.77898237e-02]\n",
      "  [2.69432947e-02 1.74971748e-01 6.58688648e-01 1.39396309e-01]\n",
      "  [1.04070689e-20 8.19488668e-02 1.50728042e-01 7.67323091e-01]]\n",
      "\n",
      " [[7.77751875e-01 1.41612394e-01 8.06357307e-02 7.49343463e-22]\n",
      "  [1.14108703e-01 6.72056519e-01 1.68346177e-01 4.54886006e-02]\n",
      "  [1.60943993e-02 1.18997632e-01 7.24591200e-01 1.40316769e-01]\n",
      "  [9.41957786e-52 4.72911966e-02 1.30538454e-01 8.22170350e-01]]\n",
      "\n",
      " [[8.52754118e-01 1.18087361e-01 2.91585215e-02 1.95577162e-42]\n",
      "  [1.29319568e-01 6.36012446e-01 1.95669325e-01 3.89986612e-02]\n",
      "  [2.96631200e-02 1.67273811e-01 6.42736730e-01 1.60326339e-01]\n",
      "  [1.03418107e-24 4.32627993e-02 1.13010804e-01 8.43726397e-01]]]\n",
      "-2625.8850676193924\n"
     ]
    }
   ],
   "source": [
    "model.map(anno.annotations)\n",
    "print(model.theta)\n",
    "print(model.log_likelihood(anno.annotations))"
   ]
  },
  {
   "cell_type": "code",
   "execution_count": 112,
   "metadata": {},
   "outputs": [
    {
     "name": "stdout",
     "output_type": "stream",
     "text": [
      "[[[7.73398728e-01 2.01020245e-01 2.55810269e-02 1.20101219e-26]\n",
      "  [1.47832659e-01 7.11503767e-01 7.66499157e-02 6.40136580e-02]\n",
      "  [1.97431020e-02 1.48708709e-01 6.96639326e-01 1.34908863e-01]\n",
      "  [2.52463780e-18 2.13647377e-02 8.51550428e-02 8.93480220e-01]]\n",
      "\n",
      " [[7.19395465e-01 2.01828761e-01 7.87757734e-02 1.55486964e-13]\n",
      "  [1.33941799e-01 7.07223261e-01 1.10418200e-01 4.84167403e-02]\n",
      "  [2.72093282e-02 1.65178369e-01 6.71232700e-01 1.36379603e-01]\n",
      "  [2.15358721e-30 5.38211823e-02 1.21871740e-01 8.24307077e-01]]\n",
      "\n",
      " [[8.50073137e-01 1.22955501e-01 2.69713621e-02 3.64395738e-42]\n",
      "  [8.93514251e-02 7.89280333e-01 8.93429608e-02 3.20252811e-02]\n",
      "  [6.11638366e-02 1.29121422e-01 7.03992731e-01 1.05722011e-01]\n",
      "  [6.53666390e-03 5.12606512e-02 2.10869595e-01 7.31333090e-01]]\n",
      "\n",
      " [[6.99612801e-01 2.70976969e-01 2.94102301e-02 8.57899704e-52]\n",
      "  [9.67171336e-02 7.62615701e-01 1.09523823e-01 3.11433425e-02]\n",
      "  [1.81150586e-02 1.45472330e-01 6.85587954e-01 1.50824657e-01]\n",
      "  [2.71897111e-47 2.98511124e-02 2.28749569e-01 7.41399319e-01]]\n",
      "\n",
      " [[8.11803144e-01 1.19373545e-01 6.88233110e-02 9.13991546e-49]\n",
      "  [1.24726986e-01 6.93211818e-01 1.47008725e-01 3.50524714e-02]\n",
      "  [1.10580622e-02 2.13907919e-01 6.46719976e-01 1.28314044e-01]\n",
      "  [6.58948915e-52 5.98095047e-02 1.82979139e-01 7.57211357e-01]]\n",
      "\n",
      " [[7.71186748e-01 2.05349662e-01 2.34635900e-02 1.87519848e-51]\n",
      "  [1.10920303e-01 6.98703449e-01 1.62586425e-01 2.77898237e-02]\n",
      "  [2.69432947e-02 1.74971748e-01 6.58688648e-01 1.39396309e-01]\n",
      "  [1.04070689e-20 8.19488668e-02 1.50728042e-01 7.67323091e-01]]\n",
      "\n",
      " [[7.77751875e-01 1.41612394e-01 8.06357307e-02 7.49343463e-22]\n",
      "  [1.14108703e-01 6.72056519e-01 1.68346177e-01 4.54886006e-02]\n",
      "  [1.60943993e-02 1.18997632e-01 7.24591200e-01 1.40316769e-01]\n",
      "  [9.41957786e-52 4.72911966e-02 1.30538454e-01 8.22170350e-01]]\n",
      "\n",
      " [[8.52754118e-01 1.18087361e-01 2.91585215e-02 1.95577162e-42]\n",
      "  [1.29319568e-01 6.36012446e-01 1.95669325e-01 3.89986612e-02]\n",
      "  [2.96631200e-02 1.67273811e-01 6.42736730e-01 1.60326339e-01]\n",
      "  [1.03418107e-24 4.32627993e-02 1.13010804e-01 8.43726397e-01]]]\n",
      "-2625.8850676193924\n"
     ]
    }
   ],
   "source": [
    "model = ModelB.create_initial_state(4, 8)\n",
    "model.map(anno.annotations)\n",
    "print(model.theta)\n",
    "print(model.log_likelihood(anno.annotations))"
   ]
  },
  {
   "cell_type": "markdown",
   "metadata": {},
   "source": [
    "Once we have model parameters estimated, we can now make inferences about the true label classes. We can calculate the posterior distribution over the true label classes."
   ]
  },
  {
   "cell_type": "code",
   "execution_count": 113,
   "metadata": {},
   "outputs": [
    {
     "name": "stdout",
     "output_type": "stream",
     "text": [
      "[[1.20741380e-42 1.00240780e-01 7.90821679e-01 1.08937540e-01]\n",
      " [9.92682453e-01 7.07056554e-03 2.46981317e-04 2.03944498e-49]\n",
      " [1.07420297e-03 5.51435353e-02 9.37476514e-01 6.30574822e-03]\n",
      " ...\n",
      " [8.15378491e-04 3.51193436e-02 9.59859130e-01 4.20614824e-03]\n",
      " [1.34481992e-44 2.14447325e-03 9.16166870e-01 8.16886569e-02]\n",
      " [2.14745550e-01 7.69057353e-01 1.61970966e-02 2.01807019e-26]]\n"
     ]
    }
   ],
   "source": [
    "posterior = model.infer_labels(anno.annotations)\n",
    "print(posterior)"
   ]
  },
  {
   "cell_type": "markdown",
   "metadata": {},
   "source": [
    "Let's turn the posterior of the first 100 samples into a heatmap."
   ]
  },
  {
   "cell_type": "code",
   "execution_count": 114,
   "metadata": {},
   "outputs": [],
   "source": [
    "votes = []\n",
    "for r in anno.annotations:\n",
    "    v = [0] * len(anno.labels)\n",
    "    votes.append(v)\n",
    "    for a in r:\n",
    "        if a > -1:\n",
    "            v[a] += 1\n",
    "votes_array = np.array(votes)"
   ]
  },
  {
   "cell_type": "code",
   "execution_count": 115,
   "metadata": {},
   "outputs": [
    {
     "data": {
      "image/png": "[encoded data removed]",
      "text/plain": [
       "<Figure size 1080x720 with 4 Axes>"
      ]
     },
     "metadata": {
      "needs_background": "light"
     },
     "output_type": "display_data"
    }
   ],
   "source": [
    "fig, (ax1, ax2) = plt.subplots(ncols=2, figsize = (15, 10), sharey=True)\n",
    "num_questions = 20\n",
    "\n",
    "seaborn.heatmap(votes_array[:num_questions], annot = True, ax=ax2)\n",
    "seaborn.heatmap(posterior[:num_questions], annot=True, ax =ax1)\n",
    "ax1.set_title(\"Model\")\n",
    "ax2.set_title(\"Votes\")\n",
    "plt.show()"
   ]
  },
  {
   "cell_type": "markdown",
   "metadata": {},
   "source": [
    "This differs markedly from taking annotator scores at face value (Add comparison of average values)"
   ]
  },
  {
   "cell_type": "code",
   "execution_count": 116,
   "metadata": {},
   "outputs": [],
   "source": [
    "samples = model.sample_posterior_over_accuracy(anno.annotations, 200, burn_in_samples=100, thin_samples=3)"
   ]
  },
  {
   "cell_type": "code",
   "execution_count": 117,
   "metadata": {},
   "outputs": [
    {
     "name": "stdout",
     "output_type": "stream",
     "text": [
      "[[[0.72760972 0.20586578 0.04898071 0.01754379]\n",
      "  [0.14625936 0.6902161  0.09507237 0.06845217]\n",
      "  [0.02714071 0.1531038  0.68300962 0.13674587]\n",
      "  [0.01124114 0.03236379 0.09928043 0.85711463]]\n",
      "\n",
      " [[0.66675302 0.21070736 0.09241507 0.03012455]\n",
      "  [0.13677993 0.68725398 0.12514478 0.05082131]\n",
      "  [0.03510038 0.16195137 0.6634841  0.13946415]\n",
      "  [0.01138044 0.06529327 0.13450452 0.78882177]]\n",
      "\n",
      " [[0.78690437 0.14458969 0.0487914  0.01971454]\n",
      "  [0.10340346 0.74682548 0.10652858 0.04324247]\n",
      "  [0.06508415 0.1336549  0.69331669 0.10794426]\n",
      "  [0.01506818 0.06379153 0.21887187 0.70226842]]\n",
      "\n",
      " [[0.6648655  0.26683498 0.04918282 0.0191167 ]\n",
      "  [0.10083274 0.7379538  0.11949416 0.04171929]\n",
      "  [0.02665795 0.14693475 0.67086515 0.15554215]\n",
      "  [0.00815294 0.03852595 0.23721309 0.71610801]]\n",
      "\n",
      " [[0.76132935 0.13972958 0.07957999 0.01936108]\n",
      "  [0.12638083 0.67136828 0.15299376 0.04925713]\n",
      "  [0.01869721 0.21701047 0.63757491 0.1267174 ]\n",
      "  [0.00840992 0.07098937 0.18385429 0.73674642]]\n",
      "\n",
      " [[0.7273644  0.21166855 0.04193704 0.01903001]\n",
      "  [0.1150493  0.67788664 0.16582091 0.04124315]\n",
      "  [0.03284474 0.17295497 0.65847891 0.13572138]\n",
      "  [0.01070729 0.09289945 0.15865887 0.73773439]]\n",
      "\n",
      " [[0.73901093 0.14629738 0.093245   0.02144669]\n",
      "  [0.12083287 0.64299493 0.18098345 0.05518875]\n",
      "  [0.02387767 0.12043541 0.71390443 0.14178249]\n",
      "  [0.00892409 0.05671444 0.14374573 0.79061574]]\n",
      "\n",
      " [[0.79547264 0.13805395 0.04896357 0.01750984]\n",
      "  [0.13404901 0.60934864 0.20324597 0.05335637]\n",
      "  [0.03400819 0.16949654 0.63388328 0.16261198]\n",
      "  [0.01019003 0.06065451 0.12687549 0.80227997]]]\n",
      "[[[0.0634381  0.0614375  0.03180058 0.01822365]\n",
      "  [0.04677941 0.06037724 0.04043499 0.03053638]\n",
      "  [0.0159684  0.03613795 0.04817586 0.03429678]\n",
      "  [0.01086932 0.01956345 0.03700507 0.04354933]]\n",
      "\n",
      " [[0.07338255 0.0652156  0.04542194 0.02746471]\n",
      "  [0.043493   0.0578643  0.04296182 0.03020273]\n",
      "  [0.01828982 0.03853504 0.04942721 0.03757193]\n",
      "  [0.01191624 0.02818198 0.03861453 0.04583049]]\n",
      "\n",
      " [[0.06338954 0.05610218 0.03395652 0.01995161]\n",
      "  [0.03768039 0.05980387 0.04355482 0.02470573]\n",
      "  [0.02726122 0.03461711 0.044905   0.03165855]\n",
      "  [0.01184704 0.02778565 0.04842142 0.05337691]]\n",
      "\n",
      " [[0.07397697 0.07096589 0.02869533 0.01839031]\n",
      "  [0.03446737 0.05621794 0.04498239 0.02429837]\n",
      "  [0.01592867 0.03788466 0.04942536 0.04228004]\n",
      "  [0.00794377 0.01939094 0.04830769 0.04955573]]\n",
      "\n",
      " [[0.06714056 0.05688664 0.04081657 0.01857304]\n",
      "  [0.04169084 0.05838754 0.04580143 0.0259054 ]\n",
      "  [0.01343392 0.04438383 0.05356906 0.03827735]\n",
      "  [0.00934961 0.02969975 0.03823758 0.04697704]]\n",
      "\n",
      " [[0.06110625 0.05626188 0.02866305 0.01888757]\n",
      "  [0.03934893 0.05851823 0.04888301 0.02487538]\n",
      "  [0.01866833 0.03832839 0.04993975 0.03887295]\n",
      "  [0.009974   0.03370699 0.0422566  0.04926683]]\n",
      "\n",
      " [[0.0641154  0.04727379 0.04212585 0.02101547]\n",
      "  [0.0421827  0.06337499 0.06033115 0.03165173]\n",
      "  [0.01372335 0.03438187 0.04759856 0.03634453]\n",
      "  [0.00835949 0.02539213 0.04565687 0.04801492]]\n",
      "\n",
      " [[0.05925939 0.04859963 0.03376451 0.01734552]\n",
      "  [0.04572724 0.0704737  0.05764436 0.02492759]\n",
      "  [0.0172349  0.03524058 0.04296785 0.03495294]\n",
      "  [0.01057372 0.02870823 0.03863328 0.04709397]]]\n"
     ]
    }
   ],
   "source": [
    "print(samples[0].mean(axis=0))\n",
    "print(samples[0].std(axis=0))"
   ]
  },
  {
   "cell_type": "markdown",
   "metadata": {},
   "source": [
    "Let's try everything again with ModelBt"
   ]
  },
  {
   "cell_type": "code",
   "execution_count": 118,
   "metadata": {},
   "outputs": [
    {
     "name": "stdout",
     "output_type": "stream",
     "text": [
      "[0.60041426 0.82273618 0.81863081 0.67600359 0.9265776  0.93464181\n",
      " 0.91791107 0.78178345]\n",
      "-3245.8466568145022\n"
     ]
    }
   ],
   "source": [
    "# create a new instance of model B, with 4 label classes and 8 annotators.\n",
    "model = ModelBt.create_initial_state(4, 8)\n",
    "print(model.theta)\n",
    "print(model.log_likelihood(anno.annotations))"
   ]
  },
  {
   "cell_type": "code",
   "execution_count": 119,
   "metadata": {},
   "outputs": [
    {
     "name": "stdout",
     "output_type": "stream",
     "text": [
      "[0.79127818 0.74082878 0.76222189 0.72517627 0.71644762 0.71855439\n",
      " 0.77321228 0.71666315]\n",
      "-2811.9462262249745\n"
     ]
    }
   ],
   "source": [
    "model.map(anno.annotations)\n",
    "print(model.theta)\n",
    "print(model.log_likelihood(anno.annotations))"
   ]
  },
  {
   "cell_type": "code",
   "execution_count": 120,
   "metadata": {},
   "outputs": [
    {
     "name": "stdout",
     "output_type": "stream",
     "text": [
      "[[0.01110562 0.28927076 0.36504222 0.3345814 ]\n",
      " [0.99022771 0.00241796 0.00404685 0.00330748]\n",
      " [0.00250003 0.05506243 0.93460552 0.00783202]\n",
      " ...\n",
      " [0.00252941 0.0439574  0.94558913 0.00792406]\n",
      " [0.00249439 0.00571273 0.93249681 0.05929607]\n",
      " [0.03189373 0.93882796 0.0161109  0.0131674 ]]\n"
     ]
    }
   ],
   "source": [
    "posterior = model.infer_labels(anno.annotations)\n",
    "print(posterior)"
   ]
  },
  {
   "cell_type": "markdown",
   "metadata": {},
   "source": [
    "Let's visualize the posterior of the first 10 samples according to ModelBt."
   ]
  },
  {
   "cell_type": "code",
   "execution_count": 121,
   "metadata": {},
   "outputs": [
    {
     "data": {
      "image/png": "[encoded data removed]",
      "text/plain": [
       "<Figure size 432x288 with 2 Axes>"
      ]
     },
     "metadata": {
      "needs_background": "light"
     },
     "output_type": "display_data"
    }
   ],
   "source": [
    "ax = seaborn.heatmap(posterior[:10,])\n",
    "plt.show()"
   ]
  },
  {
   "cell_type": "markdown",
   "metadata": {},
   "source": [
    "The property of these scores is that they enable us to identify the most likely code assuming coders of unequal quality, which also allows us to break ties when we know coder identity. For some analyses, we may simply use the posterior themselves rather than the most probably code outcome."
   ]
  },
  {
   "cell_type": "markdown",
   "metadata": {},
   "source": [
    "# Generating Annotations"
   ]
  },
  {
   "cell_type": "markdown",
   "metadata": {},
   "source": [
    "Pyanno also allows one to generate artificial data from a model."
   ]
  },
  {
   "cell_type": "code",
   "execution_count": 122,
   "metadata": {},
   "outputs": [
    {
     "data": {
      "text/plain": [
       "array([[0, 1, 3],\n",
       "       [3, 3, 0],\n",
       "       [2, 2, 3],\n",
       "       [0, 3, 1],\n",
       "       [2, 2, 3],\n",
       "       [1, 1, 0],\n",
       "       [1, 1, 1],\n",
       "       [0, 0, 3],\n",
       "       [3, 3, 1],\n",
       "       [2, 2, 1],\n",
       "       [1, 1, 3],\n",
       "       [3, 3, 0],\n",
       "       [1, 0, 0],\n",
       "       [2, 2, 3],\n",
       "       [1, 1, 2],\n",
       "       [2, 2, 2],\n",
       "       [2, 3, 2],\n",
       "       [2, 0, 2],\n",
       "       [2, 2, 1],\n",
       "       [1, 1, 0]])"
      ]
     },
     "execution_count": 122,
     "metadata": {},
     "output_type": "execute_result"
    }
   ],
   "source": [
    "model = ModelBt.create_initial_state(4, 3, theta=[0.99,0.75,0.25])\n",
    "#randome generate annotations with 4 label classes and 3 annotators. The accuracy of the three annotators are 0.99, 0.75, and 0.25 respectively.\n",
    "model.generate_annotations(20)"
   ]
  },
  {
   "cell_type": "markdown",
   "metadata": {},
   "source": [
    "## Visualizing coder accuracy"
   ]
  },
  {
   "cell_type": "markdown",
   "metadata": {},
   "source": [
    "Pyanno provides a [graphical user interface](http://docs.enthought.com/uchicago-pyanno/user_guide.html) for making plots. However, it is not compatible with ipython notebooks. Nevertheless, nothing prevents us from making plots using matplotlib. Let's make a plot of the accuracy of each annotator inferred from ModelA."
   ]
  },
  {
   "cell_type": "code",
   "execution_count": 123,
   "metadata": {},
   "outputs": [],
   "source": [
    "model = ModelBt.create_initial_state(4, 8)\n",
    "model.mle(anno.annotations)\n",
    "samples = model.sample_posterior_over_accuracy(anno.annotations, 200, burn_in_samples=100, thin_samples=3)\n",
    "y =  samples.mean(axis=0)#.mean(axis = 1).mean(axis = 1)\n",
    "y_ci = samples.std(axis=0)#.mean(axis = 1).mean(axis = 1)"
   ]
  },
  {
   "cell_type": "code",
   "execution_count": 124,
   "metadata": {},
   "outputs": [
    {
     "data": {
      "image/png": "[encoded data removed]",
      "text/plain": [
       "<Figure size 432x288 with 1 Axes>"
      ]
     },
     "metadata": {
      "needs_background": "light"
     },
     "output_type": "display_data"
    }
   ],
   "source": [
    "plt.figure()\n",
    "plt.errorbar(range(8),y, yerr = y_ci)\n",
    "plt.show()"
   ]
  },
  {
   "cell_type": "markdown",
   "metadata": {},
   "source": [
    "# Example with articles that use the General Social Survey"
   ]
  },
  {
   "cell_type": "markdown",
   "metadata": {},
   "source": [
    "I performed a recent study in which the variables from thousands of articles were associated with those used in the General Social Survey, a widely used population sample, in order to interrogate how social science analyses are performed. Each article was reread and coded by a balanced set of three student coders using a 6 choose 3 design, such that all possible 3-coder-subsets (20) coded an equal number of articles. Coding was performed through a website that allowed students access to the digital article. To evaluate the validity of the student codes, we also recruited a sample of authors associated with 97 of our published articles to fill out the same online survey. \n",
    "\n",
    "Because not all coders coded items with equal accuracy, and because “don’t know” was an optional answer, leading to potential ties, we used a generative, probabilistic model to estimate the maximum a posteriori probability (MAP) prediction that an item’s code is true, which integrates over the estimated accuracy of coders, assuming only that the entire population of coders is slightly more often right than wrong. The model (“Model B”) is based on a simple underlying generation process that directly accounts for the probability that coded values are correct (Rzhetsky et al. 2009). For each coded value j, a set of parameters, denoted γj, represents the probability that each coded value is correct. For the ith coder (i = 1, 2, …, 6), we introduce a matrix of probabilities, denoted λ(i)x|y, that defines the probability that she assigns code x (e.g., Dependent variable) to a GSS variable with correct annotation y. For a perfect coder, the matrix λ(i)x|y would equal the identity matrix and her vote would count most toward the total. For a coder that always codes incorrectly—a “troll”—her matrix λ(i)x|y will have all its value off the diagonal and will only minimally influence the posterior. We co-authored the open source pyanno software that implements this model."
   ]
  },
  {
   "cell_type": "markdown",
   "metadata": {},
   "source": [
    "Getting the data for each content analysis survey regarding how GSS variables were used in a large population of social science articles."
   ]
  },
  {
   "cell_type": "code",
   "execution_count": 46,
   "metadata": {},
   "outputs": [],
   "source": [
    "#anno_vdep = AnnotationsContainer.from_file(missing_values=[-1], filename=\"GSSvariable_testSdependent.csv\")\n",
    "dev = np.loadtxt(fname=\"../data/dataforgssstudy/n7GSSvariable_testSdependent.csv\", dtype=int, delimiter=\",\")\n",
    "anno_dv = AnnotationsContainer.from_array(dev)\n",
    "\n",
    "ind = np.loadtxt(fname=\"../data/dataforgssstudy/n7GSSvariable_testSindependent.csv\", dtype=int, delimiter=\",\")\n",
    "anno_iv = AnnotationsContainer.from_array(ind)\n",
    "\n",
    "cent = np.loadtxt(fname=\"../data/dataforgssstudy/n7GSSvariable_testScentral.csv\", dtype=int, delimiter=\",\")\n",
    "anno_cv = AnnotationsContainer.from_array(cent)\n",
    "\n",
    "cont = np.loadtxt(fname=\"../data/dataforgssstudy/n7GSSvariable_testScontrol.csv\", dtype=int, delimiter=\",\")\n",
    "anno_ctv = AnnotationsContainer.from_array(cont)\n",
    "\n",
    "test = np.loadtxt(fname=\"../data/dataforgssstudy/testH.csv\", dtype=int, delimiter=\",\")\n",
    "anno_test = AnnotationsContainer.from_array(test)"
   ]
  },
  {
   "cell_type": "markdown",
   "metadata": {},
   "source": [
    "Let's examine the data structure."
   ]
  },
  {
   "cell_type": "code",
   "execution_count": 47,
   "metadata": {},
   "outputs": [
    {
     "data": {
      "text/plain": [
       "(21461, 6)"
      ]
     },
     "execution_count": 47,
     "metadata": {},
     "output_type": "execute_result"
    }
   ],
   "source": [
    "dev.shape"
   ]
  },
  {
   "cell_type": "code",
   "execution_count": 48,
   "metadata": {},
   "outputs": [
    {
     "data": {
      "text/plain": [
       "[0, 1]"
      ]
     },
     "execution_count": 48,
     "metadata": {},
     "output_type": "execute_result"
    }
   ],
   "source": [
    "anno_dv.labels"
   ]
  },
  {
   "cell_type": "code",
   "execution_count": 49,
   "metadata": {},
   "outputs": [
    {
     "data": {
      "text/plain": [
       "[-1]"
      ]
     },
     "execution_count": 49,
     "metadata": {},
     "output_type": "execute_result"
    }
   ],
   "source": [
    "anno_dv.missing_values"
   ]
  },
  {
   "cell_type": "code",
   "execution_count": 50,
   "metadata": {},
   "outputs": [
    {
     "data": {
      "text/plain": [
       "(21461, 6)"
      ]
     },
     "execution_count": 50,
     "metadata": {},
     "output_type": "execute_result"
    }
   ],
   "source": [
    "anno_dv.annotations.shape"
   ]
  },
  {
   "cell_type": "markdown",
   "metadata": {},
   "source": [
    "First, let's use Cohen's $\\kappa$ to measure agreement between coders..."
   ]
  },
  {
   "cell_type": "code",
   "execution_count": 51,
   "metadata": {},
   "outputs": [
    {
     "name": "stdout",
     "output_type": "stream",
     "text": [
      "[[1.         0.62426874 0.46682841 0.44599604 0.16569888 0.36657805]\n",
      " [0.62426874 1.         0.53480937 0.52673854 0.3306905  0.59513211]\n",
      " [0.46682841 0.53480937 1.         0.50580068 0.42393752 0.49833997]\n",
      " [0.44599604 0.52673854 0.50580068 1.         0.46517493 0.47023754]\n",
      " [0.16569888 0.3306905  0.42393752 0.46517493 1.         0.66190749]\n",
      " [0.36657805 0.59513211 0.49833997 0.47023754 0.66190749 1.        ]]\n"
     ]
    }
   ],
   "source": [
    "m = pairwise_matrix(cohens_kappa, anno_dv.annotations)\n",
    "print(m)"
   ]
  },
  {
   "cell_type": "markdown",
   "metadata": {},
   "source": [
    "Let's visualize that..."
   ]
  },
  {
   "cell_type": "code",
   "execution_count": 52,
   "metadata": {},
   "outputs": [
    {
     "data": {
      "image/png": "[encoded data removed]",
      "text/plain": [
       "<Figure size 432x288 with 2 Axes>"
      ]
     },
     "metadata": {
      "needs_background": "light"
     },
     "output_type": "display_data"
    }
   ],
   "source": [
    "ax = seaborn.heatmap(m)\n",
    "plt.show()"
   ]
  },
  {
   "cell_type": "code",
   "execution_count": 53,
   "metadata": {},
   "outputs": [
    {
     "data": {
      "text/plain": [
       "0.4721425844540702"
      ]
     },
     "execution_count": 53,
     "metadata": {},
     "output_type": "execute_result"
    }
   ],
   "source": [
    "pairwise_metric_average(cohens_kappa, anno_dv.annotations)"
   ]
  },
  {
   "cell_type": "markdown",
   "metadata": {},
   "source": [
    "Let's compute the statistics on each of the datasets and with Pearson's $\\rho$. "
   ]
  },
  {
   "cell_type": "code",
   "execution_count": 54,
   "metadata": {},
   "outputs": [],
   "source": [
    "datasets = [anno_dv.annotations, anno_iv.annotations, anno_cv.annotations, anno_ctv.annotations]\n",
    "ck = [pairwise_matrix(cohens_kappa, anno) for anno in datasets]\n",
    "pr = [pairwise_matrix(pearsons_rho, anno) for anno in datasets]\n",
    "titles = ['DV', 'IV', 'Central Variable', \"Control Variable\"]"
   ]
  },
  {
   "cell_type": "code",
   "execution_count": 55,
   "metadata": {},
   "outputs": [
    {
     "data": {
      "image/png": "[encoded data removed]",
      "text/plain": [
       "<Figure size 1296x504 with 16 Axes>"
      ]
     },
     "metadata": {
      "needs_background": "light"
     },
     "output_type": "display_data"
    }
   ],
   "source": [
    "fig, axs = plt.subplots(2,4)\n",
    "fig.set_size_inches(18, 7)\n",
    "for k, ax, title in zip(ck,axs[0], titles):\n",
    "    seaborn.heatmap(k, ax = ax)\n",
    "    ax.set_title(title)\n",
    "    ax.set_xticks(())\n",
    "    ax.set_yticks(())\n",
    "for r, ax in zip(pr,axs[1]):\n",
    "    seaborn.heatmap(r, ax = ax)\n",
    "    ax.set_xticks(())\n",
    "    ax.set_yticks(())\n",
    "plt.show()"
   ]
  },
  {
   "cell_type": "markdown",
   "metadata": {},
   "source": [
    "Now we will compare the student coders."
   ]
  },
  {
   "cell_type": "code",
   "execution_count": 56,
   "metadata": {},
   "outputs": [],
   "source": [
    "nondiag = (np.eye(6)-np.ones(6))*-1.0"
   ]
  },
  {
   "cell_type": "code",
   "execution_count": 57,
   "metadata": {},
   "outputs": [
    {
     "name": "stdout",
     "output_type": "stream",
     "text": [
      "0.47214258445407015\n",
      "0.5142407278222342\n",
      "0.4529627823703711\n",
      "0.47596526866863437\n",
      "0.27082376869768193\n",
      "0.31514049828362706\n",
      "0.32833477875850064\n",
      "0.3945852779196347\n"
     ]
    }
   ],
   "source": [
    "xdevck = pairwise_matrix(cohens_kappa, anno_dv.annotations)\n",
    "xdevpr = pairwise_matrix(pearsons_rho, anno_dv.annotations)\n",
    "\n",
    "xindck = pairwise_matrix(cohens_kappa, anno_iv.annotations)\n",
    "xindpr = pairwise_matrix(pearsons_rho, anno_iv.annotations)\n",
    "\n",
    "xcenck = pairwise_matrix(cohens_kappa, anno_cv.annotations)\n",
    "xcenpr = pairwise_matrix(pearsons_rho, anno_cv.annotations)\n",
    "\n",
    "xconck = pairwise_matrix(cohens_kappa, anno_ctv.annotations)\n",
    "xconpr = pairwise_matrix(pearsons_rho, anno_ctv.annotations)\n",
    "\n",
    "print(np.average(xdevck, weights=nondiag))\n",
    "print(np.average(xdevpr, weights=nondiag))\n",
    "print(np.average(xindck, weights=nondiag))\n",
    "print(np.average(xindpr, weights=nondiag))\n",
    "print(np.average(xcenck, weights=nondiag))\n",
    "print(np.average(xcenpr, weights=nondiag))\n",
    "print(np.average(xconck, weights=nondiag))\n",
    "print(np.average(xconpr, weights=nondiag))"
   ]
  },
  {
   "cell_type": "markdown",
   "metadata": {},
   "source": [
    "Now we are going to bring in \"gold standard\" data. In this case, this is where we asked authors of the articles to code their own article's variables and compare with our student coders."
   ]
  },
  {
   "cell_type": "code",
   "execution_count": 58,
   "metadata": {},
   "outputs": [],
   "source": [
    "mergedata = np.loadtxt(fname=\"../data/dataforgssstudy/gss_mergedataC.txt\", dtype=int, delimiter=\"\\t\")"
   ]
  },
  {
   "cell_type": "code",
   "execution_count": 59,
   "metadata": {},
   "outputs": [],
   "source": [
    "anno_merge_dep = AnnotationsContainer.from_array(mergedata[:,0:2])\n",
    "anno_merge_ind = AnnotationsContainer.from_array(mergedata[:,2:4])\n",
    "anno_merge_cen = AnnotationsContainer.from_array(mergedata[:,4:6])\n",
    "anno_merge_con = AnnotationsContainer.from_array(mergedata[:,6:8])\n",
    "anno_merge_dkn = AnnotationsContainer.from_array(mergedata[:,8:10])"
   ]
  },
  {
   "cell_type": "code",
   "execution_count": 60,
   "metadata": {},
   "outputs": [
    {
     "name": "stdout",
     "output_type": "stream",
     "text": [
      "Dependent variable -- kappa & rho\n",
      "0.3744311057948666\n",
      "0.38563437203620615\n",
      "\n",
      "Independent variable\n",
      "0.5430690164641346\n",
      "0.5529974941771468\n",
      "\n",
      "Central variable\n",
      "-0.064017189548477\n",
      "-0.08887644319259187\n",
      "\n",
      "Control variable\n",
      "0.2815172499181942\n",
      "0.28239237574620263\n"
     ]
    }
   ],
   "source": [
    "print(\"\"\"Dependent variable -- kappa & rho\"\"\")\n",
    "print(cohens_kappa(anno_merge_dep.annotations[:,0], anno_merge_dep.annotations[:,1]))\n",
    "print(pearsons_rho(anno_merge_dep.annotations[:,0], anno_merge_dep.annotations[:,1]))\n",
    "\n",
    "print(\"\\nIndependent variable\")\n",
    "print(cohens_kappa(anno_merge_ind.annotations[:,0], anno_merge_ind.annotations[:,1]))\n",
    "print(pearsons_rho(anno_merge_ind.annotations[:,0], anno_merge_ind.annotations[:,1]))\n",
    "\n",
    "print(\"\\nCentral variable\")\n",
    "print(cohens_kappa(anno_merge_cen.annotations[:,0], anno_merge_cen.annotations[:,1]))\n",
    "print(pearsons_rho(anno_merge_cen.annotations[:,0], anno_merge_cen.annotations[:,1]))\n",
    "\n",
    "print(\"\\nControl variable\")\n",
    "print(cohens_kappa(anno_merge_con.annotations[:,0], anno_merge_con.annotations[:,1]))\n",
    "print(pearsons_rho(anno_merge_con.annotations[:,0], anno_merge_con.annotations[:,1]))"
   ]
  },
  {
   "cell_type": "markdown",
   "metadata": {},
   "source": [
    "Whoah! Student coders and authors viewed articles that were \"central\" or critical to the published argument as fundamentally different (exhibiting negative agreement and correlation). Why? Likely because that researchers recalled what they had _intended_ as their central variables before analysis, but those that _worked out_ became central in the text."
   ]
  },
  {
   "cell_type": "markdown",
   "metadata": {},
   "source": [
    "Now for the assessment of the relative values of authors, then student coders."
   ]
  },
  {
   "cell_type": "code",
   "execution_count": 61,
   "metadata": {},
   "outputs": [
    {
     "name": "stdout",
     "output_type": "stream",
     "text": [
      "Dependent\n",
      "0.4763912310286678\n",
      "0.35834738617200673\n",
      "\n",
      "Independent\n",
      "0.23777403035413153\n",
      "0.3136593591905565\n",
      "\n",
      "Central\n",
      "0.35328836424957843\n",
      "0.7512647554806071\n",
      "\n",
      "Control\n",
      "0.081787521079258\n",
      "0.09443507588532883\n"
     ]
    }
   ],
   "source": [
    "print(\"Dependent\")\n",
    "print(np.average(anno_merge_dep.annotations[:,0]))\n",
    "print(np.average(anno_merge_dep.annotations[:,1]))\n",
    "\n",
    "print(\"\\nIndependent\")\n",
    "print(np.average(anno_merge_ind.annotations[:,0]))\n",
    "print(np.average(anno_merge_ind.annotations[:,1]))\n",
    "\n",
    "print(\"\\nCentral\")\n",
    "print(np.average(anno_merge_cen.annotations[:,0]))\n",
    "print(np.average(anno_merge_cen.annotations[:,1]))\n",
    "\n",
    "print(\"\\nControl\")\n",
    "print(np.average(anno_merge_con.annotations[:,0]))\n",
    "print(np.average(anno_merge_con.annotations[:,1]))"
   ]
  },
  {
   "cell_type": "markdown",
   "metadata": {},
   "source": [
    "## Now we are going to use models to predict the correct annotations\n",
    "\n",
    "Recall that Model A is built for 8 coders, but we have 6. We're going to *hack* it by adding two blank columns."
   ]
  },
  {
   "cell_type": "code",
   "execution_count": 62,
   "metadata": {},
   "outputs": [
    {
     "data": {
      "text/plain": [
       "(21461, 6)"
      ]
     },
     "execution_count": 62,
     "metadata": {},
     "output_type": "execute_result"
    }
   ],
   "source": [
    "dev.shape"
   ]
  },
  {
   "cell_type": "code",
   "execution_count": 63,
   "metadata": {},
   "outputs": [
    {
     "data": {
      "text/plain": [
       "array([[ 0, -1, -1, ...,  1, -1, -1],\n",
       "       [ 0, -1, -1, ...,  0, -1, -1],\n",
       "       [ 0, -1, -1, ...,  0, -1, -1],\n",
       "       ...,\n",
       "       [-1, -1, -1, ..., -1, -1, -1],\n",
       "       [-1, -1, -1, ..., -1, -1, -1],\n",
       "       [-1, -1, -1, ..., -1, -1, -1]])"
      ]
     },
     "execution_count": 63,
     "metadata": {},
     "output_type": "execute_result"
    }
   ],
   "source": [
    "negs2 = np.ones((21461, 2), dtype=np.int)*(-1)\n",
    "devA = np.concatenate((dev, negs2), axis=1)\n",
    "devA"
   ]
  },
  {
   "cell_type": "code",
   "execution_count": 64,
   "metadata": {},
   "outputs": [
    {
     "data": {
      "text/plain": [
       "array([0.65595567, 0.85435077, 0.75426342, 0.77533797, 0.89258464,\n",
       "       0.80295383, 0.82581862, 0.64518064])"
      ]
     },
     "execution_count": 64,
     "metadata": {},
     "output_type": "execute_result"
    }
   ],
   "source": [
    "anno_dvA = AnnotationsContainer.from_array(devA)\n",
    "model_devA = ModelA.create_initial_state(2)\n",
    "model_devA.theta"
   ]
  },
  {
   "cell_type": "code",
   "execution_count": 65,
   "metadata": {},
   "outputs": [
    {
     "name": "stdout",
     "output_type": "stream",
     "text": [
      "[0.13942018 0.86057982]\n",
      "-45357.92065827822\n"
     ]
    }
   ],
   "source": [
    "model_dvB = ModelB.create_initial_state(2, 6)\n",
    "print(model_dvB.pi)\n",
    "print(model_dvB.log_likelihood(anno_dv.annotations))"
   ]
  },
  {
   "cell_type": "code",
   "execution_count": 66,
   "metadata": {},
   "outputs": [
    {
     "name": "stdout",
     "output_type": "stream",
     "text": [
      "[0.69455487 0.30544513]\n",
      "-25462.473635032595\n"
     ]
    }
   ],
   "source": [
    "model_dvB.map(anno_dv.annotations)\n",
    "print(model_dvB.pi)\n",
    "print(model_dvB.log_likelihood(anno_dv.annotations))"
   ]
  },
  {
   "cell_type": "code",
   "execution_count": 68,
   "metadata": {},
   "outputs": [
    {
     "name": "stdout",
     "output_type": "stream",
     "text": [
      "[[0.05096941 0.94903059]\n",
      " [0.99531886 0.00468114]\n",
      " [0.82315887 0.17684113]\n",
      " ...\n",
      " [0.97178066 0.02821934]\n",
      " [0.97178066 0.02821934]\n",
      " [0.97178066 0.02821934]]\n"
     ]
    }
   ],
   "source": [
    "# compute the posterior distribution over true annotations\n",
    "posterior_dvB = model_dvB.infer_labels(anno_dv.annotations)\n",
    "# each row show the probability of each label class for the\n",
    "# corresponding item\n",
    "print(posterior_dvB)"
   ]
  },
  {
   "cell_type": "code",
   "execution_count": 69,
   "metadata": {},
   "outputs": [],
   "source": [
    "samples_dvB = model_dvB.sample_posterior_over_accuracy(anno_dv.annotations, 200, burn_in_samples=100, thin_samples=3)"
   ]
  },
  {
   "cell_type": "code",
   "execution_count": 70,
   "metadata": {},
   "outputs": [
    {
     "name": "stdout",
     "output_type": "stream",
     "text": [
      "Mean\n",
      "[[[0.97935867 0.02064133]\n",
      "  [0.51451591 0.48548409]]\n",
      "\n",
      " [[0.96910373 0.03089627]\n",
      "  [0.25735677 0.74264323]]\n",
      "\n",
      " [[0.98241403 0.01758597]\n",
      "  [0.34583088 0.65416912]]\n",
      "\n",
      " [[0.93428394 0.06571606]\n",
      "  [0.24128009 0.75871991]]\n",
      "\n",
      " [[0.69302737 0.30697263]\n",
      "  [0.04567475 0.95432525]]\n",
      "\n",
      " [[0.86374774 0.13625226]\n",
      "  [0.06854737 0.93145263]]]\n",
      "\n",
      "STD\n",
      "[[[0.0023367  0.0023367 ]\n",
      "  [0.01158411 0.01158411]]\n",
      "\n",
      " [[0.00330487 0.00330487]\n",
      "  [0.012625   0.012625  ]]\n",
      "\n",
      " [[0.00322762 0.00322762]\n",
      "  [0.01488924 0.01488924]]\n",
      "\n",
      " [[0.00468783 0.00468783]\n",
      "  [0.01187478 0.01187478]]\n",
      "\n",
      " [[0.00664532 0.00664532]\n",
      "  [0.00578484 0.00578484]]\n",
      "\n",
      " [[0.00694089 0.00694089]\n",
      "  [0.00696025 0.00696025]]]\n"
     ]
    }
   ],
   "source": [
    "# we can then compute a credible interval for the parameters:\n",
    "ci_dv_mean = samples_dvB[0].mean(axis=0)\n",
    "print(\"Mean\")\n",
    "print(ci_dv_mean)\n",
    "\n",
    "ci_dv_stdev = samples_dvB[0].std(axis=0)\n",
    "print(\"\\nSTD\")\n",
    "print(ci_dv_stdev)\n"
   ]
  },
  {
   "cell_type": "markdown",
   "metadata": {},
   "source": [
    "We will use Model B estimates for other variable assessments."
   ]
  },
  {
   "cell_type": "code",
   "execution_count": 71,
   "metadata": {},
   "outputs": [
    {
     "name": "stdout",
     "output_type": "stream",
     "text": [
      "-102.66019608083538\n",
      "[9.20933481e-20 1.00000000e+00]\n",
      "-48.9756711393957\n",
      "(48, 6)\n",
      "(48, 2)\n",
      "[[[0.80916179 0.19083821]\n",
      "  [0.12433786 0.87566214]]\n",
      "\n",
      " [[0.80041129 0.19958871]\n",
      "  [0.08766934 0.91233066]]\n",
      "\n",
      " [[0.80268724 0.19731276]\n",
      "  [0.49303008 0.50696992]]\n",
      "\n",
      " [[0.79034387 0.20965613]\n",
      "  [0.07053921 0.92946079]]\n",
      "\n",
      " [[0.80696846 0.19303154]\n",
      "  [0.35750611 0.64249389]]\n",
      "\n",
      " [[0.79781228 0.20218772]\n",
      "  [0.12379765 0.87620235]]]\n"
     ]
    }
   ],
   "source": [
    "#test\n",
    "model_testB = ModelB.create_initial_state(2, 6)\n",
    "print(model_testB.log_likelihood(anno_test.annotations))\n",
    "model_testB.map(anno_test.annotations)\n",
    "print(model_testB.pi)\n",
    "print(model_testB.log_likelihood(anno_test.annotations))\n",
    "print(anno_test.annotations.shape)\n",
    "posterior_testB = model_testB.infer_labels(anno_test.annotations)\n",
    "print(posterior_testB.shape)\n",
    "samples_testB = model_testB.sample_posterior_over_accuracy(anno_test.annotations, 200, burn_in_samples=100, thin_samples=3)\n",
    "ci_test_mean = samples_testB[0].mean(axis=0)\n",
    "print(ci_test_mean)"
   ]
  },
  {
   "cell_type": "code",
   "execution_count": null,
   "metadata": {},
   "outputs": [
    {
     "name": "stdout",
     "output_type": "stream",
     "text": [
      "-47319.23422199592\n",
      "[0.61093546 0.38906454]\n",
      "-28620.66523246587\n",
      "(21461, 6)\n",
      "(21461, 2)\n",
      "[[[0.97058631 0.02941369]\n",
      "  [0.34535284 0.65464716]]\n",
      "\n",
      " [[0.93614856 0.06385144]\n",
      "  [0.05216538 0.94783462]]\n",
      "\n",
      " [[0.65774549 0.34225451]\n",
      "  [0.2100162  0.7899838 ]]\n",
      "\n",
      " [[0.53436752 0.46563248]\n",
      "  [0.02994546 0.97005454]]\n",
      "\n",
      " [[0.87419426 0.12580574]\n",
      "  [0.09754048 0.90245952]]\n",
      "\n",
      " [[0.88988875 0.11011125]\n",
      "  [0.08766415 0.91233585]]]\n",
      "-29891.610747435112\n",
      "[0.23988844 0.76011156]\n",
      "-25034.918555765576\n",
      "(21461, 6)\n",
      "(21461, 2)\n",
      "[[[0.89185641 0.10814359]\n",
      "  [0.06916033 0.93083967]]\n",
      "\n",
      " [[0.78531668 0.21468332]\n",
      "  [0.05758459 0.94241541]]\n",
      "\n",
      " [[0.99214351 0.00785649]\n",
      "  [0.84173253 0.15826747]]\n",
      "\n",
      " [[0.95016528 0.04983472]\n",
      "  [0.45644392 0.54355608]]\n",
      "\n",
      " [[0.67451899 0.32548101]\n",
      "  [0.0573835  0.9426165 ]]\n",
      "\n",
      " [[0.58901899 0.41098101]\n",
      "  [0.09572239 0.90427761]]]\n",
      "-22350.990364728656\n",
      "[0.83068326 0.16931674]\n",
      "-19415.702035242168\n",
      "(21461, 6)\n",
      "(21461, 2)\n"
     ]
    }
   ],
   "source": [
    "#indepedent variables\n",
    "model_ivB = ModelB.create_initial_state(2, 6)\n",
    "print(model_ivB.log_likelihood(anno_iv.annotations))\n",
    "model_ivB.map(anno_iv.annotations)\n",
    "print(model_ivB.pi)\n",
    "print(model_ivB.log_likelihood(anno_iv.annotations))\n",
    "print(anno_iv.annotations.shape)\n",
    "posterior_ivB = model_ivB.infer_labels(anno_iv.annotations)\n",
    "print(posterior_ivB.shape)\n",
    "samples_ivB = model_ivB.sample_posterior_over_accuracy(anno_iv.annotations, 200, burn_in_samples=100, thin_samples=3)\n",
    "ci_iv_mean = samples_ivB[0].mean(axis=0)\n",
    "print(ci_iv_mean)\n",
    "\n",
    "#central variables\n",
    "model_cvB = ModelB.create_initial_state(2, 6)\n",
    "print(model_cvB.log_likelihood(anno_cv.annotations))\n",
    "model_cvB.map(anno_cv.annotations)\n",
    "print(model_cvB.pi)\n",
    "print(model_cvB.log_likelihood(anno_cv.annotations))\n",
    "print(anno_cv.annotations.shape)\n",
    "posterior_cvB = model_cvB.infer_labels(anno_cv.annotations)\n",
    "print(posterior_cvB.shape)\n",
    "samples_cvB = model_cvB.sample_posterior_over_accuracy(anno_cv.annotations, 200, burn_in_samples=100, thin_samples=3)\n",
    "ci_cv_mean = samples_cvB[0].mean(axis=0)\n",
    "print(ci_cv_mean)\n",
    "\n",
    "#control variables\n",
    "model_ctvB = ModelB.create_initial_state(2, 6)\n",
    "print(model_ctvB.log_likelihood(anno_ctv.annotations))\n",
    "model_ctvB.map(anno_ctv.annotations)\n",
    "print(model_ctvB.pi)\n",
    "print(model_ctvB.log_likelihood(anno_ctv.annotations))\n",
    "print(anno_ctv.annotations.shape)\n",
    "posterior_ctvB = model_ctvB.infer_labels(anno_ctv.annotations)\n",
    "print(posterior_ctvB.shape)\n",
    "samples_ctvB = model_ctvB.sample_posterior_over_accuracy(anno_iv.annotations, 200, burn_in_samples=100, thin_samples=3)\n",
    "ci_ctv_mean = samples_ctvB[0].mean(axis=0)\n",
    "print(ci_ctv_mean)"
   ]
  },
  {
   "cell_type": "markdown",
   "metadata": {},
   "source": [
    "Now we will package up the predicted data into a format we can use for other, subsequent analysis:"
   ]
  },
  {
   "cell_type": "code",
   "execution_count": 173,
   "metadata": {},
   "outputs": [
    {
     "name": "stdout",
     "output_type": "stream",
     "text": [
      "(21461, 2)\n",
      "(21461, 2)\n",
      "(21461, 2)\n",
      "(21461, 2)\n"
     ]
    }
   ],
   "source": [
    "print(posterior_dvB.shape)\n",
    "print(posterior_ivB.shape)\n",
    "print(posterior_cvB.shape)\n",
    "print(posterior_ctvB.shape)"
   ]
  },
  {
   "cell_type": "code",
   "execution_count": 174,
   "metadata": {},
   "outputs": [],
   "source": [
    "predicted_annotations = np.concatenate((posterior_dvB, posterior_ivB, posterior_cvB, posterior_ctvB), axis=1) # posterior_dvBt, posterior_ivBt, posterior_cvBt, posterior_ctvBt), axis=1)"
   ]
  },
  {
   "cell_type": "code",
   "execution_count": 175,
   "metadata": {},
   "outputs": [
    {
     "data": {
      "text/plain": [
       "(21461, 8)"
      ]
     },
     "execution_count": 175,
     "metadata": {},
     "output_type": "execute_result"
    }
   ],
   "source": [
    "predicted_annotations.shape"
   ]
  },
  {
   "cell_type": "markdown",
   "metadata": {},
   "source": [
    "These annotations allowed us to uncover the degree to which social scientists alter their models to achieve a better fit...undocumented data mining. The answer was that social scientists did mine their data, but that it likely improved their analysis because change in the social world was the result of greater distortion than undocumented data mining."
   ]
  },
  {
   "cell_type": "markdown",
   "metadata": {},
   "source": [
    "## Another example analysis looks at a different data set of Hotel Reviews by a variety of patrons."
   ]
  },
  {
   "cell_type": "code",
   "execution_count": 176,
   "metadata": {},
   "outputs": [
    {
     "data": {
      "text/html": [
       "<div>\n",
       "<style scoped>\n",
       "    .dataframe tbody tr th:only-of-type {\n",
       "        vertical-align: middle;\n",
       "    }\n",
       "\n",
       "    .dataframe tbody tr th {\n",
       "        vertical-align: top;\n",
       "    }\n",
       "\n",
       "    .dataframe thead th {\n",
       "        text-align: right;\n",
       "    }\n",
       "</style>\n",
       "<table border=\"1\" class=\"dataframe\">\n",
       "  <thead>\n",
       "    <tr style=\"text-align: right;\">\n",
       "      <th></th>\n",
       "      <th>Karen</th>\n",
       "      <th>Scott</th>\n",
       "      <th>Jessica</th>\n",
       "      <th>write a review</th>\n",
       "      <th>A verified traveler</th>\n",
       "      <th>Kevin</th>\n",
       "      <th>William</th>\n",
       "      <th>R</th>\n",
       "      <th>S</th>\n",
       "      <th>Christopher</th>\n",
       "      <th>...</th>\n",
       "      <th>Thomas</th>\n",
       "      <th>Susan</th>\n",
       "      <th>A Traveler</th>\n",
       "      <th>M</th>\n",
       "      <th>Not Provided</th>\n",
       "      <th>B</th>\n",
       "      <th>Laura</th>\n",
       "      <th>xxxxxxxxxxxxxx</th>\n",
       "      <th>Michael</th>\n",
       "      <th>Joseph</th>\n",
       "    </tr>\n",
       "  </thead>\n",
       "  <tbody>\n",
       "    <tr>\n",
       "      <th>1785 Inn</th>\n",
       "      <td>NaN</td>\n",
       "      <td>NaN</td>\n",
       "      <td>NaN</td>\n",
       "      <td>NaN</td>\n",
       "      <td>NaN</td>\n",
       "      <td>NaN</td>\n",
       "      <td>NaN</td>\n",
       "      <td>NaN</td>\n",
       "      <td>NaN</td>\n",
       "      <td>NaN</td>\n",
       "      <td>...</td>\n",
       "      <td>NaN</td>\n",
       "      <td>NaN</td>\n",
       "      <td>NaN</td>\n",
       "      <td>NaN</td>\n",
       "      <td>NaN</td>\n",
       "      <td>NaN</td>\n",
       "      <td>NaN</td>\n",
       "      <td>NaN</td>\n",
       "      <td>NaN</td>\n",
       "      <td>NaN</td>\n",
       "    </tr>\n",
       "    <tr>\n",
       "      <th>1900 House</th>\n",
       "      <td>NaN</td>\n",
       "      <td>NaN</td>\n",
       "      <td>NaN</td>\n",
       "      <td>NaN</td>\n",
       "      <td>NaN</td>\n",
       "      <td>NaN</td>\n",
       "      <td>NaN</td>\n",
       "      <td>NaN</td>\n",
       "      <td>NaN</td>\n",
       "      <td>NaN</td>\n",
       "      <td>...</td>\n",
       "      <td>NaN</td>\n",
       "      <td>NaN</td>\n",
       "      <td>NaN</td>\n",
       "      <td>NaN</td>\n",
       "      <td>NaN</td>\n",
       "      <td>NaN</td>\n",
       "      <td>NaN</td>\n",
       "      <td>NaN</td>\n",
       "      <td>NaN</td>\n",
       "      <td>NaN</td>\n",
       "    </tr>\n",
       "    <tr>\n",
       "      <th>A Bed &amp; Breakfast In Cambridge</th>\n",
       "      <td>NaN</td>\n",
       "      <td>NaN</td>\n",
       "      <td>NaN</td>\n",
       "      <td>NaN</td>\n",
       "      <td>NaN</td>\n",
       "      <td>NaN</td>\n",
       "      <td>NaN</td>\n",
       "      <td>NaN</td>\n",
       "      <td>NaN</td>\n",
       "      <td>NaN</td>\n",
       "      <td>...</td>\n",
       "      <td>NaN</td>\n",
       "      <td>NaN</td>\n",
       "      <td>3.0</td>\n",
       "      <td>NaN</td>\n",
       "      <td>NaN</td>\n",
       "      <td>NaN</td>\n",
       "      <td>NaN</td>\n",
       "      <td>NaN</td>\n",
       "      <td>NaN</td>\n",
       "      <td>NaN</td>\n",
       "    </tr>\n",
       "    <tr>\n",
       "      <th>A Swallow's Nest Motel</th>\n",
       "      <td>NaN</td>\n",
       "      <td>NaN</td>\n",
       "      <td>NaN</td>\n",
       "      <td>NaN</td>\n",
       "      <td>NaN</td>\n",
       "      <td>NaN</td>\n",
       "      <td>NaN</td>\n",
       "      <td>NaN</td>\n",
       "      <td>NaN</td>\n",
       "      <td>NaN</td>\n",
       "      <td>...</td>\n",
       "      <td>NaN</td>\n",
       "      <td>NaN</td>\n",
       "      <td>NaN</td>\n",
       "      <td>NaN</td>\n",
       "      <td>NaN</td>\n",
       "      <td>NaN</td>\n",
       "      <td>NaN</td>\n",
       "      <td>NaN</td>\n",
       "      <td>NaN</td>\n",
       "      <td>NaN</td>\n",
       "    </tr>\n",
       "    <tr>\n",
       "      <th>Abbeville Inn</th>\n",
       "      <td>NaN</td>\n",
       "      <td>NaN</td>\n",
       "      <td>NaN</td>\n",
       "      <td>NaN</td>\n",
       "      <td>NaN</td>\n",
       "      <td>NaN</td>\n",
       "      <td>NaN</td>\n",
       "      <td>NaN</td>\n",
       "      <td>NaN</td>\n",
       "      <td>NaN</td>\n",
       "      <td>...</td>\n",
       "      <td>NaN</td>\n",
       "      <td>NaN</td>\n",
       "      <td>NaN</td>\n",
       "      <td>NaN</td>\n",
       "      <td>NaN</td>\n",
       "      <td>NaN</td>\n",
       "      <td>NaN</td>\n",
       "      <td>NaN</td>\n",
       "      <td>NaN</td>\n",
       "      <td>NaN</td>\n",
       "    </tr>\n",
       "  </tbody>\n",
       "</table>\n",
       "<p>5 rows × 49 columns</p>\n",
       "</div>"
      ],
      "text/plain": [
       "                                Karen  Scott  Jessica  write a review  \\\n",
       "1785 Inn                          NaN    NaN      NaN             NaN   \n",
       "1900 House                        NaN    NaN      NaN             NaN   \n",
       "A Bed & Breakfast In Cambridge    NaN    NaN      NaN             NaN   \n",
       "A Swallow's Nest Motel            NaN    NaN      NaN             NaN   \n",
       "Abbeville Inn                     NaN    NaN      NaN             NaN   \n",
       "\n",
       "                                A verified traveler  Kevin  William   R   S  \\\n",
       "1785 Inn                                        NaN    NaN      NaN NaN NaN   \n",
       "1900 House                                      NaN    NaN      NaN NaN NaN   \n",
       "A Bed & Breakfast In Cambridge                  NaN    NaN      NaN NaN NaN   \n",
       "A Swallow's Nest Motel                          NaN    NaN      NaN NaN NaN   \n",
       "Abbeville Inn                                   NaN    NaN      NaN NaN NaN   \n",
       "\n",
       "                                Christopher  ...  Thomas  Susan  A Traveler  \\\n",
       "1785 Inn                                NaN  ...     NaN    NaN         NaN   \n",
       "1900 House                              NaN  ...     NaN    NaN         NaN   \n",
       "A Bed & Breakfast In Cambridge          NaN  ...     NaN    NaN         3.0   \n",
       "A Swallow's Nest Motel                  NaN  ...     NaN    NaN         NaN   \n",
       "Abbeville Inn                           NaN  ...     NaN    NaN         NaN   \n",
       "\n",
       "                                 M  Not Provided   B  Laura  xxxxxxxxxxxxxx  \\\n",
       "1785 Inn                       NaN           NaN NaN    NaN             NaN   \n",
       "1900 House                     NaN           NaN NaN    NaN             NaN   \n",
       "A Bed & Breakfast In Cambridge NaN           NaN NaN    NaN             NaN   \n",
       "A Swallow's Nest Motel         NaN           NaN NaN    NaN             NaN   \n",
       "Abbeville Inn                  NaN           NaN NaN    NaN             NaN   \n",
       "\n",
       "                                Michael  Joseph  \n",
       "1785 Inn                            NaN     NaN  \n",
       "1900 House                          NaN     NaN  \n",
       "A Bed & Breakfast In Cambridge      NaN     NaN  \n",
       "A Swallow's Nest Motel              NaN     NaN  \n",
       "Abbeville Inn                       NaN     NaN  \n",
       "\n",
       "[5 rows x 49 columns]"
      ]
     },
     "execution_count": 176,
     "metadata": {},
     "output_type": "execute_result"
    }
   ],
   "source": [
    "df_hotels = pandas.read_csv('../data/hot_Reviews.csv', index_col=0)\n",
    "df_hotels[:5]"
   ]
  },
  {
   "cell_type": "markdown",
   "metadata": {},
   "source": [
    "Here a rank of 0 is a missing value and to simplify things more we will convert from a 1-10 scale to a 1-5 scale, with 0 as missing"
   ]
  },
  {
   "cell_type": "code",
   "execution_count": 177,
   "metadata": {},
   "outputs": [],
   "source": [
    "df_hotels = df_hotels.apply(lambda x: x // 2) #integer divide by 2 rounds all values"
   ]
  },
  {
   "cell_type": "markdown",
   "metadata": {},
   "source": [
    "And we can visualize all the reviews as a heatmap with the missing values greyed out"
   ]
  },
  {
   "cell_type": "code",
   "execution_count": 178,
   "metadata": {},
   "outputs": [
    {
     "data": {
      "image/png": "[encoded data removed]",
      "text/plain": [
       "<Figure size 1440x1440 with 2 Axes>"
      ]
     },
     "metadata": {
      "needs_background": "light"
     },
     "output_type": "display_data"
    }
   ],
   "source": [
    "fig, ax = plt.subplots(figsize = (20,20))\n",
    "seaborn.heatmap(df_hotels, cmap='rainbow', ax = ax)\n",
    "plt.show()"
   ]
  },
  {
   "cell_type": "markdown",
   "metadata": {},
   "source": [
    "To give the dataframe to pyanno we need to convert to np array and change the nans to intergers, lets use -1"
   ]
  },
  {
   "cell_type": "code",
   "execution_count": 181,
   "metadata": {},
   "outputs": [],
   "source": [
    "hot_mat = np.array(df_hotels.fillna(-1))\n",
    "anno_hot = AnnotationsContainer.from_array(hot_mat, missing_values=[-1])"
   ]
  },
  {
   "cell_type": "code",
   "execution_count": 182,
   "metadata": {},
   "outputs": [
    {
     "data": {
      "text/plain": [
       "array([[-1, -1, -1, ..., -1, -1, -1],\n",
       "       [-1, -1, -1, ..., -1, -1, -1],\n",
       "       [-1, -1, -1, ..., -1, -1, -1],\n",
       "       ...,\n",
       "       [-1, -1, -1, ..., -1, -1, -1],\n",
       "       [-1, -1, -1, ..., -1, -1, -1],\n",
       "       [-1, -1, -1, ..., -1, -1, -1]])"
      ]
     },
     "execution_count": 182,
     "metadata": {},
     "output_type": "execute_result"
    }
   ],
   "source": [
    "anno_hot.annotations"
   ]
  },
  {
   "cell_type": "code",
   "execution_count": 183,
   "metadata": {},
   "outputs": [
    {
     "data": {
      "text/plain": [
       "[0.0, 1.0, 2.0, 3.0, 4.0, 5.0]"
      ]
     },
     "execution_count": 183,
     "metadata": {},
     "output_type": "execute_result"
    }
   ],
   "source": [
    "anno_hot.labels"
   ]
  },
  {
   "cell_type": "code",
   "execution_count": 184,
   "metadata": {},
   "outputs": [
    {
     "data": {
      "text/plain": [
       "[-1]"
      ]
     },
     "execution_count": 184,
     "metadata": {},
     "output_type": "execute_result"
    }
   ],
   "source": [
    "anno_hot.missing_values"
   ]
  },
  {
   "cell_type": "markdown",
   "metadata": {},
   "source": [
    "Look at coder agreement"
   ]
  },
  {
   "cell_type": "code",
   "execution_count": 185,
   "metadata": {},
   "outputs": [
    {
     "data": {
      "text/plain": [
       "array([0.07806534, 0.26262198, 0.63555367, 0.00636402, 0.0093339 ,\n",
       "       0.00806109])"
      ]
     },
     "execution_count": 185,
     "metadata": {},
     "output_type": "execute_result"
    }
   ],
   "source": [
    "pyanno.measures.agreement.labels_frequency(anno_hot.annotations, 6)#6 possible catagories"
   ]
  },
  {
   "cell_type": "code",
   "execution_count": 186,
   "metadata": {},
   "outputs": [
    {
     "name": "stdout",
     "output_type": "stream",
     "text": [
      "[[0. 0. 0. 0. 0. 0.]\n",
      " [0. 0. 1. 0. 0. 0.]\n",
      " [1. 0. 4. 0. 0. 0.]\n",
      " [0. 0. 0. 0. 0. 0.]\n",
      " [0. 0. 0. 0. 0. 0.]\n",
      " [0. 0. 0. 0. 0. 0.]]\n"
     ]
    },
    {
     "data": {
      "image/png": "[encoded data removed]",
      "text/plain": [
       "<Figure size 432x288 with 2 Axes>"
      ]
     },
     "metadata": {
      "needs_background": "light"
     },
     "output_type": "display_data"
    }
   ],
   "source": [
    "c = pyanno.measures.agreement.confusion_matrix(anno_hot.annotations[:,0], anno_hot.annotations[:,1], 6) #6 possible catagories\n",
    "print(c)\n",
    "ac = seaborn.heatmap(c)\n",
    "plt.show()"
   ]
  },
  {
   "cell_type": "markdown",
   "metadata": {},
   "source": [
    "Most agreement is on 2 i.e. an average hotel and there's little agreement as rating go higher, likely due to scarcity in the sample"
   ]
  },
  {
   "cell_type": "code",
   "execution_count": 187,
   "metadata": {},
   "outputs": [
    {
     "data": {
      "text/plain": [
       "0.3787878787878787"
      ]
     },
     "execution_count": 187,
     "metadata": {},
     "output_type": "execute_result"
    }
   ],
   "source": [
    "scotts_pi(anno_hot.annotations[:,0], anno_hot.annotations[:,1])"
   ]
  },
  {
   "cell_type": "code",
   "execution_count": 188,
   "metadata": {},
   "outputs": [
    {
     "data": {
      "text/plain": [
       "0.398760907615921"
      ]
     },
     "execution_count": 188,
     "metadata": {},
     "output_type": "execute_result"
    }
   ],
   "source": [
    "krippendorffs_alpha(anno_hot.annotations[::])"
   ]
  },
  {
   "cell_type": "code",
   "execution_count": 189,
   "metadata": {},
   "outputs": [
    {
     "data": {
      "text/plain": [
       "0.40328336902212697"
      ]
     },
     "execution_count": 189,
     "metadata": {},
     "output_type": "execute_result"
    }
   ],
   "source": [
    "cohens_kappa(anno_hot.annotations[:,0], anno_hot.annotations[:,1])"
   ]
  },
  {
   "cell_type": "code",
   "execution_count": 190,
   "metadata": {},
   "outputs": [
    {
     "name": "stderr",
     "output_type": "stream",
     "text": [
      "/opt/anaconda3/lib/python3.7/site-packages/pyanno/measures/helpers.py:166: RuntimeWarning: invalid value encountered in double_scalars\n",
      "  return (observed_agreement - chance_agreement) / (1. - chance_agreement)\n"
     ]
    },
    {
     "data": {
      "text/plain": [
       "<AxesSubplot:>"
      ]
     },
     "execution_count": 190,
     "metadata": {},
     "output_type": "execute_result"
    },
    {
     "data": {
      "image/png": "[encoded data removed]",
      "text/plain": [
       "<Figure size 1080x1080 with 2 Axes>"
      ]
     },
     "metadata": {
      "needs_background": "light"
     },
     "output_type": "display_data"
    }
   ],
   "source": [
    "m = pairwise_matrix(cohens_kappa, anno_hot.annotations)\n",
    "fig, ax = plt.subplots(figsize = (15, 15))\n",
    "seaborn.heatmap(m, ax =ax)"
   ]
  },
  {
   "cell_type": "code",
   "execution_count": 191,
   "metadata": {},
   "outputs": [
    {
     "name": "stdout",
     "output_type": "stream",
     "text": [
      "[8.07982630e-01 6.45491112e-01 6.75797261e-01 8.05643142e-01\n",
      " 5.58613639e-01 9.99999983e-01 6.40094602e-01 3.18280967e-01\n",
      " 5.62642161e-01 4.57156149e-01 4.80660261e-01 4.60836488e-01\n",
      " 8.52613150e-01 4.98855773e-01 2.26613627e-01 2.87544029e-01\n",
      " 7.36378006e-01 3.91812658e-01 3.05899149e-01 1.93833949e-07\n",
      " 3.54628713e-01 6.55429852e-01 7.03454209e-01 5.00664448e-01]\n",
      "-2707.565352860008\n"
     ]
    }
   ],
   "source": [
    "model_hot = ModelBt.create_initial_state(6, 49)\n",
    "model_hot.mle(anno_hot.annotations)\n",
    "print(model.theta)\n",
    "print(model_hot.log_likelihood(anno_hot.annotations))"
   ]
  },
  {
   "cell_type": "code",
   "execution_count": 192,
   "metadata": {},
   "outputs": [],
   "source": [
    "def makeQuestionComparison(model, anno_target, num_questions = 20):\n",
    "    votes = []\n",
    "    for r in anno_target.annotations:\n",
    "        v = [0] * len(anno_target.labels)\n",
    "        votes.append(v)\n",
    "        for a in r:\n",
    "            if a > -1:\n",
    "                v[a] += 1\n",
    "    votes_array = np.array(votes)\n",
    "    posterior = model.infer_labels(anno_target.annotations)\n",
    "    fig, (ax1, ax2) = plt.subplots(ncols=2, figsize = (15, 10), sharey=True)\n",
    "\n",
    "    seaborn.heatmap(votes_array[:num_questions], annot = True, ax=ax2)\n",
    "    seaborn.heatmap(np.nan_to_num(posterior,0)[:num_questions], annot=True, ax =ax1)\n",
    "    ax1.set_title(\"Model\")\n",
    "    ax2.set_title(\"Votes\")\n",
    "    return fig, (ax1, ax2)"
   ]
  },
  {
   "cell_type": "code",
   "execution_count": 193,
   "metadata": {
    "scrolled": true
   },
   "outputs": [
    {
     "data": {
      "text/plain": [
       "(<Figure size 1080x720 with 4 Axes>,\n",
       " (<AxesSubplot:title={'center':'Model'}>,\n",
       "  <AxesSubplot:title={'center':'Votes'}>))"
      ]
     },
     "execution_count": 193,
     "metadata": {},
     "output_type": "execute_result"
    },
    {
     "data": {
      "image/png": "[encoded data removed]",
      "text/plain": [
       "<Figure size 1080x720 with 4 Axes>"
      ]
     },
     "metadata": {
      "needs_background": "light"
     },
     "output_type": "display_data"
    }
   ],
   "source": [
    "makeQuestionComparison(model_hot, anno_hot)"
   ]
  },
  {
   "cell_type": "markdown",
   "metadata": {},
   "source": [
    "## <span style=\"color:red\">*Your turn*</span>\n",
    "\n",
    "<span style=\"color:red\">In the cells immediately following, use the results of your content annotation survey to predict high and low-quality analysts, then predict MAP estimates for your codes in question. What do these estimates suggest about the distribution of skill among your coders? How different are these estimates from a majority vote?"
   ]
  },
  {
   "cell_type": "markdown",
   "metadata": {},
   "source": [
    "Let's start with model B."
   ]
  },
  {
   "cell_type": "code",
   "execution_count": 154,
   "metadata": {},
   "outputs": [
    {
     "name": "stdout",
     "output_type": "stream",
     "text": [
      "[[[7.51396918e-01 9.63936022e-02 4.54940419e-02 7.24814319e-03\n",
      "   9.94672950e-02]\n",
      "  [1.84774604e-01 5.68349789e-01 2.12844906e-01 1.87929106e-02\n",
      "   1.52377900e-02]\n",
      "  [5.80364369e-02 1.94745592e-01 4.34173727e-01 2.02357653e-01\n",
      "   1.10686591e-01]\n",
      "  [1.09783308e-02 1.07738831e-01 2.14737116e-01 5.29319168e-01\n",
      "   1.37226555e-01]\n",
      "  [1.64545994e-02 1.73366003e-01 2.70924016e-02 2.33296803e-01\n",
      "   5.49790193e-01]]\n",
      "\n",
      " [[7.24767685e-01 1.34308338e-01 9.42337500e-02 1.98496511e-02\n",
      "   2.68405757e-02]\n",
      "  [1.31212497e-01 6.54169285e-01 1.15358117e-01 8.74372897e-02\n",
      "   1.18228116e-02]\n",
      "  [3.29329287e-02 2.50846086e-01 5.68576828e-01 1.08991107e-01\n",
      "   3.86530507e-02]\n",
      "  [5.30155870e-03 4.31147651e-02 7.17912222e-02 7.78620551e-01\n",
      "   1.01171903e-01]\n",
      "  [1.42485568e-02 3.87998639e-03 1.18279603e-01 2.08826819e-01\n",
      "   6.54765034e-01]]\n",
      "\n",
      " [[6.48312623e-01 2.19089507e-01 7.85130417e-02 7.66021897e-03\n",
      "   4.64246089e-02]\n",
      "  [2.10856880e-01 5.58418805e-01 2.10522171e-01 1.17830928e-02\n",
      "   8.41905109e-03]\n",
      "  [1.66889206e-01 1.47322656e-01 4.28954867e-01 2.01507243e-01\n",
      "   5.53260275e-02]\n",
      "  [1.66544858e-02 2.62174631e-02 1.88892772e-01 6.40579786e-01\n",
      "   1.27655493e-01]\n",
      "  [1.16142358e-01 2.43388334e-02 6.55721962e-02 4.89029345e-02\n",
      "   7.45043678e-01]]\n",
      "\n",
      " [[7.73063188e-01 1.30383617e-01 4.03733009e-02 2.49261798e-03\n",
      "   5.36872766e-02]\n",
      "  [1.83118848e-01 6.10886783e-01 1.35501891e-01 5.48101089e-02\n",
      "   1.56823695e-02]\n",
      "  [3.47275580e-02 7.42035578e-02 6.57803034e-01 2.08057574e-01\n",
      "   2.52082765e-02]\n",
      "  [4.17149415e-02 9.03589470e-02 2.30024940e-01 4.88121560e-01\n",
      "   1.49779611e-01]\n",
      "  [4.56417516e-02 5.13528393e-02 9.52177422e-02 2.47453466e-01\n",
      "   5.60334201e-01]]\n",
      "\n",
      " [[8.42218747e-01 2.35726310e-02 9.14703082e-02 3.28656911e-02\n",
      "   9.87262297e-03]\n",
      "  [8.21350607e-02 5.37106526e-01 3.12439424e-01 3.82570688e-02\n",
      "   3.00619202e-02]\n",
      "  [1.64690589e-01 1.48734695e-01 5.08871407e-01 1.10870009e-01\n",
      "   6.68332995e-02]\n",
      "  [2.79845782e-02 7.22809108e-02 2.00731406e-01 4.82603072e-01\n",
      "   2.16400034e-01]\n",
      "  [1.05009246e-01 1.84742278e-02 1.70011588e-01 5.76207063e-02\n",
      "   6.48884232e-01]]\n",
      "\n",
      " [[6.82454464e-01 1.69379037e-01 7.43455294e-02 1.18522324e-03\n",
      "   7.26357462e-02]\n",
      "  [2.38069329e-01 5.06239392e-01 1.47564709e-01 1.37188219e-02\n",
      "   9.44077478e-02]\n",
      "  [4.86686211e-02 1.27401202e-01 6.72443562e-01 7.59305865e-02\n",
      "   7.55560286e-02]\n",
      "  [2.18317090e-02 3.88796839e-02 1.09473974e-01 6.24149669e-01\n",
      "   2.05664964e-01]\n",
      "  [2.20673835e-02 1.29951085e-02 4.66971788e-02 1.83739521e-01\n",
      "   7.34500808e-01]]\n",
      "\n",
      " [[3.67986951e-01 3.22907191e-01 2.50996996e-01 5.03618093e-02\n",
      "   7.74705311e-03]\n",
      "  [2.12060821e-01 4.95324899e-01 1.85584530e-01 7.09332908e-02\n",
      "   3.60964594e-02]\n",
      "  [8.27956897e-02 1.17157282e-01 5.13831489e-01 1.30682555e-01\n",
      "   1.55532984e-01]\n",
      "  [2.94291668e-02 1.21540586e-01 6.90255188e-02 6.76740137e-01\n",
      "   1.03264592e-01]\n",
      "  [1.21396325e-01 2.07236862e-02 8.19692336e-02 2.86029290e-01\n",
      "   4.89881465e-01]]\n",
      "\n",
      " [[4.86732134e-01 2.44562849e-01 1.92646509e-01 9.82964998e-03\n",
      "   6.62288587e-02]\n",
      "  [1.81963137e-01 6.37940394e-01 1.17384533e-01 1.94885428e-02\n",
      "   4.32233940e-02]\n",
      "  [6.72075910e-02 1.06045310e-01 6.36362626e-01 1.35773128e-01\n",
      "   5.46113461e-02]\n",
      "  [5.82734738e-02 1.60033615e-01 1.47225692e-01 5.46144676e-01\n",
      "   8.83225429e-02]\n",
      "  [8.29905531e-03 4.87648963e-02 2.04154141e-02 1.30636273e-01\n",
      "   7.91884361e-01]]\n",
      "\n",
      " [[4.92508294e-01 3.19194364e-01 1.15645253e-01 4.86742139e-02\n",
      "   2.39778749e-02]\n",
      "  [2.03015765e-01 5.51451247e-01 1.69081986e-01 5.11166683e-02\n",
      "   2.53343340e-02]\n",
      "  [5.48571006e-02 1.49047592e-01 5.88493240e-01 1.63221294e-01\n",
      "   4.43807730e-02]\n",
      "  [1.52769602e-02 6.35884017e-02 2.11702923e-01 6.46533141e-01\n",
      "   6.28985741e-02]\n",
      "  [6.67947544e-02 2.01252873e-02 1.15090131e-01 2.42305492e-01\n",
      "   5.55684336e-01]]\n",
      "\n",
      " [[6.99810967e-01 1.01058898e-01 1.23656061e-01 6.33216994e-02\n",
      "   1.21523742e-02]\n",
      "  [1.60251350e-01 5.99860008e-01 1.02816476e-01 4.40080710e-02\n",
      "   9.30640946e-02]\n",
      "  [6.19308893e-02 1.99370910e-01 5.65620727e-01 1.34661436e-01\n",
      "   3.84160382e-02]\n",
      "  [1.51798785e-01 5.33273778e-02 9.41113269e-02 5.78729626e-01\n",
      "   1.22032884e-01]\n",
      "  [4.34968908e-02 1.34923635e-02 5.76561246e-02 1.57710171e-01\n",
      "   7.27644450e-01]]\n",
      "\n",
      " [[6.55423707e-01 2.48068385e-01 5.70284142e-02 2.74989341e-02\n",
      "   1.19805595e-02]\n",
      "  [1.76815924e-01 6.85019678e-01 1.15398552e-01 1.63822308e-02\n",
      "   6.38361424e-03]\n",
      "  [6.83121470e-02 1.47385310e-01 7.01431120e-01 4.19529991e-02\n",
      "   4.09184235e-02]\n",
      "  [2.09768070e-03 2.34511194e-02 7.48105970e-02 8.32670368e-01\n",
      "   6.69702347e-02]\n",
      "  [6.54299637e-02 4.39383945e-03 1.05767456e-01 2.10958720e-01\n",
      "   6.13450020e-01]]\n",
      "\n",
      " [[6.80546255e-01 7.13965470e-02 1.70808216e-01 5.02831043e-03\n",
      "   7.22206712e-02]\n",
      "  [1.67180587e-01 4.09878650e-01 2.09733310e-01 8.66578781e-02\n",
      "   1.26549575e-01]\n",
      "  [6.53663128e-02 6.45869577e-02 6.97368624e-01 8.49529723e-02\n",
      "   8.77251330e-02]\n",
      "  [2.93520451e-02 1.34468580e-01 1.74808722e-01 5.23802167e-01\n",
      "   1.37568486e-01]\n",
      "  [1.94961946e-02 3.17624868e-02 4.15273312e-02 1.36115560e-01\n",
      "   7.71098427e-01]]\n",
      "\n",
      " [[6.95986757e-01 2.35076764e-01 4.12136026e-02 2.26406282e-02\n",
      "   5.08224896e-03]\n",
      "  [3.50899060e-01 5.24193053e-01 5.39120873e-02 6.01476527e-02\n",
      "   1.08481478e-02]\n",
      "  [6.40589343e-02 1.17034428e-01 5.30693721e-01 1.85730691e-01\n",
      "   1.02482225e-01]\n",
      "  [1.05173666e-02 3.76867526e-02 1.30712988e-01 6.57360732e-01\n",
      "   1.63722161e-01]\n",
      "  [3.99359457e-03 1.82786602e-02 1.28514526e-01 1.72432508e-01\n",
      "   6.76780712e-01]]\n",
      "\n",
      " [[8.49886925e-01 4.26294561e-02 3.68299797e-02 3.85245843e-02\n",
      "   3.21290554e-02]\n",
      "  [4.68049214e-02 7.31669684e-01 1.20276956e-01 8.23686994e-02\n",
      "   1.88797390e-02]\n",
      "  [1.18684113e-01 2.90514420e-01 4.77262889e-01 8.75614113e-02\n",
      "   2.59771674e-02]\n",
      "  [2.24039834e-02 7.95133042e-02 1.12358305e-01 5.82105966e-01\n",
      "   2.03618441e-01]\n",
      "  [4.79086477e-02 3.92433856e-02 2.82097480e-02 9.38211622e-02\n",
      "   7.90817057e-01]]\n",
      "\n",
      " [[5.51069837e-01 1.23300665e-01 2.36426459e-01 3.57182977e-02\n",
      "   5.34847406e-02]\n",
      "  [1.62453638e-01 5.26452322e-01 2.87532644e-01 1.71599741e-02\n",
      "   6.40142124e-03]\n",
      "  [1.23825032e-01 8.42031795e-02 6.97410767e-01 6.04496868e-02\n",
      "   3.41113348e-02]\n",
      "  [3.11354024e-02 1.35857850e-01 6.03612649e-02 6.26527314e-01\n",
      "   1.46118168e-01]\n",
      "  [3.03595071e-02 1.51836464e-02 8.76578636e-02 1.32077698e-01\n",
      "   7.34721285e-01]]\n",
      "\n",
      " [[8.95011170e-01 4.31542979e-02 4.31035269e-02 2.21148767e-03\n",
      "   1.65195177e-02]\n",
      "  [1.11934420e-01 6.16237898e-01 1.24170344e-01 8.48968435e-02\n",
      "   6.27604944e-02]\n",
      "  [1.58413518e-01 2.76484248e-01 4.16874172e-01 8.48689252e-02\n",
      "   6.33591364e-02]\n",
      "  [4.37822430e-03 1.18708714e-01 2.43214933e-01 5.14183107e-01\n",
      "   1.19515021e-01]\n",
      "  [3.29601535e-02 1.27173147e-02 1.33555610e-01 1.98550269e-01\n",
      "   6.22216653e-01]]\n",
      "\n",
      " [[4.63182627e-01 2.94352094e-01 5.05563872e-02 9.42916404e-02\n",
      "   9.76172520e-02]\n",
      "  [1.11796855e-01 6.89567641e-01 1.05024736e-01 8.04819227e-02\n",
      "   1.31288450e-02]\n",
      "  [9.07337285e-02 1.39835689e-01 4.91563139e-01 1.83227070e-01\n",
      "   9.46403742e-02]\n",
      "  [1.02070786e-02 9.41674563e-02 6.99417877e-02 7.18244246e-01\n",
      "   1.07439432e-01]\n",
      "  [8.99220708e-03 6.07163244e-02 5.27768439e-03 1.92329181e-01\n",
      "   7.32684603e-01]]\n",
      "\n",
      " [[7.23416386e-01 1.87177533e-01 4.56101905e-02 5.03306109e-03\n",
      "   3.87628287e-02]\n",
      "  [1.59420185e-01 5.29593752e-01 2.12791788e-01 6.38584319e-02\n",
      "   3.43358435e-02]\n",
      "  [7.49585841e-02 1.95908402e-01 4.15900938e-01 2.17336335e-01\n",
      "   9.58957411e-02]\n",
      "  [3.64016148e-02 5.18043628e-02 1.98010151e-01 6.05788521e-01\n",
      "   1.07995350e-01]\n",
      "  [5.77603250e-02 2.01410151e-02 5.62742093e-02 2.08619764e-01\n",
      "   6.57204687e-01]]\n",
      "\n",
      " [[5.87170777e-01 3.19453811e-01 3.68835241e-02 1.58005072e-02\n",
      "   4.06913798e-02]\n",
      "  [2.21611663e-01 5.19039008e-01 9.45780509e-02 1.54324627e-01\n",
      "   1.04466518e-02]\n",
      "  [4.28501449e-02 3.81626650e-01 3.48832307e-01 1.52045102e-01\n",
      "   7.46457958e-02]\n",
      "  [6.54068947e-02 4.92577143e-02 6.69960391e-02 7.32146251e-01\n",
      "   8.61931010e-02]\n",
      "  [5.09602050e-03 1.76008979e-02 6.85214919e-02 2.79132912e-01\n",
      "   6.29648678e-01]]\n",
      "\n",
      " [[7.13902135e-01 1.58090853e-01 1.25641141e-01 1.06405883e-04\n",
      "   2.25946556e-03]\n",
      "  [9.15405054e-02 6.12391699e-01 8.29047226e-02 8.45960582e-02\n",
      "   1.28567015e-01]\n",
      "  [1.37533968e-01 8.88247556e-02 6.57547283e-01 8.42258289e-02\n",
      "   3.18681649e-02]\n",
      "  [4.13721449e-03 5.05773767e-02 1.61527535e-01 6.31516313e-01\n",
      "   1.52241561e-01]\n",
      "  [9.60508802e-03 3.06240628e-03 6.49601094e-02 1.81182971e-01\n",
      "   7.41189426e-01]]\n",
      "\n",
      " [[5.48861413e-01 2.14403758e-01 1.06513871e-01 6.39897767e-02\n",
      "   6.62311811e-02]\n",
      "  [2.29492205e-01 5.99258119e-01 1.00423224e-01 4.62124054e-02\n",
      "   2.46140472e-02]\n",
      "  [1.40036270e-01 8.08289180e-02 5.23201772e-01 1.45464506e-01\n",
      "   1.10468534e-01]\n",
      "  [3.25540117e-02 1.21826398e-01 1.13200200e-01 4.92474881e-01\n",
      "   2.39944509e-01]\n",
      "  [3.02707032e-02 6.08620230e-02 3.55735962e-02 2.16708160e-01\n",
      "   6.56585518e-01]]\n",
      "\n",
      " [[5.60190885e-01 1.56714048e-01 2.68365890e-02 2.04822826e-01\n",
      "   5.14356517e-02]\n",
      "  [1.18813465e-01 6.19474435e-01 1.37464429e-01 1.20370845e-01\n",
      "   3.87682514e-03]\n",
      "  [2.08392313e-01 9.31597506e-02 5.27168610e-01 9.60791669e-02\n",
      "   7.52001596e-02]\n",
      "  [1.11127265e-02 2.63563407e-01 6.62043716e-02 5.59239636e-01\n",
      "   9.98798585e-02]\n",
      "  [5.90104599e-02 2.75332041e-02 2.30208360e-02 3.22578470e-01\n",
      "   5.67857030e-01]]\n",
      "\n",
      " [[7.40475028e-01 1.60088265e-01 3.30853384e-02 4.47071225e-05\n",
      "   6.63066611e-02]\n",
      "  [1.93798228e-01 5.69424928e-01 1.55502112e-01 7.72504827e-02\n",
      "   4.02425022e-03]\n",
      "  [5.83131319e-02 1.01310657e-01 5.86356236e-01 2.27343566e-01\n",
      "   2.66764086e-02]\n",
      "  [3.94600562e-02 9.37142860e-02 1.33409662e-01 6.15070664e-01\n",
      "   1.18345333e-01]\n",
      "  [3.75007403e-02 2.22477778e-02 1.21397088e-01 1.36659078e-01\n",
      "   6.82195315e-01]]\n",
      "\n",
      " [[6.47026753e-01 2.04808964e-01 9.07515474e-02 8.52709774e-03\n",
      "   4.88856381e-02]\n",
      "  [1.48898954e-01 6.23286177e-01 1.14278115e-01 9.87226500e-02\n",
      "   1.48141046e-02]\n",
      "  [1.13646838e-01 1.22701527e-01 5.27114007e-01 1.16028012e-01\n",
      "   1.20509616e-01]\n",
      "  [1.41447533e-01 5.14679089e-02 1.60423017e-01 5.60464219e-01\n",
      "   8.61973229e-02]\n",
      "  [1.21682633e-02 8.90408331e-02 5.34161700e-02 1.55111254e-01\n",
      "   6.90263480e-01]]]\n",
      "-287.23811736433356\n"
     ]
    }
   ],
   "source": [
    "model = ModelB.create_initial_state(5, 24)\n",
    "# other model parameters are initialized from the model prior\n",
    "print(model.theta)\n",
    "print(model.log_likelihood(anno.annotations))"
   ]
  },
  {
   "cell_type": "code",
   "execution_count": 155,
   "metadata": {},
   "outputs": [],
   "source": [
    "samples = model.sample_posterior_over_accuracy(anno.annotations, \n",
    "                        200, burn_in_samples=100, thin_samples=3)"
   ]
  },
  {
   "cell_type": "code",
   "execution_count": 156,
   "metadata": {},
   "outputs": [
    {
     "name": "stdout",
     "output_type": "stream",
     "text": [
      "[[[0.67708047 0.16395209 0.08428918 0.03341091 0.04126735]\n",
      "  [0.14983768 0.59237715 0.15034778 0.07271507 0.03472232]\n",
      "  [0.07522023 0.14482364 0.56539594 0.14559387 0.06896632]\n",
      "  [0.05998143 0.06112404 0.21550776 0.54059502 0.12279175]\n",
      "  [0.04004209 0.03929492 0.07620451 0.17252987 0.67192861]]\n",
      "\n",
      " [[0.68362736 0.16637988 0.07199207 0.03921465 0.03878604]\n",
      "  [0.14039191 0.59045202 0.15564858 0.07528622 0.03822127]\n",
      "  [0.07196722 0.14699128 0.5650633  0.14264657 0.07333163]\n",
      "  [0.09242943 0.06056407 0.11995492 0.51743818 0.2096134 ]\n",
      "  [0.04511716 0.03781828 0.07836512 0.16933001 0.66936942]]\n",
      "\n",
      " [[0.68095616 0.15950756 0.07631005 0.04274146 0.04048478]\n",
      "  [0.15292308 0.59044729 0.15307444 0.06523323 0.03832196]\n",
      "  [0.07770889 0.14230761 0.57079676 0.14183004 0.06735671]\n",
      "  [0.06051081 0.09567675 0.12365889 0.49799854 0.22215501]\n",
      "  [0.04930725 0.03963297 0.07857027 0.17099093 0.66149857]]\n",
      "\n",
      " [[0.64299632 0.19691104 0.08113525 0.03945564 0.03950175]\n",
      "  [0.14442712 0.59296916 0.14896614 0.07383352 0.03980406]\n",
      "  [0.06964008 0.14513594 0.56792917 0.14549309 0.07180171]\n",
      "  [0.05747179 0.09283847 0.12472866 0.51910227 0.20585882]\n",
      "  [0.03828059 0.0379973  0.07995697 0.16575491 0.67801024]]\n",
      "\n",
      " [[0.67608966 0.15696805 0.0841132  0.04231074 0.04051835]\n",
      "  [0.15229975 0.58165611 0.15514344 0.07447287 0.03642783]\n",
      "  [0.07293495 0.15392928 0.55909502 0.14135279 0.07268796]\n",
      "  [0.06271588 0.06231342 0.20236125 0.49651392 0.17609553]\n",
      "  [0.04320789 0.04070194 0.08250877 0.16301754 0.67056386]]\n",
      "\n",
      " [[0.68087512 0.15588657 0.07722145 0.04526112 0.04075574]\n",
      "  [0.14835238 0.59099288 0.15383356 0.06905423 0.03776695]\n",
      "  [0.0676929  0.14902453 0.56837974 0.1466379  0.06826494]\n",
      "  [0.06018708 0.09576935 0.12047707 0.57393955 0.14962695]\n",
      "  [0.04361198 0.0434536  0.08532577 0.17885187 0.64875678]]\n",
      "\n",
      " [[0.67972715 0.16083946 0.07917635 0.0396215  0.04063554]\n",
      "  [0.15764986 0.5893681  0.14444088 0.07425078 0.03429039]\n",
      "  [0.07473498 0.15038851 0.56878201 0.13889231 0.06720219]\n",
      "  [0.03261467 0.11670985 0.15491188 0.51839493 0.17736868]\n",
      "  [0.04188542 0.04011699 0.08383024 0.15412167 0.68004568]]\n",
      "\n",
      " [[0.63857107 0.16289208 0.07755225 0.04169842 0.07928619]\n",
      "  [0.14138259 0.5977412  0.14782774 0.07108322 0.04196525]\n",
      "  [0.06531698 0.14366508 0.57586783 0.14419483 0.07095527]\n",
      "  [0.03253508 0.05813565 0.1216275  0.64505243 0.14264934]\n",
      "  [0.04133527 0.04603516 0.08268556 0.15241839 0.67752562]]\n",
      "\n",
      " [[0.63889619 0.1963081  0.0828115  0.04235557 0.03962863]\n",
      "  [0.14562396 0.58848106 0.15384048 0.07512773 0.03692677]\n",
      "  [0.06505472 0.13676988 0.58018616 0.14169487 0.07629437]\n",
      "  [0.03498948 0.09290775 0.18330897 0.57049149 0.11830231]\n",
      "  [0.04095514 0.04386522 0.0859719  0.16884262 0.66036512]]\n",
      "\n",
      " [[0.65177686 0.15606332 0.07653103 0.07601123 0.03961756]\n",
      "  [0.15076307 0.58321966 0.15061839 0.07737262 0.03802626]\n",
      "  [0.07154561 0.14682859 0.55819996 0.14829974 0.0751261 ]\n",
      "  [0.03196788 0.06454156 0.19339496 0.53441922 0.17567637]\n",
      "  [0.04090669 0.0473071  0.08341662 0.16984215 0.65852744]]\n",
      "\n",
      " [[0.64375468 0.19899462 0.081878   0.03577969 0.039593  ]\n",
      "  [0.15023687 0.59566562 0.15302221 0.07245241 0.02862289]\n",
      "  [0.0749781  0.13985914 0.57202773 0.13988045 0.07325457]\n",
      "  [0.02920326 0.06243566 0.18681476 0.57679398 0.14475235]\n",
      "  [0.03931153 0.04515652 0.07611787 0.16567818 0.6737359 ]]\n",
      "\n",
      " [[0.64919835 0.16384659 0.07393334 0.03856132 0.0744604 ]\n",
      "  [0.14671796 0.59619443 0.14449763 0.07395647 0.0386335 ]\n",
      "  [0.07217211 0.13798364 0.56347115 0.15339359 0.0729795 ]\n",
      "  [0.02462859 0.0615523  0.12483669 0.53967858 0.24930384]\n",
      "  [0.04156398 0.0430831  0.08173912 0.16914153 0.66447227]]\n",
      "\n",
      " [[0.68122943 0.15296886 0.07922131 0.03952646 0.04705394]\n",
      "  [0.15402657 0.5867842  0.14827028 0.07454686 0.03637209]\n",
      "  [0.06960943 0.1377106  0.57692575 0.14552464 0.07022958]\n",
      "  [0.05920805 0.09246703 0.12117651 0.57505985 0.15208856]\n",
      "  [0.03879154 0.04395542 0.08002247 0.17691498 0.66031559]]\n",
      "\n",
      " [[0.68840789 0.16014613 0.07753235 0.04240158 0.03151205]\n",
      "  [0.15512359 0.58030497 0.15122173 0.07637174 0.03697797]\n",
      "  [0.06805722 0.13802708 0.57931257 0.14419656 0.07040658]\n",
      "  [0.02663937 0.08963403 0.15402273 0.55030724 0.17939663]\n",
      "  [0.03957148 0.04767836 0.07525594 0.17426026 0.66323396]]\n",
      "\n",
      " [[0.64121221 0.19333898 0.08160157 0.04145081 0.04239643]\n",
      "  [0.14648221 0.59746435 0.14757627 0.07274891 0.03572826]\n",
      "  [0.07207397 0.14383671 0.56561833 0.14761177 0.07085922]\n",
      "  [0.03251374 0.09197157 0.17463932 0.57491208 0.12596329]\n",
      "  [0.04013696 0.04318374 0.07968805 0.17129434 0.66569691]]\n",
      "\n",
      " [[0.63118408 0.17117088 0.11926576 0.0401638  0.03821548]\n",
      "  [0.14972261 0.58587544 0.14951518 0.07800192 0.03688485]\n",
      "  [0.06795318 0.13750095 0.57450248 0.15058098 0.0694624 ]\n",
      "  [0.03063834 0.06133854 0.15153107 0.56985516 0.18663688]\n",
      "  [0.04182251 0.04392909 0.08159708 0.16185228 0.67079903]]\n",
      "\n",
      " [[0.65385059 0.16092506 0.07311702 0.07246983 0.0396375 ]\n",
      "  [0.14231486 0.60758755 0.13632342 0.07731078 0.03646339]\n",
      "  [0.07427759 0.14572552 0.56681186 0.13774119 0.07544383]\n",
      "  [0.02922791 0.09298132 0.14841688 0.6115584  0.11781549]\n",
      "  [0.03695688 0.04075699 0.07946736 0.16619259 0.67662617]]\n",
      "\n",
      " [[0.64620407 0.16564314 0.07377145 0.06724508 0.04713627]\n",
      "  [0.14532687 0.59918466 0.14664573 0.07144848 0.03739426]\n",
      "  [0.07517941 0.13581002 0.57559776 0.14644519 0.06696761]\n",
      "  [0.03411203 0.06232762 0.16593341 0.58396786 0.15365909]\n",
      "  [0.04786511 0.04919811 0.07985712 0.15939893 0.66368074]]\n",
      "\n",
      " [[0.63983032 0.16578471 0.0830993  0.07394515 0.03734052]\n",
      "  [0.13931264 0.60221229 0.1454719  0.07648213 0.03652105]\n",
      "  [0.06739528 0.14721101 0.56931707 0.1473454  0.06873125]\n",
      "  [0.0260703  0.05716661 0.18381645 0.61008236 0.12286429]\n",
      "  [0.04039806 0.03664162 0.08662386 0.16265366 0.6736828 ]]\n",
      "\n",
      " [[0.64141072 0.16927251 0.11199548 0.0411637  0.03615758]\n",
      "  [0.14388927 0.60307229 0.14288665 0.07431843 0.03583336]\n",
      "  [0.0706011  0.14128124 0.58496912 0.13407724 0.0690713 ]\n",
      "  [0.03479798 0.05907916 0.30429816 0.4752841  0.1265406 ]\n",
      "  [0.04960213 0.04270824 0.08238481 0.17030257 0.65500225]]\n",
      "\n",
      " [[0.63366788 0.17157409 0.08031509 0.04057387 0.07386907]\n",
      "  [0.14929466 0.5820117  0.1523697  0.07796641 0.03835753]\n",
      "  [0.07244878 0.14695444 0.56514723 0.14299489 0.07245465]\n",
      "  [0.03226332 0.06202353 0.12321365 0.48326742 0.29923209]\n",
      "  [0.04242653 0.04282688 0.07598303 0.15788676 0.6808768 ]]\n",
      "\n",
      " [[0.63667902 0.16210911 0.08241109 0.07685859 0.04194219]\n",
      "  [0.13933476 0.59228891 0.14588957 0.08624826 0.0362385 ]\n",
      "  [0.06888658 0.13852829 0.58250556 0.13518444 0.07489513]\n",
      "  [0.02932414 0.05970946 0.11754876 0.57623885 0.2171788 ]\n",
      "  [0.04501164 0.0427761  0.08171827 0.1654587  0.66503529]]\n",
      "\n",
      " [[0.63650504 0.19678668 0.08084704 0.04673941 0.03912182]\n",
      "  [0.15193121 0.58909441 0.15293878 0.06865416 0.03738143]\n",
      "  [0.06619567 0.15150976 0.56768982 0.14638971 0.06821503]\n",
      "  [0.02866439 0.0636688  0.15609534 0.5700485  0.18152298]\n",
      "  [0.04132261 0.04460904 0.07608923 0.16789904 0.67008008]]\n",
      "\n",
      " [[0.64520046 0.19371611 0.0779993  0.04204847 0.04103567]\n",
      "  [0.15245159 0.57852919 0.15105852 0.07837769 0.03958301]\n",
      "  [0.07339661 0.13893992 0.5695067  0.14216255 0.07599422]\n",
      "  [0.03061518 0.05755434 0.21679167 0.57766698 0.11737183]\n",
      "  [0.04570499 0.0464595  0.07849282 0.16615801 0.66318468]]]\n",
      "[[[0.0992562  0.07511451 0.05845599 0.03181971 0.04064667]\n",
      "  [0.06732948 0.09082714 0.06469174 0.0461242  0.03601811]\n",
      "  [0.05492119 0.06859695 0.09658707 0.06929034 0.04532401]\n",
      "  [0.03982484 0.04045379 0.06724681 0.08541165 0.05295493]\n",
      "  [0.04306169 0.03816523 0.04969694 0.07280713 0.0902199 ]]\n",
      "\n",
      " [[0.08765849 0.0768729  0.04682908 0.04136217 0.03572193]\n",
      "  [0.063776   0.09646547 0.06957747 0.05691401 0.03594635]\n",
      "  [0.04731257 0.06131137 0.10021557 0.06062986 0.0502442 ]\n",
      "  [0.05120993 0.04255685 0.05157613 0.086238   0.07113088]\n",
      "  [0.04232848 0.03936191 0.05031124 0.07693479 0.09930015]]\n",
      "\n",
      " [[0.08957327 0.06580166 0.0520229  0.04158815 0.03791478]\n",
      "  [0.07057887 0.08804612 0.07065061 0.04116735 0.0388532 ]\n",
      "  [0.05479822 0.06270651 0.09323156 0.06694358 0.04392303]\n",
      "  [0.0394242  0.04979645 0.05460116 0.08644295 0.07431364]\n",
      "  [0.04437963 0.03720616 0.05459523 0.08246288 0.09551999]]\n",
      "\n",
      " [[0.08607375 0.07653827 0.05306618 0.03527861 0.03668335]\n",
      "  [0.06964354 0.09569663 0.07137953 0.04955679 0.03641589]\n",
      "  [0.04304303 0.06805852 0.08826848 0.06236254 0.0427044 ]\n",
      "  [0.03892389 0.04931685 0.05583913 0.08815685 0.06484878]\n",
      "  [0.03409403 0.03768632 0.05202782 0.07075173 0.09467582]]\n",
      "\n",
      " [[0.09013003 0.06762282 0.05136033 0.03946136 0.03420847]\n",
      "  [0.06839263 0.09257574 0.06322262 0.04794765 0.03395872]\n",
      "  [0.05046567 0.06481638 0.09209309 0.06338557 0.04833047]\n",
      "  [0.04303228 0.04109401 0.07027857 0.08313047 0.0688947 ]\n",
      "  [0.03873878 0.03775088 0.0601771  0.07159744 0.09533347]]\n",
      "\n",
      " [[0.08635667 0.07024681 0.05007219 0.04299475 0.03733339]\n",
      "  [0.0635734  0.08944749 0.0697397  0.04242785 0.03243095]\n",
      "  [0.04873782 0.07263974 0.08650006 0.06837329 0.04726837]\n",
      "  [0.03738008 0.04667213 0.05663255 0.08032875 0.05834529]\n",
      "  [0.04215285 0.03848951 0.05276478 0.0739819  0.09524555]]\n",
      "\n",
      " [[0.09977662 0.06987553 0.05034777 0.03502699 0.0401676 ]\n",
      "  [0.07025032 0.08991548 0.06619519 0.05245002 0.03653886]\n",
      "  [0.04755564 0.06643251 0.09463974 0.06907038 0.04450083]\n",
      "  [0.03551022 0.05637388 0.06434136 0.08831845 0.06916123]\n",
      "  [0.03704994 0.03709421 0.05123074 0.06387144 0.08698439]]\n",
      "\n",
      " [[0.09268431 0.07019399 0.04874261 0.04027177 0.05686395]\n",
      "  [0.06631085 0.09506081 0.06575538 0.04527432 0.03841572]\n",
      "  [0.04662608 0.06692577 0.09588667 0.06177763 0.04436224]\n",
      "  [0.0316265  0.03957206 0.0561616  0.08577557 0.05843126]\n",
      "  [0.04106942 0.0419812  0.05008832 0.06692272 0.09418509]]\n",
      "\n",
      " [[0.0923535  0.07223398 0.05258828 0.03774516 0.04199884]\n",
      "  [0.06614317 0.09032141 0.06568723 0.05227935 0.03235352]\n",
      "  [0.04404341 0.05912921 0.09497512 0.06319449 0.05057739]\n",
      "  [0.03279905 0.04644794 0.07449721 0.08954184 0.05731894]\n",
      "  [0.03546406 0.0414603  0.05258255 0.07527738 0.09162382]]\n",
      "\n",
      " [[0.09339807 0.07112676 0.05287752 0.05343009 0.04127589]\n",
      "  [0.06640869 0.09832373 0.07320801 0.04806759 0.03578844]\n",
      "  [0.04518892 0.07259066 0.09787238 0.06865488 0.04917716]\n",
      "  [0.02801575 0.0420813  0.07131969 0.08751382 0.06609534]\n",
      "  [0.04653015 0.04477296 0.05439244 0.07748802 0.09689596]]\n",
      "\n",
      " [[0.09845274 0.07720855 0.0568374  0.0366855  0.03754358]\n",
      "  [0.06696474 0.09237113 0.07140834 0.04981541 0.02882996]\n",
      "  [0.04609862 0.062064   0.08658037 0.05990754 0.0481717 ]\n",
      "  [0.02822987 0.04272973 0.06990643 0.08097339 0.05936772]\n",
      "  [0.03961369 0.04045745 0.05317854 0.07392323 0.09113295]]\n",
      "\n",
      " [[0.09580233 0.06556458 0.04561336 0.03486472 0.05348848]\n",
      "  [0.06385948 0.09673421 0.0690027  0.04687    0.03852079]\n",
      "  [0.04796939 0.06117277 0.09042912 0.06982897 0.04781912]\n",
      "  [0.02555867 0.0404319  0.05693906 0.08121708 0.06443715]\n",
      "  [0.03605614 0.04025362 0.05963727 0.08044294 0.09698031]]\n",
      "\n",
      " [[0.095428   0.06909371 0.05682494 0.04123666 0.04501496]\n",
      "  [0.06617575 0.091069   0.06783183 0.05095171 0.03545215]\n",
      "  [0.04443495 0.0660151  0.09507145 0.06564678 0.0479427 ]\n",
      "  [0.04087878 0.04822107 0.05397212 0.09120083 0.06012553]\n",
      "  [0.03679718 0.04527806 0.05360689 0.07695659 0.09494982]]\n",
      "\n",
      " [[0.09137127 0.06560959 0.0518219  0.0397464  0.0306364 ]\n",
      "  [0.07075248 0.0871072  0.06506634 0.04854192 0.03678238]\n",
      "  [0.04500137 0.06376375 0.08557588 0.06651323 0.04445281]\n",
      "  [0.02575976 0.04984005 0.0651603  0.08513104 0.06350139]\n",
      "  [0.03601622 0.04200366 0.04884666 0.08815782 0.09698797]]\n",
      "\n",
      " [[0.09698467 0.0761504  0.05690673 0.04246076 0.03841917]\n",
      "  [0.06325936 0.09353193 0.07287182 0.04738165 0.03343134]\n",
      "  [0.04528262 0.06266818 0.09871814 0.06352032 0.05116858]\n",
      "  [0.03008943 0.05440945 0.0638714  0.08594627 0.06436812]\n",
      "  [0.04066257 0.04320196 0.05230112 0.07671469 0.09467539]]\n",
      "\n",
      " [[0.09814542 0.07626011 0.06564339 0.03699221 0.034579  ]\n",
      "  [0.0658261  0.09173275 0.06581092 0.05152507 0.03400754]\n",
      "  [0.04665506 0.06610828 0.09653379 0.06956493 0.04531113]\n",
      "  [0.03060773 0.04275174 0.05760065 0.08406959 0.07352995]\n",
      "  [0.04339925 0.03986181 0.05419653 0.07175038 0.09625868]]\n",
      "\n",
      " [[0.09175134 0.07520489 0.04768975 0.05253519 0.03867131]\n",
      "  [0.06304625 0.09447033 0.05923846 0.05524757 0.03765316]\n",
      "  [0.04853611 0.06431226 0.08833681 0.06208257 0.04918375]\n",
      "  [0.03089934 0.05226442 0.06046331 0.08327677 0.05538094]\n",
      "  [0.03404985 0.03613238 0.05210824 0.07593814 0.09270865]]\n",
      "\n",
      " [[0.09483672 0.07639214 0.05008875 0.04701727 0.04801553]\n",
      "  [0.06439641 0.0906129  0.06212101 0.05088751 0.0362875 ]\n",
      "  [0.05083606 0.06201711 0.08825004 0.06536707 0.04467493]\n",
      "  [0.02895009 0.04366112 0.06694825 0.09413528 0.06418029]\n",
      "  [0.04627157 0.05126864 0.05401383 0.06948654 0.09509997]]\n",
      "\n",
      " [[0.08760851 0.07105273 0.04975059 0.04727913 0.03521837]\n",
      "  [0.06091607 0.09081438 0.06527501 0.05699115 0.03293624]\n",
      "  [0.04775064 0.0652111  0.08758585 0.06407228 0.04419183]\n",
      "  [0.02485166 0.03876778 0.06446986 0.0850337  0.05884528]\n",
      "  [0.03877798 0.0341718  0.05553876 0.07311438 0.09578314]]\n",
      "\n",
      " [[0.09022879 0.07236384 0.06458075 0.03892695 0.03354569]\n",
      "  [0.06874843 0.09070341 0.05969168 0.0469399  0.03445961]\n",
      "  [0.04833092 0.05828299 0.09039955 0.06366611 0.03767648]\n",
      "  [0.03220009 0.04110197 0.07293176 0.08666139 0.06042981]\n",
      "  [0.04447395 0.04456527 0.05113596 0.07891119 0.10003365]]\n",
      "\n",
      " [[0.10062419 0.07320301 0.05675477 0.0356932  0.05343919]\n",
      "  [0.06921963 0.09283478 0.06297634 0.05038734 0.03844635]\n",
      "  [0.04717251 0.06367278 0.09393333 0.06455119 0.04803055]\n",
      "  [0.03281327 0.03994541 0.05445939 0.07790855 0.07219303]\n",
      "  [0.03793589 0.04055949 0.05037602 0.07149023 0.09255782]]\n",
      "\n",
      " [[0.09116539 0.07292287 0.05553587 0.05688754 0.03786886]\n",
      "  [0.06580522 0.09535378 0.05998166 0.05531832 0.035735  ]\n",
      "  [0.04624724 0.0632243  0.07868918 0.06272069 0.05150439]\n",
      "  [0.02630206 0.04095768 0.0607852  0.08523592 0.0723286 ]\n",
      "  [0.04016116 0.04194734 0.05619092 0.07701949 0.09342152]]\n",
      "\n",
      " [[0.08916155 0.07100935 0.05255494 0.04458391 0.03990544]\n",
      "  [0.06510383 0.092388   0.06365588 0.04636306 0.03728694]\n",
      "  [0.04548864 0.06450566 0.09616765 0.07063819 0.04793652]\n",
      "  [0.02615467 0.04185403 0.05583915 0.07750923 0.06970453]\n",
      "  [0.04148872 0.04162147 0.05612384 0.07481076 0.08955895]]\n",
      "\n",
      " [[0.09288842 0.08113096 0.05513783 0.03807005 0.03995688]\n",
      "  [0.07100012 0.09290836 0.06880622 0.05037726 0.03832676]\n",
      "  [0.04387187 0.06301795 0.08132689 0.05826076 0.04643787]\n",
      "  [0.02914258 0.03990719 0.07526379 0.08504944 0.05604763]\n",
      "  [0.04229586 0.04052764 0.05355109 0.07469854 0.0923445 ]]]\n"
     ]
    }
   ],
   "source": [
    "print(samples[0].mean(axis=0))\n",
    "print(samples[0].std(axis=0))"
   ]
  },
  {
   "cell_type": "code",
   "execution_count": 157,
   "metadata": {},
   "outputs": [
    {
     "name": "stdout",
     "output_type": "stream",
     "text": [
      "[[[0.8        0.15       0.05       0.         0.        ]\n",
      "  [0.13636364 0.68181818 0.13636364 0.04545455 0.        ]\n",
      "  [0.04347826 0.13043478 0.65217391 0.13043478 0.04347826]\n",
      "  [0.03571429 0.03571429 0.21428571 0.60714286 0.10714286]\n",
      "  [0.         0.         0.05263158 0.15789474 0.78947368]]\n",
      "\n",
      " [[0.8        0.15       0.05       0.         0.        ]\n",
      "  [0.13636364 0.68181818 0.13636364 0.04545455 0.        ]\n",
      "  [0.04347826 0.13043478 0.65217391 0.13043478 0.04347826]\n",
      "  [0.07142857 0.03571429 0.10714286 0.57142857 0.21428571]\n",
      "  [0.         0.         0.05263158 0.15789474 0.78947368]]\n",
      "\n",
      " [[0.8        0.15       0.05       0.         0.        ]\n",
      "  [0.13636364 0.68181818 0.13636364 0.04545455 0.        ]\n",
      "  [0.04347826 0.13043478 0.65217391 0.13043478 0.04347826]\n",
      "  [0.03571429 0.07142857 0.10714286 0.57142857 0.21428571]\n",
      "  [0.         0.         0.05263158 0.15789474 0.78947368]]\n",
      "\n",
      " [[0.75       0.2        0.05       0.         0.        ]\n",
      "  [0.13636364 0.68181818 0.13636364 0.04545455 0.        ]\n",
      "  [0.04347826 0.13043478 0.65217391 0.13043478 0.04347826]\n",
      "  [0.03571429 0.07142857 0.10714286 0.57142857 0.21428571]\n",
      "  [0.         0.         0.05263158 0.15789474 0.78947368]]\n",
      "\n",
      " [[0.8        0.15       0.05       0.         0.        ]\n",
      "  [0.13636364 0.68181818 0.13636364 0.04545455 0.        ]\n",
      "  [0.04347826 0.13043478 0.65217391 0.13043478 0.04347826]\n",
      "  [0.03571429 0.03571429 0.21428571 0.53571429 0.17857143]\n",
      "  [0.         0.         0.05263158 0.15789474 0.78947368]]\n",
      "\n",
      " [[0.8        0.15       0.05       0.         0.        ]\n",
      "  [0.13636364 0.68181818 0.13636364 0.04545455 0.        ]\n",
      "  [0.04347826 0.13043478 0.65217391 0.13043478 0.04347826]\n",
      "  [0.03571429 0.07142857 0.10714286 0.64285714 0.14285714]\n",
      "  [0.         0.         0.05263158 0.15789474 0.78947368]]\n",
      "\n",
      " [[0.8        0.15       0.05       0.         0.        ]\n",
      "  [0.13636364 0.68181818 0.13636364 0.04545455 0.        ]\n",
      "  [0.04347826 0.13043478 0.65217391 0.13043478 0.04347826]\n",
      "  [0.         0.10714286 0.14285714 0.57142857 0.17857143]\n",
      "  [0.         0.         0.05263158 0.15789474 0.78947368]]\n",
      "\n",
      " [[0.75       0.15       0.05       0.         0.05      ]\n",
      "  [0.13636364 0.68181818 0.13636364 0.04545455 0.        ]\n",
      "  [0.04347826 0.13043478 0.65217391 0.13043478 0.04347826]\n",
      "  [0.         0.03571429 0.10714286 0.71428571 0.14285714]\n",
      "  [0.         0.         0.05263158 0.15789474 0.78947368]]\n",
      "\n",
      " [[0.75       0.2        0.05       0.         0.        ]\n",
      "  [0.13636364 0.68181818 0.13636364 0.04545455 0.        ]\n",
      "  [0.04347826 0.13043478 0.65217391 0.13043478 0.04347826]\n",
      "  [0.         0.07142857 0.17857143 0.64285714 0.10714286]\n",
      "  [0.         0.         0.05263158 0.15789474 0.78947368]]\n",
      "\n",
      " [[0.75       0.15       0.05       0.05       0.        ]\n",
      "  [0.13636364 0.68181818 0.13636364 0.04545455 0.        ]\n",
      "  [0.04347826 0.13043478 0.65217391 0.13043478 0.04347826]\n",
      "  [0.         0.03571429 0.17857143 0.60714286 0.17857143]\n",
      "  [0.         0.         0.05263158 0.15789474 0.78947368]]\n",
      "\n",
      " [[0.75       0.2        0.05       0.         0.        ]\n",
      "  [0.13636364 0.68181818 0.13636364 0.04545455 0.        ]\n",
      "  [0.04347826 0.13043478 0.65217391 0.13043478 0.04347826]\n",
      "  [0.         0.03571429 0.17857143 0.64285714 0.14285714]\n",
      "  [0.         0.         0.05263158 0.15789474 0.78947368]]\n",
      "\n",
      " [[0.75       0.15       0.05       0.         0.05      ]\n",
      "  [0.13636364 0.68181818 0.13636364 0.04545455 0.        ]\n",
      "  [0.04347826 0.13043478 0.65217391 0.13043478 0.04347826]\n",
      "  [0.         0.03571429 0.10714286 0.60714286 0.25      ]\n",
      "  [0.         0.         0.05263158 0.15789474 0.78947368]]\n",
      "\n",
      " [[0.8        0.15       0.05       0.         0.        ]\n",
      "  [0.13636364 0.68181818 0.13636364 0.04545455 0.        ]\n",
      "  [0.04347826 0.13043478 0.65217391 0.13043478 0.04347826]\n",
      "  [0.03571429 0.07142857 0.10714286 0.64285714 0.14285714]\n",
      "  [0.         0.         0.05263158 0.15789474 0.78947368]]\n",
      "\n",
      " [[0.8        0.15       0.05       0.         0.        ]\n",
      "  [0.13636364 0.68181818 0.13636364 0.04545455 0.        ]\n",
      "  [0.04347826 0.13043478 0.65217391 0.13043478 0.04347826]\n",
      "  [0.         0.07142857 0.14285714 0.60714286 0.17857143]\n",
      "  [0.         0.         0.05263158 0.15789474 0.78947368]]\n",
      "\n",
      " [[0.75       0.2        0.05       0.         0.        ]\n",
      "  [0.13636364 0.68181818 0.13636364 0.04545455 0.        ]\n",
      "  [0.04347826 0.13043478 0.65217391 0.13043478 0.04347826]\n",
      "  [0.         0.07142857 0.17857143 0.64285714 0.10714286]\n",
      "  [0.         0.         0.05263158 0.15789474 0.78947368]]\n",
      "\n",
      " [[0.75       0.15       0.1        0.         0.        ]\n",
      "  [0.13636364 0.68181818 0.13636364 0.04545455 0.        ]\n",
      "  [0.04347826 0.13043478 0.65217391 0.13043478 0.04347826]\n",
      "  [0.         0.03571429 0.14285714 0.64285714 0.17857143]\n",
      "  [0.         0.         0.05263158 0.15789474 0.78947368]]\n",
      "\n",
      " [[0.75       0.15       0.05       0.05       0.        ]\n",
      "  [0.13636364 0.68181818 0.13636364 0.04545455 0.        ]\n",
      "  [0.04347826 0.13043478 0.65217391 0.13043478 0.04347826]\n",
      "  [0.         0.07142857 0.14285714 0.67857143 0.10714286]\n",
      "  [0.         0.         0.05263158 0.15789474 0.78947368]]\n",
      "\n",
      " [[0.75       0.15       0.05       0.05       0.        ]\n",
      "  [0.13636364 0.68181818 0.13636364 0.04545455 0.        ]\n",
      "  [0.04347826 0.13043478 0.65217391 0.13043478 0.04347826]\n",
      "  [0.         0.03571429 0.17857143 0.64285714 0.14285714]\n",
      "  [0.         0.         0.05263158 0.15789474 0.78947368]]\n",
      "\n",
      " [[0.75       0.15       0.05       0.05       0.        ]\n",
      "  [0.13636364 0.68181818 0.13636364 0.04545455 0.        ]\n",
      "  [0.04347826 0.13043478 0.65217391 0.13043478 0.04347826]\n",
      "  [0.         0.03571429 0.17857143 0.67857143 0.10714286]\n",
      "  [0.         0.         0.05263158 0.15789474 0.78947368]]\n",
      "\n",
      " [[0.75       0.15       0.1        0.         0.        ]\n",
      "  [0.13636364 0.68181818 0.13636364 0.04545455 0.        ]\n",
      "  [0.04347826 0.13043478 0.65217391 0.13043478 0.04347826]\n",
      "  [0.         0.03571429 0.32142857 0.53571429 0.10714286]\n",
      "  [0.         0.         0.05263158 0.15789474 0.78947368]]\n",
      "\n",
      " [[0.75       0.15       0.05       0.         0.05      ]\n",
      "  [0.13636364 0.68181818 0.13636364 0.04545455 0.        ]\n",
      "  [0.04347826 0.13043478 0.65217391 0.13043478 0.04347826]\n",
      "  [0.         0.03571429 0.10714286 0.53571429 0.32142857]\n",
      "  [0.         0.         0.05263158 0.15789474 0.78947368]]\n",
      "\n",
      " [[0.75       0.15       0.05       0.05       0.        ]\n",
      "  [0.13636364 0.68181818 0.13636364 0.04545455 0.        ]\n",
      "  [0.04347826 0.13043478 0.65217391 0.13043478 0.04347826]\n",
      "  [0.         0.03571429 0.10714286 0.64285714 0.21428571]\n",
      "  [0.         0.         0.05263158 0.15789474 0.78947368]]\n",
      "\n",
      " [[0.75       0.2        0.05       0.         0.        ]\n",
      "  [0.13636364 0.68181818 0.13636364 0.04545455 0.        ]\n",
      "  [0.04347826 0.13043478 0.65217391 0.13043478 0.04347826]\n",
      "  [0.         0.03571429 0.14285714 0.64285714 0.17857143]\n",
      "  [0.         0.         0.05263158 0.15789474 0.78947368]]\n",
      "\n",
      " [[0.75       0.2        0.05       0.         0.        ]\n",
      "  [0.13636364 0.68181818 0.13636364 0.04545455 0.        ]\n",
      "  [0.04347826 0.13043478 0.65217391 0.13043478 0.04347826]\n",
      "  [0.         0.03571429 0.21428571 0.64285714 0.10714286]\n",
      "  [0.         0.         0.05263158 0.15789474 0.78947368]]]\n",
      "-230.3242461027932\n"
     ]
    },
    {
     "name": "stderr",
     "output_type": "stream",
     "text": [
      "/opt/anaconda3/lib/python3.7/site-packages/pyanno/util.py:80: RuntimeWarning: divide by zero encountered in log\n",
      "  log_theta = ninf_to_num(log(theta))\n"
     ]
    }
   ],
   "source": [
    "model.map(anno.annotations)\n",
    "print(model.theta)\n",
    "print(model.log_likelihood(anno.annotations))"
   ]
  },
  {
   "cell_type": "code",
   "execution_count": 158,
   "metadata": {},
   "outputs": [
    {
     "name": "stdout",
     "output_type": "stream",
     "text": [
      "[[[0.8        0.15       0.05       0.         0.        ]\n",
      "  [0.13636364 0.68181818 0.13636364 0.04545455 0.        ]\n",
      "  [0.04347826 0.13043478 0.65217391 0.13043478 0.04347826]\n",
      "  [0.03571429 0.03571429 0.21428571 0.60714286 0.10714286]\n",
      "  [0.         0.         0.05263158 0.15789474 0.78947368]]\n",
      "\n",
      " [[0.8        0.15       0.05       0.         0.        ]\n",
      "  [0.13636364 0.68181818 0.13636364 0.04545455 0.        ]\n",
      "  [0.04347826 0.13043478 0.65217391 0.13043478 0.04347826]\n",
      "  [0.07142857 0.03571429 0.10714286 0.57142857 0.21428571]\n",
      "  [0.         0.         0.05263158 0.15789474 0.78947368]]\n",
      "\n",
      " [[0.8        0.15       0.05       0.         0.        ]\n",
      "  [0.13636364 0.68181818 0.13636364 0.04545455 0.        ]\n",
      "  [0.04347826 0.13043478 0.65217391 0.13043478 0.04347826]\n",
      "  [0.03571429 0.07142857 0.10714286 0.57142857 0.21428571]\n",
      "  [0.         0.         0.05263158 0.15789474 0.78947368]]\n",
      "\n",
      " [[0.75       0.2        0.05       0.         0.        ]\n",
      "  [0.13636364 0.68181818 0.13636364 0.04545455 0.        ]\n",
      "  [0.04347826 0.13043478 0.65217391 0.13043478 0.04347826]\n",
      "  [0.03571429 0.07142857 0.10714286 0.57142857 0.21428571]\n",
      "  [0.         0.         0.05263158 0.15789474 0.78947368]]\n",
      "\n",
      " [[0.8        0.15       0.05       0.         0.        ]\n",
      "  [0.13636364 0.68181818 0.13636364 0.04545455 0.        ]\n",
      "  [0.04347826 0.13043478 0.65217391 0.13043478 0.04347826]\n",
      "  [0.03571429 0.03571429 0.21428571 0.53571429 0.17857143]\n",
      "  [0.         0.         0.05263158 0.15789474 0.78947368]]\n",
      "\n",
      " [[0.8        0.15       0.05       0.         0.        ]\n",
      "  [0.13636364 0.68181818 0.13636364 0.04545455 0.        ]\n",
      "  [0.04347826 0.13043478 0.65217391 0.13043478 0.04347826]\n",
      "  [0.03571429 0.07142857 0.10714286 0.64285714 0.14285714]\n",
      "  [0.         0.         0.05263158 0.15789474 0.78947368]]\n",
      "\n",
      " [[0.8        0.15       0.05       0.         0.        ]\n",
      "  [0.13636364 0.68181818 0.13636364 0.04545455 0.        ]\n",
      "  [0.04347826 0.13043478 0.65217391 0.13043478 0.04347826]\n",
      "  [0.         0.10714286 0.14285714 0.57142857 0.17857143]\n",
      "  [0.         0.         0.05263158 0.15789474 0.78947368]]\n",
      "\n",
      " [[0.75       0.15       0.05       0.         0.05      ]\n",
      "  [0.13636364 0.68181818 0.13636364 0.04545455 0.        ]\n",
      "  [0.04347826 0.13043478 0.65217391 0.13043478 0.04347826]\n",
      "  [0.         0.03571429 0.10714286 0.71428571 0.14285714]\n",
      "  [0.         0.         0.05263158 0.15789474 0.78947368]]\n",
      "\n",
      " [[0.75       0.2        0.05       0.         0.        ]\n",
      "  [0.13636364 0.68181818 0.13636364 0.04545455 0.        ]\n",
      "  [0.04347826 0.13043478 0.65217391 0.13043478 0.04347826]\n",
      "  [0.         0.07142857 0.17857143 0.64285714 0.10714286]\n",
      "  [0.         0.         0.05263158 0.15789474 0.78947368]]\n",
      "\n",
      " [[0.75       0.15       0.05       0.05       0.        ]\n",
      "  [0.13636364 0.68181818 0.13636364 0.04545455 0.        ]\n",
      "  [0.04347826 0.13043478 0.65217391 0.13043478 0.04347826]\n",
      "  [0.         0.03571429 0.17857143 0.60714286 0.17857143]\n",
      "  [0.         0.         0.05263158 0.15789474 0.78947368]]\n",
      "\n",
      " [[0.75       0.2        0.05       0.         0.        ]\n",
      "  [0.13636364 0.68181818 0.13636364 0.04545455 0.        ]\n",
      "  [0.04347826 0.13043478 0.65217391 0.13043478 0.04347826]\n",
      "  [0.         0.03571429 0.17857143 0.64285714 0.14285714]\n",
      "  [0.         0.         0.05263158 0.15789474 0.78947368]]\n",
      "\n",
      " [[0.75       0.15       0.05       0.         0.05      ]\n",
      "  [0.13636364 0.68181818 0.13636364 0.04545455 0.        ]\n",
      "  [0.04347826 0.13043478 0.65217391 0.13043478 0.04347826]\n",
      "  [0.         0.03571429 0.10714286 0.60714286 0.25      ]\n",
      "  [0.         0.         0.05263158 0.15789474 0.78947368]]\n",
      "\n",
      " [[0.8        0.15       0.05       0.         0.        ]\n",
      "  [0.13636364 0.68181818 0.13636364 0.04545455 0.        ]\n",
      "  [0.04347826 0.13043478 0.65217391 0.13043478 0.04347826]\n",
      "  [0.03571429 0.07142857 0.10714286 0.64285714 0.14285714]\n",
      "  [0.         0.         0.05263158 0.15789474 0.78947368]]\n",
      "\n",
      " [[0.8        0.15       0.05       0.         0.        ]\n",
      "  [0.13636364 0.68181818 0.13636364 0.04545455 0.        ]\n",
      "  [0.04347826 0.13043478 0.65217391 0.13043478 0.04347826]\n",
      "  [0.         0.07142857 0.14285714 0.60714286 0.17857143]\n",
      "  [0.         0.         0.05263158 0.15789474 0.78947368]]\n",
      "\n",
      " [[0.75       0.2        0.05       0.         0.        ]\n",
      "  [0.13636364 0.68181818 0.13636364 0.04545455 0.        ]\n",
      "  [0.04347826 0.13043478 0.65217391 0.13043478 0.04347826]\n",
      "  [0.         0.07142857 0.17857143 0.64285714 0.10714286]\n",
      "  [0.         0.         0.05263158 0.15789474 0.78947368]]\n",
      "\n",
      " [[0.75       0.15       0.1        0.         0.        ]\n",
      "  [0.13636364 0.68181818 0.13636364 0.04545455 0.        ]\n",
      "  [0.04347826 0.13043478 0.65217391 0.13043478 0.04347826]\n",
      "  [0.         0.03571429 0.14285714 0.64285714 0.17857143]\n",
      "  [0.         0.         0.05263158 0.15789474 0.78947368]]\n",
      "\n",
      " [[0.75       0.15       0.05       0.05       0.        ]\n",
      "  [0.13636364 0.68181818 0.13636364 0.04545455 0.        ]\n",
      "  [0.04347826 0.13043478 0.65217391 0.13043478 0.04347826]\n",
      "  [0.         0.07142857 0.14285714 0.67857143 0.10714286]\n",
      "  [0.         0.         0.05263158 0.15789474 0.78947368]]\n",
      "\n",
      " [[0.75       0.15       0.05       0.05       0.        ]\n",
      "  [0.13636364 0.68181818 0.13636364 0.04545455 0.        ]\n",
      "  [0.04347826 0.13043478 0.65217391 0.13043478 0.04347826]\n",
      "  [0.         0.03571429 0.17857143 0.64285714 0.14285714]\n",
      "  [0.         0.         0.05263158 0.15789474 0.78947368]]\n",
      "\n",
      " [[0.75       0.15       0.05       0.05       0.        ]\n",
      "  [0.13636364 0.68181818 0.13636364 0.04545455 0.        ]\n",
      "  [0.04347826 0.13043478 0.65217391 0.13043478 0.04347826]\n",
      "  [0.         0.03571429 0.17857143 0.67857143 0.10714286]\n",
      "  [0.         0.         0.05263158 0.15789474 0.78947368]]\n",
      "\n",
      " [[0.75       0.15       0.1        0.         0.        ]\n",
      "  [0.13636364 0.68181818 0.13636364 0.04545455 0.        ]\n",
      "  [0.04347826 0.13043478 0.65217391 0.13043478 0.04347826]\n",
      "  [0.         0.03571429 0.32142857 0.53571429 0.10714286]\n",
      "  [0.         0.         0.05263158 0.15789474 0.78947368]]\n",
      "\n",
      " [[0.75       0.15       0.05       0.         0.05      ]\n",
      "  [0.13636364 0.68181818 0.13636364 0.04545455 0.        ]\n",
      "  [0.04347826 0.13043478 0.65217391 0.13043478 0.04347826]\n",
      "  [0.         0.03571429 0.10714286 0.53571429 0.32142857]\n",
      "  [0.         0.         0.05263158 0.15789474 0.78947368]]\n",
      "\n",
      " [[0.75       0.15       0.05       0.05       0.        ]\n",
      "  [0.13636364 0.68181818 0.13636364 0.04545455 0.        ]\n",
      "  [0.04347826 0.13043478 0.65217391 0.13043478 0.04347826]\n",
      "  [0.         0.03571429 0.10714286 0.64285714 0.21428571]\n",
      "  [0.         0.         0.05263158 0.15789474 0.78947368]]\n",
      "\n",
      " [[0.75       0.2        0.05       0.         0.        ]\n",
      "  [0.13636364 0.68181818 0.13636364 0.04545455 0.        ]\n",
      "  [0.04347826 0.13043478 0.65217391 0.13043478 0.04347826]\n",
      "  [0.         0.03571429 0.14285714 0.64285714 0.17857143]\n",
      "  [0.         0.         0.05263158 0.15789474 0.78947368]]\n",
      "\n",
      " [[0.75       0.2        0.05       0.         0.        ]\n",
      "  [0.13636364 0.68181818 0.13636364 0.04545455 0.        ]\n",
      "  [0.04347826 0.13043478 0.65217391 0.13043478 0.04347826]\n",
      "  [0.         0.03571429 0.21428571 0.64285714 0.10714286]\n",
      "  [0.         0.         0.05263158 0.15789474 0.78947368]]]\n",
      "-230.3242461027932\n"
     ]
    }
   ],
   "source": [
    "model = ModelB.create_initial_state(5, 24)\n",
    "model.map(anno.annotations)\n",
    "print(model.theta)\n",
    "print(model.log_likelihood(anno.annotations))"
   ]
  },
  {
   "cell_type": "markdown",
   "metadata": {},
   "source": [
    "Once we map the annotations onto the model, we see that log likelihood improves."
   ]
  },
  {
   "cell_type": "code",
   "execution_count": 159,
   "metadata": {},
   "outputs": [
    {
     "name": "stdout",
     "output_type": "stream",
     "text": [
      "[[0.00000000e+00 0.00000000e+00 3.41597176e-78 1.00000000e+00\n",
      "  0.00000000e+00]\n",
      " [0.00000000e+00 0.00000000e+00 8.86627670e-74 1.00000000e+00\n",
      "  0.00000000e+00]\n",
      " [0.00000000e+00 0.00000000e+00 5.47497802e-74 1.00000000e+00\n",
      "  0.00000000e+00]\n",
      " [0.00000000e+00 0.00000000e+00 3.64998535e-71 1.00000000e+00\n",
      "  0.00000000e+00]\n",
      " [0.00000000e+00 0.00000000e+00 2.22657058e-71 1.00000000e+00\n",
      "  0.00000000e+00]\n",
      " [0.00000000e+00 0.00000000e+00 9.00569256e-79 1.00000000e+00\n",
      "  5.70847286e-76]\n",
      " [1.00000000e+00 0.00000000e+00 8.47193772e-74 0.00000000e+00\n",
      "  0.00000000e+00]]\n"
     ]
    }
   ],
   "source": [
    "posterior = model.infer_labels(anno.annotations)\n",
    "print(posterior)"
   ]
  },
  {
   "cell_type": "code",
   "execution_count": 160,
   "metadata": {},
   "outputs": [],
   "source": [
    "votes = []\n",
    "for r in anno.annotations:\n",
    "    v = [0] * len(anno.labels)\n",
    "    votes.append(v)\n",
    "    for a in r:\n",
    "        if a > -1:\n",
    "            v[a] += 1\n",
    "votes_array = np.array(votes)"
   ]
  },
  {
   "cell_type": "code",
   "execution_count": 161,
   "metadata": {},
   "outputs": [
    {
     "data": {
      "image/png": "[encoded data removed]",
      "text/plain": [
       "<Figure size 1080x720 with 4 Axes>"
      ]
     },
     "metadata": {
      "needs_background": "light"
     },
     "output_type": "display_data"
    }
   ],
   "source": [
    "fig, (ax1, ax2) = plt.subplots(ncols=2, figsize = (15, 10), sharey=True)\n",
    "num_questions = 7\n",
    "\n",
    "seaborn.heatmap(votes_array[:num_questions], annot = True, ax=ax2)\n",
    "seaborn.heatmap(posterior[:num_questions], annot=True, ax =ax1)\n",
    "ax1.set_title(\"Model\")\n",
    "ax2.set_title(\"Votes\")\n",
    "plt.show()"
   ]
  },
  {
   "cell_type": "markdown",
   "metadata": {},
   "source": [
    "The above Model B predicts what the correct answer 'should' be based on conditional aggregations of coders' responses to the quesitons. It is interesting to me that the model predicts a score of 4 (3 on the matrix, which is zero-indexed) corresponding to high-priority for each of the speeches except for Trump's, for which it predicts a 1. Only in rows 1, 4, and 5 does the third column get a clear majority of votes, so this is where the model relies on how much voters agree with other voters for particular questions more than it relies on majority votes. I wonder if these results would still hold with more than 24 coders generating these responses, or if the model would pick up more on subtleties of ratings for each speech."
   ]
  },
  {
   "cell_type": "markdown",
   "metadata": {},
   "source": [
    "Now let's compare the above to just average values."
   ]
  },
  {
   "cell_type": "code",
   "execution_count": 162,
   "metadata": {},
   "outputs": [],
   "source": [
    "samples = model.sample_posterior_over_accuracy(anno.annotations, 200, burn_in_samples=100, thin_samples=3)"
   ]
  },
  {
   "cell_type": "code",
   "execution_count": 163,
   "metadata": {},
   "outputs": [
    {
     "name": "stdout",
     "output_type": "stream",
     "text": [
      "[[[0.67540313 0.15793679 0.08187851 0.04476196 0.04001961]\n",
      "  [0.1637012  0.57226333 0.15143672 0.0755626  0.03703615]\n",
      "  [0.07278011 0.14813038 0.56699659 0.14569842 0.0663945 ]\n",
      "  [0.05883195 0.0642339  0.20701384 0.54646711 0.1234532 ]\n",
      "  [0.0431557  0.04179092 0.08007021 0.16507205 0.66991112]]\n",
      "\n",
      " [[0.66940419 0.16055293 0.0839549  0.04156682 0.04452116]\n",
      "  [0.15124489 0.59314706 0.14283332 0.07426609 0.03850864]\n",
      "  [0.07415216 0.14501855 0.57358795 0.14026064 0.06698071]\n",
      "  [0.09621747 0.05931519 0.11612395 0.51063854 0.21770486]\n",
      "  [0.04440344 0.03766333 0.07842724 0.17316611 0.66633988]]\n",
      "\n",
      " [[0.68425538 0.16320036 0.07628195 0.03929868 0.03696363]\n",
      "  [0.15051909 0.58533126 0.14780005 0.08151097 0.03483863]\n",
      "  [0.0741487  0.14440586 0.56664266 0.14428161 0.07052118]\n",
      "  [0.06122089 0.09280662 0.1206355  0.52501974 0.20031724]\n",
      "  [0.03964055 0.04195399 0.0852843  0.16522155 0.6678996 ]]\n",
      "\n",
      " [[0.6397594  0.19852306 0.08257227 0.04101744 0.03812782]\n",
      "  [0.14595005 0.59832702 0.14401894 0.07283281 0.03887118]\n",
      "  [0.06709483 0.1424406  0.57522813 0.14149294 0.07374351]\n",
      "  [0.06191238 0.09246587 0.11389105 0.52333875 0.20839194]\n",
      "  [0.03999806 0.04097848 0.08275657 0.17266191 0.66360498]]\n",
      "\n",
      " [[0.6799109  0.15651075 0.0831182  0.04377612 0.03668402]\n",
      "  [0.15908386 0.58519194 0.14521735 0.07204364 0.03846321]\n",
      "  [0.07377739 0.1451915  0.57232719 0.13897735 0.06972657]\n",
      "  [0.05957516 0.06399601 0.20785358 0.48591636 0.18265889]\n",
      "  [0.04164231 0.04079656 0.08047413 0.16409985 0.67298715]]\n",
      "\n",
      " [[0.67632117 0.15956529 0.08592064 0.03861129 0.0395816 ]\n",
      "  [0.15515339 0.58475118 0.14763249 0.0773345  0.03512844]\n",
      "  [0.07585151 0.15096957 0.56256566 0.13700231 0.07361094]\n",
      "  [0.06161853 0.08992006 0.12186212 0.57204172 0.15455756]\n",
      "  [0.04451005 0.04119502 0.08041105 0.16583309 0.66805078]]\n",
      "\n",
      " [[0.68002114 0.15555586 0.07865599 0.04043432 0.0453327 ]\n",
      "  [0.15686728 0.58485141 0.1447876  0.07303463 0.04045908]\n",
      "  [0.06810572 0.13945397 0.57898308 0.14453058 0.06892666]\n",
      "  [0.03068684 0.12607509 0.14587798 0.50998603 0.18737406]\n",
      "  [0.04447004 0.0414008  0.08146277 0.16126472 0.67140168]]\n",
      "\n",
      " [[0.64271986 0.156291   0.08774095 0.04414026 0.06910794]\n",
      "  [0.14866082 0.59458195 0.14022976 0.07499398 0.04153349]\n",
      "  [0.07339795 0.14563086 0.56314645 0.14240908 0.07541566]\n",
      "  [0.02990568 0.05883734 0.1241863  0.63535423 0.15171645]\n",
      "  [0.03941816 0.03853766 0.08385166 0.17713267 0.66105985]]\n",
      "\n",
      " [[0.64769575 0.19697699 0.07897745 0.03600258 0.04034723]\n",
      "  [0.14661077 0.59779341 0.15039416 0.07214269 0.03305898]\n",
      "  [0.06893459 0.1377425  0.57298677 0.14611154 0.0742246 ]\n",
      "  [0.0270583  0.08599936 0.18509166 0.5745899  0.12726077]\n",
      "  [0.03972554 0.03735334 0.08474047 0.16609473 0.67208592]]\n",
      "\n",
      " [[0.64075912 0.1657709  0.07670008 0.07565063 0.04111927]\n",
      "  [0.15034455 0.58507658 0.1441616  0.07846591 0.04195136]\n",
      "  [0.07016812 0.14897609 0.56467604 0.14642529 0.06975446]\n",
      "  [0.02996308 0.06099266 0.18666133 0.54597558 0.17640735]\n",
      "  [0.04215235 0.04347735 0.0840871  0.1604869  0.6697963 ]]\n",
      "\n",
      " [[0.63471455 0.20492389 0.0804434  0.03896071 0.04095746]\n",
      "  [0.14561453 0.59574639 0.14893371 0.07630521 0.03340016]\n",
      "  [0.07086277 0.14657982 0.56643345 0.14672726 0.06939669]\n",
      "  [0.03037891 0.06116892 0.18354872 0.57437154 0.15053191]\n",
      "  [0.03930935 0.03869367 0.07276553 0.17836452 0.67086692]]\n",
      "\n",
      " [[0.62836326 0.15934132 0.0914267  0.04603167 0.07483706]\n",
      "  [0.14482621 0.58046953 0.14902342 0.07615557 0.04952528]\n",
      "  [0.06980598 0.13728686 0.58037047 0.13958304 0.07295365]\n",
      "  [0.0319057  0.06231328 0.11674359 0.54742078 0.24161665]\n",
      "  [0.03996934 0.04396051 0.07952046 0.16425532 0.67229437]]\n",
      "\n",
      " [[0.69173912 0.15452105 0.07909424 0.03537896 0.03926664]\n",
      "  [0.15166822 0.59239833 0.14876424 0.07274435 0.03442486]\n",
      "  [0.07084952 0.13978696 0.57093556 0.14568151 0.07274645]\n",
      "  [0.06264069 0.09839751 0.12209745 0.57178897 0.14507538]\n",
      "  [0.04287442 0.04102004 0.08157428 0.17722078 0.65731048]]\n",
      "\n",
      " [[0.68658184 0.16818122 0.07132706 0.03440074 0.03950913]\n",
      "  [0.15110287 0.59119532 0.14081019 0.08264869 0.03424292]\n",
      "  [0.07353703 0.13698    0.57268936 0.14650021 0.0702934 ]\n",
      "  [0.02980783 0.08907084 0.14987144 0.54726723 0.18398266]\n",
      "  [0.04649294 0.04129066 0.08738173 0.16017428 0.66466038]]\n",
      "\n",
      " [[0.64155408 0.20062096 0.07593693 0.04175304 0.04013499]\n",
      "  [0.13779591 0.59216766 0.15446665 0.07570801 0.03986178]\n",
      "  [0.07580551 0.13975861 0.57600521 0.1345758  0.07385488]\n",
      "  [0.03091722 0.09301987 0.18367794 0.57591035 0.11647462]\n",
      "  [0.04195069 0.04391858 0.08450299 0.16516842 0.66445933]]\n",
      "\n",
      " [[0.65141264 0.16359106 0.10429394 0.03991216 0.0407902 ]\n",
      "  [0.14742307 0.58736267 0.1611485  0.06591091 0.03815485]\n",
      "  [0.06946752 0.13614304 0.58427409 0.13711003 0.07300532]\n",
      "  [0.02783206 0.06386995 0.16201819 0.56719302 0.17908677]\n",
      "  [0.0421541  0.04167486 0.08910945 0.15919097 0.66787063]]\n",
      "\n",
      " [[0.63973636 0.16640636 0.08033476 0.07209371 0.04142881]\n",
      "  [0.14239117 0.59141504 0.15673124 0.07632694 0.03313561]\n",
      "  [0.07154642 0.13815798 0.57354863 0.14786889 0.06887809]\n",
      "  [0.03021651 0.08480387 0.15242013 0.61065168 0.12190781]\n",
      "  [0.04081847 0.04680591 0.07891584 0.1682128  0.66524698]]\n",
      "\n",
      " [[0.65073862 0.15848513 0.07988925 0.07167018 0.03921682]\n",
      "  [0.14477706 0.59332329 0.15196854 0.07334274 0.03658836]\n",
      "  [0.07648505 0.14244279 0.5634703  0.14802513 0.06957673]\n",
      "  [0.03147443 0.05931123 0.18208248 0.57638268 0.15074918]\n",
      "  [0.03964942 0.04181644 0.09225125 0.17279214 0.65349075]]\n",
      "\n",
      " [[0.65025076 0.16691593 0.07810959 0.07355319 0.03117053]\n",
      "  [0.14687712 0.59557668 0.1482725  0.07569092 0.03358278]\n",
      "  [0.06933414 0.15117459 0.56858045 0.13964334 0.07126747]\n",
      "  [0.02663623 0.05957907 0.18627241 0.60300292 0.12450938]\n",
      "  [0.04294026 0.03863045 0.08731353 0.17289777 0.65821798]]\n",
      "\n",
      " [[0.64027275 0.16397152 0.11378518 0.03757535 0.0443952 ]\n",
      "  [0.14382909 0.59328595 0.15313199 0.07554578 0.03420719]\n",
      "  [0.07300602 0.13808631 0.57648996 0.14399665 0.06842107]\n",
      "  [0.0311404  0.05880703 0.30742761 0.47833707 0.12428789]\n",
      "  [0.0384012  0.043175   0.08673388 0.17394265 0.65774726]]\n",
      "\n",
      " [[0.62919203 0.16817093 0.08042625 0.04313173 0.07907905]\n",
      "  [0.15358269 0.58207013 0.15192961 0.07198583 0.04043173]\n",
      "  [0.0725976  0.14252531 0.56737177 0.15089528 0.06661003]\n",
      "  [0.02999    0.06647182 0.11815169 0.48885217 0.29653433]\n",
      "  [0.04412158 0.03958311 0.08540531 0.17340989 0.65748012]]\n",
      "\n",
      " [[0.64641828 0.16274841 0.07729145 0.07440405 0.03913781]\n",
      "  [0.14390579 0.5908409  0.15118911 0.07667513 0.03738907]\n",
      "  [0.07457045 0.1391004  0.57334126 0.14206631 0.07092159]\n",
      "  [0.03279817 0.05984673 0.12366308 0.56825601 0.21543601]\n",
      "  [0.03929277 0.04478489 0.08568725 0.16715711 0.66307798]]\n",
      "\n",
      " [[0.64000384 0.19206028 0.08485505 0.0431777  0.03990314]\n",
      "  [0.15214369 0.59107168 0.14275585 0.07580184 0.03822694]\n",
      "  [0.07130419 0.15305779 0.56174471 0.14653866 0.06735464]\n",
      "  [0.03328856 0.06657363 0.14769022 0.571554   0.18089359]\n",
      "  [0.04107598 0.03936965 0.08160156 0.16406012 0.6738927 ]]\n",
      "\n",
      " [[0.63604298 0.20070865 0.08136379 0.04020243 0.04168215]\n",
      "  [0.15192416 0.58959169 0.1511132  0.07388798 0.03348298]\n",
      "  [0.06992118 0.14360334 0.56720642 0.14109388 0.07817518]\n",
      "  [0.03066478 0.06441968 0.20506528 0.57967878 0.12017148]\n",
      "  [0.04434553 0.04204007 0.08385243 0.17241289 0.65734907]]]\n",
      "[[[0.09236498 0.0700406  0.05386118 0.04013842 0.03694502]\n",
      "  [0.0717165  0.09055586 0.0695671  0.04438428 0.03534407]\n",
      "  [0.044842   0.06406905 0.0885237  0.06403949 0.04093935]\n",
      "  [0.04195051 0.04124352 0.06523258 0.09076175 0.05034366]\n",
      "  [0.04045868 0.03517975 0.04951581 0.07218712 0.08668408]]\n",
      "\n",
      " [[0.09321096 0.07056809 0.0513625  0.04001199 0.04065778]\n",
      "  [0.06625698 0.08965013 0.0670343  0.05033042 0.03956377]\n",
      "  [0.04832722 0.06608753 0.09814165 0.06842962 0.0486466 ]\n",
      "  [0.0520363  0.03774456 0.05863827 0.09049107 0.07402464]\n",
      "  [0.04463622 0.03620118 0.05051582 0.07813955 0.09696647]]\n",
      "\n",
      " [[0.08903902 0.06945003 0.0510271  0.03661179 0.03713754]\n",
      "  [0.06247915 0.08515858 0.06230072 0.04699506 0.03410565]\n",
      "  [0.05335531 0.06737538 0.09444678 0.0661663  0.045161  ]\n",
      "  [0.04266584 0.05344678 0.05572125 0.09164743 0.0627294 ]\n",
      "  [0.03632408 0.03740832 0.05661216 0.07784831 0.10292918]]\n",
      "\n",
      " [[0.10423193 0.07622538 0.05439225 0.039668   0.03749643]\n",
      "  [0.06200492 0.09347968 0.06337029 0.04637073 0.03819907]\n",
      "  [0.04706829 0.07228016 0.1028738  0.06536232 0.04941229]\n",
      "  [0.04244105 0.05134989 0.04747052 0.0848675  0.071416  ]\n",
      "  [0.04093042 0.03786829 0.05898777 0.07883277 0.09447152]]\n",
      "\n",
      " [[0.0915004  0.06956136 0.05567708 0.03829033 0.03414573]\n",
      "  [0.06831646 0.09899514 0.06372642 0.04371146 0.03878414]\n",
      "  [0.05044241 0.06869432 0.09005776 0.05920122 0.04625542]\n",
      "  [0.0387461  0.04146985 0.06874394 0.08310995 0.07280694]\n",
      "  [0.03731204 0.03741933 0.05762147 0.07372051 0.09277125]]\n",
      "\n",
      " [[0.09539076 0.0751586  0.05813462 0.03747022 0.03630757]\n",
      "  [0.06451726 0.08964874 0.06479065 0.05185905 0.03193591]\n",
      "  [0.05240064 0.07252585 0.0975907  0.06538242 0.04708614]\n",
      "  [0.04129007 0.0446274  0.05040007 0.07529967 0.05869992]\n",
      "  [0.04538417 0.03487638 0.05709253 0.07814039 0.09572731]]\n",
      "\n",
      " [[0.08507296 0.07035349 0.05324709 0.03699863 0.04250161]\n",
      "  [0.06711683 0.08572019 0.06936094 0.04700688 0.03607379]\n",
      "  [0.04657953 0.06391445 0.09057983 0.064298   0.04466794]\n",
      "  [0.02840699 0.05600065 0.06124768 0.08236371 0.06805754]\n",
      "  [0.0418342  0.03958752 0.04913889 0.07404226 0.09828529]]\n",
      "\n",
      " [[0.09119526 0.07063649 0.05849148 0.03488064 0.05082658]\n",
      "  [0.0616933  0.09130814 0.06305038 0.04473632 0.03937788]\n",
      "  [0.05246796 0.066085   0.09363785 0.06662582 0.05083816]\n",
      "  [0.02718183 0.04164608 0.05572462 0.08241135 0.05773434]\n",
      "  [0.03877315 0.0357936  0.04958848 0.08078178 0.0913778 ]]\n",
      "\n",
      " [[0.09511803 0.0818239  0.05475448 0.04017907 0.03969304]\n",
      "  [0.06047033 0.09496576 0.07121085 0.04864955 0.02985496]\n",
      "  [0.05051631 0.06244611 0.09105594 0.06459906 0.05060052]\n",
      "  [0.02451351 0.04713309 0.06763421 0.08518209 0.05674361]\n",
      "  [0.03693636 0.03714881 0.05259182 0.076863   0.08680201]]\n",
      "\n",
      " [[0.09362026 0.07359772 0.05227978 0.05263127 0.03660702]\n",
      "  [0.07094074 0.1001268  0.06977881 0.0527461  0.04307009]\n",
      "  [0.04934445 0.06715635 0.10108434 0.065093   0.04515069]\n",
      "  [0.02815886 0.04374089 0.06613201 0.08677422 0.07043756]\n",
      "  [0.03711777 0.04053131 0.04915776 0.07009228 0.09316597]]\n",
      "\n",
      " [[0.09150766 0.07508484 0.05287875 0.03663655 0.03675743]\n",
      "  [0.06710249 0.08328217 0.0674197  0.05428208 0.03344283]\n",
      "  [0.05041858 0.06842526 0.08565599 0.06167462 0.05002904]\n",
      "  [0.02838481 0.04245976 0.06522106 0.08708368 0.06533207]\n",
      "  [0.03543308 0.03748283 0.049959   0.07872435 0.09470949]]\n",
      "\n",
      " [[0.09374546 0.06596353 0.0554687  0.04590053 0.05496639]\n",
      "  [0.06300395 0.08511484 0.06581339 0.04943251 0.04598783]\n",
      "  [0.0448687  0.06333291 0.09206768 0.06067534 0.0502814 ]\n",
      "  [0.03043165 0.04341867 0.05152829 0.08527468 0.06936017]\n",
      "  [0.03643912 0.04216377 0.05175155 0.07137996 0.08632605]]\n",
      "\n",
      " [[0.08474803 0.07038841 0.05358283 0.03535946 0.03712701]\n",
      "  [0.0597081  0.08723942 0.06745967 0.05311224 0.03008982]\n",
      "  [0.04146387 0.0658499  0.09230937 0.06749    0.04963224]\n",
      "  [0.04300558 0.05141806 0.06271745 0.08497216 0.05643372]\n",
      "  [0.04171597 0.03808443 0.05656567 0.07651094 0.09775928]]\n",
      "\n",
      " [[0.09258035 0.072874   0.04861236 0.03578221 0.04124031]\n",
      "  [0.06655792 0.0907819  0.05734719 0.05262373 0.03090723]\n",
      "  [0.04823192 0.06329727 0.08809997 0.07124028 0.04910361]\n",
      "  [0.03143293 0.04844048 0.06116224 0.08440425 0.06278007]\n",
      "  [0.0457232  0.03794443 0.05765276 0.0688978  0.09541838]]\n",
      "\n",
      " [[0.09910654 0.08147245 0.05347957 0.03911869 0.04193687]\n",
      "  [0.06308085 0.08719044 0.06432317 0.05163802 0.03557347]\n",
      "  [0.04591871 0.07028121 0.08533714 0.0611494  0.04847873]\n",
      "  [0.02970166 0.0530843  0.07059762 0.08706652 0.05668666]\n",
      "  [0.03888905 0.04056341 0.05244157 0.07750654 0.08968207]]\n",
      "\n",
      " [[0.09248155 0.07118744 0.06431864 0.03954343 0.04118984]\n",
      "  [0.06741587 0.08499923 0.06787563 0.04012087 0.03914   ]\n",
      "  [0.04642939 0.05888119 0.08473414 0.06445775 0.04639349]\n",
      "  [0.02512193 0.04208502 0.0642668  0.08237481 0.06267872]\n",
      "  [0.0387325  0.04071121 0.05770986 0.0710044  0.08612422]]\n",
      "\n",
      " [[0.09359991 0.0763189  0.05186069 0.05171658 0.0423394 ]\n",
      "  [0.06481947 0.09289246 0.06694278 0.04928485 0.03150354]\n",
      "  [0.04904541 0.06723154 0.09615176 0.06537671 0.04788127]\n",
      "  [0.02733621 0.04982753 0.06190971 0.083049   0.05870553]\n",
      "  [0.03457166 0.04614231 0.05293835 0.07687052 0.09786182]]\n",
      "\n",
      " [[0.0956167  0.07228028 0.05689477 0.05345032 0.03784677]\n",
      "  [0.06583902 0.08435073 0.06060833 0.05117495 0.04111845]\n",
      "  [0.05137174 0.05983548 0.09089941 0.071185   0.04359803]\n",
      "  [0.0293012  0.03885308 0.07212576 0.09017601 0.06116972]\n",
      "  [0.03683999 0.04145392 0.05820921 0.07875168 0.09953892]]\n",
      "\n",
      " [[0.09528871 0.06845211 0.04999358 0.05146555 0.03012796]\n",
      "  [0.06256703 0.09188407 0.07342421 0.04356883 0.03339236]\n",
      "  [0.0508024  0.07179049 0.09160446 0.06838308 0.04913143]\n",
      "  [0.024363   0.03870129 0.06787521 0.08684559 0.06193141]\n",
      "  [0.0406121  0.03691335 0.05574115 0.07463863 0.09176589]]\n",
      "\n",
      " [[0.09156586 0.0710392  0.05922426 0.03531219 0.04113753]\n",
      "  [0.06504022 0.09258292 0.07057884 0.04937151 0.03400658]\n",
      "  [0.05147712 0.06568307 0.09598928 0.06337956 0.04244652]\n",
      "  [0.027807   0.03737222 0.07836568 0.07975719 0.05694404]\n",
      "  [0.03696574 0.04755416 0.06031611 0.0726871  0.0977831 ]]\n",
      "\n",
      " [[0.09227161 0.07402506 0.05054368 0.04066765 0.05987085]\n",
      "  [0.07083338 0.09706979 0.06705016 0.04846201 0.04028269]\n",
      "  [0.04911864 0.0682495  0.09164322 0.06930304 0.04092711]\n",
      "  [0.03085101 0.04261286 0.05560243 0.07712892 0.07728636]\n",
      "  [0.0447709  0.03435761 0.05192585 0.07715992 0.09522547]]\n",
      "\n",
      " [[0.09858943 0.0724386  0.0507499  0.05458749 0.03933366]\n",
      "  [0.0697504  0.09178693 0.06850582 0.04867139 0.04136124]\n",
      "  [0.05110248 0.06185081 0.09132962 0.06521524 0.0426695 ]\n",
      "  [0.03003796 0.0405396  0.05866239 0.08334315 0.07403177]\n",
      "  [0.03728287 0.04313264 0.05881017 0.07476974 0.09918182]]\n",
      "\n",
      " [[0.09688562 0.07601786 0.05932551 0.04102417 0.03790791]\n",
      "  [0.06966958 0.0914923  0.05996186 0.05435456 0.03627604]\n",
      "  [0.04764457 0.07363072 0.09970527 0.06974904 0.04416056]\n",
      "  [0.03029734 0.04471958 0.05570861 0.08172329 0.06290717]\n",
      "  [0.04076192 0.03878629 0.05353181 0.06863004 0.08730251]]\n",
      "\n",
      " [[0.09809248 0.08152342 0.05199892 0.03937095 0.03798245]\n",
      "  [0.07239714 0.09336667 0.06557277 0.05165939 0.02883068]\n",
      "  [0.04912573 0.05959305 0.08761189 0.06733927 0.0472695 ]\n",
      "  [0.03232885 0.04541023 0.07710545 0.08768313 0.05177364]\n",
      "  [0.04093465 0.04757382 0.05620738 0.07732137 0.09614771]]]\n"
     ]
    }
   ],
   "source": [
    "print(samples[0].mean(axis=0))\n",
    "print(samples[0].std(axis=0))"
   ]
  },
  {
   "cell_type": "markdown",
   "metadata": {},
   "source": [
    "Now let's repeat the process using Model B with theta."
   ]
  },
  {
   "cell_type": "code",
   "execution_count": 164,
   "metadata": {},
   "outputs": [
    {
     "name": "stdout",
     "output_type": "stream",
     "text": [
      "[0.82573371 0.82936692 0.63105303 0.63892594 0.68565653 0.83953743\n",
      " 0.80141664 0.79589312 0.91563183 0.74302587 0.90154923 0.72337443\n",
      " 0.83464733 0.7142832  0.83341421 0.68995005 0.7166425  0.8389792\n",
      " 0.83659809 0.92422642 0.66777078 0.79556096 0.75832128 0.9024366 ]\n",
      "-344.11806379587136\n"
     ]
    }
   ],
   "source": [
    "# create a new instance of model B, with 5 label classes and 24 annotators.\n",
    "model = ModelBt.create_initial_state(5, 24)\n",
    "print(model.theta)\n",
    "print(model.log_likelihood(anno.annotations))"
   ]
  },
  {
   "cell_type": "code",
   "execution_count": 165,
   "metadata": {},
   "outputs": [
    {
     "name": "stdout",
     "output_type": "stream",
     "text": [
      "[0.70529477 0.73625409 0.68877213 0.740387   0.56998622 0.99999927\n",
      " 0.62219357 0.42977438 0.34251152 0.50978037 0.55250665 0.4055016\n",
      " 0.78512601 0.50345273 0.28953277 0.55227926 0.63207211 0.14981056\n",
      " 0.41902995 0.28973559 0.52390599 0.5887073  0.52057101 0.53336113]\n",
      "-268.68803831484394\n"
     ]
    }
   ],
   "source": [
    "model.map(anno.annotations)\n",
    "print(model.theta)\n",
    "print(model.log_likelihood(anno.annotations))"
   ]
  },
  {
   "cell_type": "code",
   "execution_count": 166,
   "metadata": {},
   "outputs": [
    {
     "name": "stdout",
     "output_type": "stream",
     "text": [
      "[[1.04659485e-14 1.08708897e-13 6.73398359e-18 1.00000000e+00\n",
      "  9.59083249e-11]\n",
      " [1.22821338e-12 1.03733520e-11 1.28104913e-12 1.00205018e-09\n",
      "  9.99999999e-01]\n",
      " [2.46224647e-12 4.36700448e-11 3.37328087e-13 9.99999985e-01\n",
      "  1.46005438e-08]\n",
      " [1.51852382e-09 9.99999819e-01 6.98947721e-11 1.63711624e-07\n",
      "  1.56650387e-08]\n",
      " [9.99999999e-01 1.77693251e-12 2.01281599e-15 5.01420851e-10\n",
      "  1.66137881e-12]\n",
      " [4.64978058e-14 5.71496837e-14 7.98544387e-17 9.99999994e-01\n",
      "  5.99371411e-09]\n",
      " [1.00000000e+00 4.37676154e-10 4.40927225e-17 7.71502806e-12\n",
      "  2.84039720e-13]]\n"
     ]
    }
   ],
   "source": [
    "posterior = model.infer_labels(anno.annotations)\n",
    "print(posterior)"
   ]
  },
  {
   "cell_type": "markdown",
   "metadata": {},
   "source": [
    "Now let's plot the first 10 posterior estimates according to Model B with theta."
   ]
  },
  {
   "cell_type": "code",
   "execution_count": 202,
   "metadata": {},
   "outputs": [
    {
     "data": {
      "image/png": "[encoded data removed]",
      "text/plain": [
       "<Figure size 432x288 with 2 Axes>"
      ]
     },
     "metadata": {
      "needs_background": "light"
     },
     "output_type": "display_data"
    }
   ],
   "source": [
    "ax = seaborn.heatmap(posterior[:10])\n",
    "plt.show()"
   ]
  },
  {
   "cell_type": "markdown",
   "metadata": {},
   "source": [
    "The posterior estimates given by Model B with theta show much more variation in responses than Model B did from earlier (which predicted scores of 3 for the first 6 items). These posterior estimates more closely mirror trends that are visually apparent in the responses. Taking into account the theta values, which represent the extent to which coders agree with other coders for the various questions seems to give us ratings with more variation across speeches than the less interesting predictions of Model B. The individual theta values for the 24 users appear larger in Model Bt than in Model B, yet we see slightly smaller log likelihoods for Model B with theta than for Model B, so there are tradeoffs associated with the different choices of models."
   ]
  },
  {
   "cell_type": "markdown",
   "metadata": {},
   "source": [
    "Now we can visualize coder accuracy using our model."
   ]
  },
  {
   "cell_type": "code",
   "execution_count": 170,
   "metadata": {},
   "outputs": [],
   "source": [
    "model = ModelBt.create_initial_state(5, 24)\n",
    "model.mle(anno.annotations)\n",
    "samples = model.sample_posterior_over_accuracy(anno.annotations, 200, burn_in_samples=100, thin_samples=3)\n"
   ]
  },
  {
   "cell_type": "code",
   "execution_count": 172,
   "metadata": {},
   "outputs": [
    {
     "data": {
      "image/png": "[encoded data removed]",
      "text/plain": [
       "<Figure size 432x288 with 1 Axes>"
      ]
     },
     "metadata": {
      "needs_background": "light"
     },
     "output_type": "display_data"
    }
   ],
   "source": [
    "y =  samples.mean(axis=0)\n",
    "y_ci = samples.std(axis=0)\n",
    "plt.figure()\n",
    "plt.title('coder accuracy')\n",
    "plt.errorbar(range(24),y, yerr = y_ci)\n",
    "plt.show()"
   ]
  },
  {
   "cell_type": "markdown",
   "metadata": {},
   "source": [
    "It should be noted that the standard deviations here are rather large, so we should interpret any statements about coder accuracy with appropriate caution. It looks like coder accuracy is overall pretty low and there is substantial distribution of skill amongst coders. I wonder if this would change with a larger sample size that might converge more around specific scores for the different speeches. It looks like coder 5 was among the most accurate. I printed their annotations below, and they seem to trend lower than most other annotations, as they only gave one person the maximum score and had 3 ratings on the lower end of the spectrum (whereas many coders in the sample favored the higher end of the ratings spectrum for all speeches). Coder 19 was our probable troll from earlier who gave scores of 2 to every speech and thus has an extremely low accuracy score. Looking at general accuracy could be a good way to screen out unreliable coders. These measures of accuracy also assume that people are right more often than they are wrong, so it would be interesting to compare expert perceptions of how much statements prioritize fighting climate change to our sample's perceptions."
   ]
  },
  {
   "cell_type": "code",
   "execution_count": 200,
   "metadata": {},
   "outputs": [
    {
     "data": {
      "text/plain": [
       "array([3, 4, 3, 1, 0, 3, 0])"
      ]
     },
     "execution_count": 200,
     "metadata": {},
     "output_type": "execute_result"
    }
   ],
   "source": [
    "anno.annotations[:, 5]"
   ]
  },
  {
   "cell_type": "code",
   "execution_count": 201,
   "metadata": {},
   "outputs": [
    {
     "data": {
      "text/plain": [
       "array([2, 2, 2, 2, 2, 2, 2])"
      ]
     },
     "execution_count": 201,
     "metadata": {},
     "output_type": "execute_result"
    }
   ],
   "source": [
    "anno.annotations[:, 19]"
   ]
  },
  {
   "cell_type": "code",
   "execution_count": null,
   "metadata": {},
   "outputs": [],
   "source": []
  }
 ],
 "metadata": {
  "anaconda-cloud": {},
  "kernelspec": {
   "display_name": "Python 3",
   "language": "python",
   "name": "python3"
  },
  "language_info": {
   "codemirror_mode": {
    "name": "ipython",
    "version": 3
   },
   "file_extension": ".py",
   "mimetype": "text/x-python",
   "name": "python",
   "nbconvert_exporter": "python",
   "pygments_lexer": "ipython3",
   "version": "3.7.6"
  }
 },
 "nbformat": 4,
 "nbformat_minor": 1
}
